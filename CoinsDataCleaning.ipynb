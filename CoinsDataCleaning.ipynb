{
 "cells": [
  {
   "cell_type": "markdown",
   "source": [
    "### Coin data pre-processing\n",
    "\n",
    "Pre-process and combine coin tvl, volume and price data"
   ],
   "metadata": {
    "collapsed": false
   },
   "id": "c50a29900e5176d1"
  },
  {
   "cell_type": "code",
   "execution_count": 3,
   "id": "initial_id",
   "metadata": {
    "collapsed": true,
    "ExecuteTime": {
     "end_time": "2024-05-23T17:47:20.883196500Z",
     "start_time": "2024-05-23T17:47:19.356796100Z"
    }
   },
   "outputs": [],
   "source": [
    "import pandas as pd\n",
    "import plotly.graph_objects as go\n",
    "from glob import glob\n",
    "import numpy as np\n",
    "import plotly.express as px"
   ]
  },
  {
   "cell_type": "code",
   "execution_count": 17,
   "outputs": [
    {
     "name": "stdout",
     "output_type": "stream",
     "text": [
      "        Date          TVL         Open         High          Low        Close  \\\n",
      "0 2021-03-21  64933228.56  58309.91406  58767.89844  56005.61719  57523.42188   \n",
      "1 2021-03-22  65842440.83  57517.89063  58471.48047  54288.15625  54529.14453   \n",
      "2 2021-03-23   62926579.2  54511.66016  55985.44141  53470.69531  54738.94531   \n",
      "3 2021-03-24  62607414.24  54710.48828  57262.38281  52514.33203  52774.26563   \n",
      "4 2021-03-26   60169756.0  51683.01172  55137.31250  51579.85547  55137.31250   \n",
      "\n",
      "     Adj Close        Volume  \n",
      "0  57523.42188  5.194341e+10  \n",
      "1  54529.14453  5.652145e+10  \n",
      "2  54738.94531  5.643502e+10  \n",
      "3  52774.26563  7.056722e+10  \n",
      "4  55137.31250  5.665220e+10  \n",
      "        Date               TVL        Open        High         Low  \\\n",
      "0 2019-05-10  377496114.965952  170.312973  175.885269  168.991425   \n",
      "1 2019-05-11  374509695.161407  173.139313  203.466644  173.139313   \n",
      "2 2019-05-12  403051737.051272  194.163025  201.881485  183.653931   \n",
      "3 2019-05-13  407686685.188457  187.417923  205.098267  185.305908   \n",
      "4 2019-05-14  413872177.136462  196.738281  217.874649  196.054810   \n",
      "\n",
      "        Close   Adj Close       Volume  \n",
      "0  173.142746  173.142746   8036919053  \n",
      "1  194.304337  194.304337  12578331654  \n",
      "2  187.325317  187.325317  10326050090  \n",
      "3  196.846283  196.846283  10367149039  \n",
      "4  217.148575  217.148575  12751049755  \n",
      "        Date           TVL       Open       High        Low      Close  \\\n",
      "0 2021-03-18  148988798.24  14.210677  14.745477  13.827284  14.230025   \n",
      "1 2021-03-19  153204288.86  14.232650  14.488219  13.932458  14.204796   \n",
      "2 2021-03-20  147690914.44  14.195826  14.978218  14.152045  14.211981   \n",
      "3 2021-03-21  151935325.31  14.218328  14.365723  13.668254  14.332206   \n",
      "4 2021-03-22  152981122.24  14.350278  16.599873  14.202886  14.919293   \n",
      "\n",
      "   Adj Close     Volume  \n",
      "0  14.230025   79074263  \n",
      "1  14.204796   68715211  \n",
      "2  14.211981   68049683  \n",
      "3  14.332206   64229338  \n",
      "4  14.919293  260995136  \n",
      "        Date              TVL      Open      High       Low     Close  \\\n",
      "0 2023-05-06  32758797.901883  1.306368  1.375155  1.282992  1.333112   \n",
      "1 2023-05-07  36013053.677116  1.333028  1.346549  1.240254  1.240903   \n",
      "2 2023-05-08  35861774.736164  1.240079  1.245059  1.032753  1.141459   \n",
      "3 2023-05-09    25818061.6339  1.140494  1.211612  1.097481  1.187172   \n",
      "4 2023-05-10  21522827.304635  1.186800  1.235136  1.125329  1.180974   \n",
      "\n",
      "   Adj Close     Volume  \n",
      "0   1.333112  547853943  \n",
      "1   1.240903  268893608  \n",
      "2   1.141459  531156825  \n",
      "3   1.187172  438518326  \n",
      "4   1.180974  717935525  \n"
     ]
    }
   ],
   "source": [
    "coins = [\"BTC\" , \"ETH\", \"SOL\", \"SUI\"]\n",
    "\n",
    "for coin in coins:\n",
    "    # Read the CSV data into a DataFrame\n",
    "    df = pd.read_csv(\"data/\" + coin + \"_TVL.csv\")\n",
    "    \n",
    "    # Transpose the DataFrame\n",
    "    df_transposed = df.transpose()\n",
    "    \n",
    "    # The first row will be the new header, so reset the header\n",
    "    df_transposed.columns = df_transposed.iloc[0]\n",
    "    \n",
    "    # Drop the old header row\n",
    "    df_transposed = df_transposed[1:]\n",
    "    \n",
    "    # Rename the index to 'Date'\n",
    "    df_transposed.index.name = 'Date'\n",
    "    \n",
    "    # Reset the index if you want the dates as a column\n",
    "    df_transposed.reset_index(inplace=True)\n",
    "    \n",
    "    df_transposed[\"TVL\"] = df_transposed[\"Total\"]\n",
    "    \n",
    "    # Only keep the columns we need\n",
    "    df_transposed = df_transposed[[\"Date\", \"TVL\"]]\n",
    "    \n",
    "    df_transposed[\"Date\"] = pd.to_datetime(df_transposed[\"Date\"], format=\"%d/%m/%Y\")\n",
    "    \n",
    "    # Load prices\n",
    "    df_prices = pd.read_csv(\"data/\" + coin + \"-USD.csv\", parse_dates=['Date'])\n",
    "    \n",
    "    # Merge together with prices\n",
    "    df_merged = pd.merge(df_transposed, df_prices, on='Date', how='inner')\n",
    "    \n",
    "    print(df_merged.head())\n",
    "    \n",
    "    df_merged.to_csv(\"data/\" + coin + \".csv\")"
   ],
   "metadata": {
    "collapsed": false,
    "ExecuteTime": {
     "end_time": "2024-05-20T13:52:42.011826600Z",
     "start_time": "2024-05-20T13:52:41.642390100Z"
    }
   },
   "id": "ee08c9f923a9af89"
  },
  {
   "cell_type": "markdown",
   "source": [
    "### Add influence and sentiments"
   ],
   "metadata": {
    "collapsed": false
   },
   "id": "980b392b417c8fa0"
  },
  {
   "cell_type": "code",
   "execution_count": 7,
   "outputs": [],
   "source": [
    "coins = [\"BTC\", \"ETH\", \"SOL\", \"SUI\"]\n",
    "\n",
    "for coin in coins:\n",
    "    # Read the main coin data into a DataFrame\n",
    "    df = pd.read_csv(\"data/\" + coin + \".csv\", parse_dates=[\"Date\"])\n",
    "\n",
    "    # Load sentiment and influence\n",
    "    df_sentiment = pd.read_csv(\"data/sentiment_influence.csv\", parse_dates=['_24h_interval'])\n",
    "    \n",
    "    # Rename column\n",
    "    df_sentiment.rename(columns={\"_24h_interval\" : \"Date\"}, inplace=True)\n",
    "\n",
    "    # Merge together with prices\n",
    "    df_merged = pd.merge(df, df_sentiment, on='Date', how='inner')\n",
    "\n",
    "    df_merged.to_csv(\"data/\" + coin + \".csv\")\n"
   ],
   "metadata": {
    "collapsed": false,
    "ExecuteTime": {
     "end_time": "2024-05-23T18:04:19.567982400Z",
     "start_time": "2024-05-23T18:04:19.449697600Z"
    }
   },
   "id": "a5adcae2938db597"
  }
 ],
 "metadata": {
  "kernelspec": {
   "display_name": "Python 3",
   "language": "python",
   "name": "python3"
  },
  "language_info": {
   "codemirror_mode": {
    "name": "ipython",
    "version": 2
   },
   "file_extension": ".py",
   "mimetype": "text/x-python",
   "name": "python",
   "nbconvert_exporter": "python",
   "pygments_lexer": "ipython2",
   "version": "2.7.6"
  }
 },
 "nbformat": 4,
 "nbformat_minor": 5
}
