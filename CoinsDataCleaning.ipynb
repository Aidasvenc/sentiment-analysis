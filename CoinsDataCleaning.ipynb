{
 "cells": [
  {
   "cell_type": "markdown",
   "source": [
    "### Coin data pre-processing\n",
    "\n",
    "Pre-process and combine coin tvl, volume and price data"
   ],
   "metadata": {
    "collapsed": false
   },
   "id": "c50a29900e5176d1"
  },
  {
   "cell_type": "code",
   "execution_count": 3,
   "id": "initial_id",
   "metadata": {
    "collapsed": true,
    "ExecuteTime": {
     "end_time": "2024-05-28T09:27:53.052565800Z",
     "start_time": "2024-05-28T09:27:50.080716Z"
    }
   },
   "outputs": [],
   "source": [
    "import pandas as pd\n",
    "import plotly.graph_objects as go\n",
    "from glob import glob\n",
    "import numpy as np\n",
    "import plotly.express as px"
   ]
  },
  {
   "cell_type": "code",
   "execution_count": 17,
   "outputs": [
    {
     "name": "stdout",
     "output_type": "stream",
     "text": [
      "        Date          TVL         Open         High          Low        Close  \\\n",
      "0 2021-03-21  64933228.56  58309.91406  58767.89844  56005.61719  57523.42188   \n",
      "1 2021-03-22  65842440.83  57517.89063  58471.48047  54288.15625  54529.14453   \n",
      "2 2021-03-23   62926579.2  54511.66016  55985.44141  53470.69531  54738.94531   \n",
      "3 2021-03-24  62607414.24  54710.48828  57262.38281  52514.33203  52774.26563   \n",
      "4 2021-03-26   60169756.0  51683.01172  55137.31250  51579.85547  55137.31250   \n",
      "\n",
      "     Adj Close        Volume  \n",
      "0  57523.42188  5.194341e+10  \n",
      "1  54529.14453  5.652145e+10  \n",
      "2  54738.94531  5.643502e+10  \n",
      "3  52774.26563  7.056722e+10  \n",
      "4  55137.31250  5.665220e+10  \n",
      "        Date               TVL        Open        High         Low  \\\n",
      "0 2019-05-10  377496114.965952  170.312973  175.885269  168.991425   \n",
      "1 2019-05-11  374509695.161407  173.139313  203.466644  173.139313   \n",
      "2 2019-05-12  403051737.051272  194.163025  201.881485  183.653931   \n",
      "3 2019-05-13  407686685.188457  187.417923  205.098267  185.305908   \n",
      "4 2019-05-14  413872177.136462  196.738281  217.874649  196.054810   \n",
      "\n",
      "        Close   Adj Close       Volume  \n",
      "0  173.142746  173.142746   8036919053  \n",
      "1  194.304337  194.304337  12578331654  \n",
      "2  187.325317  187.325317  10326050090  \n",
      "3  196.846283  196.846283  10367149039  \n",
      "4  217.148575  217.148575  12751049755  \n",
      "        Date           TVL       Open       High        Low      Close  \\\n",
      "0 2021-03-18  148988798.24  14.210677  14.745477  13.827284  14.230025   \n",
      "1 2021-03-19  153204288.86  14.232650  14.488219  13.932458  14.204796   \n",
      "2 2021-03-20  147690914.44  14.195826  14.978218  14.152045  14.211981   \n",
      "3 2021-03-21  151935325.31  14.218328  14.365723  13.668254  14.332206   \n",
      "4 2021-03-22  152981122.24  14.350278  16.599873  14.202886  14.919293   \n",
      "\n",
      "   Adj Close     Volume  \n",
      "0  14.230025   79074263  \n",
      "1  14.204796   68715211  \n",
      "2  14.211981   68049683  \n",
      "3  14.332206   64229338  \n",
      "4  14.919293  260995136  \n",
      "        Date              TVL      Open      High       Low     Close  \\\n",
      "0 2023-05-06  32758797.901883  1.306368  1.375155  1.282992  1.333112   \n",
      "1 2023-05-07  36013053.677116  1.333028  1.346549  1.240254  1.240903   \n",
      "2 2023-05-08  35861774.736164  1.240079  1.245059  1.032753  1.141459   \n",
      "3 2023-05-09    25818061.6339  1.140494  1.211612  1.097481  1.187172   \n",
      "4 2023-05-10  21522827.304635  1.186800  1.235136  1.125329  1.180974   \n",
      "\n",
      "   Adj Close     Volume  \n",
      "0   1.333112  547853943  \n",
      "1   1.240903  268893608  \n",
      "2   1.141459  531156825  \n",
      "3   1.187172  438518326  \n",
      "4   1.180974  717935525  \n"
     ]
    }
   ],
   "source": [
    "coins = [\"BTC\" , \"ETH\", \"SOL\", \"SUI\"]\n",
    "\n",
    "for coin in coins:\n",
    "    # Read the CSV data into a DataFrame\n",
    "    df = pd.read_csv(\"data/\" + coin + \"_TVL.csv\")\n",
    "    \n",
    "    # Transpose the DataFrame\n",
    "    df_transposed = df.transpose()\n",
    "    \n",
    "    # The first row will be the new header, so reset the header\n",
    "    df_transposed.columns = df_transposed.iloc[0]\n",
    "    \n",
    "    # Drop the old header row\n",
    "    df_transposed = df_transposed[1:]\n",
    "    \n",
    "    # Rename the index to 'Date'\n",
    "    df_transposed.index.name = 'Date'\n",
    "    \n",
    "    # Reset the index if you want the dates as a column\n",
    "    df_transposed.reset_index(inplace=True)\n",
    "    \n",
    "    df_transposed[\"TVL\"] = df_transposed[\"Total\"]\n",
    "    \n",
    "    # Only keep the columns we need\n",
    "    df_transposed = df_transposed[[\"Date\", \"TVL\"]]\n",
    "    \n",
    "    df_transposed[\"Date\"] = pd.to_datetime(df_transposed[\"Date\"], format=\"%d/%m/%Y\")\n",
    "    \n",
    "    # Load prices\n",
    "    df_prices = pd.read_csv(\"data/\" + coin + \"-USD.csv\", parse_dates=['Date'])\n",
    "    \n",
    "    # Merge together with prices\n",
    "    df_merged = pd.merge(df_transposed, df_prices, on='Date', how='inner')\n",
    "    \n",
    "    print(df_merged.head())\n",
    "    \n",
    "    df_merged.to_csv(\"data/\" + coin + \".csv\")"
   ],
   "metadata": {
    "collapsed": false,
    "ExecuteTime": {
     "end_time": "2024-05-20T13:52:42.011826600Z",
     "start_time": "2024-05-20T13:52:41.642390100Z"
    }
   },
   "id": "ee08c9f923a9af89"
  },
  {
   "cell_type": "markdown",
   "source": [
    "### Add influence and sentiments"
   ],
   "metadata": {
    "collapsed": false
   },
   "id": "980b392b417c8fa0"
  },
  {
   "cell_type": "code",
   "execution_count": 7,
   "outputs": [],
   "source": [
    "coins = [\"BTC\", \"ETH\", \"SOL\", \"SUI\"]\n",
    "\n",
    "for coin in coins:\n",
    "    # Read the main coin data into a DataFrame\n",
    "    df = pd.read_csv(\"data/\" + coin + \".csv\", parse_dates=[\"Date\"])\n",
    "\n",
    "    # Load sentiment and influence\n",
    "    df_sentiment = pd.read_csv(\"data/sentiment_influence.csv\", parse_dates=['_24h_interval'])\n",
    "    \n",
    "    # Rename column\n",
    "    df_sentiment.rename(columns={\"_24h_interval\" : \"Date\"}, inplace=True)\n",
    "\n",
    "    # Merge together with prices\n",
    "    df_merged = pd.merge(df, df_sentiment, on='Date', how='inner')\n",
    "\n",
    "    df_merged.to_csv(\"data/\" + coin + \".csv\")\n"
   ],
   "metadata": {
    "collapsed": false,
    "ExecuteTime": {
     "end_time": "2024-05-23T18:04:19.567982400Z",
     "start_time": "2024-05-23T18:04:19.449697600Z"
    }
   },
   "id": "a5adcae2938db597"
  },
  {
   "cell_type": "markdown",
   "source": [
    "### Do the same for 12h intervals"
   ],
   "metadata": {
    "collapsed": false
   },
   "id": "f86eed6978474c0d"
  },
  {
   "cell_type": "markdown",
   "source": [
    "#### ETH and SOL in 12 hour intervals"
   ],
   "metadata": {
    "collapsed": false
   },
   "id": "755a16088039fd5"
  },
  {
   "cell_type": "code",
   "execution_count": 17,
   "outputs": [
    {
     "name": "stdout",
     "output_type": "stream",
     "text": [
      "                              TVL\n",
      "Date                             \n",
      "2020-01-01 00:00:00  6.031933e+08\n",
      "2020-01-01 12:00:00  6.029450e+08\n",
      "2020-01-02 00:00:00  6.026967e+08\n",
      "2020-01-02 12:00:00  5.999431e+08\n",
      "2020-01-03 00:00:00  5.971895e+08\n",
      "                              TVL\n",
      "Date                             \n",
      "2021-03-18 00:00:00  1.489888e+08\n",
      "2021-03-18 12:00:00  1.510965e+08\n",
      "2021-03-19 00:00:00  1.532043e+08\n",
      "2021-03-19 12:00:00  1.504476e+08\n",
      "2021-03-20 00:00:00  1.476909e+08\n"
     ]
    }
   ],
   "source": [
    "coins = [\"ETH\", \"SOL\"]\n",
    "\n",
    "for coin in coins:\n",
    "    # Read the CSV data into a DataFrame\n",
    "    df = pd.read_csv(\"data/\" + coin + \".csv\")\n",
    "    df = df[[\"Date\", \"TVL\"]]\n",
    "    df['Date'] = pd.to_datetime(df['Date'])\n",
    "    df = df.set_index(\"Date\")\n",
    "    \n",
    "    df = df.resample('12H').interpolate()\n",
    "    \n",
    "    print(df.head(5))\n",
    "\n",
    "    df.to_csv(\"data/\" + coin + \"_TVL_12h.csv\")"
   ],
   "metadata": {
    "collapsed": false,
    "ExecuteTime": {
     "end_time": "2024-05-28T09:37:46.869827600Z",
     "start_time": "2024-05-28T09:37:46.735266Z"
    }
   },
   "id": "5e00acb946905e07"
  },
  {
   "cell_type": "code",
   "execution_count": 20,
   "outputs": [
    {
     "name": "stdout",
     "output_type": "stream",
     "text": [
      "                 Date           TVL    open    high     low  Adj. Close  \\\n",
      "0 2020-01-01 00:00:00  6.031933e+08  129.16  129.19  128.68      128.87   \n",
      "1 2020-01-01 12:00:00  6.029450e+08  130.74  131.61  130.70      131.61   \n",
      "2 2020-01-02 00:00:00  6.026967e+08  130.72  130.78  130.27      130.67   \n",
      "3 2020-01-02 12:00:00  5.999431e+08  129.52  129.99  129.52      129.96   \n",
      "4 2020-01-03 00:00:00  5.971895e+08  127.19  127.60  126.82      127.07   \n",
      "\n",
      "       Volume    close_time      quote_av  trades  tb_base_av  tb_quote_av  \\\n",
      "0  7769.17336  1.577840e+12  1.000930e+06    2504  4149.93345  534619.3390   \n",
      "1  4163.30667  1.577880e+12  5.460708e+05    2862  2614.85418  343039.9585   \n",
      "2  3772.66670  1.577930e+12  4.925267e+05    2565  2094.53022  273427.2828   \n",
      "3  3718.46074  1.577970e+12  4.825412e+05    2625  1917.82172  248879.0704   \n",
      "4  7303.34389  1.578010e+12  9.289197e+05    3476  3857.27760  490617.7394   \n",
      "\n",
      "   ignore  sentiment_score  normalized_influence_robust  \\\n",
      "0       0         0.491250                     0.977273   \n",
      "1       0         0.567333                     4.992424   \n",
      "2       0         0.008000                     2.045455   \n",
      "3       0         0.791700                     0.827273   \n",
      "4       0         0.214620                     3.318182   \n",
      "\n",
      "   normalized_influence_minmax  normalized_influence_standard  \n",
      "0                     0.000893                      -0.107689  \n",
      "1                     0.003761                       0.221463  \n",
      "2                     0.001656                      -0.020122  \n",
      "3                     0.000786                      -0.119986  \n",
      "4                     0.002565                       0.084213  \n",
      "                 Date           TVL     open     high      low  Adj. Close  \\\n",
      "0 2021-03-18 00:00:00  1.489888e+08  14.1987  14.4844  14.1987     14.2700   \n",
      "1 2021-03-18 12:00:00  1.510965e+08  14.0575  14.0877  13.9769     14.0490   \n",
      "2 2021-03-19 00:00:00  1.532043e+08  14.2153  14.2178  13.8554     14.0090   \n",
      "3 2021-03-19 12:00:00  1.504476e+08  14.1767  14.3000  14.1499     14.2250   \n",
      "4 2021-03-20 00:00:00  1.476909e+08  14.1588  14.2621  14.0900     14.2334   \n",
      "\n",
      "      Volume    close_time      quote_av  trades  tb_base_av  tb_quote_av  \\\n",
      "0  153381.50  1.616030e+12  2.200256e+06    4390    64444.18  924681.3749   \n",
      "1   59244.12  1.616070e+12  8.304217e+05    2288    32161.48  450872.9415   \n",
      "2  101068.61  1.616120e+12  1.417577e+06    4093    54351.47  762714.3285   \n",
      "3   79572.47  1.616160e+12  1.131376e+06    2228    32389.25  460772.1384   \n",
      "4   60230.78  1.616200e+12  8.547824e+05    2564    25299.26  359196.7127   \n",
      "\n",
      "   ignore  sentiment_score  normalized_influence_robust  \\\n",
      "0       0         0.187969                     0.716783   \n",
      "1       0         0.420208                     1.378216   \n",
      "2       0         0.311512                     0.973262   \n",
      "3       0         0.339663                     3.922460   \n",
      "4       0         0.470982                     2.217914   \n",
      "\n",
      "   normalized_influence_minmax  normalized_influence_standard  \n",
      "0                     0.000707                      -0.129044  \n",
      "1                     0.001179                      -0.074821  \n",
      "2                     0.000890                      -0.108018  \n",
      "3                     0.002996                       0.133750  \n",
      "4                     0.001779                      -0.005985  \n"
     ]
    }
   ],
   "source": [
    "coins = [\"ETH\", \"SOL\"]\n",
    "\n",
    "for coin in coins:\n",
    "    # Read the CSV data into a DataFrame\n",
    "    df = pd.read_csv(\"data/\" + coin + \"_TVL_12h.csv\", parse_dates=['Date'])\n",
    "\n",
    "    # Load prices\n",
    "    df_prices = pd.read_csv(\"data/\" + coin + \"-USD_12h.csv\", parse_dates=['Date'])\n",
    "    \n",
    "    # Load sentiments\n",
    "    df_sentiment = pd.read_csv(\"data/sentiment_influence_12h.csv\", parse_dates=['Date'])\n",
    "\n",
    "    # Merge together with prices\n",
    "    df_merged = pd.merge(df, df_prices, on='Date', how='inner')\n",
    "    \n",
    "    # Merge together with sentiments\n",
    "    df_merged = pd.merge(df_merged, df_sentiment, on='Date', how='inner')\n",
    "\n",
    "    print(df_merged.head())\n",
    "\n",
    "    df_merged.to_csv(\"data/\" + coin + \"_12h.csv\")"
   ],
   "metadata": {
    "collapsed": false,
    "ExecuteTime": {
     "end_time": "2024-05-28T13:37:00.715025300Z",
     "start_time": "2024-05-28T13:37:00.493000600Z"
    }
   },
   "id": "6f11c74f9f8d369f"
  },
  {
   "cell_type": "markdown",
   "source": [
    "### SUI into 6 hour intervals"
   ],
   "metadata": {
    "collapsed": false
   },
   "id": "f69dc0ec97419b83"
  },
  {
   "cell_type": "code",
   "execution_count": 18,
   "outputs": [
    {
     "name": "stdout",
     "output_type": "stream",
     "text": [
      "                              TVL\n",
      "Date                             \n",
      "2023-05-06 00:00:00  3.275880e+07\n",
      "2023-05-06 06:00:00  3.357236e+07\n",
      "2023-05-06 12:00:00  3.438593e+07\n",
      "2023-05-06 18:00:00  3.519949e+07\n",
      "2023-05-07 00:00:00  3.601305e+07\n"
     ]
    }
   ],
   "source": [
    "coins = [\"SUI\"]\n",
    "\n",
    "for coin in coins:\n",
    "    # Read the CSV data into a DataFrame\n",
    "    df = pd.read_csv(\"data/\" + coin + \".csv\")\n",
    "    df = df[[\"Date\", \"TVL\"]]\n",
    "    df['Date'] = pd.to_datetime(df['Date'])\n",
    "    df = df.set_index(\"Date\")\n",
    "\n",
    "    df = df.resample('6H').interpolate()\n",
    "\n",
    "    print(df.head(5))\n",
    "\n",
    "    df.to_csv(\"data/\" + coin + \"_TVL_6h.csv\")"
   ],
   "metadata": {
    "collapsed": false,
    "ExecuteTime": {
     "end_time": "2024-05-28T09:39:58.414152400Z",
     "start_time": "2024-05-28T09:39:58.355979300Z"
    }
   },
   "id": "2d93558cafc3ac75"
  },
  {
   "cell_type": "code",
   "execution_count": 22,
   "outputs": [
    {
     "name": "stdout",
     "output_type": "stream",
     "text": [
      "                 Date           TVL    open    high     low  Adj. Close  \\\n",
      "0 2023-05-06 00:00:00  3.275880e+07  1.3067  1.3538  1.2902      1.3430   \n",
      "1 2023-05-06 06:00:00  3.357236e+07  1.3304  1.3607  1.3250      1.3550   \n",
      "2 2023-05-06 12:00:00  3.438593e+07  1.3243  1.3377  1.3062      1.3112   \n",
      "3 2023-05-06 18:00:00  3.519949e+07  1.3119  1.3248  1.3018      1.3217   \n",
      "4 2023-05-07 00:00:00  3.601305e+07  1.3299  1.3469  1.3162      1.3312   \n",
      "\n",
      "      Volume    close_time     quote_av  trades  tb_base_av  tb_quote_av  \\\n",
      "0  3705766.0  1.683330e+12  4897055.164   12470   2139806.1  2837623.485   \n",
      "1  3220886.3  1.683360e+12  4336976.950   11491   1975391.3  2660873.397   \n",
      "2  3169702.5  1.683380e+12  4189969.082   12296   1487455.4  1969046.954   \n",
      "3  1720384.3  1.683400e+12  2258266.296    8706    888702.5  1167548.102   \n",
      "4  3435000.4  1.683420e+12  4570773.156   10706   1448952.0  1932118.872   \n",
      "\n",
      "   ignore  sentiment_score  normalized_influence_robust  \\\n",
      "0       0         0.413783                     3.712121   \n",
      "1       0         0.273445                     0.764463   \n",
      "2       0         0.210344                     2.130682   \n",
      "3       0         0.505086                     0.597403   \n",
      "4       0         0.590564                     3.181818   \n",
      "\n",
      "   normalized_influence_minmax  normalized_influence_standard  \n",
      "0                     0.002846                       0.116507  \n",
      "1                     0.000741                      -0.125135  \n",
      "2                     0.001717                      -0.013136  \n",
      "3                     0.000622                      -0.138830  \n",
      "4                     0.002467                       0.073034  \n"
     ]
    }
   ],
   "source": [
    "coins = [\"SUI\"]\n",
    "\n",
    "for coin in coins:\n",
    "    # Read the CSV data into a DataFrame\n",
    "    df = pd.read_csv(\"data/\" + coin + \"_TVL_6h.csv\", parse_dates=['Date'])\n",
    "\n",
    "    # Load prices\n",
    "    df_prices = pd.read_csv(\"data/\" + coin + \"-USD_6h.csv\", parse_dates=['Date'])\n",
    "\n",
    "    # Load sentiments\n",
    "    df_sentiment = pd.read_csv(\"data/sentiment_influence_6h.csv\", parse_dates=['Date'])\n",
    "\n",
    "    # Merge together with prices\n",
    "    df_merged = pd.merge(df, df_prices, on='Date', how='inner')\n",
    "\n",
    "    # Merge together with sentiments\n",
    "    df_merged = pd.merge(df_merged, df_sentiment, on='Date', how='inner')\n",
    "\n",
    "    print(df_merged.head())\n",
    "\n",
    "    df_merged.to_csv(\"data/\" + coin + \"_6h.csv\")"
   ],
   "metadata": {
    "collapsed": false,
    "ExecuteTime": {
     "end_time": "2024-05-28T13:49:32.876387400Z",
     "start_time": "2024-05-28T13:49:32.777310700Z"
    }
   },
   "id": "f68f025cbfc0160b"
  },
  {
   "cell_type": "markdown",
   "source": [
    "#### BTC into 12 hour intervals without TVL"
   ],
   "metadata": {
    "collapsed": false
   },
   "id": "af3575f4497a6777"
  },
  {
   "cell_type": "code",
   "execution_count": 23,
   "outputs": [
    {
     "name": "stdout",
     "output_type": "stream",
     "text": [
      "                 Date     open     high      low  Adj. Close       Volume  \\\n",
      "0 2020-01-01 00:00:00  7195.24  7196.25  7175.46     7177.02   511.814901   \n",
      "1 2020-01-01 12:00:00  7197.20  7233.33  7196.15     7225.59   868.753580   \n",
      "2 2020-01-02 00:00:00  7200.77  7212.50  7185.46     7211.02   391.352377   \n",
      "3 2020-01-02 12:00:00  7139.73  7163.40  7139.03     7158.29   794.030497   \n",
      "4 2020-01-03 00:00:00  6965.49  6966.47  6912.88     6937.00  1106.732043   \n",
      "\n",
      "     close_time     quote_av  trades  tb_base_av  tb_quote_av  ignore  \\\n",
      "0  1.577840e+12  3675856.579    7640  226.153126  1624289.190       0   \n",
      "1  1.577880e+12  6269445.539    9402  504.454945  3640707.643       0   \n",
      "2  1.577930e+12  2817911.989    5470  219.086231  1577568.039       0   \n",
      "3  1.577970e+12  5679917.260    8754  419.734423  3001938.644       0   \n",
      "4  1.578010e+12  7682684.252   11910  540.409116  3752333.710       0   \n",
      "\n",
      "   sentiment_score  normalized_influence_robust  normalized_influence_minmax  \\\n",
      "0         0.491250                     0.977273                     0.000893   \n",
      "1         0.567333                     4.992424                     0.003761   \n",
      "2         0.008000                     2.045455                     0.001656   \n",
      "3         0.791700                     0.827273                     0.000786   \n",
      "4         0.214620                     3.318182                     0.002565   \n",
      "\n",
      "   normalized_influence_standard  \n",
      "0                      -0.107689  \n",
      "1                       0.221463  \n",
      "2                      -0.020122  \n",
      "3                      -0.119986  \n",
      "4                       0.084213  \n"
     ]
    }
   ],
   "source": [
    "coins = [\"BTC\"]\n",
    "\n",
    "for coin in coins:\n",
    "    # Load prices\n",
    "    df_prices = pd.read_csv(\"data/\" + coin + \"-USD_12h.csv\", parse_dates=['Date'])\n",
    "\n",
    "    # Load sentiments\n",
    "    df_sentiment = pd.read_csv(\"data/sentiment_influence_12h.csv\", parse_dates=['Date'])\n",
    "\n",
    "    # Merge together with sentiments\n",
    "    df_merged = pd.merge(df_prices, df_sentiment, on='Date', how='inner')\n",
    "\n",
    "    print(df_merged.head())\n",
    "\n",
    "    df_merged.to_csv(\"data/\" + coin + \"_12h.csv\")"
   ],
   "metadata": {
    "collapsed": false,
    "ExecuteTime": {
     "end_time": "2024-05-28T13:50:14.493049100Z",
     "start_time": "2024-05-28T13:50:14.398330400Z"
    }
   },
   "id": "a1d7c33c5b77780a"
  }
 ],
 "metadata": {
  "kernelspec": {
   "display_name": "Python 3",
   "language": "python",
   "name": "python3"
  },
  "language_info": {
   "codemirror_mode": {
    "name": "ipython",
    "version": 2
   },
   "file_extension": ".py",
   "mimetype": "text/x-python",
   "name": "python",
   "nbconvert_exporter": "python",
   "pygments_lexer": "ipython2",
   "version": "2.7.6"
  }
 },
 "nbformat": 4,
 "nbformat_minor": 5
}
