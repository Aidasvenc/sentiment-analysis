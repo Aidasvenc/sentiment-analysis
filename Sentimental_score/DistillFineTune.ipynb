{
 "cells": [
  {
   "cell_type": "code",
   "id": "da0336d7bdd59a16",
   "metadata": {
    "collapsed": true,
    "ExecuteTime": {
     "end_time": "2024-05-27T17:35:49.198938Z",
     "start_time": "2024-05-27T17:35:47.724724Z"
    }
   },
   "source": [
    "import pandas as pd\n",
    "from sklearn.model_selection import train_test_split\n",
    "from datasets import Dataset\n",
    "from transformers import DistilBertTokenizer, DistilBertForSequenceClassification, Trainer, TrainingArguments\n",
    "\n",
    "# Charger  données\n",
    "data = pd.read_parquet('G:\\Mon Drive\\data\\human_labeled\\labeled_part_1.parquet')"
   ],
   "outputs": [],
   "execution_count": 8
  },
  {
   "metadata": {
    "ExecuteTime": {
     "end_time": "2024-05-27T17:35:55.655942Z",
     "start_time": "2024-05-27T17:35:55.625807Z"
    }
   },
   "cell_type": "code",
   "source": [
    "datah = data.head(100)\n",
    "datah.rename(columns={'Sentiment': 'label'}, inplace=True)\n",
    "datah"
   ],
   "id": "b2f66c547ce6119e",
   "outputs": [
    {
     "name": "stderr",
     "output_type": "stream",
     "text": [
      "C:\\Users\\dunan\\AppData\\Local\\Temp\\ipykernel_30932\\1483514219.py:2: SettingWithCopyWarning: \n",
      "A value is trying to be set on a copy of a slice from a DataFrame\n",
      "\n",
      "See the caveats in the documentation: https://pandas.pydata.org/pandas-docs/stable/user_guide/indexing.html#returning-a-view-versus-a-copy\n",
      "  datah.rename(columns={'Sentiment': 'label'}, inplace=True)\n"
     ]
    },
    {
     "data": {
      "text/plain": [
       "          Date                                               text     label\n",
       "0   2019-05-27  È appena uscito un nuovo video! LES CRYPTOMONN...  Positive\n",
       "1   2019-05-27  Cardano: Digitize Currencies; EOS https://t.co...  Positive\n",
       "2   2019-05-27  Another Test tweet that wasn't caught in the s...  Positive\n",
       "3   2019-05-27  Current Crypto Prices! \\n\\nBTC: $8721.99 USD\\n...  Positive\n",
       "4   2019-05-27  Spiv (Nosar Baz): BITCOIN Is An Asset &amp; NO...  Positive\n",
       "..         ...                                                ...       ...\n",
       "95  2019-05-27  Belensay ÇİN de yaşamıyor..\\n\\nÇİN deki GÜNDEM...  Positive\n",
       "96  2019-05-27                   Win + ❤️ https://t.co/3vfzboSaad  Positive\n",
       "97  2019-05-27  Bitcoin prices hit $150 billion market cap for...  Positive\n",
       "98  2019-05-27                                焼けた笑\\nさすがBTC頭おかしい…笑  Positive\n",
       "99  2019-05-27  Get ready for a swell of public and media inte...  Positive\n",
       "\n",
       "[100 rows x 3 columns]"
      ],
      "text/html": [
       "<div>\n",
       "<style scoped>\n",
       "    .dataframe tbody tr th:only-of-type {\n",
       "        vertical-align: middle;\n",
       "    }\n",
       "\n",
       "    .dataframe tbody tr th {\n",
       "        vertical-align: top;\n",
       "    }\n",
       "\n",
       "    .dataframe thead th {\n",
       "        text-align: right;\n",
       "    }\n",
       "</style>\n",
       "<table border=\"1\" class=\"dataframe\">\n",
       "  <thead>\n",
       "    <tr style=\"text-align: right;\">\n",
       "      <th></th>\n",
       "      <th>Date</th>\n",
       "      <th>text</th>\n",
       "      <th>label</th>\n",
       "    </tr>\n",
       "  </thead>\n",
       "  <tbody>\n",
       "    <tr>\n",
       "      <th>0</th>\n",
       "      <td>2019-05-27</td>\n",
       "      <td>È appena uscito un nuovo video! LES CRYPTOMONN...</td>\n",
       "      <td>Positive</td>\n",
       "    </tr>\n",
       "    <tr>\n",
       "      <th>1</th>\n",
       "      <td>2019-05-27</td>\n",
       "      <td>Cardano: Digitize Currencies; EOS https://t.co...</td>\n",
       "      <td>Positive</td>\n",
       "    </tr>\n",
       "    <tr>\n",
       "      <th>2</th>\n",
       "      <td>2019-05-27</td>\n",
       "      <td>Another Test tweet that wasn't caught in the s...</td>\n",
       "      <td>Positive</td>\n",
       "    </tr>\n",
       "    <tr>\n",
       "      <th>3</th>\n",
       "      <td>2019-05-27</td>\n",
       "      <td>Current Crypto Prices! \\n\\nBTC: $8721.99 USD\\n...</td>\n",
       "      <td>Positive</td>\n",
       "    </tr>\n",
       "    <tr>\n",
       "      <th>4</th>\n",
       "      <td>2019-05-27</td>\n",
       "      <td>Spiv (Nosar Baz): BITCOIN Is An Asset &amp;amp; NO...</td>\n",
       "      <td>Positive</td>\n",
       "    </tr>\n",
       "    <tr>\n",
       "      <th>...</th>\n",
       "      <td>...</td>\n",
       "      <td>...</td>\n",
       "      <td>...</td>\n",
       "    </tr>\n",
       "    <tr>\n",
       "      <th>95</th>\n",
       "      <td>2019-05-27</td>\n",
       "      <td>Belensay ÇİN de yaşamıyor..\\n\\nÇİN deki GÜNDEM...</td>\n",
       "      <td>Positive</td>\n",
       "    </tr>\n",
       "    <tr>\n",
       "      <th>96</th>\n",
       "      <td>2019-05-27</td>\n",
       "      <td>Win + ❤️ https://t.co/3vfzboSaad</td>\n",
       "      <td>Positive</td>\n",
       "    </tr>\n",
       "    <tr>\n",
       "      <th>97</th>\n",
       "      <td>2019-05-27</td>\n",
       "      <td>Bitcoin prices hit $150 billion market cap for...</td>\n",
       "      <td>Positive</td>\n",
       "    </tr>\n",
       "    <tr>\n",
       "      <th>98</th>\n",
       "      <td>2019-05-27</td>\n",
       "      <td>焼けた笑\\nさすがBTC頭おかしい…笑</td>\n",
       "      <td>Positive</td>\n",
       "    </tr>\n",
       "    <tr>\n",
       "      <th>99</th>\n",
       "      <td>2019-05-27</td>\n",
       "      <td>Get ready for a swell of public and media inte...</td>\n",
       "      <td>Positive</td>\n",
       "    </tr>\n",
       "  </tbody>\n",
       "</table>\n",
       "<p>100 rows × 3 columns</p>\n",
       "</div>"
      ]
     },
     "execution_count": 9,
     "metadata": {},
     "output_type": "execute_result"
    }
   ],
   "execution_count": 9
  },
  {
   "metadata": {
    "ExecuteTime": {
     "end_time": "2024-05-27T17:37:57.721116Z",
     "start_time": "2024-05-27T17:37:57.677048Z"
    }
   },
   "cell_type": "code",
   "source": "data[('Sentiment')].unique()",
   "id": "bbc7c2b3a239d92d",
   "outputs": [
    {
     "data": {
      "text/plain": [
       "array(['Positive', 'Negative'], dtype=object)"
      ]
     },
     "execution_count": 13,
     "metadata": {},
     "output_type": "execute_result"
    }
   ],
   "execution_count": 13
  },
  {
   "metadata": {
    "ExecuteTime": {
     "end_time": "2024-05-27T17:46:03.743565Z",
     "start_time": "2024-05-27T17:39:51.776409Z"
    }
   },
   "cell_type": "code",
   "source": [
    "\n",
    "# Convert 'Positive'/'Negative' labels to numerical labels\n",
    "datah['label'] = datah['label'].map({'Positive': 1, 'Negative': 0})\n",
    "\n",
    "# Dividing the data into training, validation, and test sets\n",
    "train_data, test_data = train_test_split(datah, test_size=0.2, random_state=42)\n",
    "train_data, val_data = train_test_split(train_data, test_size=0.1, random_state=42)\n",
    "\n",
    "# Converting DataFrames to Hugging Face Datasets\n",
    "train_dataset = Dataset.from_pandas(train_data[['text', 'label']])\n",
    "val_dataset = Dataset.from_pandas(val_data[['text', 'label']])\n",
    "test_dataset = Dataset.from_pandas(test_data[['text', 'label']])\n",
    "\n",
    "# Tokenizing the data\n",
    "tokenizer = DistilBertTokenizer.from_pretrained('distilbert-base-uncased')\n",
    "\n",
    "def tokenize_function(examples):\n",
    "    tokenized_inputs = tokenizer(examples['text'], padding='max_length', truncation=True)\n",
    "    tokenized_inputs['labels'] = examples['label']\n",
    "    return tokenized_inputs\n",
    "\n",
    "tokenized_train_dataset = train_dataset.map(tokenize_function, batched=True)\n",
    "tokenized_val_dataset = val_dataset.map(tokenize_function, batched=True)\n",
    "tokenized_test_dataset = test_dataset.map(tokenize_function, batched=True)\n",
    "\n",
    "# Formatting the datasets to include labels\n",
    "def format_dataset(dataset):\n",
    "    dataset.set_format(type='torch', columns=['input_ids', 'attention_mask', 'labels'])\n",
    "    return dataset\n",
    "\n",
    "tokenized_train_dataset = format_dataset(tokenized_train_dataset)\n",
    "tokenized_val_dataset = format_dataset(tokenized_val_dataset)\n",
    "tokenized_test_dataset = format_dataset(tokenized_test_dataset)\n",
    "\n",
    "# Loading the model\n",
    "model = DistilBertForSequenceClassification.from_pretrained('distilbert-base-uncased-finetuned-sst-2-english', num_labels=2)\n",
    "\n",
    "# Setting up training arguments\n",
    "training_args = TrainingArguments(\n",
    "    output_dir='./results',\n",
    "    num_train_epochs=3,\n",
    "    per_device_train_batch_size=8,\n",
    "    per_device_eval_batch_size=16,\n",
    "    warmup_steps=500,\n",
    "    weight_decay=0.01,\n",
    "    logging_dir='./logs',\n",
    ")\n",
    "\n",
    "# Initializing the Trainer\n",
    "trainer = Trainer(\n",
    "    model=model,\n",
    "    args=training_args,\n",
    "    train_dataset=tokenized_train_dataset,\n",
    "    eval_dataset=tokenized_val_dataset\n",
    ")\n",
    "\n",
    "# Training the model\n",
    "trainer.train()\n",
    "\n",
    "# Evaluating the model on the validation set\n",
    "val_results = trainer.evaluate()\n",
    "print(\"Validation results:\", val_results)\n",
    "\n",
    "# Evaluating the model on the test set\n",
    "test_results = trainer.evaluate(eval_dataset=tokenized_test_dataset)\n",
    "print(\"Test results:\", test_results)\n"
   ],
   "id": "a833096f5f3f8441",
   "outputs": [
    {
     "name": "stderr",
     "output_type": "stream",
     "text": [
      "C:\\Users\\dunan\\AppData\\Local\\Temp\\ipykernel_30932\\3247772226.py:2: SettingWithCopyWarning: \n",
      "A value is trying to be set on a copy of a slice from a DataFrame.\n",
      "Try using .loc[row_indexer,col_indexer] = value instead\n",
      "\n",
      "See the caveats in the documentation: https://pandas.pydata.org/pandas-docs/stable/user_guide/indexing.html#returning-a-view-versus-a-copy\n",
      "  datah['label'] = datah['label'].map({'Positive': 1, 'Negative': 0})\n"
     ]
    },
    {
     "data": {
      "text/plain": [
       "Map:   0%|          | 0/72 [00:00<?, ? examples/s]"
      ],
      "application/vnd.jupyter.widget-view+json": {
       "version_major": 2,
       "version_minor": 0,
       "model_id": "35c1864c3f9c448c8e65d3ca621c13f7"
      }
     },
     "metadata": {},
     "output_type": "display_data"
    },
    {
     "data": {
      "text/plain": [
       "Map:   0%|          | 0/8 [00:00<?, ? examples/s]"
      ],
      "application/vnd.jupyter.widget-view+json": {
       "version_major": 2,
       "version_minor": 0,
       "model_id": "b4fe04bc8f59408c84f32e199b0652ee"
      }
     },
     "metadata": {},
     "output_type": "display_data"
    },
    {
     "data": {
      "text/plain": [
       "Map:   0%|          | 0/20 [00:00<?, ? examples/s]"
      ],
      "application/vnd.jupyter.widget-view+json": {
       "version_major": 2,
       "version_minor": 0,
       "model_id": "506dd6e31620488f8d5069a28fe7cdf7"
      }
     },
     "metadata": {},
     "output_type": "display_data"
    },
    {
     "data": {
      "text/plain": [
       "<IPython.core.display.HTML object>"
      ],
      "text/html": [
       "\n",
       "    <div>\n",
       "      \n",
       "      <progress value='27' max='27' style='width:300px; height:20px; vertical-align: middle;'></progress>\n",
       "      [27/27 05:34, Epoch 3/3]\n",
       "    </div>\n",
       "    <table border=\"1\" class=\"dataframe\">\n",
       "  <thead>\n",
       " <tr style=\"text-align: left;\">\n",
       "      <th>Step</th>\n",
       "      <th>Training Loss</th>\n",
       "    </tr>\n",
       "  </thead>\n",
       "  <tbody>\n",
       "  </tbody>\n",
       "</table><p>"
      ]
     },
     "metadata": {},
     "output_type": "display_data"
    },
    {
     "data": {
      "text/plain": [
       "<IPython.core.display.HTML object>"
      ],
      "text/html": [
       "\n",
       "    <div>\n",
       "      \n",
       "      <progress value='3' max='1' style='width:300px; height:20px; vertical-align: middle;'></progress>\n",
       "      [1/1 00:12]\n",
       "    </div>\n",
       "    "
      ]
     },
     "metadata": {},
     "output_type": "display_data"
    },
    {
     "name": "stdout",
     "output_type": "stream",
     "text": [
      "Validation results: {'eval_loss': 1.7370539903640747, 'eval_runtime': 5.4603, 'eval_samples_per_second': 1.465, 'eval_steps_per_second': 0.183, 'epoch': 3.0}\n",
      "Test results: {'eval_loss': 2.866410493850708, 'eval_runtime': 12.8377, 'eval_samples_per_second': 1.558, 'eval_steps_per_second': 0.156, 'epoch': 3.0}\n"
     ]
    }
   ],
   "execution_count": 14
  },
  {
   "metadata": {
    "ExecuteTime": {
     "end_time": "2024-05-27T17:55:28.878215Z",
     "start_time": "2024-05-27T17:55:26.716678Z"
    }
   },
   "cell_type": "code",
   "source": [
    "\n",
    "model.save_pretrained('G:\\\\Mon Drive\\\\data\\\\human_labeled\\\\model1000_FinanceDistilBERT')\n",
    "tokenizer.save_pretrained('G:\\\\Mon Drive\\\\data\\\\human_labeled\\\\tokenizer1000_FinanceDistilBERT')"
   ],
   "id": "initial_id",
   "outputs": [
    {
     "data": {
      "text/plain": [
       "('G:\\\\Mon Drive\\\\data\\\\human_labeled\\\\tokenizer1000_FinanceDistilBERT\\\\tokenizer_config.json',\n",
       " 'G:\\\\Mon Drive\\\\data\\\\human_labeled\\\\tokenizer1000_FinanceDistilBERT\\\\special_tokens_map.json',\n",
       " 'G:\\\\Mon Drive\\\\data\\\\human_labeled\\\\tokenizer1000_FinanceDistilBERT\\\\vocab.txt',\n",
       " 'G:\\\\Mon Drive\\\\data\\\\human_labeled\\\\tokenizer1000_FinanceDistilBERT\\\\added_tokens.json')"
      ]
     },
     "execution_count": 16,
     "metadata": {},
     "output_type": "execute_result"
    }
   ],
   "execution_count": 16
  },
  {
   "metadata": {},
   "cell_type": "code",
   "outputs": [],
   "execution_count": null,
   "source": "",
   "id": "fd09354f3497b41f"
  }
 ],
 "metadata": {
  "kernelspec": {
   "display_name": "Python 3",
   "language": "python",
   "name": "python3"
  },
  "language_info": {
   "codemirror_mode": {
    "name": "ipython",
    "version": 2
   },
   "file_extension": ".py",
   "mimetype": "text/x-python",
   "name": "python",
   "nbconvert_exporter": "python",
   "pygments_lexer": "ipython2",
   "version": "2.7.6"
  }
 },
 "nbformat": 4,
 "nbformat_minor": 5
}
