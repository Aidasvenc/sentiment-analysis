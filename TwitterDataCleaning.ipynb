{
 "cells": [
  {
   "cell_type": "markdown",
   "source": [
    "## Read and structure all tweets"
   ],
   "metadata": {
    "collapsed": false
   },
   "id": "95336a9660bceed6"
  },
  {
   "cell_type": "code",
   "execution_count": 2,
   "id": "initial_id",
   "metadata": {
    "collapsed": true,
    "ExecuteTime": {
     "end_time": "2024-04-30T08:39:28.043105Z",
     "start_time": "2024-04-30T08:39:26.846333700Z"
    }
   },
   "outputs": [],
   "source": [
    "# Import all packages\n",
    "import pandas as pd"
   ]
  },
  {
   "cell_type": "code",
   "execution_count": 3,
   "outputs": [
    {
     "name": "stderr",
     "output_type": "stream",
     "text": [
      "C:\\Users\\aidas\\AppData\\Local\\Temp\\ipykernel_33288\\4118959556.py:2: DtypeWarning: Columns (1,2,3,4,5,6,7,8,9,10,11,12) have mixed types. Specify dtype option on import or set low_memory=False.\n",
      "  df_tweets = pd.read_csv(\"data/tweets.csv\")\n"
     ]
    },
    {
     "data": {
      "text/plain": "                                  user_name    user_location  \\\n0                             DeSota Wilson      Atlanta, GA   \n1                                  CryptoND             <NA>   \n2                                 Tdlmatias  London, England   \n3                      Crypto is the future             <NA>   \n4  Alex Kirchmaier 🇦🇹🇸🇪 #FactsSuperspreader           Europa   \n\n                                    user_description         user_created  \\\n0  Biz Consultant, real estate, fintech, startups...  2009-04-26 20:05:09   \n1  😎 BITCOINLIVE is a Dutch platform aimed at inf...  2019-10-17 20:12:10   \n2  IM Academy : The best #forex, #SelfEducation, ...  2014-11-10 10:50:37   \n3  I will post a lot of buying signals for BTC tr...  2019-09-28 16:48:12   \n4  Co-founder @RENJERJerky | Forbes 30Under30 | I...  2016-02-03 13:15:55   \n\n  user_followers user_friends user_favourites user_verified  \\\n0         8534.0         7605            4838         False   \n1         6769.0         1532           25483         False   \n2          128.0          332             924         False   \n3          625.0          129              14         False   \n4         1249.0         1472           10482         False   \n\n                  date                                               text  \\\n0  2021-02-10 23:59:04  Blue Ridge Bank shares halted by NYSE after #b...   \n1  2021-02-10 23:58:48  😎 Today, that's this #Thursday, we will do a \"...   \n2  2021-02-10 23:54:48  Guys evening, I have read this article about B...   \n3  2021-02-10 23:54:33  $BTC A big chance in a billion! Price: \\487264...   \n4  2021-02-10 23:54:06  This network is secured by 9 508 nodes as of t...   \n\n                                    hashtags               source  is_retweet  \n0                                ['bitcoin']      Twitter Web App       False  \n1  ['Thursday', 'Btc', 'wallet', 'security']  Twitter for Android       False  \n2                                       <NA>      Twitter Web App       False  \n3         ['Bitcoin', 'FX', 'BTC', 'crypto']              dlvr.it       False  \n4                                    ['BTC']      Twitter Web App       False  ",
      "text/html": "<div>\n<style scoped>\n    .dataframe tbody tr th:only-of-type {\n        vertical-align: middle;\n    }\n\n    .dataframe tbody tr th {\n        vertical-align: top;\n    }\n\n    .dataframe thead th {\n        text-align: right;\n    }\n</style>\n<table border=\"1\" class=\"dataframe\">\n  <thead>\n    <tr style=\"text-align: right;\">\n      <th></th>\n      <th>user_name</th>\n      <th>user_location</th>\n      <th>user_description</th>\n      <th>user_created</th>\n      <th>user_followers</th>\n      <th>user_friends</th>\n      <th>user_favourites</th>\n      <th>user_verified</th>\n      <th>date</th>\n      <th>text</th>\n      <th>hashtags</th>\n      <th>source</th>\n      <th>is_retweet</th>\n    </tr>\n  </thead>\n  <tbody>\n    <tr>\n      <th>0</th>\n      <td>DeSota Wilson</td>\n      <td>Atlanta, GA</td>\n      <td>Biz Consultant, real estate, fintech, startups...</td>\n      <td>2009-04-26 20:05:09</td>\n      <td>8534.0</td>\n      <td>7605</td>\n      <td>4838</td>\n      <td>False</td>\n      <td>2021-02-10 23:59:04</td>\n      <td>Blue Ridge Bank shares halted by NYSE after #b...</td>\n      <td>['bitcoin']</td>\n      <td>Twitter Web App</td>\n      <td>False</td>\n    </tr>\n    <tr>\n      <th>1</th>\n      <td>CryptoND</td>\n      <td>&lt;NA&gt;</td>\n      <td>😎 BITCOINLIVE is a Dutch platform aimed at inf...</td>\n      <td>2019-10-17 20:12:10</td>\n      <td>6769.0</td>\n      <td>1532</td>\n      <td>25483</td>\n      <td>False</td>\n      <td>2021-02-10 23:58:48</td>\n      <td>😎 Today, that's this #Thursday, we will do a \"...</td>\n      <td>['Thursday', 'Btc', 'wallet', 'security']</td>\n      <td>Twitter for Android</td>\n      <td>False</td>\n    </tr>\n    <tr>\n      <th>2</th>\n      <td>Tdlmatias</td>\n      <td>London, England</td>\n      <td>IM Academy : The best #forex, #SelfEducation, ...</td>\n      <td>2014-11-10 10:50:37</td>\n      <td>128.0</td>\n      <td>332</td>\n      <td>924</td>\n      <td>False</td>\n      <td>2021-02-10 23:54:48</td>\n      <td>Guys evening, I have read this article about B...</td>\n      <td>&lt;NA&gt;</td>\n      <td>Twitter Web App</td>\n      <td>False</td>\n    </tr>\n    <tr>\n      <th>3</th>\n      <td>Crypto is the future</td>\n      <td>&lt;NA&gt;</td>\n      <td>I will post a lot of buying signals for BTC tr...</td>\n      <td>2019-09-28 16:48:12</td>\n      <td>625.0</td>\n      <td>129</td>\n      <td>14</td>\n      <td>False</td>\n      <td>2021-02-10 23:54:33</td>\n      <td>$BTC A big chance in a billion! Price: \\487264...</td>\n      <td>['Bitcoin', 'FX', 'BTC', 'crypto']</td>\n      <td>dlvr.it</td>\n      <td>False</td>\n    </tr>\n    <tr>\n      <th>4</th>\n      <td>Alex Kirchmaier 🇦🇹🇸🇪 #FactsSuperspreader</td>\n      <td>Europa</td>\n      <td>Co-founder @RENJERJerky | Forbes 30Under30 | I...</td>\n      <td>2016-02-03 13:15:55</td>\n      <td>1249.0</td>\n      <td>1472</td>\n      <td>10482</td>\n      <td>False</td>\n      <td>2021-02-10 23:54:06</td>\n      <td>This network is secured by 9 508 nodes as of t...</td>\n      <td>['BTC']</td>\n      <td>Twitter Web App</td>\n      <td>False</td>\n    </tr>\n  </tbody>\n</table>\n</div>"
     },
     "execution_count": 3,
     "metadata": {},
     "output_type": "execute_result"
    }
   ],
   "source": [
    "# Read the first dataset\n",
    "df_tweets = pd.read_csv(\"data/tweets.csv\")\n",
    "df_tweets = df_tweets.convert_dtypes()\n",
    "df_tweets.head()"
   ],
   "metadata": {
    "collapsed": false,
    "ExecuteTime": {
     "end_time": "2024-04-30T08:53:28.822551200Z",
     "start_time": "2024-04-30T08:39:29.409668200Z"
    }
   },
   "id": "4a9f1f1c2ee11d27"
  },
  {
   "cell_type": "code",
   "execution_count": 4,
   "outputs": [
    {
     "data": {
      "text/plain": "       user_name   user_location  \\\n0        ChefSam  Sunshine State   \n1          Roy⚡️            <NA>   \n2  Ethereum Yoda            <NA>   \n3        Viction   Paris, France   \n4          Rosie          London   \n\n                                    user_description         user_created  \\\n0  Culinarian | Hot Sauce Artisan | Kombucha Brew...  2011-03-23 03:50:13   \n1  Truth-seeking pleb 📚 • Science 🧪 • Nature 🌱☀️ ...  2022-01-30 17:41:41   \n2           UP or DOWN...\n.\n.\n.\n.\nPrice matters NOT.  2022-07-24 04:50:18   \n3  https://t.co/8M3rgdjwEe\n\n#bitcoin #blockchain ...  2010-03-26 10:15:26   \n4  The flower language of jasmine is loyalty, res...  2013-02-16 09:57:56   \n\n   user_followers  user_friends  user_favourites  user_verified  \\\n0            4680          2643             6232          False   \n1             770          1145             9166          False   \n2             576             1                0          False   \n3             236          1829             2195          False   \n4           12731            46              134          False   \n\n                  date                                               text  \\\n0  2023-03-01 23:59:59  Which #bitcoin books should I think about read...   \n1  2023-03-01 23:59:47  @ThankGodForBTC I appreciate the message, but ...   \n2  2023-03-01 23:59:42  #Ethereum price update: \n\n#ETH $1664.02 USD\n#B...   \n3  2023-03-01 23:59:36  CoinDashboard v3.0 is here\nAvailable on ios an...   \n4  2023-03-01 23:59:32  #Bitcoin Short Term Fractal (4H)💥\n\nIn lower ti...   \n\n                                            hashtags               source  \\\n0                                        ['bitcoin']   Twitter for iPhone   \n1                                        ['Bitcoin']   Twitter for iPhone   \n2  ['Ethereum', 'ETH', 'Bitcoin', 'BTC', 'altcoin...      Twitter Web App   \n3                                        ['Bitcoin']  Twitter for Android   \n4                                 ['Bitcoin', 'BTC']      Twitter Web App   \n\n   is_retweet  \n0       False  \n1       False  \n2       False  \n3       False  \n4       False  ",
      "text/html": "<div>\n<style scoped>\n    .dataframe tbody tr th:only-of-type {\n        vertical-align: middle;\n    }\n\n    .dataframe tbody tr th {\n        vertical-align: top;\n    }\n\n    .dataframe thead th {\n        text-align: right;\n    }\n</style>\n<table border=\"1\" class=\"dataframe\">\n  <thead>\n    <tr style=\"text-align: right;\">\n      <th></th>\n      <th>user_name</th>\n      <th>user_location</th>\n      <th>user_description</th>\n      <th>user_created</th>\n      <th>user_followers</th>\n      <th>user_friends</th>\n      <th>user_favourites</th>\n      <th>user_verified</th>\n      <th>date</th>\n      <th>text</th>\n      <th>hashtags</th>\n      <th>source</th>\n      <th>is_retweet</th>\n    </tr>\n  </thead>\n  <tbody>\n    <tr>\n      <th>0</th>\n      <td>ChefSam</td>\n      <td>Sunshine State</td>\n      <td>Culinarian | Hot Sauce Artisan | Kombucha Brew...</td>\n      <td>2011-03-23 03:50:13</td>\n      <td>4680</td>\n      <td>2643</td>\n      <td>6232</td>\n      <td>False</td>\n      <td>2023-03-01 23:59:59</td>\n      <td>Which #bitcoin books should I think about read...</td>\n      <td>['bitcoin']</td>\n      <td>Twitter for iPhone</td>\n      <td>False</td>\n    </tr>\n    <tr>\n      <th>1</th>\n      <td>Roy⚡️</td>\n      <td>&lt;NA&gt;</td>\n      <td>Truth-seeking pleb 📚 • Science 🧪 • Nature 🌱☀️ ...</td>\n      <td>2022-01-30 17:41:41</td>\n      <td>770</td>\n      <td>1145</td>\n      <td>9166</td>\n      <td>False</td>\n      <td>2023-03-01 23:59:47</td>\n      <td>@ThankGodForBTC I appreciate the message, but ...</td>\n      <td>['Bitcoin']</td>\n      <td>Twitter for iPhone</td>\n      <td>False</td>\n    </tr>\n    <tr>\n      <th>2</th>\n      <td>Ethereum Yoda</td>\n      <td>&lt;NA&gt;</td>\n      <td>UP or DOWN...\n.\n.\n.\n.\nPrice matters NOT.</td>\n      <td>2022-07-24 04:50:18</td>\n      <td>576</td>\n      <td>1</td>\n      <td>0</td>\n      <td>False</td>\n      <td>2023-03-01 23:59:42</td>\n      <td>#Ethereum price update: \n\n#ETH $1664.02 USD\n#B...</td>\n      <td>['Ethereum', 'ETH', 'Bitcoin', 'BTC', 'altcoin...</td>\n      <td>Twitter Web App</td>\n      <td>False</td>\n    </tr>\n    <tr>\n      <th>3</th>\n      <td>Viction</td>\n      <td>Paris, France</td>\n      <td>https://t.co/8M3rgdjwEe\n\n#bitcoin #blockchain ...</td>\n      <td>2010-03-26 10:15:26</td>\n      <td>236</td>\n      <td>1829</td>\n      <td>2195</td>\n      <td>False</td>\n      <td>2023-03-01 23:59:36</td>\n      <td>CoinDashboard v3.0 is here\nAvailable on ios an...</td>\n      <td>['Bitcoin']</td>\n      <td>Twitter for Android</td>\n      <td>False</td>\n    </tr>\n    <tr>\n      <th>4</th>\n      <td>Rosie</td>\n      <td>London</td>\n      <td>The flower language of jasmine is loyalty, res...</td>\n      <td>2013-02-16 09:57:56</td>\n      <td>12731</td>\n      <td>46</td>\n      <td>134</td>\n      <td>False</td>\n      <td>2023-03-01 23:59:32</td>\n      <td>#Bitcoin Short Term Fractal (4H)💥\n\nIn lower ti...</td>\n      <td>['Bitcoin', 'BTC']</td>\n      <td>Twitter Web App</td>\n      <td>False</td>\n    </tr>\n  </tbody>\n</table>\n</div>"
     },
     "execution_count": 4,
     "metadata": {},
     "output_type": "execute_result"
    }
   ],
   "source": [
    "# Read the second dataset\n",
    "df_tweets2 = pd.read_csv(\"data/tweets_2.csv\", lineterminator='\\n')\n",
    "df_tweets2 = df_tweets2.convert_dtypes()\n",
    "df_tweets2.head()"
   ],
   "metadata": {
    "collapsed": false,
    "ExecuteTime": {
     "end_time": "2024-04-30T08:53:31.894222400Z",
     "start_time": "2024-04-30T08:53:28.791150400Z"
    }
   },
   "id": "b04bc01d18e181"
  },
  {
   "cell_type": "markdown",
   "source": [
    "## Combine two dataframes"
   ],
   "metadata": {
    "collapsed": false
   },
   "id": "71eaa8b51e8a2e88"
  },
  {
   "cell_type": "code",
   "execution_count": 7,
   "outputs": [
    {
     "name": "stdout",
     "output_type": "stream",
     "text": [
      "<class 'pandas.core.frame.DataFrame'>\n",
      "Index: 95932288 entries, 0 to 169819\n",
      "Data columns (total 13 columns):\n",
      " #   Column            Dtype  \n",
      "---  ------            -----  \n",
      " 0   user_name         string \n",
      " 1   user_location     string \n",
      " 2   user_description  string \n",
      " 3   user_created      string \n",
      " 4   user_followers    object \n",
      " 5   user_friends      object \n",
      " 6   user_favourites   object \n",
      " 7   user_verified     object \n",
      " 8   date              string \n",
      " 9   text              string \n",
      " 10  hashtags          string \n",
      " 11  source            string \n",
      " 12  is_retweet        boolean\n",
      "dtypes: boolean(1), object(4), string(8)\n",
      "memory usage: 9.5+ GB\n"
     ]
    }
   ],
   "source": [
    "# Combine two dataframes\n",
    "df_all_tweets = pd.concat([df_tweets, df_tweets2])\n",
    "df_all_tweets.info()"
   ],
   "metadata": {
    "collapsed": false,
    "ExecuteTime": {
     "end_time": "2024-04-30T09:02:33.016077Z",
     "start_time": "2024-04-30T08:58:11.297766900Z"
    }
   },
   "id": "f217e835a580e100"
  },
  {
   "cell_type": "code",
   "execution_count": 8,
   "outputs": [
    {
     "data": {
      "text/plain": "user_name           95932175\nuser_location       10551867\nuser_description    12443294\nuser_created        12974347\nuser_followers      12973650\nuser_friends        12973650\nuser_favourites     12973650\nuser_verified       12973650\ndate                 4859174\ntext                 4859174\nhashtags             4840961\nsource               4854394\nis_retweet           4857659\ndtype: int64"
     },
     "execution_count": 8,
     "metadata": {},
     "output_type": "execute_result"
    }
   ],
   "source": [
    "df_all_tweets.count()"
   ],
   "metadata": {
    "collapsed": false,
    "ExecuteTime": {
     "end_time": "2024-04-30T09:04:08.568298800Z",
     "start_time": "2024-04-30T09:02:33.042270700Z"
    }
   },
   "id": "1516fddb31d7593e"
  },
  {
   "cell_type": "markdown",
   "source": [
    "## Clean and re-structure dataframes\n",
    "\n",
    "The most important parameter that is needed for each entry is data - we should assure that NaN date entries are discarded."
   ],
   "metadata": {
    "collapsed": false
   },
   "id": "ddd70f789e68705"
  },
  {
   "cell_type": "code",
   "execution_count": 9,
   "outputs": [
    {
     "data": {
      "text/plain": "user_name           4859061\nuser_location       2436694\nuser_description    4328121\nuser_created        4859174\nuser_followers      4859174\nuser_friends        4859174\nuser_favourites     4859174\nuser_verified       4859174\ndate                4859174\ntext                4859174\nhashtags            4840961\nsource              4854394\nis_retweet          4857659\ndtype: int64"
     },
     "execution_count": 9,
     "metadata": {},
     "output_type": "execute_result"
    }
   ],
   "source": [
    "# Discard entries containing NaN date\n",
    "df_tweets_clean = df_all_tweets.dropna(subset=[\"date\"])\n",
    "df_tweets_clean.count()"
   ],
   "metadata": {
    "collapsed": false,
    "ExecuteTime": {
     "end_time": "2024-04-30T09:04:22.872245800Z",
     "start_time": "2024-04-30T09:04:08.527299100Z"
    }
   },
   "id": "72787f9860df6cd1"
  },
  {
   "cell_type": "code",
   "execution_count": 10,
   "outputs": [
    {
     "data": {
      "text/plain": "user_created       4859174\nuser_followers     4859174\nuser_friends       4859174\nuser_favourites    4859174\nuser_verified      4859174\ndate               4859174\ntext               4859174\nhashtags           4840961\nis_retweet         4857659\ndtype: int64"
     },
     "execution_count": 10,
     "metadata": {},
     "output_type": "execute_result"
    }
   ],
   "source": [
    "# Discard unused columns\n",
    "df_tweets_clean = df_tweets_clean.drop(columns=[\"user_location\", \"user_description\", \"user_name\", \"source\"])\n",
    "df_tweets_clean.count()"
   ],
   "metadata": {
    "collapsed": false,
    "ExecuteTime": {
     "end_time": "2024-04-30T09:04:25.765199400Z",
     "start_time": "2024-04-30T09:04:22.965258400Z"
    }
   },
   "id": "bb654f1015a28a49"
  },
  {
   "cell_type": "code",
   "execution_count": 11,
   "outputs": [
    {
     "name": "stdout",
     "output_type": "stream",
     "text": [
      "<class 'pandas.core.frame.DataFrame'>\n",
      "Index: 4859174 entries, 0 to 169819\n",
      "Data columns (total 9 columns):\n",
      " #   Column           Dtype  \n",
      "---  ------           -----  \n",
      " 0   user_created     string \n",
      " 1   user_followers   object \n",
      " 2   user_friends     object \n",
      " 3   user_favourites  object \n",
      " 4   user_verified    object \n",
      " 5   date             string \n",
      " 6   text             string \n",
      " 7   hashtags         string \n",
      " 8   is_retweet       boolean\n",
      "dtypes: boolean(1), object(4), string(4)\n",
      "memory usage: 342.9+ MB\n"
     ]
    }
   ],
   "source": [
    "df_tweets_clean.info()"
   ],
   "metadata": {
    "collapsed": false,
    "ExecuteTime": {
     "end_time": "2024-04-30T09:04:25.880666600Z",
     "start_time": "2024-04-30T09:04:25.763198600Z"
    }
   },
   "id": "69bd79d077158fe3"
  },
  {
   "cell_type": "code",
   "execution_count": 12,
   "outputs": [
    {
     "data": {
      "text/plain": "         user_created  user_followers  user_friends  user_favourites  \\\n0 2009-04-26 20:05:09          8534.0        7605.0           4838.0   \n1 2019-10-17 20:12:10          6769.0        1532.0          25483.0   \n2 2014-11-10 10:50:37           128.0         332.0            924.0   \n3 2019-09-28 16:48:12           625.0         129.0             14.0   \n4 2016-02-03 13:15:55          1249.0        1472.0          10482.0   \n\n  user_verified                date  \\\n0         False 2021-02-10 23:59:04   \n1         False 2021-02-10 23:58:48   \n2         False 2021-02-10 23:54:48   \n3         False 2021-02-10 23:54:33   \n4         False 2021-02-10 23:54:06   \n\n                                                text  \\\n0  Blue Ridge Bank shares halted by NYSE after #b...   \n1  😎 Today, that's this #Thursday, we will do a \"...   \n2  Guys evening, I have read this article about B...   \n3  $BTC A big chance in a billion! Price: \\487264...   \n4  This network is secured by 9 508 nodes as of t...   \n\n                                    hashtags  is_retweet  \n0                                ['bitcoin']       False  \n1  ['Thursday', 'Btc', 'wallet', 'security']       False  \n2                                       <NA>       False  \n3         ['Bitcoin', 'FX', 'BTC', 'crypto']       False  \n4                                    ['BTC']       False  ",
      "text/html": "<div>\n<style scoped>\n    .dataframe tbody tr th:only-of-type {\n        vertical-align: middle;\n    }\n\n    .dataframe tbody tr th {\n        vertical-align: top;\n    }\n\n    .dataframe thead th {\n        text-align: right;\n    }\n</style>\n<table border=\"1\" class=\"dataframe\">\n  <thead>\n    <tr style=\"text-align: right;\">\n      <th></th>\n      <th>user_created</th>\n      <th>user_followers</th>\n      <th>user_friends</th>\n      <th>user_favourites</th>\n      <th>user_verified</th>\n      <th>date</th>\n      <th>text</th>\n      <th>hashtags</th>\n      <th>is_retweet</th>\n    </tr>\n  </thead>\n  <tbody>\n    <tr>\n      <th>0</th>\n      <td>2009-04-26 20:05:09</td>\n      <td>8534.0</td>\n      <td>7605.0</td>\n      <td>4838.0</td>\n      <td>False</td>\n      <td>2021-02-10 23:59:04</td>\n      <td>Blue Ridge Bank shares halted by NYSE after #b...</td>\n      <td>['bitcoin']</td>\n      <td>False</td>\n    </tr>\n    <tr>\n      <th>1</th>\n      <td>2019-10-17 20:12:10</td>\n      <td>6769.0</td>\n      <td>1532.0</td>\n      <td>25483.0</td>\n      <td>False</td>\n      <td>2021-02-10 23:58:48</td>\n      <td>😎 Today, that's this #Thursday, we will do a \"...</td>\n      <td>['Thursday', 'Btc', 'wallet', 'security']</td>\n      <td>False</td>\n    </tr>\n    <tr>\n      <th>2</th>\n      <td>2014-11-10 10:50:37</td>\n      <td>128.0</td>\n      <td>332.0</td>\n      <td>924.0</td>\n      <td>False</td>\n      <td>2021-02-10 23:54:48</td>\n      <td>Guys evening, I have read this article about B...</td>\n      <td>&lt;NA&gt;</td>\n      <td>False</td>\n    </tr>\n    <tr>\n      <th>3</th>\n      <td>2019-09-28 16:48:12</td>\n      <td>625.0</td>\n      <td>129.0</td>\n      <td>14.0</td>\n      <td>False</td>\n      <td>2021-02-10 23:54:33</td>\n      <td>$BTC A big chance in a billion! Price: \\487264...</td>\n      <td>['Bitcoin', 'FX', 'BTC', 'crypto']</td>\n      <td>False</td>\n    </tr>\n    <tr>\n      <th>4</th>\n      <td>2016-02-03 13:15:55</td>\n      <td>1249.0</td>\n      <td>1472.0</td>\n      <td>10482.0</td>\n      <td>False</td>\n      <td>2021-02-10 23:54:06</td>\n      <td>This network is secured by 9 508 nodes as of t...</td>\n      <td>['BTC']</td>\n      <td>False</td>\n    </tr>\n  </tbody>\n</table>\n</div>"
     },
     "execution_count": 12,
     "metadata": {},
     "output_type": "execute_result"
    }
   ],
   "source": [
    "# Convert data types\n",
    "df_tweets_clean[\"date\"] = pd.to_datetime(df_tweets_clean[\"date\"], errors=\"coerce\")\n",
    "df_tweets_clean[\"user_created\"] = pd.to_datetime(df_tweets_clean[\"user_created\"], errors=\"coerce\")\n",
    "df_tweets_clean[\"user_followers\"] = pd.to_numeric(df_tweets_clean[\"user_followers\"], errors=\"coerce\")\n",
    "df_tweets_clean[\"user_friends\"] = pd.to_numeric(df_tweets_clean[\"user_friends\"], errors=\"coerce\")\n",
    "df_tweets_clean[\"user_favourites\"] = pd.to_numeric(df_tweets_clean[\"user_favourites\"], errors=\"coerce\")\n",
    "df_tweets_clean[\"user_verified\"] = df_tweets_clean[\"user_verified\"].astype(\"string\")\n",
    "df_tweets_clean.head()"
   ],
   "metadata": {
    "collapsed": false,
    "ExecuteTime": {
     "end_time": "2024-04-30T09:04:37.221190100Z",
     "start_time": "2024-04-30T09:04:25.827895300Z"
    }
   },
   "id": "94cfe8b81b4883dd"
  },
  {
   "cell_type": "code",
   "execution_count": 13,
   "outputs": [
    {
     "data": {
      "text/plain": "<StringArray>\n[                                                                                                                                                                                                                                                                                                                      'False',\n                                                                                                                                                                                                                                                                                                                        'True',\n                                                                                                                                                                                         \"@krakenfx  #ETH #BTC  If you want to become poor, please don't buy #Bitcoin Obviously not financial advice. https://t.co/RstLTzN2MX\",\n                                                          \"Official ESHOP Airdrop. If You Missed Meme Token Rally, Don't Miss ESHOP.  Join Now: https://t.co/2dtf2Pqc55   Join our Telegram: https://t.co/aaOlDav2rT   @EShop_Token @elonmusk #cryptocurrency #BSC #Bitcoin #Ethereum #ETH #Airdrop #bounty #ESHOP  #Airdrops\",\n                                                                    '@pufferswap Nice project\\n\\n@karnoto_hendrik \\n@ayubcandra12 \\n@put_nab \\n\\n#YieldFarming #Airdrop #Binance #Bitcoin #pancakeswap #BNB #cryptocurrency #DeFi #BTC #BinanceSmartChain #BSC\\n#pufferswap #DeFi #bsc #bnb #bitcoin #cryto #Airdrop #Airdrop',\n                                                                                                                                                                                                                                                                                                   '#btc to the moon 🚀🚀 77774',\n                                                                                                                                                                                                                                                                                                   '#btc to the moon 🚀🚀 46059',\n                                 '@DogCakeFinance @DogCakeFinance Great project\\nThis project will go to the moon 🚀🚀🚀\\n\\n@vandy_126 @Awan_MT @iqbalairun\\n\\n@DogCakeFinance #YieldFarming #Airdrop #PancakeSwap #Giveaway #BTC #BNB #Binance #BSC #cryptocurrency\\n\\nBSC address : 0xd03bE36b056129c8700eff2E04766001d3739ECa',\n \"@bloodgoodBTC5\\n\\n#Bitcoin\\xa0  \\n\\nShort term trade plans\\n\\nScenario\\n-Trendline doesn't hold\\n-BTC gets rejected AND finds support on the next demand and on ema21 D1\\n\\nScenario 2, \\n-S is respected. \\n-Prime R breaks\\n-You open a long with me for retirement\\n\\ntrade futures with me here https://t.co/URAzEHW2MK\",\n                    '🤯Mind-blowing 99.7% of all Bitcoin holders are now in profit\\n\\nThe same value was recorded earlier, back in April-May, when Bitcoin reached its record price of $64,899.\\n\\nAt the moment, Bitcoin is trading at $62,859. \\n\\n#cryptotrading #crypto #tradingbots #bitcoin #btc https://t.co/75h0Gwb942',\n                                  '@pythonwealth Good Project 🎉🎉🎉🎉\\n\\n@nurull_padileh \\n@rini_cappcuzz \\n@DindAlkhatiri24 \\n@diviafan \\n@FllowFllowvyia \\n\\n#PW #pythonwealth #Presale #token #ico #BSC #Binance  #smartchain #blockchain #coin #airdrop #launch #token_presale #poocoin #pinksale #pancakeswap #bitcoin #btc',\n                                                                                                                                                                                                                                                                                  '@iftikharpost the world is flat #bitcoin 💪',\n                                                                                                                                                                    '@airdropinspect Good and special project\\n@anc_10 @WidyaSaputri6 @wishaka13 \\n#Airdrop #Airdrops #Airdropinspector #BSC #MetaGods #USDT #Crypto #Bitcoin',\n                                                                                                                                  'DocumentingBTC: #bitcoin at $30: \"Am I too late?\"\\n#bitcoin at $800: \"Am I too late?\"\\n#bitcoin at $7,000: \"Am I too late?\"\\n#bitcoin at $19,000: \"Am I too late?\" https://t.co/GKl2HxLYgb',\n          'Crypto Market\\nOpen your Free Angel One Account here:\\nhttps://t.co/T5tq5qeCDl\\n.\\n#cryptocurrencies  #bitcoin  #cryptotrading #cryptocurrency \\n #sharemarket #stockmarket  #trading #tradingforex #motivation #indianstockmarket #investing #investment #money #technicalanalysisinhindi https://t.co/JkVJYeFUXM',\n                                                                                                                                                                                                                                                                                                                          '35',\n                                                                                                                                   '💸 Earn free #BTC and multiply crypto up to 15% monthly with @betfury BOXes 📦 Enjoy the easy way to get cryptocurrency! Real rewards every 20 min 💥 📈 Referral Bonuses 35% #betfurysuccess',\n                                                                                                                      'Details of our presale on DxSale\\nhttps://t.co/PvqHGLsMdd\\n\\nFollow official ➤ @luredefi\\n\\n#BSC #ETH #Bitcoin #luna2 #BNB #presale #NFTs #SHIB #Terra https://t.co/0bMAiIq6k2 https://t.co/4f4OL30joz',\n                                                 '【Economic Calendar】30th May - 3rd Jun\\nFor more information please visit us at https://t.co/5NH436db5N\\nContact us: support@ecmarkets.com\\n\\n#BTC #oil #stocks #investing #trade #cryptocurrency #trader #gold #ETH #forex #currency #Metals #index https://t.co/XJSOMc9FVI',\n                                                                                                                                                                                                                                                                                                         '2022-11-11 21:35:08',\n                                                                                                                                                                                                                                                                                                         '2022-11-11 21:05:55',\n                                                                                                                                                                                                                                                                                                         '2022-11-11 20:45:02',\n                                                                                                                                                                                                                                                                                                         '2022-11-11 19:20:00',\n                                                                                                                                                                                                                                                                                                         '2022-11-11 19:05:45',\n                                                                                                                                                                                                                                                                                                         '2022-11-11 17:55:53',\n                                                                                                                                                                                                                                                                                                         '2022-11-11 15:14:03',\n                                                                                                                                                                                                                                                                                                         '2022-11-11 14:54:35',\n                                                                                                                                                                                                                                                                                                         '2022-11-11 22:37:13',\n                                                                                                                                                                                                                                                                                                         '2022-11-11 17:30:51',\n                                                                                                                                                                                                                                                                                                         '2022-11-11 16:29:51',\n                                                                                                                                                                                                                                                                                                         '2022-11-10 23:57:41',\n                                                                                                                                                                                                                                                                                                         '2022-11-09 23:36:53',\n                                                                                                                                                                                                                                                                                                         '2022-11-09 23:36:45',\n                                                                                                                      \"This is my winning portfolio in #CBFantasyLeague 🏆Not playing yet? Don't miss it! Prizes in #BITCOIN, #cryptocurrency #XCB and #NFT free. @CryptoBirds https://t.co/8U8CKOYapN https://t.co/2beZoY1q1z\",\n                                                                                                                                                                                                                                                                                                         '2022-11-07 23:01:36',\n                                                                                                                                                                                                                                                                                                         '2022-11-07 22:33:49',\n                                                                                                                                                                                                                                                                                                         '2022-11-07 21:34:56',\n                                                                                                                                                                                                                                                                                                         '2022-11-07 21:24:07',\n                                                                                                                                                                                                                                                                                                         '2022-11-07 20:57:25',\n                                                                                                                                                                                                                                                                                                         '2022-11-07 18:54:24',\n                                                                                                                                                                                                                                                                                                         '2022-11-07 17:51:27',\n                                                                                                                                                                                                                                                                                                         '2022-11-07 22:57:02',\n                                                                                                                                                                                                                                                                                                         '2022-11-07 21:56:38',\n                                                                                                                                                                                                                                                                                                         '2022-11-07 20:51:59',\n                                                                                                                                                                                                                                                                                                         '2022-11-07 18:58:41',\n                                                                                                                                                                                                                                                                                                         '2022-11-15 23:52:33',\n                                                                                                                                                                                                                                                                                                         '2022-11-15 23:05:11',\n                                                                                                                                                                                                                                                                                                         '2022-11-15 20:16:04',\n                                                                                                                                                                                                                                                                                                         '2022-11-15 17:44:20',\n                                                                                                                                                                                                                                                                                                         '2022-11-15 17:07:50',\n                                                                                                                                                                                                                                                                                                         '2022-11-15 17:00:08',\n                                                                                                                                                                                                                                                                                                         '2022-11-15 16:52:04',\n                                                                                                                                                                                                                                                                                                         '2022-11-15 11:13:45',\n                                                                                                                                                                                                                                                                                                         '2022-11-15 11:02:46',\n                                                                                                                                                                                                                                                                                                         '2022-11-15 09:43:12',\n                                                                                                                                                                                                                                                                                                         '2022-11-15 08:03:08',\n                                                                                                                                                                                                                                                                                                         '2022-11-15 05:03:05',\n                                                                                                                                                                                                                                                                                                         '2022-11-15 01:25:16',\n                                                                                                                                                                                                                                                                                                         '2022-11-14 19:30:22',\n                                                                                                                                                                                                                                                                                                         '2022-11-14 17:55:08',\n                                                                                                                                                                                                                                                                                                         '2022-11-21 18:44:37',\n                                                                                                                                                                                                                                                                                                         '2022-11-21 18:21:22',\n                                                                                                                                                                                                                                                                                                         '2022-11-21 14:24:35',\n                                                                                                                                                                                                                                                                                                         '2022-11-21 12:19:01',\n                                                                                                                                                                                                                                                                                                         '2022-11-21 11:14:26',\n                                                                                                                                                                                                                                                                                                         '2022-11-21 10:50:28',\n                                                                                                                                                                                                                                                                                                         '2022-11-21 20:11:52',\n                                                                                                                                                                                                                                                                                                         '2022-11-21 18:15:29']\nLength: 68, dtype: string"
     },
     "execution_count": 13,
     "metadata": {},
     "output_type": "execute_result"
    }
   ],
   "source": [
    "df_tweets_clean[\"user_verified\"].unique()"
   ],
   "metadata": {
    "collapsed": false,
    "ExecuteTime": {
     "end_time": "2024-04-30T09:04:37.888842700Z",
     "start_time": "2024-04-30T09:04:37.360187800Z"
    }
   },
   "id": "80debfad18b7e86c"
  },
  {
   "cell_type": "code",
   "execution_count": 14,
   "outputs": [
    {
     "data": {
      "text/plain": "              user_created  user_followers  user_friends  user_favourites  \\\n0      2009-04-26 20:05:09          8534.0        7605.0           4838.0   \n1      2019-10-17 20:12:10          6769.0        1532.0          25483.0   \n2      2014-11-10 10:50:37           128.0         332.0            924.0   \n3      2019-09-28 16:48:12           625.0         129.0             14.0   \n4      2016-02-03 13:15:55          1249.0        1472.0          10482.0   \n...                    ...             ...           ...              ...   \n169815 2022-05-16 06:49:25          1633.0        1704.0            823.0   \n169816 2016-01-11 19:45:21          7448.0          10.0           7341.0   \n169817 2010-07-17 02:09:19           421.0         428.0          20128.0   \n169818 2021-08-31 08:52:22           672.0        2031.0            465.0   \n169819 2022-10-22 16:08:09            53.0         129.0            467.0   \n\n       user_verified                date  \\\n0              False 2021-02-10 23:59:04   \n1              False 2021-02-10 23:58:48   \n2              False 2021-02-10 23:54:48   \n3              False 2021-02-10 23:54:33   \n4              False 2021-02-10 23:54:06   \n...              ...                 ...   \n169815         False 2023-03-04 10:51:00   \n169816         False 2023-03-04 10:50:48   \n169817         False 2023-03-04 10:50:29   \n169818         False 2023-03-04 10:50:17   \n169819         False 2023-03-04 10:50:14   \n\n                                                     text  \\\n0       Blue Ridge Bank shares halted by NYSE after #b...   \n1       😎 Today, that's this #Thursday, we will do a \"...   \n2       Guys evening, I have read this article about B...   \n3       $BTC A big chance in a billion! Price: \\487264...   \n4       This network is secured by 9 508 nodes as of t...   \n...                                                   ...   \n169815  #BTC Price $22338\n\n-RSI: 52\n-Moving Average(20...   \n169816  Jack Dorsey’s TBD launches ‘C=’ to improve Bit...   \n169817  @TheBlock__ Every holder in Celsius fcked 🤓\nTh...   \n169818  #btc #altcoin #short https://t.co/cAoqF22klA v...   \n169819  Perfect platform for private trading our prior...   \n\n                                                 hashtags  is_retweet  \n0                                             ['bitcoin']       False  \n1               ['Thursday', 'Btc', 'wallet', 'security']       False  \n2                                                    <NA>       False  \n3                      ['Bitcoin', 'FX', 'BTC', 'crypto']       False  \n4                                                 ['BTC']       False  \n...                                                   ...         ...  \n169815                                            ['BTC']       False  \n169816                                  ['crypto', 'btc']       False  \n169817                                            ['BTC']       False  \n169818                        ['btc', 'altcoin', 'short']       False  \n169819  ['PrivateTrading', 'Privacy', 'DataProtection'...       False  \n\n[4859108 rows x 9 columns]",
      "text/html": "<div>\n<style scoped>\n    .dataframe tbody tr th:only-of-type {\n        vertical-align: middle;\n    }\n\n    .dataframe tbody tr th {\n        vertical-align: top;\n    }\n\n    .dataframe thead th {\n        text-align: right;\n    }\n</style>\n<table border=\"1\" class=\"dataframe\">\n  <thead>\n    <tr style=\"text-align: right;\">\n      <th></th>\n      <th>user_created</th>\n      <th>user_followers</th>\n      <th>user_friends</th>\n      <th>user_favourites</th>\n      <th>user_verified</th>\n      <th>date</th>\n      <th>text</th>\n      <th>hashtags</th>\n      <th>is_retweet</th>\n    </tr>\n  </thead>\n  <tbody>\n    <tr>\n      <th>0</th>\n      <td>2009-04-26 20:05:09</td>\n      <td>8534.0</td>\n      <td>7605.0</td>\n      <td>4838.0</td>\n      <td>False</td>\n      <td>2021-02-10 23:59:04</td>\n      <td>Blue Ridge Bank shares halted by NYSE after #b...</td>\n      <td>['bitcoin']</td>\n      <td>False</td>\n    </tr>\n    <tr>\n      <th>1</th>\n      <td>2019-10-17 20:12:10</td>\n      <td>6769.0</td>\n      <td>1532.0</td>\n      <td>25483.0</td>\n      <td>False</td>\n      <td>2021-02-10 23:58:48</td>\n      <td>😎 Today, that's this #Thursday, we will do a \"...</td>\n      <td>['Thursday', 'Btc', 'wallet', 'security']</td>\n      <td>False</td>\n    </tr>\n    <tr>\n      <th>2</th>\n      <td>2014-11-10 10:50:37</td>\n      <td>128.0</td>\n      <td>332.0</td>\n      <td>924.0</td>\n      <td>False</td>\n      <td>2021-02-10 23:54:48</td>\n      <td>Guys evening, I have read this article about B...</td>\n      <td>&lt;NA&gt;</td>\n      <td>False</td>\n    </tr>\n    <tr>\n      <th>3</th>\n      <td>2019-09-28 16:48:12</td>\n      <td>625.0</td>\n      <td>129.0</td>\n      <td>14.0</td>\n      <td>False</td>\n      <td>2021-02-10 23:54:33</td>\n      <td>$BTC A big chance in a billion! Price: \\487264...</td>\n      <td>['Bitcoin', 'FX', 'BTC', 'crypto']</td>\n      <td>False</td>\n    </tr>\n    <tr>\n      <th>4</th>\n      <td>2016-02-03 13:15:55</td>\n      <td>1249.0</td>\n      <td>1472.0</td>\n      <td>10482.0</td>\n      <td>False</td>\n      <td>2021-02-10 23:54:06</td>\n      <td>This network is secured by 9 508 nodes as of t...</td>\n      <td>['BTC']</td>\n      <td>False</td>\n    </tr>\n    <tr>\n      <th>...</th>\n      <td>...</td>\n      <td>...</td>\n      <td>...</td>\n      <td>...</td>\n      <td>...</td>\n      <td>...</td>\n      <td>...</td>\n      <td>...</td>\n      <td>...</td>\n    </tr>\n    <tr>\n      <th>169815</th>\n      <td>2022-05-16 06:49:25</td>\n      <td>1633.0</td>\n      <td>1704.0</td>\n      <td>823.0</td>\n      <td>False</td>\n      <td>2023-03-04 10:51:00</td>\n      <td>#BTC Price $22338\n\n-RSI: 52\n-Moving Average(20...</td>\n      <td>['BTC']</td>\n      <td>False</td>\n    </tr>\n    <tr>\n      <th>169816</th>\n      <td>2016-01-11 19:45:21</td>\n      <td>7448.0</td>\n      <td>10.0</td>\n      <td>7341.0</td>\n      <td>False</td>\n      <td>2023-03-04 10:50:48</td>\n      <td>Jack Dorsey’s TBD launches ‘C=’ to improve Bit...</td>\n      <td>['crypto', 'btc']</td>\n      <td>False</td>\n    </tr>\n    <tr>\n      <th>169817</th>\n      <td>2010-07-17 02:09:19</td>\n      <td>421.0</td>\n      <td>428.0</td>\n      <td>20128.0</td>\n      <td>False</td>\n      <td>2023-03-04 10:50:29</td>\n      <td>@TheBlock__ Every holder in Celsius fcked 🤓\nTh...</td>\n      <td>['BTC']</td>\n      <td>False</td>\n    </tr>\n    <tr>\n      <th>169818</th>\n      <td>2021-08-31 08:52:22</td>\n      <td>672.0</td>\n      <td>2031.0</td>\n      <td>465.0</td>\n      <td>False</td>\n      <td>2023-03-04 10:50:17</td>\n      <td>#btc #altcoin #short https://t.co/cAoqF22klA v...</td>\n      <td>['btc', 'altcoin', 'short']</td>\n      <td>False</td>\n    </tr>\n    <tr>\n      <th>169819</th>\n      <td>2022-10-22 16:08:09</td>\n      <td>53.0</td>\n      <td>129.0</td>\n      <td>467.0</td>\n      <td>False</td>\n      <td>2023-03-04 10:50:14</td>\n      <td>Perfect platform for private trading our prior...</td>\n      <td>['PrivateTrading', 'Privacy', 'DataProtection'...</td>\n      <td>False</td>\n    </tr>\n  </tbody>\n</table>\n<p>4859108 rows × 9 columns</p>\n</div>"
     },
     "execution_count": 14,
     "metadata": {},
     "output_type": "execute_result"
    }
   ],
   "source": [
    "# Clean incorrectly formed column values\n",
    "df_tweets_clean.loc[df_tweets_clean[\"user_verified\"].isin([\"True\", \"False\"])]"
   ],
   "metadata": {
    "collapsed": false,
    "ExecuteTime": {
     "end_time": "2024-04-30T09:04:38.706196900Z",
     "start_time": "2024-04-30T09:04:37.454839900Z"
    }
   },
   "id": "ec85714b66ce6535"
  },
  {
   "cell_type": "code",
   "execution_count": 15,
   "outputs": [
    {
     "data": {
      "text/plain": "user_created       4859108\nuser_followers     4859108\nuser_friends       4859108\nuser_favourites    4859108\nuser_verified      4859108\ndate               4859108\ntext               4859108\nhashtags           4840895\nis_retweet         4857659\ndtype: int64"
     },
     "execution_count": 15,
     "metadata": {},
     "output_type": "execute_result"
    }
   ],
   "source": [
    "# Drop Na values\n",
    "df_tweets_clean = df_tweets_clean.dropna(subset=[\"date\"])\n",
    "df_tweets_clean.count()"
   ],
   "metadata": {
    "collapsed": false,
    "ExecuteTime": {
     "end_time": "2024-04-30T09:04:40.831104900Z",
     "start_time": "2024-04-30T09:04:38.673197600Z"
    }
   },
   "id": "fd2abd697eaed1df"
  },
  {
   "cell_type": "code",
   "execution_count": 16,
   "outputs": [
    {
     "data": {
      "text/plain": "user_created       4857659\nuser_followers     4857659\nuser_friends       4857659\nuser_favourites    4857659\nuser_verified      4857659\ndate               4857659\ntext               4857659\nhashtags           4840895\nis_retweet         4857659\ndtype: int64"
     },
     "execution_count": 16,
     "metadata": {},
     "output_type": "execute_result"
    }
   ],
   "source": [
    "# Clean incorrectly formed column values\n",
    "df_tweets_clean = df_tweets_clean.loc[df_tweets_clean[\"is_retweet\"].astype(\"string\").isin([\"True\", \"False\"])]\n",
    "df_tweets_clean.count()"
   ],
   "metadata": {
    "collapsed": false,
    "ExecuteTime": {
     "end_time": "2024-04-30T09:04:44.340543800Z",
     "start_time": "2024-04-30T09:04:40.832105200Z"
    }
   },
   "id": "4a06688c1380d8e6"
  },
  {
   "cell_type": "code",
   "execution_count": 17,
   "outputs": [
    {
     "data": {
      "text/plain": "user_created       4857659\nuser_followers     4857659\nuser_friends       4857659\nuser_favourites    4857659\nuser_verified      4857659\ndate               4857659\ntext               4857659\nhashtags           4840895\nis_retweet         4857659\ndtype: int64"
     },
     "execution_count": 17,
     "metadata": {},
     "output_type": "execute_result"
    }
   ],
   "source": [
    "# Drop Na values\n",
    "df_tweets_clean = df_tweets_clean.dropna(subset=[\"is_retweet\"])\n",
    "df_tweets_clean.count()"
   ],
   "metadata": {
    "collapsed": false,
    "ExecuteTime": {
     "end_time": "2024-04-30T09:04:45.947030400Z",
     "start_time": "2024-04-30T09:04:44.334544600Z"
    }
   },
   "id": "eae8ae2d301b1ede"
  },
  {
   "cell_type": "code",
   "execution_count": 20,
   "outputs": [
    {
     "name": "stdout",
     "output_type": "stream",
     "text": [
      "<class 'pandas.core.frame.DataFrame'>\n",
      "Index: 4857659 entries, 0 to 169819\n",
      "Data columns (total 9 columns):\n",
      " #   Column           Dtype         \n",
      "---  ------           -----         \n",
      " 0   user_created     datetime64[ns]\n",
      " 1   user_followers   float64       \n",
      " 2   user_friends     float64       \n",
      " 3   user_favourites  float64       \n",
      " 4   user_verified    string        \n",
      " 5   date             datetime64[ns]\n",
      " 6   text             string        \n",
      " 7   hashtags         string        \n",
      " 8   is_retweet       boolean       \n",
      "dtypes: boolean(1), datetime64[ns](2), float64(3), string(3)\n",
      "memory usage: 342.8 MB\n"
     ]
    }
   ],
   "source": [
    "df_tweets_clean = df_tweets_clean.loc[df_tweets_clean[\"user_verified\"].astype(\"string\").isin([\"True\", \"False\"])]\n",
    "df_tweets_clean = df_tweets_clean.dropna(subset=[\"user_verified\"])\n",
    "df_tweets_clean.info()"
   ],
   "metadata": {
    "collapsed": false,
    "ExecuteTime": {
     "end_time": "2024-04-30T09:16:17.438284200Z",
     "start_time": "2024-04-30T09:16:15.487640400Z"
    }
   },
   "id": "2fa19b7658a9fee8"
  },
  {
   "cell_type": "code",
   "execution_count": 24,
   "outputs": [
    {
     "data": {
      "text/plain": "         user_created  user_followers  user_friends  user_favourites  \\\n0 2009-04-26 20:05:09          8534.0        7605.0           4838.0   \n1 2019-10-17 20:12:10          6769.0        1532.0          25483.0   \n2 2014-11-10 10:50:37           128.0         332.0            924.0   \n3 2019-09-28 16:48:12           625.0         129.0             14.0   \n4 2016-02-03 13:15:55          1249.0        1472.0          10482.0   \n\n   user_verified                date  \\\n0           True 2021-02-10 23:59:04   \n1           True 2021-02-10 23:58:48   \n2           True 2021-02-10 23:54:48   \n3           True 2021-02-10 23:54:33   \n4           True 2021-02-10 23:54:06   \n\n                                                text  \\\n0  Blue Ridge Bank shares halted by NYSE after #b...   \n1  😎 Today, that's this #Thursday, we will do a \"...   \n2  Guys evening, I have read this article about B...   \n3  $BTC A big chance in a billion! Price: \\487264...   \n4  This network is secured by 9 508 nodes as of t...   \n\n                                    hashtags  is_retweet  \n0                                ['bitcoin']       False  \n1  ['Thursday', 'Btc', 'wallet', 'security']       False  \n2                                       <NA>       False  \n3         ['Bitcoin', 'FX', 'BTC', 'crypto']       False  \n4                                    ['BTC']       False  ",
      "text/html": "<div>\n<style scoped>\n    .dataframe tbody tr th:only-of-type {\n        vertical-align: middle;\n    }\n\n    .dataframe tbody tr th {\n        vertical-align: top;\n    }\n\n    .dataframe thead th {\n        text-align: right;\n    }\n</style>\n<table border=\"1\" class=\"dataframe\">\n  <thead>\n    <tr style=\"text-align: right;\">\n      <th></th>\n      <th>user_created</th>\n      <th>user_followers</th>\n      <th>user_friends</th>\n      <th>user_favourites</th>\n      <th>user_verified</th>\n      <th>date</th>\n      <th>text</th>\n      <th>hashtags</th>\n      <th>is_retweet</th>\n    </tr>\n  </thead>\n  <tbody>\n    <tr>\n      <th>0</th>\n      <td>2009-04-26 20:05:09</td>\n      <td>8534.0</td>\n      <td>7605.0</td>\n      <td>4838.0</td>\n      <td>True</td>\n      <td>2021-02-10 23:59:04</td>\n      <td>Blue Ridge Bank shares halted by NYSE after #b...</td>\n      <td>['bitcoin']</td>\n      <td>False</td>\n    </tr>\n    <tr>\n      <th>1</th>\n      <td>2019-10-17 20:12:10</td>\n      <td>6769.0</td>\n      <td>1532.0</td>\n      <td>25483.0</td>\n      <td>True</td>\n      <td>2021-02-10 23:58:48</td>\n      <td>😎 Today, that's this #Thursday, we will do a \"...</td>\n      <td>['Thursday', 'Btc', 'wallet', 'security']</td>\n      <td>False</td>\n    </tr>\n    <tr>\n      <th>2</th>\n      <td>2014-11-10 10:50:37</td>\n      <td>128.0</td>\n      <td>332.0</td>\n      <td>924.0</td>\n      <td>True</td>\n      <td>2021-02-10 23:54:48</td>\n      <td>Guys evening, I have read this article about B...</td>\n      <td>&lt;NA&gt;</td>\n      <td>False</td>\n    </tr>\n    <tr>\n      <th>3</th>\n      <td>2019-09-28 16:48:12</td>\n      <td>625.0</td>\n      <td>129.0</td>\n      <td>14.0</td>\n      <td>True</td>\n      <td>2021-02-10 23:54:33</td>\n      <td>$BTC A big chance in a billion! Price: \\487264...</td>\n      <td>['Bitcoin', 'FX', 'BTC', 'crypto']</td>\n      <td>False</td>\n    </tr>\n    <tr>\n      <th>4</th>\n      <td>2016-02-03 13:15:55</td>\n      <td>1249.0</td>\n      <td>1472.0</td>\n      <td>10482.0</td>\n      <td>True</td>\n      <td>2021-02-10 23:54:06</td>\n      <td>This network is secured by 9 508 nodes as of t...</td>\n      <td>['BTC']</td>\n      <td>False</td>\n    </tr>\n  </tbody>\n</table>\n</div>"
     },
     "execution_count": 24,
     "metadata": {},
     "output_type": "execute_result"
    }
   ],
   "source": [
    "# Interpret user_verified as boolean\n",
    "df_tweets_clean[\"user_verified\"] = df_tweets_clean[\"user_verified\"].astype(bool)\n",
    "df_tweets_clean.head()"
   ],
   "metadata": {
    "collapsed": false,
    "ExecuteTime": {
     "end_time": "2024-04-30T09:19:38.104934100Z",
     "start_time": "2024-04-30T09:19:38.069532600Z"
    }
   },
   "id": "a3c89bc11c86b9fb"
  },
  {
   "cell_type": "markdown",
   "source": [
    "## Write clean data into a parquet file"
   ],
   "metadata": {
    "collapsed": false
   },
   "id": "c26c9b294a9a0953"
  },
  {
   "cell_type": "code",
   "execution_count": 25,
   "outputs": [],
   "source": [
    "df_tweets_clean.to_parquet(\"data/tweets_clean.parquet\")"
   ],
   "metadata": {
    "collapsed": false,
    "ExecuteTime": {
     "end_time": "2024-04-30T09:20:47.088759100Z",
     "start_time": "2024-04-30T09:20:35.635454800Z"
    }
   },
   "id": "2a3e0a7d770ca719"
  }
 ],
 "metadata": {
  "kernelspec": {
   "display_name": "Python 3",
   "language": "python",
   "name": "python3"
  },
  "language_info": {
   "codemirror_mode": {
    "name": "ipython",
    "version": 2
   },
   "file_extension": ".py",
   "mimetype": "text/x-python",
   "name": "python",
   "nbconvert_exporter": "python",
   "pygments_lexer": "ipython2",
   "version": "2.7.6"
  }
 },
 "nbformat": 4,
 "nbformat_minor": 5
}
