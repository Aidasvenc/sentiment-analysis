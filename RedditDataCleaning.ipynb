{
 "cells": [
  {
   "cell_type": "markdown",
   "source": [
    "## Read and structure all Reddit data"
   ],
   "metadata": {
    "collapsed": false
   },
   "id": "a3e04616ff426905"
  },
  {
   "cell_type": "code",
   "execution_count": 1,
   "outputs": [],
   "source": [
    "# Import libraries\n",
    "import pandas as pd"
   ],
   "metadata": {
    "collapsed": false,
    "ExecuteTime": {
     "end_time": "2024-04-30T20:07:02.055557700Z",
     "start_time": "2024-04-30T20:07:01.030125600Z"
    }
   },
   "id": "8ebda08e848299db"
  },
  {
   "cell_type": "code",
   "execution_count": 2,
   "id": "initial_id",
   "metadata": {
    "collapsed": true,
    "ExecuteTime": {
     "end_time": "2024-04-30T20:07:04.449638100Z",
     "start_time": "2024-04-30T20:07:04.446623700Z"
    }
   },
   "outputs": [],
   "source": [
    "path_df_3_filtered = \"data/df_3_filtered.csv\"\n",
    "path_df_2_filtered = \"data/df_2_filtered.csv\"\n",
    "path_df_1_filtered = \"data/df_1_filtered.csv\"\n",
    "path_df_filtered = \"data/df_filtered.csv\""
   ]
  },
  {
   "cell_type": "code",
   "execution_count": 3,
   "outputs": [],
   "source": [
    "df = pd.read_csv(path_df_filtered)\n",
    "df_1 = pd.read_csv(path_df_1_filtered)\n",
    "df_2 = pd.read_csv(path_df_2_filtered)\n",
    "df_3 = pd.read_csv(path_df_3_filtered)"
   ],
   "metadata": {
    "collapsed": false,
    "ExecuteTime": {
     "end_time": "2024-04-30T20:07:13.785609400Z",
     "start_time": "2024-04-30T20:07:06.636203600Z"
    }
   },
   "id": "d7e3e827697f23e2"
  },
  {
   "cell_type": "code",
   "execution_count": 4,
   "outputs": [
    {
     "name": "stdout",
     "output_type": "stream",
     "text": [
      "<class 'pandas.core.frame.DataFrame'>\n",
      "Index: 281963 entries, 0 to 58928\n",
      "Data columns (total 9 columns):\n",
      " #   Column              Non-Null Count   Dtype \n",
      "---  ------              --------------   ----- \n",
      " 0   subreddit           281963 non-null  object\n",
      " 1   keyword             281963 non-null  object\n",
      " 2   title               281963 non-null  object\n",
      " 3   text                223460 non-null  object\n",
      " 4   time_posted         281963 non-null  object\n",
      " 5   url                 281963 non-null  object\n",
      " 6   number_of_comments  281963 non-null  int64 \n",
      " 7   score               281963 non-null  int64 \n",
      " 8   author              281963 non-null  object\n",
      "dtypes: int64(2), object(7)\n",
      "memory usage: 21.5+ MB\n"
     ]
    }
   ],
   "source": [
    "# Combine two dataframes\n",
    "df_all_reddit = pd.concat([df, df_1, df_2, df_3])\n",
    "df_all_reddit.info()"
   ],
   "metadata": {
    "collapsed": false,
    "ExecuteTime": {
     "end_time": "2024-04-30T20:07:16.348757900Z",
     "start_time": "2024-04-30T20:07:16.253507500Z"
    }
   },
   "id": "7bb3cf46165b5c39"
  },
  {
   "cell_type": "code",
   "execution_count": 6,
   "outputs": [
    {
     "name": "stdout",
     "output_type": "stream",
     "text": [
      "<class 'pandas.core.frame.DataFrame'>\n",
      "Index: 281963 entries, 0 to 58928\n",
      "Data columns (total 9 columns):\n",
      " #   Column              Non-Null Count   Dtype \n",
      "---  ------              --------------   ----- \n",
      " 0   subreddit           281963 non-null  string\n",
      " 1   keyword             281963 non-null  string\n",
      " 2   title               281963 non-null  string\n",
      " 3   text                223460 non-null  string\n",
      " 4   time_posted         281963 non-null  string\n",
      " 5   url                 281963 non-null  string\n",
      " 6   number_of_comments  281963 non-null  Int64 \n",
      " 7   score               281963 non-null  Int64 \n",
      " 8   author              281963 non-null  string\n",
      "dtypes: Int64(2), string(7)\n",
      "memory usage: 22.0 MB\n"
     ]
    }
   ],
   "source": [
    "df_all_reddit = df_all_reddit.convert_dtypes()\n",
    "df_all_reddit.info()"
   ],
   "metadata": {
    "collapsed": false,
    "ExecuteTime": {
     "end_time": "2024-04-30T20:08:05.381327Z",
     "start_time": "2024-04-30T20:08:05.171556100Z"
    }
   },
   "id": "2847485d7e30d78e"
  },
  {
   "cell_type": "code",
   "execution_count": 8,
   "outputs": [
    {
     "name": "stdout",
     "output_type": "stream",
     "text": [
      "<class 'pandas.core.frame.DataFrame'>\n",
      "Index: 281963 entries, 0 to 58928\n",
      "Data columns (total 9 columns):\n",
      " #   Column              Non-Null Count   Dtype \n",
      "---  ------              --------------   ----- \n",
      " 0   subreddit           281963 non-null  string\n",
      " 1   keyword             281963 non-null  string\n",
      " 2   title               281963 non-null  string\n",
      " 3   text                223460 non-null  string\n",
      " 4   time_posted         281963 non-null  string\n",
      " 5   url                 281963 non-null  string\n",
      " 6   number_of_comments  281963 non-null  Int64 \n",
      " 7   score               281963 non-null  Int64 \n",
      " 8   author              281963 non-null  string\n",
      "dtypes: Int64(2), string(7)\n",
      "memory usage: 22.0 MB\n"
     ]
    }
   ],
   "source": [
    "# Discard entries containing NaN date\n",
    "df_reddit_clean = df_all_reddit.dropna(subset=[\"time_posted\"])\n",
    "df_reddit_clean.info()"
   ],
   "metadata": {
    "collapsed": false,
    "ExecuteTime": {
     "end_time": "2024-05-01T07:06:02.050482800Z",
     "start_time": "2024-05-01T07:06:01.880439500Z"
    }
   },
   "id": "beab834ba9d64beb"
  },
  {
   "cell_type": "code",
   "execution_count": 9,
   "outputs": [
    {
     "data": {
      "text/plain": "subreddit             281963\nkeyword               281963\ntitle                 281963\ntext                  223460\ntime_posted           281963\nnumber_of_comments    281963\nscore                 281963\nauthor                281963\ndtype: int64"
     },
     "execution_count": 9,
     "metadata": {},
     "output_type": "execute_result"
    }
   ],
   "source": [
    "# Discard unused columns\n",
    "df_reddit_clean = df_reddit_clean.drop(columns=[\"url\"])\n",
    "df_reddit_clean.count()"
   ],
   "metadata": {
    "collapsed": false,
    "ExecuteTime": {
     "end_time": "2024-05-01T07:06:42.247982100Z",
     "start_time": "2024-05-01T07:06:42.108713600Z"
    }
   },
   "id": "9682f501c863230e"
  },
  {
   "cell_type": "code",
   "execution_count": 10,
   "outputs": [
    {
     "data": {
      "text/plain": "        subreddit  keyword                                              title  \\\n0  CryptoCurrency  Bitcoin  Bitcoin Set to Become More Dominant Even as BT...   \n1  CryptoCurrency  Bitcoin  Hong Kong Welcomes Spot Bitcoin and Ethereum E...   \n2  CryptoCurrency  Bitcoin  Except solely HODLING BTC, diversification is ...   \n3  CryptoCurrency  Bitcoin  Bitcoin, Ethereum spot ETFs start trading in H...   \n4  CryptoCurrency  Bitcoin  MicroStrategy Adds 122 BTC for $7.8M, Now Hold...   \n\n                                                text          time_posted  \\\n0                                               <NA>  2024-04-30 12:30:17   \n1                                               <NA>  2024-04-30 11:51:32   \n2  TLDR: Buying bitcoin is the always the best op...  2024-04-30 11:42:26   \n3                                               <NA>  2024-04-30 09:42:01   \n4                                               <NA>  2024-04-30 08:08:48   \n\n   number_of_comments  score              author                date  \n0                   2      4           kirtash93 2024-04-30 12:30:17  \n1                   4     10                asso 2024-04-30 11:51:32  \n2                   4      4  DecentralizeCosmos 2024-04-30 11:42:26  \n3                  11     14          0xJonnyDee 2024-04-30 09:42:01  \n4                  37     81      OcelotWarm8822 2024-04-30 08:08:48  ",
      "text/html": "<div>\n<style scoped>\n    .dataframe tbody tr th:only-of-type {\n        vertical-align: middle;\n    }\n\n    .dataframe tbody tr th {\n        vertical-align: top;\n    }\n\n    .dataframe thead th {\n        text-align: right;\n    }\n</style>\n<table border=\"1\" class=\"dataframe\">\n  <thead>\n    <tr style=\"text-align: right;\">\n      <th></th>\n      <th>subreddit</th>\n      <th>keyword</th>\n      <th>title</th>\n      <th>text</th>\n      <th>time_posted</th>\n      <th>number_of_comments</th>\n      <th>score</th>\n      <th>author</th>\n      <th>date</th>\n    </tr>\n  </thead>\n  <tbody>\n    <tr>\n      <th>0</th>\n      <td>CryptoCurrency</td>\n      <td>Bitcoin</td>\n      <td>Bitcoin Set to Become More Dominant Even as BT...</td>\n      <td>&lt;NA&gt;</td>\n      <td>2024-04-30 12:30:17</td>\n      <td>2</td>\n      <td>4</td>\n      <td>kirtash93</td>\n      <td>2024-04-30 12:30:17</td>\n    </tr>\n    <tr>\n      <th>1</th>\n      <td>CryptoCurrency</td>\n      <td>Bitcoin</td>\n      <td>Hong Kong Welcomes Spot Bitcoin and Ethereum E...</td>\n      <td>&lt;NA&gt;</td>\n      <td>2024-04-30 11:51:32</td>\n      <td>4</td>\n      <td>10</td>\n      <td>asso</td>\n      <td>2024-04-30 11:51:32</td>\n    </tr>\n    <tr>\n      <th>2</th>\n      <td>CryptoCurrency</td>\n      <td>Bitcoin</td>\n      <td>Except solely HODLING BTC, diversification is ...</td>\n      <td>TLDR: Buying bitcoin is the always the best op...</td>\n      <td>2024-04-30 11:42:26</td>\n      <td>4</td>\n      <td>4</td>\n      <td>DecentralizeCosmos</td>\n      <td>2024-04-30 11:42:26</td>\n    </tr>\n    <tr>\n      <th>3</th>\n      <td>CryptoCurrency</td>\n      <td>Bitcoin</td>\n      <td>Bitcoin, Ethereum spot ETFs start trading in H...</td>\n      <td>&lt;NA&gt;</td>\n      <td>2024-04-30 09:42:01</td>\n      <td>11</td>\n      <td>14</td>\n      <td>0xJonnyDee</td>\n      <td>2024-04-30 09:42:01</td>\n    </tr>\n    <tr>\n      <th>4</th>\n      <td>CryptoCurrency</td>\n      <td>Bitcoin</td>\n      <td>MicroStrategy Adds 122 BTC for $7.8M, Now Hold...</td>\n      <td>&lt;NA&gt;</td>\n      <td>2024-04-30 08:08:48</td>\n      <td>37</td>\n      <td>81</td>\n      <td>OcelotWarm8822</td>\n      <td>2024-04-30 08:08:48</td>\n    </tr>\n  </tbody>\n</table>\n</div>"
     },
     "execution_count": 10,
     "metadata": {},
     "output_type": "execute_result"
    }
   ],
   "source": [
    "# Convert data types\n",
    "df_reddit_clean[\"date\"] = pd.to_datetime(df_reddit_clean[\"time_posted\"], errors=\"coerce\")\n",
    "df_reddit_clean.head()"
   ],
   "metadata": {
    "collapsed": false,
    "ExecuteTime": {
     "end_time": "2024-05-01T07:09:28.339302800Z",
     "start_time": "2024-05-01T07:09:28.030660700Z"
    }
   },
   "id": "73a9b33348897ddc"
  },
  {
   "cell_type": "markdown",
   "source": [
    "## Write clean data into a parquet file"
   ],
   "metadata": {
    "collapsed": false
   },
   "id": "b55878cc8783bc9e"
  },
  {
   "cell_type": "code",
   "execution_count": 11,
   "outputs": [],
   "source": [
    "df_reddit_clean.to_parquet(\"data/reddit_clean.parquet\")"
   ],
   "metadata": {
    "collapsed": false,
    "ExecuteTime": {
     "end_time": "2024-05-01T07:10:59.180691900Z",
     "start_time": "2024-05-01T07:10:56.615579500Z"
    }
   },
   "id": "ccebe94c988f9376"
  }
 ],
 "metadata": {
  "kernelspec": {
   "display_name": "Python 3",
   "language": "python",
   "name": "python3"
  },
  "language_info": {
   "codemirror_mode": {
    "name": "ipython",
    "version": 2
   },
   "file_extension": ".py",
   "mimetype": "text/x-python",
   "name": "python",
   "nbconvert_exporter": "python",
   "pygments_lexer": "ipython2",
   "version": "2.7.6"
  }
 },
 "nbformat": 4,
 "nbformat_minor": 5
}
