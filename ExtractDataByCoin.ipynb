{
 "cells": [
  {
   "cell_type": "markdown",
   "source": [
    "## Functions to extract data by coin\n",
    "\n",
    "These are the functions that you should use in order to extract relevant entries by coin. You should firstly import the cleaned data from either twitter or reddit and then select the keywords by which you want to extract the entries. You will then be able to use the needed entries for sentiment analysis models."
   ],
   "metadata": {
    "collapsed": false
   },
   "id": "665e56791e035f30"
  },
  {
   "cell_type": "code",
   "execution_count": 2,
   "outputs": [],
   "source": [
    "import pandas as pd"
   ],
   "metadata": {
    "collapsed": false,
    "ExecuteTime": {
     "end_time": "2024-04-30T09:32:06.963408Z",
     "start_time": "2024-04-30T09:32:05.998266400Z"
    }
   },
   "id": "9b2efe2c8c1e1d7f"
  },
  {
   "cell_type": "code",
   "execution_count": 3,
   "outputs": [],
   "source": [
    "def open_data(data_path):\n",
    "    return pd.read_parquet(data_path)"
   ],
   "metadata": {
    "collapsed": false,
    "ExecuteTime": {
     "end_time": "2024-04-30T09:32:07.671771500Z",
     "start_time": "2024-04-30T09:32:07.664771500Z"
    }
   },
   "id": "fe0567a21424db5"
  },
  {
   "cell_type": "code",
   "execution_count": 4,
   "outputs": [],
   "source": [
    "def select_tweets_keywords(df, keywords):\n",
    "    filtered_df = df[df['text'].str.contains('|'.join(keywords), case=False) |\n",
    "                     df['hashtags'].str.contains('|'.join(keywords), case=False)]\n",
    "    return filtered_df"
   ],
   "metadata": {
    "collapsed": false,
    "ExecuteTime": {
     "end_time": "2024-04-30T09:32:09.074146400Z",
     "start_time": "2024-04-30T09:32:09.068144100Z"
    }
   },
   "id": "fe1b4f602dd98484"
  },
  {
   "cell_type": "markdown",
   "source": [
    "## Example"
   ],
   "metadata": {
    "collapsed": false
   },
   "id": "f39a4b67f565c48f"
  },
  {
   "cell_type": "code",
   "execution_count": 6,
   "outputs": [
    {
     "name": "stdout",
     "output_type": "stream",
     "text": [
      "<class 'pandas.core.frame.DataFrame'>\n",
      "Index: 4816376 entries, 0 to 169819\n",
      "Data columns (total 9 columns):\n",
      " #   Column           Dtype         \n",
      "---  ------           -----         \n",
      " 0   user_created     datetime64[ns]\n",
      " 1   user_followers   float64       \n",
      " 2   user_friends     float64       \n",
      " 3   user_favourites  float64       \n",
      " 4   user_verified    bool          \n",
      " 5   date             datetime64[ns]\n",
      " 6   text             string        \n",
      " 7   hashtags         string        \n",
      " 8   is_retweet       boolean       \n",
      "dtypes: bool(1), boolean(1), datetime64[ns](2), float64(3), string(2)\n",
      "memory usage: 307.7 MB\n"
     ]
    }
   ],
   "source": [
    "df_tweets = open_data(\"data/tweets_clean.parquet\")\n",
    "df_tweets_btc = select_tweets_keywords(df_tweets, [\"BTC\", \"Bitcoin\"])\n",
    "df_tweets_btc.info()"
   ],
   "metadata": {
    "collapsed": false,
    "ExecuteTime": {
     "end_time": "2024-04-30T09:33:19.936809800Z",
     "start_time": "2024-04-30T09:32:56.422070300Z"
    }
   },
   "id": "80de2cc98b4617cd"
  }
 ],
 "metadata": {
  "kernelspec": {
   "display_name": "Python 3",
   "language": "python",
   "name": "python3"
  },
  "language_info": {
   "codemirror_mode": {
    "name": "ipython",
    "version": 2
   },
   "file_extension": ".py",
   "mimetype": "text/x-python",
   "name": "python",
   "nbconvert_exporter": "python",
   "pygments_lexer": "ipython2",
   "version": "2.7.6"
  }
 },
 "nbformat": 4,
 "nbformat_minor": 5
}
