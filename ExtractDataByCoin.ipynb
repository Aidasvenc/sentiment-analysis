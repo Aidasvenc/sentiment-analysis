{
 "cells": [
  {
   "cell_type": "markdown",
   "source": [
    "## Functions to extract data by coin\n",
    "\n",
    "These are the functions that you should use in order to extract relevant entries by coin. You should firstly import the cleaned data from either twitter or reddit and then select the keywords by which you want to extract the entries. You will then be able to use the needed entries for sentiment analysis models."
   ],
   "metadata": {
    "collapsed": false
   },
   "id": "665e56791e035f30"
  },
  {
   "cell_type": "code",
   "execution_count": 2,
   "outputs": [],
   "source": [
    "import pandas as pd"
   ],
   "metadata": {
    "collapsed": false,
    "ExecuteTime": {
     "end_time": "2024-05-01T07:14:37.496584900Z",
     "start_time": "2024-05-01T07:14:36.840199300Z"
    }
   },
   "id": "9b2efe2c8c1e1d7f"
  },
  {
   "cell_type": "code",
   "execution_count": 3,
   "outputs": [],
   "source": [
    "def open_data(data_path):\n",
    "    return pd.read_parquet(data_path)"
   ],
   "metadata": {
    "collapsed": false,
    "ExecuteTime": {
     "end_time": "2024-05-01T07:14:38.414533Z",
     "start_time": "2024-05-01T07:14:38.404402100Z"
    }
   },
   "id": "fe0567a21424db5"
  },
  {
   "cell_type": "code",
   "execution_count": 4,
   "outputs": [],
   "source": [
    "def select_tweets_keywords(df, keywords):\n",
    "    filtered_df = df[df['text'].str.contains('|'.join(keywords), case=False) |\n",
    "                     df['hashtags'].str.contains('|'.join(keywords), case=False)]\n",
    "    return filtered_df"
   ],
   "metadata": {
    "collapsed": false,
    "ExecuteTime": {
     "end_time": "2024-05-01T07:14:39.774083800Z",
     "start_time": "2024-05-01T07:14:39.753377100Z"
    }
   },
   "id": "fe1b4f602dd98484"
  },
  {
   "cell_type": "code",
   "execution_count": 5,
   "outputs": [],
   "source": [
    "def select_reddit_keywords(df, keywords):\n",
    "    filtered_df = df[df['keyword'].str.contains('|'.join(keywords), case=False) |\n",
    "                     df['title'].str.contains('|'.join(keywords), case=False) |\n",
    "                     df['text'].str.contains('|'.join(keywords), case=False)]\n",
    "    return filtered_df"
   ],
   "metadata": {
    "collapsed": false,
    "ExecuteTime": {
     "end_time": "2024-05-01T07:14:40.992134500Z",
     "start_time": "2024-05-01T07:14:40.977483400Z"
    }
   },
   "id": "8badab26ee3169c6"
  },
  {
   "cell_type": "markdown",
   "source": [
    "## Twitter Example"
   ],
   "metadata": {
    "collapsed": false
   },
   "id": "f39a4b67f565c48f"
  },
  {
   "cell_type": "code",
   "execution_count": 6,
   "outputs": [
    {
     "data": {
      "text/plain": "         user_created  user_followers  user_friends  user_favourites  \\\n0 2009-04-26 20:05:09          8534.0        7605.0           4838.0   \n1 2019-10-17 20:12:10          6769.0        1532.0          25483.0   \n2 2014-11-10 10:50:37           128.0         332.0            924.0   \n3 2019-09-28 16:48:12           625.0         129.0             14.0   \n4 2016-02-03 13:15:55          1249.0        1472.0          10482.0   \n\n   user_verified                date  \\\n0           True 2021-02-10 23:59:04   \n1           True 2021-02-10 23:58:48   \n2           True 2021-02-10 23:54:48   \n3           True 2021-02-10 23:54:33   \n4           True 2021-02-10 23:54:06   \n\n                                                text  \\\n0  Blue Ridge Bank shares halted by NYSE after #b...   \n1  😎 Today, that's this #Thursday, we will do a \"...   \n2  Guys evening, I have read this article about B...   \n3  $BTC A big chance in a billion! Price: \\487264...   \n4  This network is secured by 9 508 nodes as of t...   \n\n                                    hashtags  is_retweet  \n0                                ['bitcoin']       False  \n1  ['Thursday', 'Btc', 'wallet', 'security']       False  \n2                                       <NA>       False  \n3         ['Bitcoin', 'FX', 'BTC', 'crypto']       False  \n4                                    ['BTC']       False  ",
      "text/html": "<div>\n<style scoped>\n    .dataframe tbody tr th:only-of-type {\n        vertical-align: middle;\n    }\n\n    .dataframe tbody tr th {\n        vertical-align: top;\n    }\n\n    .dataframe thead th {\n        text-align: right;\n    }\n</style>\n<table border=\"1\" class=\"dataframe\">\n  <thead>\n    <tr style=\"text-align: right;\">\n      <th></th>\n      <th>user_created</th>\n      <th>user_followers</th>\n      <th>user_friends</th>\n      <th>user_favourites</th>\n      <th>user_verified</th>\n      <th>date</th>\n      <th>text</th>\n      <th>hashtags</th>\n      <th>is_retweet</th>\n    </tr>\n  </thead>\n  <tbody>\n    <tr>\n      <th>0</th>\n      <td>2009-04-26 20:05:09</td>\n      <td>8534.0</td>\n      <td>7605.0</td>\n      <td>4838.0</td>\n      <td>True</td>\n      <td>2021-02-10 23:59:04</td>\n      <td>Blue Ridge Bank shares halted by NYSE after #b...</td>\n      <td>['bitcoin']</td>\n      <td>False</td>\n    </tr>\n    <tr>\n      <th>1</th>\n      <td>2019-10-17 20:12:10</td>\n      <td>6769.0</td>\n      <td>1532.0</td>\n      <td>25483.0</td>\n      <td>True</td>\n      <td>2021-02-10 23:58:48</td>\n      <td>😎 Today, that's this #Thursday, we will do a \"...</td>\n      <td>['Thursday', 'Btc', 'wallet', 'security']</td>\n      <td>False</td>\n    </tr>\n    <tr>\n      <th>2</th>\n      <td>2014-11-10 10:50:37</td>\n      <td>128.0</td>\n      <td>332.0</td>\n      <td>924.0</td>\n      <td>True</td>\n      <td>2021-02-10 23:54:48</td>\n      <td>Guys evening, I have read this article about B...</td>\n      <td>&lt;NA&gt;</td>\n      <td>False</td>\n    </tr>\n    <tr>\n      <th>3</th>\n      <td>2019-09-28 16:48:12</td>\n      <td>625.0</td>\n      <td>129.0</td>\n      <td>14.0</td>\n      <td>True</td>\n      <td>2021-02-10 23:54:33</td>\n      <td>$BTC A big chance in a billion! Price: \\487264...</td>\n      <td>['Bitcoin', 'FX', 'BTC', 'crypto']</td>\n      <td>False</td>\n    </tr>\n    <tr>\n      <th>4</th>\n      <td>2016-02-03 13:15:55</td>\n      <td>1249.0</td>\n      <td>1472.0</td>\n      <td>10482.0</td>\n      <td>True</td>\n      <td>2021-02-10 23:54:06</td>\n      <td>This network is secured by 9 508 nodes as of t...</td>\n      <td>['BTC']</td>\n      <td>False</td>\n    </tr>\n  </tbody>\n</table>\n</div>"
     },
     "execution_count": 6,
     "metadata": {},
     "output_type": "execute_result"
    }
   ],
   "source": [
    "df_tweets = open_data(\"data/tweets_clean.parquet\")\n",
    "df_tweets_btc = select_tweets_keywords(df_tweets, [\"BTC\", \"Bitcoin\"])\n",
    "df_tweets_btc.head()"
   ],
   "metadata": {
    "collapsed": false,
    "ExecuteTime": {
     "end_time": "2024-05-01T07:15:02.833657600Z",
     "start_time": "2024-05-01T07:14:42.965182200Z"
    }
   },
   "id": "80de2cc98b4617cd"
  },
  {
   "cell_type": "markdown",
   "source": [
    "## Reddit Example"
   ],
   "metadata": {
    "collapsed": false
   },
   "id": "2acb56cbfbefbac9"
  },
  {
   "cell_type": "code",
   "execution_count": 7,
   "outputs": [
    {
     "data": {
      "text/plain": "        subreddit  keyword                                              title  \\\n0  CryptoCurrency  Bitcoin  Bitcoin Set to Become More Dominant Even as BT...   \n1  CryptoCurrency  Bitcoin  Hong Kong Welcomes Spot Bitcoin and Ethereum E...   \n2  CryptoCurrency  Bitcoin  Except solely HODLING BTC, diversification is ...   \n3  CryptoCurrency  Bitcoin  Bitcoin, Ethereum spot ETFs start trading in H...   \n4  CryptoCurrency  Bitcoin  MicroStrategy Adds 122 BTC for $7.8M, Now Hold...   \n\n                                                text          time_posted  \\\n0                                               <NA>  2024-04-30 12:30:17   \n1                                               <NA>  2024-04-30 11:51:32   \n2  TLDR: Buying bitcoin is the always the best op...  2024-04-30 11:42:26   \n3                                               <NA>  2024-04-30 09:42:01   \n4                                               <NA>  2024-04-30 08:08:48   \n\n   number_of_comments  score              author                date  \n0                   2      4           kirtash93 2024-04-30 12:30:17  \n1                   4     10                asso 2024-04-30 11:51:32  \n2                   4      4  DecentralizeCosmos 2024-04-30 11:42:26  \n3                  11     14          0xJonnyDee 2024-04-30 09:42:01  \n4                  37     81      OcelotWarm8822 2024-04-30 08:08:48  ",
      "text/html": "<div>\n<style scoped>\n    .dataframe tbody tr th:only-of-type {\n        vertical-align: middle;\n    }\n\n    .dataframe tbody tr th {\n        vertical-align: top;\n    }\n\n    .dataframe thead th {\n        text-align: right;\n    }\n</style>\n<table border=\"1\" class=\"dataframe\">\n  <thead>\n    <tr style=\"text-align: right;\">\n      <th></th>\n      <th>subreddit</th>\n      <th>keyword</th>\n      <th>title</th>\n      <th>text</th>\n      <th>time_posted</th>\n      <th>number_of_comments</th>\n      <th>score</th>\n      <th>author</th>\n      <th>date</th>\n    </tr>\n  </thead>\n  <tbody>\n    <tr>\n      <th>0</th>\n      <td>CryptoCurrency</td>\n      <td>Bitcoin</td>\n      <td>Bitcoin Set to Become More Dominant Even as BT...</td>\n      <td>&lt;NA&gt;</td>\n      <td>2024-04-30 12:30:17</td>\n      <td>2</td>\n      <td>4</td>\n      <td>kirtash93</td>\n      <td>2024-04-30 12:30:17</td>\n    </tr>\n    <tr>\n      <th>1</th>\n      <td>CryptoCurrency</td>\n      <td>Bitcoin</td>\n      <td>Hong Kong Welcomes Spot Bitcoin and Ethereum E...</td>\n      <td>&lt;NA&gt;</td>\n      <td>2024-04-30 11:51:32</td>\n      <td>4</td>\n      <td>10</td>\n      <td>asso</td>\n      <td>2024-04-30 11:51:32</td>\n    </tr>\n    <tr>\n      <th>2</th>\n      <td>CryptoCurrency</td>\n      <td>Bitcoin</td>\n      <td>Except solely HODLING BTC, diversification is ...</td>\n      <td>TLDR: Buying bitcoin is the always the best op...</td>\n      <td>2024-04-30 11:42:26</td>\n      <td>4</td>\n      <td>4</td>\n      <td>DecentralizeCosmos</td>\n      <td>2024-04-30 11:42:26</td>\n    </tr>\n    <tr>\n      <th>3</th>\n      <td>CryptoCurrency</td>\n      <td>Bitcoin</td>\n      <td>Bitcoin, Ethereum spot ETFs start trading in H...</td>\n      <td>&lt;NA&gt;</td>\n      <td>2024-04-30 09:42:01</td>\n      <td>11</td>\n      <td>14</td>\n      <td>0xJonnyDee</td>\n      <td>2024-04-30 09:42:01</td>\n    </tr>\n    <tr>\n      <th>4</th>\n      <td>CryptoCurrency</td>\n      <td>Bitcoin</td>\n      <td>MicroStrategy Adds 122 BTC for $7.8M, Now Hold...</td>\n      <td>&lt;NA&gt;</td>\n      <td>2024-04-30 08:08:48</td>\n      <td>37</td>\n      <td>81</td>\n      <td>OcelotWarm8822</td>\n      <td>2024-04-30 08:08:48</td>\n    </tr>\n  </tbody>\n</table>\n</div>"
     },
     "execution_count": 7,
     "metadata": {},
     "output_type": "execute_result"
    }
   ],
   "source": [
    "df_reddit = open_data(\"data/reddit_clean.parquet\")\n",
    "df_reddit_btc = select_reddit_keywords(df_reddit, [\"BTC\", \"Bitcoin\"])\n",
    "df_reddit_btc.head()"
   ],
   "metadata": {
    "collapsed": false,
    "ExecuteTime": {
     "end_time": "2024-05-01T07:15:42.987311800Z",
     "start_time": "2024-05-01T07:15:32.662576400Z"
    }
   },
   "id": "ce0dc4187bf8ca0b"
  }
 ],
 "metadata": {
  "kernelspec": {
   "display_name": "Python 3",
   "language": "python",
   "name": "python3"
  },
  "language_info": {
   "codemirror_mode": {
    "name": "ipython",
    "version": 2
   },
   "file_extension": ".py",
   "mimetype": "text/x-python",
   "name": "python",
   "nbconvert_exporter": "python",
   "pygments_lexer": "ipython2",
   "version": "2.7.6"
  }
 },
 "nbformat": 4,
 "nbformat_minor": 5
}
