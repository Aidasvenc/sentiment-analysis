{
  "cells": [
    {
      "cell_type": "markdown",
      "id": "3c684607075e87ba",
      "metadata": {
        "collapsed": false,
        "id": "3c684607075e87ba"
      },
      "source": [
        "## General LSTM Model\n",
        "\n",
        "This model use multiple features: price, trading volume, and TVL to predict coin prices"
      ]
    },
    {
      "cell_type": "code",
      "execution_count": 4,
      "id": "tboXfGdzDdhf",
      "metadata": {
        "colab": {
          "base_uri": "https://localhost:8080/"
        },
        "id": "tboXfGdzDdhf",
        "outputId": "019ef8fe-1eae-4d87-a3f7-307a42dd35c9"
      },
      "outputs": [
        {
          "output_type": "stream",
          "name": "stdout",
          "text": [
            "Collecting shap\n",
            "  Downloading shap-0.45.1-cp310-cp310-manylinux_2_12_x86_64.manylinux2010_x86_64.manylinux_2_17_x86_64.manylinux2014_x86_64.whl (540 kB)\n",
            "\u001b[2K     \u001b[90m━━━━━━━━━━━━━━━━━━━━━━━━━━━━━━━━━━━━━━━━\u001b[0m \u001b[32m540.5/540.5 kB\u001b[0m \u001b[31m7.3 MB/s\u001b[0m eta \u001b[36m0:00:00\u001b[0m\n",
            "\u001b[?25hRequirement already satisfied: numpy in /usr/local/lib/python3.10/dist-packages (from shap) (1.25.2)\n",
            "Requirement already satisfied: scipy in /usr/local/lib/python3.10/dist-packages (from shap) (1.11.4)\n",
            "Requirement already satisfied: scikit-learn in /usr/local/lib/python3.10/dist-packages (from shap) (1.2.2)\n",
            "Requirement already satisfied: pandas in /usr/local/lib/python3.10/dist-packages (from shap) (2.0.3)\n",
            "Requirement already satisfied: tqdm>=4.27.0 in /usr/local/lib/python3.10/dist-packages (from shap) (4.66.4)\n",
            "Requirement already satisfied: packaging>20.9 in /usr/local/lib/python3.10/dist-packages (from shap) (24.0)\n",
            "Collecting slicer==0.0.8 (from shap)\n",
            "  Downloading slicer-0.0.8-py3-none-any.whl (15 kB)\n",
            "Requirement already satisfied: numba in /usr/local/lib/python3.10/dist-packages (from shap) (0.58.1)\n",
            "Requirement already satisfied: cloudpickle in /usr/local/lib/python3.10/dist-packages (from shap) (2.2.1)\n",
            "Requirement already satisfied: llvmlite<0.42,>=0.41.0dev0 in /usr/local/lib/python3.10/dist-packages (from numba->shap) (0.41.1)\n",
            "Requirement already satisfied: python-dateutil>=2.8.2 in /usr/local/lib/python3.10/dist-packages (from pandas->shap) (2.8.2)\n",
            "Requirement already satisfied: pytz>=2020.1 in /usr/local/lib/python3.10/dist-packages (from pandas->shap) (2023.4)\n",
            "Requirement already satisfied: tzdata>=2022.1 in /usr/local/lib/python3.10/dist-packages (from pandas->shap) (2024.1)\n",
            "Requirement already satisfied: joblib>=1.1.1 in /usr/local/lib/python3.10/dist-packages (from scikit-learn->shap) (1.4.2)\n",
            "Requirement already satisfied: threadpoolctl>=2.0.0 in /usr/local/lib/python3.10/dist-packages (from scikit-learn->shap) (3.5.0)\n",
            "Requirement already satisfied: six>=1.5 in /usr/local/lib/python3.10/dist-packages (from python-dateutil>=2.8.2->pandas->shap) (1.16.0)\n",
            "Installing collected packages: slicer, shap\n",
            "Successfully installed shap-0.45.1 slicer-0.0.8\n"
          ]
        }
      ],
      "source": [
        "!pip install shap"
      ]
    },
    {
      "cell_type": "code",
      "execution_count": 5,
      "id": "initial_id",
      "metadata": {
        "colab": {
          "base_uri": "https://localhost:8080/"
        },
        "collapsed": true,
        "id": "initial_id",
        "outputId": "3c11c11e-7e6d-49b8-eca3-c92cc4482356"
      },
      "outputs": [
        {
          "output_type": "stream",
          "name": "stderr",
          "text": [
            "WARNING:tensorflow:From /usr/local/lib/python3.10/dist-packages/tensorflow/python/compat/v2_compat.py:108: disable_resource_variables (from tensorflow.python.ops.variable_scope) is deprecated and will be removed in a future version.\n",
            "Instructions for updating:\n",
            "non-resource variables are not supported in the long term\n"
          ]
        }
      ],
      "source": [
        "# Import needed libraries\n",
        "import numpy as np\n",
        "import pandas as pd\n",
        "import matplotlib.pyplot as plt\n",
        "import matplotlib.dates as dates\n",
        "from sklearn.preprocessing import MinMaxScaler\n",
        "from tensorflow import keras\n",
        "import tensorflow as tf\n",
        "tf.compat.v1.disable_v2_behavior()\n",
        "import shap"
      ]
    },
    {
      "cell_type": "markdown",
      "id": "1a3169948d4b8a4",
      "metadata": {
        "collapsed": false,
        "id": "1a3169948d4b8a4"
      },
      "source": [
        "### Import the data"
      ]
    },
    {
      "cell_type": "code",
      "execution_count": 6,
      "id": "2cc5427bfa37b40a",
      "metadata": {
        "id": "2cc5427bfa37b40a"
      },
      "outputs": [],
      "source": [
        "# Read the data based on coin\n",
        "def read_data(coin):\n",
        "    # Read csv\n",
        "    df = pd.read_csv(\"data/\" + coin + \".csv\")\n",
        "\n",
        "    # Covert to datetime\n",
        "    df[\"Date\"] = pd.to_datetime(df[\"Date\"])\n",
        "    return df"
      ]
    },
    {
      "cell_type": "markdown",
      "id": "991b9dda896ea936",
      "metadata": {
        "collapsed": false,
        "id": "991b9dda896ea936"
      },
      "source": [
        "### Prepare data"
      ]
    },
    {
      "cell_type": "code",
      "execution_count": 7,
      "id": "a30a8e1ee2ce0a20",
      "metadata": {
        "id": "a30a8e1ee2ce0a20"
      },
      "outputs": [],
      "source": [
        "def train_test_val(df, date_train, date_validation, features):\n",
        "    # Split data into training, validation and test sets\n",
        "    training_data = df[(df['Date'] <= date_train)][features]\n",
        "    validation_data = df[(df['Date'] > date_train) & (df['Date'] <= date_validation)][features]\n",
        "    test_data = df[(df['Date'] > date_validation)][features]\n",
        "\n",
        "    print(training_data.head())\n",
        "\n",
        "    # Reshape the data\n",
        "    training_set = training_data.to_numpy()\n",
        "    validation_set = validation_data.to_numpy()\n",
        "    test_set = test_data.to_numpy()\n",
        "    return training_set, validation_set, test_set"
      ]
    },
    {
      "cell_type": "markdown",
      "id": "caf27f3ca607fcf4",
      "metadata": {
        "collapsed": false,
        "id": "caf27f3ca607fcf4"
      },
      "source": [
        "### Scale the features"
      ]
    },
    {
      "cell_type": "code",
      "execution_count": 8,
      "id": "ba2f3fbdf831cd51",
      "metadata": {
        "id": "ba2f3fbdf831cd51"
      },
      "outputs": [],
      "source": [
        "def scale_features(scaler, training_set, validation_set, test_set):\n",
        "    training_set_scaled = scaler.fit_transform(training_set)\n",
        "    validation_set_scaled = scaler.transform(validation_set)\n",
        "    test_set_scaled = scaler.transform(test_set)\n",
        "    return training_set_scaled, validation_set_scaled, test_set_scaled"
      ]
    },
    {
      "cell_type": "markdown",
      "id": "b2e95150a80715c3",
      "metadata": {
        "collapsed": false,
        "id": "b2e95150a80715c3"
      },
      "source": [
        "### Create Input sequences"
      ]
    },
    {
      "cell_type": "code",
      "execution_count": 9,
      "id": "ccfda876c7530b06",
      "metadata": {
        "id": "ccfda876c7530b06"
      },
      "outputs": [],
      "source": [
        "def create_sequences(data, seq_length=60):\n",
        "    X = []\n",
        "    y = []\n",
        "    for i in range(seq_length, len(data)):\n",
        "        X.append(data[i-seq_length:i,:])\n",
        "        y.append(data[i,0])\n",
        "    return np.array(X), np.array(y)"
      ]
    },
    {
      "cell_type": "markdown",
      "id": "a6dd61282e01584",
      "metadata": {
        "collapsed": false,
        "id": "a6dd61282e01584"
      },
      "source": [
        "### Define the model"
      ]
    },
    {
      "cell_type": "code",
      "execution_count": 36,
      "id": "eb93c39d3b6182c1",
      "metadata": {
        "id": "eb93c39d3b6182c1"
      },
      "outputs": [],
      "source": [
        "def define_model(optimizer, loss, seq_length=60, num_parameters=1):\n",
        "    # Define the structure\n",
        "    model = keras.Sequential()\n",
        "    model.add(keras.layers.LSTM(units=50, return_sequences=True, input_shape=(seq_length, num_parameters)))\n",
        "    model.add(keras.layers.Dropout(0.2))\n",
        "    model.add(keras.layers.LSTM(units=50, return_sequences=True))\n",
        "    model.add(keras.layers.Dropout(0.2))\n",
        "    model.add(keras.layers.LSTM(units=50, return_sequences=True))\n",
        "    model.add(keras.layers.Dropout(0.2))\n",
        "    model.add(keras.layers.LSTM(units=50))\n",
        "    model.add(keras.layers.Dropout(0.2))\n",
        "    model.add(keras.layers.Dense(units=1))\n",
        "\n",
        "    # Specify the parameters for the LSTM Model\n",
        "    model.compile(optimizer=optimizer, loss=loss, metrics=[keras.metrics.MeanSquaredError(), keras.metrics.RootMeanSquaredError()])\n",
        "    return model"
      ]
    },
    {
      "cell_type": "markdown",
      "id": "9179eff5fa42cd84",
      "metadata": {
        "collapsed": false,
        "id": "9179eff5fa42cd84"
      },
      "source": [
        "### Train the model"
      ]
    },
    {
      "cell_type": "code",
      "execution_count": 11,
      "id": "9dddfdec778457b1",
      "metadata": {
        "id": "9dddfdec778457b1"
      },
      "outputs": [],
      "source": [
        "def train_model(model, X_train, y_train, X_validation, y_validation, epochs=100):\n",
        "    history = model.fit(X_train, y_train, epochs=epochs, batch_size=32, validation_data=(X_validation, y_validation))\n",
        "    return history"
      ]
    },
    {
      "cell_type": "markdown",
      "id": "c911a7e353af2bf7",
      "metadata": {
        "collapsed": false,
        "id": "c911a7e353af2bf7"
      },
      "source": [
        "### Visualise the loss during training"
      ]
    },
    {
      "cell_type": "code",
      "execution_count": 12,
      "id": "c7cc3a0d0b14c5cd",
      "metadata": {
        "id": "c7cc3a0d0b14c5cd"
      },
      "outputs": [],
      "source": [
        "def visualize_loss(history):\n",
        "    # Plot loss during training\n",
        "    plt.figure(figsize=(10, 5))\n",
        "    plt.plot(history.history['loss'], label='Training Loss')\n",
        "    plt.plot(history.history['val_loss'], label='Validation Loss')\n",
        "    plt.title('Model Loss')\n",
        "    plt.xlabel('Epoch')\n",
        "    plt.ylabel('Loss')\n",
        "    plt.legend()\n",
        "    plt.show()"
      ]
    },
    {
      "cell_type": "markdown",
      "id": "acfaeceea4bd0adb",
      "metadata": {
        "collapsed": false,
        "id": "acfaeceea4bd0adb"
      },
      "source": [
        "### Test the model"
      ]
    },
    {
      "cell_type": "code",
      "execution_count": 13,
      "id": "cd3363f8b472b8cd",
      "metadata": {
        "id": "cd3363f8b472b8cd"
      },
      "outputs": [],
      "source": [
        "def test_model(model, data, X_test, y_test):\n",
        "    history = model.evaluate(X_test, y_test)\n",
        "    predicted_price = model.predict(X_test)\n",
        "\n",
        "    # Fit scaler for the stock price\n",
        "    feature_scaler = MinMaxScaler()\n",
        "    feature_scaler.fit(data[:, 0].reshape(-1, 1))\n",
        "\n",
        "    # Inverse transform the stock price\n",
        "    predicted_price = feature_scaler.inverse_transform(predicted_price)\n",
        "    return predicted_price, history"
      ]
    },
    {
      "cell_type": "markdown",
      "id": "462123e50d4bdfbe",
      "metadata": {
        "collapsed": false,
        "id": "462123e50d4bdfbe"
      },
      "source": [
        "### Visualise results"
      ]
    },
    {
      "cell_type": "code",
      "execution_count": 14,
      "id": "bda2c165de7b874a",
      "metadata": {
        "id": "bda2c165de7b874a"
      },
      "outputs": [],
      "source": [
        "# Results for one model\n",
        "def visualize_results(df, predicted_price, date_validation, coin, seq_length=60):\n",
        "    date_range = pd.date_range(start='2024-01-01', periods=len(predicted_price), freq='B')\n",
        "    test_prices = df[(df['Date'] > date_validation)]['Adj Close']\n",
        "    test_dates = df[(df['Date'] > date_validation)][\"Date\"]\n",
        "    plt.figure(figsize=(10, 6))\n",
        "    plt.plot(test_dates, test_prices, color='black', label=(coin + ' Price'))\n",
        "    plt.plot(test_dates[seq_length:], predicted_price, color='green', label='Predicted ' + coin + ' Price')\n",
        "    plt.gca().xaxis.set_major_locator(dates.MonthLocator(interval=1))  # Show tick marks for every 3 months\n",
        "    plt.gca().xaxis.set_major_formatter(dates.DateFormatter('%b %Y'))  # Format x-axis labels as 'Jan 2023', 'Feb 2023', etc.\n",
        "    plt.title(coin + ' Price Prediction')\n",
        "    plt.xlabel('Time')\n",
        "    plt.ylabel(coin + 'Price')\n",
        "    plt.legend()\n",
        "    plt.show()"
      ]
    },
    {
      "cell_type": "code",
      "execution_count": 15,
      "id": "O7oOeuarBsuX",
      "metadata": {
        "id": "O7oOeuarBsuX"
      },
      "outputs": [],
      "source": [
        "# Comparing 2 models\n",
        "def visualize_results2(df, predicted_price1, predicted_price2, date_validation, coin, seq_length=60):\n",
        "    date_range = pd.date_range(start='2024-01-01', periods=len(predicted_price1), freq='B')\n",
        "    test_prices = df[(df['Date'] > date_validation)][\"Adj Close\"]\n",
        "    test_dates = df[(df['Date'] > date_validation)][\"Date\"]\n",
        "    plt.figure(figsize=(10, 6))\n",
        "    plt.plot(test_dates, test_prices, color='black', label=(coin + ' Price'))\n",
        "    plt.plot(test_dates[seq_length:], predicted_price1, linestyle='--', color='orange', label='Predicted ' + coin + ' Price using Initial Features')\n",
        "    plt.plot(test_dates[seq_length:], predicted_price2, color='green', label='Predicted ' + coin + ' Price | All Features')\n",
        "    plt.gca().xaxis.set_major_locator(dates.MonthLocator(interval=1))  # Show tick marks for every 1 month\n",
        "    plt.gca().xaxis.set_major_formatter(dates.DateFormatter('%b %Y'))  # Format x-axis labels as 'Jan 2023', 'Feb 2023', etc.\n",
        "    plt.title(coin + ' Price Prediction')\n",
        "    plt.xlabel('Time')\n",
        "    plt.ylabel(coin + ' Price')\n",
        "    plt.legend()\n",
        "    plt.show()"
      ]
    },
    {
      "cell_type": "markdown",
      "source": [
        "### Test hit rate"
      ],
      "metadata": {
        "id": "8vX2aZbQfV7c"
      },
      "id": "8vX2aZbQfV7c"
    },
    {
      "cell_type": "code",
      "source": [
        "def calculate_hit_rate(test_prices, predicted_prices):\n",
        "    hits = 0\n",
        "    total_predictions = len(test_prices) - 1  # We compare changes, so one less than the number of prices\n",
        "\n",
        "    for i in range(1, len(test_prices)):\n",
        "        actual_movement = test_prices[i] - test_prices[i - 1]\n",
        "        predicted_movement = predicted_prices[i] - predicted_prices[i - 1]\n",
        "\n",
        "        if (actual_movement > 0 and predicted_movement > 0) or (actual_movement < 0 and predicted_movement < 0):\n",
        "            hits += 1\n",
        "\n",
        "    hit_rate = hits / total_predictions\n",
        "    return hit_rate"
      ],
      "metadata": {
        "id": "QCwfeQNdfUDI"
      },
      "id": "QCwfeQNdfUDI",
      "execution_count": null,
      "outputs": []
    },
    {
      "cell_type": "markdown",
      "id": "e474fd5edf79405d",
      "metadata": {
        "collapsed": false,
        "id": "e474fd5edf79405d"
      },
      "source": [
        "## Make a custom run"
      ]
    },
    {
      "cell_type": "code",
      "execution_count": 28,
      "id": "dedfa36a14deea2",
      "metadata": {
        "id": "dedfa36a14deea2"
      },
      "outputs": [],
      "source": [
        "# Define the parameters\n",
        "coin = \"ETH\"\n",
        "date_train = \"2023-06-01\"\n",
        "date_validation = \"2023-11-15\"\n",
        "features = [\"Adj Close\", \"TVL\", \"sentiment_score\", \"normalized_influence_robust\", \"Volume\"]\n",
        "optimizer = \"adam\"\n",
        "loss = \"mean_squared_error\"\n",
        "seq_length = 40\n",
        "epochs_train = 60"
      ]
    },
    {
      "cell_type": "code",
      "execution_count": 29,
      "id": "1ab14d58b13b1332",
      "metadata": {
        "id": "1ab14d58b13b1332"
      },
      "outputs": [],
      "source": [
        "# Read the data\n",
        "df = read_data(coin)"
      ]
    },
    {
      "cell_type": "code",
      "execution_count": 30,
      "id": "56bb80b4ac6c5c77",
      "metadata": {
        "colab": {
          "base_uri": "https://localhost:8080/"
        },
        "id": "56bb80b4ac6c5c77",
        "outputId": "3d5a46f9-78ee-4fc5-f667-372d2cde36ed"
      },
      "outputs": [
        {
          "output_type": "stream",
          "name": "stdout",
          "text": [
            "    Adj Close           TVL  sentiment_score  normalized_influence_robust  \\\n",
            "0  130.802002  6.031933e+08         0.548312                     3.988636   \n",
            "1  127.410179  6.026967e+08         0.497812                     1.284091   \n",
            "2  134.171707  5.971895e+08         0.125570                     2.972727   \n",
            "3  135.069366  6.052853e+08         0.650860                     0.463636   \n",
            "4  136.276779  6.071934e+08         0.357350                    -0.045455   \n",
            "\n",
            "        Volume  \n",
            "0   7935230330  \n",
            "1   8032709256  \n",
            "2  10476845358  \n",
            "3   7430904515  \n",
            "4   7526675353  \n",
            "(1248, 5)\n",
            "(167, 5)\n",
            "(167, 5)\n"
          ]
        }
      ],
      "source": [
        "# Split the data\n",
        "train, validation, test = train_test_val(df, date_train, date_validation, features)\n",
        "print(train.shape)\n",
        "print(validation.shape)\n",
        "print(test.shape)"
      ]
    },
    {
      "cell_type": "code",
      "execution_count": 31,
      "id": "a30fab4ee70396f",
      "metadata": {
        "colab": {
          "base_uri": "https://localhost:8080/",
          "height": 300
        },
        "id": "a30fab4ee70396f",
        "outputId": "31435abf-35c0-4346-a772-687841f4dcff"
      },
      "outputs": [
        {
          "output_type": "execute_result",
          "data": {
            "text/plain": [
              "                 0             1            2            3             4\n",
              "count  1248.000000  1.248000e+03  1248.000000  1248.000000  1.248000e+03\n",
              "mean   1691.942042  3.774322e+10     0.395004     1.829003  1.762349e+10\n",
              "std    1193.852506  3.038944e+10     0.172049     1.624436  1.028291e+10\n",
              "min     110.605873  4.031925e+08    -0.210671    -0.227273  2.399675e+09\n",
              "25%     449.149490  1.012162e+10     0.251717     0.751645  1.065473e+10\n",
              "50%    1615.237426  2.945452e+10     0.419640     1.451022  1.571289e+10\n",
              "75%    2522.957580  6.404018e+10     0.522287     2.538519  2.164114e+10\n",
              "max    4812.087402  1.089997e+11     0.975100    20.021724  8.448291e+10"
            ],
            "text/html": [
              "\n",
              "  <div id=\"df-9d3eaf4e-1c2e-4d98-b33f-0fed2d79ae67\" class=\"colab-df-container\">\n",
              "    <div>\n",
              "<style scoped>\n",
              "    .dataframe tbody tr th:only-of-type {\n",
              "        vertical-align: middle;\n",
              "    }\n",
              "\n",
              "    .dataframe tbody tr th {\n",
              "        vertical-align: top;\n",
              "    }\n",
              "\n",
              "    .dataframe thead th {\n",
              "        text-align: right;\n",
              "    }\n",
              "</style>\n",
              "<table border=\"1\" class=\"dataframe\">\n",
              "  <thead>\n",
              "    <tr style=\"text-align: right;\">\n",
              "      <th></th>\n",
              "      <th>0</th>\n",
              "      <th>1</th>\n",
              "      <th>2</th>\n",
              "      <th>3</th>\n",
              "      <th>4</th>\n",
              "    </tr>\n",
              "  </thead>\n",
              "  <tbody>\n",
              "    <tr>\n",
              "      <th>count</th>\n",
              "      <td>1248.000000</td>\n",
              "      <td>1.248000e+03</td>\n",
              "      <td>1248.000000</td>\n",
              "      <td>1248.000000</td>\n",
              "      <td>1.248000e+03</td>\n",
              "    </tr>\n",
              "    <tr>\n",
              "      <th>mean</th>\n",
              "      <td>1691.942042</td>\n",
              "      <td>3.774322e+10</td>\n",
              "      <td>0.395004</td>\n",
              "      <td>1.829003</td>\n",
              "      <td>1.762349e+10</td>\n",
              "    </tr>\n",
              "    <tr>\n",
              "      <th>std</th>\n",
              "      <td>1193.852506</td>\n",
              "      <td>3.038944e+10</td>\n",
              "      <td>0.172049</td>\n",
              "      <td>1.624436</td>\n",
              "      <td>1.028291e+10</td>\n",
              "    </tr>\n",
              "    <tr>\n",
              "      <th>min</th>\n",
              "      <td>110.605873</td>\n",
              "      <td>4.031925e+08</td>\n",
              "      <td>-0.210671</td>\n",
              "      <td>-0.227273</td>\n",
              "      <td>2.399675e+09</td>\n",
              "    </tr>\n",
              "    <tr>\n",
              "      <th>25%</th>\n",
              "      <td>449.149490</td>\n",
              "      <td>1.012162e+10</td>\n",
              "      <td>0.251717</td>\n",
              "      <td>0.751645</td>\n",
              "      <td>1.065473e+10</td>\n",
              "    </tr>\n",
              "    <tr>\n",
              "      <th>50%</th>\n",
              "      <td>1615.237426</td>\n",
              "      <td>2.945452e+10</td>\n",
              "      <td>0.419640</td>\n",
              "      <td>1.451022</td>\n",
              "      <td>1.571289e+10</td>\n",
              "    </tr>\n",
              "    <tr>\n",
              "      <th>75%</th>\n",
              "      <td>2522.957580</td>\n",
              "      <td>6.404018e+10</td>\n",
              "      <td>0.522287</td>\n",
              "      <td>2.538519</td>\n",
              "      <td>2.164114e+10</td>\n",
              "    </tr>\n",
              "    <tr>\n",
              "      <th>max</th>\n",
              "      <td>4812.087402</td>\n",
              "      <td>1.089997e+11</td>\n",
              "      <td>0.975100</td>\n",
              "      <td>20.021724</td>\n",
              "      <td>8.448291e+10</td>\n",
              "    </tr>\n",
              "  </tbody>\n",
              "</table>\n",
              "</div>\n",
              "    <div class=\"colab-df-buttons\">\n",
              "\n",
              "  <div class=\"colab-df-container\">\n",
              "    <button class=\"colab-df-convert\" onclick=\"convertToInteractive('df-9d3eaf4e-1c2e-4d98-b33f-0fed2d79ae67')\"\n",
              "            title=\"Convert this dataframe to an interactive table.\"\n",
              "            style=\"display:none;\">\n",
              "\n",
              "  <svg xmlns=\"http://www.w3.org/2000/svg\" height=\"24px\" viewBox=\"0 -960 960 960\">\n",
              "    <path d=\"M120-120v-720h720v720H120Zm60-500h600v-160H180v160Zm220 220h160v-160H400v160Zm0 220h160v-160H400v160ZM180-400h160v-160H180v160Zm440 0h160v-160H620v160ZM180-180h160v-160H180v160Zm440 0h160v-160H620v160Z\"/>\n",
              "  </svg>\n",
              "    </button>\n",
              "\n",
              "  <style>\n",
              "    .colab-df-container {\n",
              "      display:flex;\n",
              "      gap: 12px;\n",
              "    }\n",
              "\n",
              "    .colab-df-convert {\n",
              "      background-color: #E8F0FE;\n",
              "      border: none;\n",
              "      border-radius: 50%;\n",
              "      cursor: pointer;\n",
              "      display: none;\n",
              "      fill: #1967D2;\n",
              "      height: 32px;\n",
              "      padding: 0 0 0 0;\n",
              "      width: 32px;\n",
              "    }\n",
              "\n",
              "    .colab-df-convert:hover {\n",
              "      background-color: #E2EBFA;\n",
              "      box-shadow: 0px 1px 2px rgba(60, 64, 67, 0.3), 0px 1px 3px 1px rgba(60, 64, 67, 0.15);\n",
              "      fill: #174EA6;\n",
              "    }\n",
              "\n",
              "    .colab-df-buttons div {\n",
              "      margin-bottom: 4px;\n",
              "    }\n",
              "\n",
              "    [theme=dark] .colab-df-convert {\n",
              "      background-color: #3B4455;\n",
              "      fill: #D2E3FC;\n",
              "    }\n",
              "\n",
              "    [theme=dark] .colab-df-convert:hover {\n",
              "      background-color: #434B5C;\n",
              "      box-shadow: 0px 1px 3px 1px rgba(0, 0, 0, 0.15);\n",
              "      filter: drop-shadow(0px 1px 2px rgba(0, 0, 0, 0.3));\n",
              "      fill: #FFFFFF;\n",
              "    }\n",
              "  </style>\n",
              "\n",
              "    <script>\n",
              "      const buttonEl =\n",
              "        document.querySelector('#df-9d3eaf4e-1c2e-4d98-b33f-0fed2d79ae67 button.colab-df-convert');\n",
              "      buttonEl.style.display =\n",
              "        google.colab.kernel.accessAllowed ? 'block' : 'none';\n",
              "\n",
              "      async function convertToInteractive(key) {\n",
              "        const element = document.querySelector('#df-9d3eaf4e-1c2e-4d98-b33f-0fed2d79ae67');\n",
              "        const dataTable =\n",
              "          await google.colab.kernel.invokeFunction('convertToInteractive',\n",
              "                                                    [key], {});\n",
              "        if (!dataTable) return;\n",
              "\n",
              "        const docLinkHtml = 'Like what you see? Visit the ' +\n",
              "          '<a target=\"_blank\" href=https://colab.research.google.com/notebooks/data_table.ipynb>data table notebook</a>'\n",
              "          + ' to learn more about interactive tables.';\n",
              "        element.innerHTML = '';\n",
              "        dataTable['output_type'] = 'display_data';\n",
              "        await google.colab.output.renderOutput(dataTable, element);\n",
              "        const docLink = document.createElement('div');\n",
              "        docLink.innerHTML = docLinkHtml;\n",
              "        element.appendChild(docLink);\n",
              "      }\n",
              "    </script>\n",
              "  </div>\n",
              "\n",
              "\n",
              "<div id=\"df-32772386-11c7-4f4b-b871-855daf5cff4a\">\n",
              "  <button class=\"colab-df-quickchart\" onclick=\"quickchart('df-32772386-11c7-4f4b-b871-855daf5cff4a')\"\n",
              "            title=\"Suggest charts\"\n",
              "            style=\"display:none;\">\n",
              "\n",
              "<svg xmlns=\"http://www.w3.org/2000/svg\" height=\"24px\"viewBox=\"0 0 24 24\"\n",
              "     width=\"24px\">\n",
              "    <g>\n",
              "        <path d=\"M19 3H5c-1.1 0-2 .9-2 2v14c0 1.1.9 2 2 2h14c1.1 0 2-.9 2-2V5c0-1.1-.9-2-2-2zM9 17H7v-7h2v7zm4 0h-2V7h2v10zm4 0h-2v-4h2v4z\"/>\n",
              "    </g>\n",
              "</svg>\n",
              "  </button>\n",
              "\n",
              "<style>\n",
              "  .colab-df-quickchart {\n",
              "      --bg-color: #E8F0FE;\n",
              "      --fill-color: #1967D2;\n",
              "      --hover-bg-color: #E2EBFA;\n",
              "      --hover-fill-color: #174EA6;\n",
              "      --disabled-fill-color: #AAA;\n",
              "      --disabled-bg-color: #DDD;\n",
              "  }\n",
              "\n",
              "  [theme=dark] .colab-df-quickchart {\n",
              "      --bg-color: #3B4455;\n",
              "      --fill-color: #D2E3FC;\n",
              "      --hover-bg-color: #434B5C;\n",
              "      --hover-fill-color: #FFFFFF;\n",
              "      --disabled-bg-color: #3B4455;\n",
              "      --disabled-fill-color: #666;\n",
              "  }\n",
              "\n",
              "  .colab-df-quickchart {\n",
              "    background-color: var(--bg-color);\n",
              "    border: none;\n",
              "    border-radius: 50%;\n",
              "    cursor: pointer;\n",
              "    display: none;\n",
              "    fill: var(--fill-color);\n",
              "    height: 32px;\n",
              "    padding: 0;\n",
              "    width: 32px;\n",
              "  }\n",
              "\n",
              "  .colab-df-quickchart:hover {\n",
              "    background-color: var(--hover-bg-color);\n",
              "    box-shadow: 0 1px 2px rgba(60, 64, 67, 0.3), 0 1px 3px 1px rgba(60, 64, 67, 0.15);\n",
              "    fill: var(--button-hover-fill-color);\n",
              "  }\n",
              "\n",
              "  .colab-df-quickchart-complete:disabled,\n",
              "  .colab-df-quickchart-complete:disabled:hover {\n",
              "    background-color: var(--disabled-bg-color);\n",
              "    fill: var(--disabled-fill-color);\n",
              "    box-shadow: none;\n",
              "  }\n",
              "\n",
              "  .colab-df-spinner {\n",
              "    border: 2px solid var(--fill-color);\n",
              "    border-color: transparent;\n",
              "    border-bottom-color: var(--fill-color);\n",
              "    animation:\n",
              "      spin 1s steps(1) infinite;\n",
              "  }\n",
              "\n",
              "  @keyframes spin {\n",
              "    0% {\n",
              "      border-color: transparent;\n",
              "      border-bottom-color: var(--fill-color);\n",
              "      border-left-color: var(--fill-color);\n",
              "    }\n",
              "    20% {\n",
              "      border-color: transparent;\n",
              "      border-left-color: var(--fill-color);\n",
              "      border-top-color: var(--fill-color);\n",
              "    }\n",
              "    30% {\n",
              "      border-color: transparent;\n",
              "      border-left-color: var(--fill-color);\n",
              "      border-top-color: var(--fill-color);\n",
              "      border-right-color: var(--fill-color);\n",
              "    }\n",
              "    40% {\n",
              "      border-color: transparent;\n",
              "      border-right-color: var(--fill-color);\n",
              "      border-top-color: var(--fill-color);\n",
              "    }\n",
              "    60% {\n",
              "      border-color: transparent;\n",
              "      border-right-color: var(--fill-color);\n",
              "    }\n",
              "    80% {\n",
              "      border-color: transparent;\n",
              "      border-right-color: var(--fill-color);\n",
              "      border-bottom-color: var(--fill-color);\n",
              "    }\n",
              "    90% {\n",
              "      border-color: transparent;\n",
              "      border-bottom-color: var(--fill-color);\n",
              "    }\n",
              "  }\n",
              "</style>\n",
              "\n",
              "  <script>\n",
              "    async function quickchart(key) {\n",
              "      const quickchartButtonEl =\n",
              "        document.querySelector('#' + key + ' button');\n",
              "      quickchartButtonEl.disabled = true;  // To prevent multiple clicks.\n",
              "      quickchartButtonEl.classList.add('colab-df-spinner');\n",
              "      try {\n",
              "        const charts = await google.colab.kernel.invokeFunction(\n",
              "            'suggestCharts', [key], {});\n",
              "      } catch (error) {\n",
              "        console.error('Error during call to suggestCharts:', error);\n",
              "      }\n",
              "      quickchartButtonEl.classList.remove('colab-df-spinner');\n",
              "      quickchartButtonEl.classList.add('colab-df-quickchart-complete');\n",
              "    }\n",
              "    (() => {\n",
              "      let quickchartButtonEl =\n",
              "        document.querySelector('#df-32772386-11c7-4f4b-b871-855daf5cff4a button');\n",
              "      quickchartButtonEl.style.display =\n",
              "        google.colab.kernel.accessAllowed ? 'block' : 'none';\n",
              "    })();\n",
              "  </script>\n",
              "</div>\n",
              "    </div>\n",
              "  </div>\n"
            ],
            "application/vnd.google.colaboratory.intrinsic+json": {
              "type": "dataframe",
              "summary": "{\n  \"name\": \"summary_train\",\n  \"rows\": 8,\n  \"fields\": [\n    {\n      \"column\": 0,\n      \"properties\": {\n        \"dtype\": \"number\",\n        \"std\": 1459.9729262300173,\n        \"min\": 110.605873,\n        \"max\": 4812.087402,\n        \"num_unique_values\": 8,\n        \"samples\": [\n          1691.9420415793272,\n          1615.2374264999999,\n          1248.0\n        ],\n        \"semantic_type\": \"\",\n        \"description\": \"\"\n      }\n    },\n    {\n      \"column\": 1,\n      \"properties\": {\n        \"dtype\": \"number\",\n        \"std\": 36683071830.68483,\n        \"min\": 1248.0,\n        \"max\": 108999734217.23264,\n        \"num_unique_values\": 8,\n        \"samples\": [\n          37743222125.84176,\n          29454515390.031097,\n          1248.0\n        ],\n        \"semantic_type\": \"\",\n        \"description\": \"\"\n      }\n    },\n    {\n      \"column\": 2,\n      \"properties\": {\n        \"dtype\": \"number\",\n        \"std\": 441.10721996808655,\n        \"min\": -0.210671429,\n        \"max\": 1248.0,\n        \"num_unique_values\": 8,\n        \"samples\": [\n          0.3950042323661859,\n          0.4196404205,\n          1248.0\n        ],\n        \"semantic_type\": \"\",\n        \"description\": \"\"\n      }\n    },\n    {\n      \"column\": 3,\n      \"properties\": {\n        \"dtype\": \"number\",\n        \"std\": 439.8703549630298,\n        \"min\": -0.227272727,\n        \"max\": 1248.0,\n        \"num_unique_values\": 8,\n        \"samples\": [\n          1.8290028933934297,\n          1.4510216345,\n          1248.0\n        ],\n        \"semantic_type\": \"\",\n        \"description\": \"\"\n      }\n    },\n    {\n      \"column\": 4,\n      \"properties\": {\n        \"dtype\": \"number\",\n        \"std\": 26926660484.983883,\n        \"min\": 1248.0,\n        \"max\": 84482912776.0,\n        \"num_unique_values\": 8,\n        \"samples\": [\n          17623488886.129807,\n          15712886714.5,\n          1248.0\n        ],\n        \"semantic_type\": \"\",\n        \"description\": \"\"\n      }\n    }\n  ]\n}"
            }
          },
          "metadata": {},
          "execution_count": 31
        }
      ],
      "source": [
        "# Define the scaler\n",
        "scaler = MinMaxScaler(feature_range=(0, 1))\n",
        "summary_train = pd.DataFrame(train)\n",
        "summary_train.describe()"
      ]
    },
    {
      "cell_type": "code",
      "execution_count": 32,
      "id": "bcc43122ae391050",
      "metadata": {
        "colab": {
          "base_uri": "https://localhost:8080/",
          "height": 300
        },
        "id": "bcc43122ae391050",
        "outputId": "4e684745-d4d2-43df-98f5-98cbdf481254"
      },
      "outputs": [
        {
          "output_type": "execute_result",
          "data": {
            "text/plain": [
              "                 0            1            2            3            4\n",
              "count  1248.000000  1248.000000  1248.000000  1248.000000  1248.000000\n",
              "mean      0.336348     0.343842     0.510786     0.101550     0.185468\n",
              "std       0.253931     0.279838     0.145095     0.080223     0.125274\n",
              "min       0.000000     0.000000     0.000000     0.000000     0.000000\n",
              "25%       0.072008     0.089491     0.389947     0.048344     0.100569\n",
              "50%       0.320033     0.267516     0.531563     0.082883     0.162192\n",
              "75%       0.513105     0.585995     0.618128     0.136589     0.234414\n",
              "max       1.000000     1.000000     1.000000     1.000000     1.000000"
            ],
            "text/html": [
              "\n",
              "  <div id=\"df-43bae3d8-8e87-4ee8-b9d1-1712b0381210\" class=\"colab-df-container\">\n",
              "    <div>\n",
              "<style scoped>\n",
              "    .dataframe tbody tr th:only-of-type {\n",
              "        vertical-align: middle;\n",
              "    }\n",
              "\n",
              "    .dataframe tbody tr th {\n",
              "        vertical-align: top;\n",
              "    }\n",
              "\n",
              "    .dataframe thead th {\n",
              "        text-align: right;\n",
              "    }\n",
              "</style>\n",
              "<table border=\"1\" class=\"dataframe\">\n",
              "  <thead>\n",
              "    <tr style=\"text-align: right;\">\n",
              "      <th></th>\n",
              "      <th>0</th>\n",
              "      <th>1</th>\n",
              "      <th>2</th>\n",
              "      <th>3</th>\n",
              "      <th>4</th>\n",
              "    </tr>\n",
              "  </thead>\n",
              "  <tbody>\n",
              "    <tr>\n",
              "      <th>count</th>\n",
              "      <td>1248.000000</td>\n",
              "      <td>1248.000000</td>\n",
              "      <td>1248.000000</td>\n",
              "      <td>1248.000000</td>\n",
              "      <td>1248.000000</td>\n",
              "    </tr>\n",
              "    <tr>\n",
              "      <th>mean</th>\n",
              "      <td>0.336348</td>\n",
              "      <td>0.343842</td>\n",
              "      <td>0.510786</td>\n",
              "      <td>0.101550</td>\n",
              "      <td>0.185468</td>\n",
              "    </tr>\n",
              "    <tr>\n",
              "      <th>std</th>\n",
              "      <td>0.253931</td>\n",
              "      <td>0.279838</td>\n",
              "      <td>0.145095</td>\n",
              "      <td>0.080223</td>\n",
              "      <td>0.125274</td>\n",
              "    </tr>\n",
              "    <tr>\n",
              "      <th>min</th>\n",
              "      <td>0.000000</td>\n",
              "      <td>0.000000</td>\n",
              "      <td>0.000000</td>\n",
              "      <td>0.000000</td>\n",
              "      <td>0.000000</td>\n",
              "    </tr>\n",
              "    <tr>\n",
              "      <th>25%</th>\n",
              "      <td>0.072008</td>\n",
              "      <td>0.089491</td>\n",
              "      <td>0.389947</td>\n",
              "      <td>0.048344</td>\n",
              "      <td>0.100569</td>\n",
              "    </tr>\n",
              "    <tr>\n",
              "      <th>50%</th>\n",
              "      <td>0.320033</td>\n",
              "      <td>0.267516</td>\n",
              "      <td>0.531563</td>\n",
              "      <td>0.082883</td>\n",
              "      <td>0.162192</td>\n",
              "    </tr>\n",
              "    <tr>\n",
              "      <th>75%</th>\n",
              "      <td>0.513105</td>\n",
              "      <td>0.585995</td>\n",
              "      <td>0.618128</td>\n",
              "      <td>0.136589</td>\n",
              "      <td>0.234414</td>\n",
              "    </tr>\n",
              "    <tr>\n",
              "      <th>max</th>\n",
              "      <td>1.000000</td>\n",
              "      <td>1.000000</td>\n",
              "      <td>1.000000</td>\n",
              "      <td>1.000000</td>\n",
              "      <td>1.000000</td>\n",
              "    </tr>\n",
              "  </tbody>\n",
              "</table>\n",
              "</div>\n",
              "    <div class=\"colab-df-buttons\">\n",
              "\n",
              "  <div class=\"colab-df-container\">\n",
              "    <button class=\"colab-df-convert\" onclick=\"convertToInteractive('df-43bae3d8-8e87-4ee8-b9d1-1712b0381210')\"\n",
              "            title=\"Convert this dataframe to an interactive table.\"\n",
              "            style=\"display:none;\">\n",
              "\n",
              "  <svg xmlns=\"http://www.w3.org/2000/svg\" height=\"24px\" viewBox=\"0 -960 960 960\">\n",
              "    <path d=\"M120-120v-720h720v720H120Zm60-500h600v-160H180v160Zm220 220h160v-160H400v160Zm0 220h160v-160H400v160ZM180-400h160v-160H180v160Zm440 0h160v-160H620v160ZM180-180h160v-160H180v160Zm440 0h160v-160H620v160Z\"/>\n",
              "  </svg>\n",
              "    </button>\n",
              "\n",
              "  <style>\n",
              "    .colab-df-container {\n",
              "      display:flex;\n",
              "      gap: 12px;\n",
              "    }\n",
              "\n",
              "    .colab-df-convert {\n",
              "      background-color: #E8F0FE;\n",
              "      border: none;\n",
              "      border-radius: 50%;\n",
              "      cursor: pointer;\n",
              "      display: none;\n",
              "      fill: #1967D2;\n",
              "      height: 32px;\n",
              "      padding: 0 0 0 0;\n",
              "      width: 32px;\n",
              "    }\n",
              "\n",
              "    .colab-df-convert:hover {\n",
              "      background-color: #E2EBFA;\n",
              "      box-shadow: 0px 1px 2px rgba(60, 64, 67, 0.3), 0px 1px 3px 1px rgba(60, 64, 67, 0.15);\n",
              "      fill: #174EA6;\n",
              "    }\n",
              "\n",
              "    .colab-df-buttons div {\n",
              "      margin-bottom: 4px;\n",
              "    }\n",
              "\n",
              "    [theme=dark] .colab-df-convert {\n",
              "      background-color: #3B4455;\n",
              "      fill: #D2E3FC;\n",
              "    }\n",
              "\n",
              "    [theme=dark] .colab-df-convert:hover {\n",
              "      background-color: #434B5C;\n",
              "      box-shadow: 0px 1px 3px 1px rgba(0, 0, 0, 0.15);\n",
              "      filter: drop-shadow(0px 1px 2px rgba(0, 0, 0, 0.3));\n",
              "      fill: #FFFFFF;\n",
              "    }\n",
              "  </style>\n",
              "\n",
              "    <script>\n",
              "      const buttonEl =\n",
              "        document.querySelector('#df-43bae3d8-8e87-4ee8-b9d1-1712b0381210 button.colab-df-convert');\n",
              "      buttonEl.style.display =\n",
              "        google.colab.kernel.accessAllowed ? 'block' : 'none';\n",
              "\n",
              "      async function convertToInteractive(key) {\n",
              "        const element = document.querySelector('#df-43bae3d8-8e87-4ee8-b9d1-1712b0381210');\n",
              "        const dataTable =\n",
              "          await google.colab.kernel.invokeFunction('convertToInteractive',\n",
              "                                                    [key], {});\n",
              "        if (!dataTable) return;\n",
              "\n",
              "        const docLinkHtml = 'Like what you see? Visit the ' +\n",
              "          '<a target=\"_blank\" href=https://colab.research.google.com/notebooks/data_table.ipynb>data table notebook</a>'\n",
              "          + ' to learn more about interactive tables.';\n",
              "        element.innerHTML = '';\n",
              "        dataTable['output_type'] = 'display_data';\n",
              "        await google.colab.output.renderOutput(dataTable, element);\n",
              "        const docLink = document.createElement('div');\n",
              "        docLink.innerHTML = docLinkHtml;\n",
              "        element.appendChild(docLink);\n",
              "      }\n",
              "    </script>\n",
              "  </div>\n",
              "\n",
              "\n",
              "<div id=\"df-bf654b76-1a7c-4508-a485-db17f63be428\">\n",
              "  <button class=\"colab-df-quickchart\" onclick=\"quickchart('df-bf654b76-1a7c-4508-a485-db17f63be428')\"\n",
              "            title=\"Suggest charts\"\n",
              "            style=\"display:none;\">\n",
              "\n",
              "<svg xmlns=\"http://www.w3.org/2000/svg\" height=\"24px\"viewBox=\"0 0 24 24\"\n",
              "     width=\"24px\">\n",
              "    <g>\n",
              "        <path d=\"M19 3H5c-1.1 0-2 .9-2 2v14c0 1.1.9 2 2 2h14c1.1 0 2-.9 2-2V5c0-1.1-.9-2-2-2zM9 17H7v-7h2v7zm4 0h-2V7h2v10zm4 0h-2v-4h2v4z\"/>\n",
              "    </g>\n",
              "</svg>\n",
              "  </button>\n",
              "\n",
              "<style>\n",
              "  .colab-df-quickchart {\n",
              "      --bg-color: #E8F0FE;\n",
              "      --fill-color: #1967D2;\n",
              "      --hover-bg-color: #E2EBFA;\n",
              "      --hover-fill-color: #174EA6;\n",
              "      --disabled-fill-color: #AAA;\n",
              "      --disabled-bg-color: #DDD;\n",
              "  }\n",
              "\n",
              "  [theme=dark] .colab-df-quickchart {\n",
              "      --bg-color: #3B4455;\n",
              "      --fill-color: #D2E3FC;\n",
              "      --hover-bg-color: #434B5C;\n",
              "      --hover-fill-color: #FFFFFF;\n",
              "      --disabled-bg-color: #3B4455;\n",
              "      --disabled-fill-color: #666;\n",
              "  }\n",
              "\n",
              "  .colab-df-quickchart {\n",
              "    background-color: var(--bg-color);\n",
              "    border: none;\n",
              "    border-radius: 50%;\n",
              "    cursor: pointer;\n",
              "    display: none;\n",
              "    fill: var(--fill-color);\n",
              "    height: 32px;\n",
              "    padding: 0;\n",
              "    width: 32px;\n",
              "  }\n",
              "\n",
              "  .colab-df-quickchart:hover {\n",
              "    background-color: var(--hover-bg-color);\n",
              "    box-shadow: 0 1px 2px rgba(60, 64, 67, 0.3), 0 1px 3px 1px rgba(60, 64, 67, 0.15);\n",
              "    fill: var(--button-hover-fill-color);\n",
              "  }\n",
              "\n",
              "  .colab-df-quickchart-complete:disabled,\n",
              "  .colab-df-quickchart-complete:disabled:hover {\n",
              "    background-color: var(--disabled-bg-color);\n",
              "    fill: var(--disabled-fill-color);\n",
              "    box-shadow: none;\n",
              "  }\n",
              "\n",
              "  .colab-df-spinner {\n",
              "    border: 2px solid var(--fill-color);\n",
              "    border-color: transparent;\n",
              "    border-bottom-color: var(--fill-color);\n",
              "    animation:\n",
              "      spin 1s steps(1) infinite;\n",
              "  }\n",
              "\n",
              "  @keyframes spin {\n",
              "    0% {\n",
              "      border-color: transparent;\n",
              "      border-bottom-color: var(--fill-color);\n",
              "      border-left-color: var(--fill-color);\n",
              "    }\n",
              "    20% {\n",
              "      border-color: transparent;\n",
              "      border-left-color: var(--fill-color);\n",
              "      border-top-color: var(--fill-color);\n",
              "    }\n",
              "    30% {\n",
              "      border-color: transparent;\n",
              "      border-left-color: var(--fill-color);\n",
              "      border-top-color: var(--fill-color);\n",
              "      border-right-color: var(--fill-color);\n",
              "    }\n",
              "    40% {\n",
              "      border-color: transparent;\n",
              "      border-right-color: var(--fill-color);\n",
              "      border-top-color: var(--fill-color);\n",
              "    }\n",
              "    60% {\n",
              "      border-color: transparent;\n",
              "      border-right-color: var(--fill-color);\n",
              "    }\n",
              "    80% {\n",
              "      border-color: transparent;\n",
              "      border-right-color: var(--fill-color);\n",
              "      border-bottom-color: var(--fill-color);\n",
              "    }\n",
              "    90% {\n",
              "      border-color: transparent;\n",
              "      border-bottom-color: var(--fill-color);\n",
              "    }\n",
              "  }\n",
              "</style>\n",
              "\n",
              "  <script>\n",
              "    async function quickchart(key) {\n",
              "      const quickchartButtonEl =\n",
              "        document.querySelector('#' + key + ' button');\n",
              "      quickchartButtonEl.disabled = true;  // To prevent multiple clicks.\n",
              "      quickchartButtonEl.classList.add('colab-df-spinner');\n",
              "      try {\n",
              "        const charts = await google.colab.kernel.invokeFunction(\n",
              "            'suggestCharts', [key], {});\n",
              "      } catch (error) {\n",
              "        console.error('Error during call to suggestCharts:', error);\n",
              "      }\n",
              "      quickchartButtonEl.classList.remove('colab-df-spinner');\n",
              "      quickchartButtonEl.classList.add('colab-df-quickchart-complete');\n",
              "    }\n",
              "    (() => {\n",
              "      let quickchartButtonEl =\n",
              "        document.querySelector('#df-bf654b76-1a7c-4508-a485-db17f63be428 button');\n",
              "      quickchartButtonEl.style.display =\n",
              "        google.colab.kernel.accessAllowed ? 'block' : 'none';\n",
              "    })();\n",
              "  </script>\n",
              "</div>\n",
              "    </div>\n",
              "  </div>\n"
            ],
            "application/vnd.google.colaboratory.intrinsic+json": {
              "type": "dataframe",
              "summary": "{\n  \"name\": \"summary_train_scaled\",\n  \"rows\": 8,\n  \"fields\": [\n    {\n      \"column\": 0,\n      \"properties\": {\n        \"dtype\": \"number\",\n        \"std\": 441.10870013317214,\n        \"min\": 0.0,\n        \"max\": 1248.0,\n        \"num_unique_values\": 8,\n        \"samples\": [\n          0.33634848054282923,\n          0.3200334924680718,\n          1248.0\n        ],\n        \"semantic_type\": \"\",\n        \"description\": \"\"\n      }\n    },\n    {\n      \"column\": 1,\n      \"properties\": {\n        \"dtype\": \"number\",\n        \"std\": 441.105104313317,\n        \"min\": 0.0,\n        \"max\": 1248.0,\n        \"num_unique_values\": 8,\n        \"samples\": [\n          0.34384179331935105,\n          0.2675160963711779,\n          1248.0\n        ],\n        \"semantic_type\": \"\",\n        \"description\": \"\"\n      }\n    },\n    {\n      \"column\": 2,\n      \"properties\": {\n        \"dtype\": \"number\",\n        \"std\": 441.07333700368594,\n        \"min\": 0.0,\n        \"max\": 1248.0,\n        \"num_unique_values\": 8,\n        \"samples\": [\n          0.5107861823563855,\n          0.5315626891361034,\n          1248.0\n        ],\n        \"semantic_type\": \"\",\n        \"description\": \"\"\n      }\n    },\n    {\n      \"column\": 3,\n      \"properties\": {\n        \"dtype\": \"number\",\n        \"std\": 441.16153671418505,\n        \"min\": 0.0,\n        \"max\": 1248.0,\n        \"num_unique_values\": 8,\n        \"samples\": [\n          0.10154950698710538,\n          0.08288284085036969,\n          1248.0\n        ],\n        \"semantic_type\": \"\",\n        \"description\": \"\"\n      }\n    },\n    {\n      \"column\": 4,\n      \"properties\": {\n        \"dtype\": \"number\",\n        \"std\": 441.14342706860566,\n        \"min\": 0.0,\n        \"max\": 1248.0,\n        \"num_unique_values\": 8,\n        \"samples\": [\n          0.1854680037624008,\n          0.1621916051587134,\n          1248.0\n        ],\n        \"semantic_type\": \"\",\n        \"description\": \"\"\n      }\n    }\n  ]\n}"
            }
          },
          "metadata": {},
          "execution_count": 32
        }
      ],
      "source": [
        "# Scale the features\n",
        "train_scaled, validation_scaled, test_scaled = scale_features(scaler, train, validation, test)\n",
        "summary_train_scaled = pd.DataFrame(train_scaled)\n",
        "summary_train_scaled.describe()"
      ]
    },
    {
      "cell_type": "code",
      "execution_count": 33,
      "id": "649ea3786bc0e3dd",
      "metadata": {
        "colab": {
          "base_uri": "https://localhost:8080/"
        },
        "id": "649ea3786bc0e3dd",
        "outputId": "66ee4eba-3ce8-413f-f689-d0b49f93238b"
      },
      "outputs": [
        {
          "output_type": "stream",
          "name": "stdout",
          "text": [
            "(1208, 40, 5) (1208,)\n",
            "(127, 40, 5) (127,)\n",
            "(127, 40, 5) (127,)\n"
          ]
        }
      ],
      "source": [
        "# Create sequences for LSTM\n",
        "X_train, y_train = create_sequences(train_scaled, seq_length=seq_length)\n",
        "X_validation, y_validation = create_sequences(validation_scaled, seq_length=seq_length)\n",
        "X_test, y_test = create_sequences(test_scaled, seq_length=seq_length)\n",
        "print(X_train.shape, y_train.shape)\n",
        "print(X_validation.shape, y_validation.shape)\n",
        "print(X_test.shape, y_test.shape)"
      ]
    },
    {
      "cell_type": "code",
      "execution_count": 34,
      "id": "2b4789f2a3cbd18",
      "metadata": {
        "colab": {
          "base_uri": "https://localhost:8080/"
        },
        "id": "2b4789f2a3cbd18",
        "outputId": "15a45294-dfa5-490f-837e-7ccd49721b01"
      },
      "outputs": [
        {
          "output_type": "stream",
          "name": "stdout",
          "text": [
            "(1208, 40, 5) (1208, 1)\n",
            "(127, 40, 5) (127, 1)\n",
            "(127, 40, 5) (127, 1)\n"
          ]
        }
      ],
      "source": [
        "# Reshape inputs for LSTM\n",
        "y_train = np.reshape(y_train, (-1, 1))\n",
        "y_test = np.reshape(y_test, (-1, 1))\n",
        "y_validation = np.reshape(y_validation, (-1, 1))\n",
        "print(X_train.shape, y_train.shape)\n",
        "print(X_validation.shape, y_validation.shape)\n",
        "print(X_test.shape, y_test.shape)"
      ]
    },
    {
      "cell_type": "code",
      "execution_count": 37,
      "id": "SFAhEf81hEL0",
      "metadata": {
        "colab": {
          "base_uri": "https://localhost:8080/"
        },
        "id": "SFAhEf81hEL0",
        "outputId": "fa69c858-3eb5-4231-e984-59246aedbd6b"
      },
      "outputs": [
        {
          "output_type": "execute_result",
          "data": {
            "text/plain": [
              "<tf.Tensor 'sequential_1/dense/BiasAdd:0' shape=(1, 1) dtype=float32>"
            ]
          },
          "metadata": {},
          "execution_count": 37
        }
      ],
      "source": [
        "# Define the model\n",
        "model = define_model(optimizer, loss, seq_length=seq_length, num_parameters=len(features))\n",
        "model(tf.random.normal((1, seq_length, len(features))))"
      ]
    },
    {
      "cell_type": "code",
      "execution_count": 38,
      "id": "i0BmH8ubkYHf",
      "metadata": {
        "colab": {
          "base_uri": "https://localhost:8080/"
        },
        "collapsed": true,
        "id": "i0BmH8ubkYHf",
        "outputId": "bb093ff0-18ff-42dc-d621-08d93c61ec27"
      },
      "outputs": [
        {
          "output_type": "stream",
          "name": "stdout",
          "text": [
            "Train on 1208 samples, validate on 127 samples\n",
            "Epoch 1/60\n",
            "1208/1208 [==============================] - ETA: 0s - loss: 0.0303 - mean_squared_error: 0.0303 - root_mean_squared_error: 0.1741"
          ]
        },
        {
          "output_type": "stream",
          "name": "stderr",
          "text": [
            "/usr/local/lib/python3.10/dist-packages/keras/src/engine/training_v1.py:2335: UserWarning: `Model.state_updates` will be removed in a future version. This property should not be used in TensorFlow 2.0, as `updates` are applied automatically.\n",
            "  updates = self.state_updates\n"
          ]
        },
        {
          "output_type": "stream",
          "name": "stdout",
          "text": [
            "\b\b\b\b\b\b\b\b\b\b\b\b\b\b\b\b\b\b\b\b\b\b\b\b\b\b\b\b\b\b\b\b\b\b\b\b\b\b\b\b\b\b\b\b\b\b\b\b\b\b\b\b\b\b\b\b\b\b\b\b\b\b\b\b\b\b\b\b\b\b\b\b\b\b\b\b\b\b\b\b\b\b\b\b\b\b\b\b\b\b\b\b\b\b\b\b\b\b\b\b\b\b\b\b\b\b\b\b\b\b\b\b\b\b\b\b\b\b\b\b\b\b\b\b\b\b\b\b\b\b\r1208/1208 [==============================] - 4s 3ms/sample - loss: 0.0303 - mean_squared_error: 0.0303 - root_mean_squared_error: 0.1741 - val_loss: 7.6291e-04 - val_mean_squared_error: 7.6292e-04 - val_root_mean_squared_error: 0.0276\n",
            "Epoch 2/60\n",
            "1208/1208 [==============================] - 3s 3ms/sample - loss: 0.0078 - mean_squared_error: 0.0078 - root_mean_squared_error: 0.0883 - val_loss: 0.0029 - val_mean_squared_error: 0.0029 - val_root_mean_squared_error: 0.0542\n",
            "Epoch 3/60\n",
            "1208/1208 [==============================] - 3s 3ms/sample - loss: 0.0066 - mean_squared_error: 0.0066 - root_mean_squared_error: 0.0814 - val_loss: 0.0025 - val_mean_squared_error: 0.0025 - val_root_mean_squared_error: 0.0503\n",
            "Epoch 4/60\n",
            "1208/1208 [==============================] - 3s 2ms/sample - loss: 0.0068 - mean_squared_error: 0.0068 - root_mean_squared_error: 0.0827 - val_loss: 0.0059 - val_mean_squared_error: 0.0059 - val_root_mean_squared_error: 0.0770\n",
            "Epoch 5/60\n",
            "1208/1208 [==============================] - 3s 2ms/sample - loss: 0.0061 - mean_squared_error: 0.0061 - root_mean_squared_error: 0.0781 - val_loss: 0.0021 - val_mean_squared_error: 0.0021 - val_root_mean_squared_error: 0.0457\n",
            "Epoch 6/60\n",
            "1208/1208 [==============================] - 3s 2ms/sample - loss: 0.0048 - mean_squared_error: 0.0048 - root_mean_squared_error: 0.0695 - val_loss: 6.4201e-04 - val_mean_squared_error: 6.4201e-04 - val_root_mean_squared_error: 0.0253\n",
            "Epoch 7/60\n",
            "1208/1208 [==============================] - 3s 3ms/sample - loss: 0.0052 - mean_squared_error: 0.0052 - root_mean_squared_error: 0.0723 - val_loss: 0.0013 - val_mean_squared_error: 0.0013 - val_root_mean_squared_error: 0.0360\n",
            "Epoch 8/60\n",
            "1208/1208 [==============================] - 3s 3ms/sample - loss: 0.0051 - mean_squared_error: 0.0051 - root_mean_squared_error: 0.0713 - val_loss: 9.7709e-04 - val_mean_squared_error: 9.7709e-04 - val_root_mean_squared_error: 0.0313\n",
            "Epoch 9/60\n",
            "1208/1208 [==============================] - 3s 2ms/sample - loss: 0.0048 - mean_squared_error: 0.0048 - root_mean_squared_error: 0.0690 - val_loss: 9.9714e-04 - val_mean_squared_error: 9.9714e-04 - val_root_mean_squared_error: 0.0316\n",
            "Epoch 10/60\n",
            "1208/1208 [==============================] - 3s 2ms/sample - loss: 0.0045 - mean_squared_error: 0.0045 - root_mean_squared_error: 0.0669 - val_loss: 0.0011 - val_mean_squared_error: 0.0011 - val_root_mean_squared_error: 0.0331\n",
            "Epoch 11/60\n",
            "1208/1208 [==============================] - 3s 2ms/sample - loss: 0.0051 - mean_squared_error: 0.0051 - root_mean_squared_error: 0.0714 - val_loss: 5.0205e-04 - val_mean_squared_error: 5.0205e-04 - val_root_mean_squared_error: 0.0224\n",
            "Epoch 12/60\n",
            "1208/1208 [==============================] - 4s 4ms/sample - loss: 0.0042 - mean_squared_error: 0.0042 - root_mean_squared_error: 0.0646 - val_loss: 4.6966e-04 - val_mean_squared_error: 4.6966e-04 - val_root_mean_squared_error: 0.0217\n",
            "Epoch 13/60\n",
            "1208/1208 [==============================] - 6s 5ms/sample - loss: 0.0044 - mean_squared_error: 0.0044 - root_mean_squared_error: 0.0662 - val_loss: 9.6580e-04 - val_mean_squared_error: 9.6580e-04 - val_root_mean_squared_error: 0.0311\n",
            "Epoch 14/60\n",
            "1208/1208 [==============================] - 5s 4ms/sample - loss: 0.0046 - mean_squared_error: 0.0046 - root_mean_squared_error: 0.0676 - val_loss: 0.0022 - val_mean_squared_error: 0.0022 - val_root_mean_squared_error: 0.0471\n",
            "Epoch 15/60\n",
            "1208/1208 [==============================] - 6s 5ms/sample - loss: 0.0037 - mean_squared_error: 0.0037 - root_mean_squared_error: 0.0608 - val_loss: 3.5377e-04 - val_mean_squared_error: 3.5377e-04 - val_root_mean_squared_error: 0.0188\n",
            "Epoch 16/60\n",
            "1208/1208 [==============================] - 3s 2ms/sample - loss: 0.0037 - mean_squared_error: 0.0037 - root_mean_squared_error: 0.0610 - val_loss: 4.1025e-04 - val_mean_squared_error: 4.1025e-04 - val_root_mean_squared_error: 0.0203\n",
            "Epoch 17/60\n",
            "1208/1208 [==============================] - 3s 2ms/sample - loss: 0.0034 - mean_squared_error: 0.0034 - root_mean_squared_error: 0.0581 - val_loss: 7.6787e-04 - val_mean_squared_error: 7.6787e-04 - val_root_mean_squared_error: 0.0277\n",
            "Epoch 18/60\n",
            "1208/1208 [==============================] - 3s 2ms/sample - loss: 0.0034 - mean_squared_error: 0.0034 - root_mean_squared_error: 0.0580 - val_loss: 9.6323e-04 - val_mean_squared_error: 9.6323e-04 - val_root_mean_squared_error: 0.0310\n",
            "Epoch 19/60\n",
            "1208/1208 [==============================] - 4s 3ms/sample - loss: 0.0036 - mean_squared_error: 0.0036 - root_mean_squared_error: 0.0604 - val_loss: 8.6834e-04 - val_mean_squared_error: 8.6834e-04 - val_root_mean_squared_error: 0.0295\n",
            "Epoch 20/60\n",
            "1208/1208 [==============================] - 3s 2ms/sample - loss: 0.0035 - mean_squared_error: 0.0035 - root_mean_squared_error: 0.0592 - val_loss: 8.0172e-04 - val_mean_squared_error: 8.0172e-04 - val_root_mean_squared_error: 0.0283\n",
            "Epoch 21/60\n",
            "1208/1208 [==============================] - 3s 2ms/sample - loss: 0.0034 - mean_squared_error: 0.0034 - root_mean_squared_error: 0.0585 - val_loss: 9.2856e-04 - val_mean_squared_error: 9.2856e-04 - val_root_mean_squared_error: 0.0305\n",
            "Epoch 22/60\n",
            "1208/1208 [==============================] - 3s 2ms/sample - loss: 0.0034 - mean_squared_error: 0.0034 - root_mean_squared_error: 0.0579 - val_loss: 3.0664e-04 - val_mean_squared_error: 3.0664e-04 - val_root_mean_squared_error: 0.0175\n",
            "Epoch 23/60\n",
            "1208/1208 [==============================] - 3s 2ms/sample - loss: 0.0035 - mean_squared_error: 0.0035 - root_mean_squared_error: 0.0589 - val_loss: 0.0023 - val_mean_squared_error: 0.0023 - val_root_mean_squared_error: 0.0476\n",
            "Epoch 24/60\n",
            "1208/1208 [==============================] - 5s 4ms/sample - loss: 0.0031 - mean_squared_error: 0.0031 - root_mean_squared_error: 0.0556 - val_loss: 8.0653e-04 - val_mean_squared_error: 8.0653e-04 - val_root_mean_squared_error: 0.0284\n",
            "Epoch 25/60\n",
            "1208/1208 [==============================] - 3s 2ms/sample - loss: 0.0029 - mean_squared_error: 0.0029 - root_mean_squared_error: 0.0543 - val_loss: 0.0010 - val_mean_squared_error: 0.0010 - val_root_mean_squared_error: 0.0320\n",
            "Epoch 26/60\n",
            "1208/1208 [==============================] - 3s 2ms/sample - loss: 0.0027 - mean_squared_error: 0.0027 - root_mean_squared_error: 0.0517 - val_loss: 3.0324e-04 - val_mean_squared_error: 3.0324e-04 - val_root_mean_squared_error: 0.0174\n",
            "Epoch 27/60\n",
            "1208/1208 [==============================] - 3s 2ms/sample - loss: 0.0028 - mean_squared_error: 0.0028 - root_mean_squared_error: 0.0531 - val_loss: 5.1814e-04 - val_mean_squared_error: 5.1814e-04 - val_root_mean_squared_error: 0.0228\n",
            "Epoch 28/60\n",
            "1208/1208 [==============================] - 3s 3ms/sample - loss: 0.0030 - mean_squared_error: 0.0030 - root_mean_squared_error: 0.0550 - val_loss: 6.9082e-04 - val_mean_squared_error: 6.9082e-04 - val_root_mean_squared_error: 0.0263\n",
            "Epoch 29/60\n",
            "1208/1208 [==============================] - 4s 3ms/sample - loss: 0.0028 - mean_squared_error: 0.0028 - root_mean_squared_error: 0.0531 - val_loss: 7.4104e-04 - val_mean_squared_error: 7.4104e-04 - val_root_mean_squared_error: 0.0272\n",
            "Epoch 30/60\n",
            "1208/1208 [==============================] - 3s 2ms/sample - loss: 0.0030 - mean_squared_error: 0.0030 - root_mean_squared_error: 0.0545 - val_loss: 2.2740e-04 - val_mean_squared_error: 2.2740e-04 - val_root_mean_squared_error: 0.0151\n",
            "Epoch 31/60\n",
            "1208/1208 [==============================] - 3s 2ms/sample - loss: 0.0030 - mean_squared_error: 0.0030 - root_mean_squared_error: 0.0547 - val_loss: 0.0019 - val_mean_squared_error: 0.0019 - val_root_mean_squared_error: 0.0434\n",
            "Epoch 32/60\n",
            "1208/1208 [==============================] - 3s 2ms/sample - loss: 0.0029 - mean_squared_error: 0.0029 - root_mean_squared_error: 0.0539 - val_loss: 2.7855e-04 - val_mean_squared_error: 2.7855e-04 - val_root_mean_squared_error: 0.0167\n",
            "Epoch 33/60\n",
            "1208/1208 [==============================] - 3s 3ms/sample - loss: 0.0027 - mean_squared_error: 0.0027 - root_mean_squared_error: 0.0518 - val_loss: 3.3622e-04 - val_mean_squared_error: 3.3622e-04 - val_root_mean_squared_error: 0.0183\n",
            "Epoch 34/60\n",
            "1208/1208 [==============================] - 4s 4ms/sample - loss: 0.0028 - mean_squared_error: 0.0028 - root_mean_squared_error: 0.0533 - val_loss: 2.1877e-04 - val_mean_squared_error: 2.1877e-04 - val_root_mean_squared_error: 0.0148\n",
            "Epoch 35/60\n",
            "1208/1208 [==============================] - 3s 3ms/sample - loss: 0.0027 - mean_squared_error: 0.0027 - root_mean_squared_error: 0.0522 - val_loss: 5.3589e-04 - val_mean_squared_error: 5.3589e-04 - val_root_mean_squared_error: 0.0231\n",
            "Epoch 36/60\n",
            "1208/1208 [==============================] - 3s 2ms/sample - loss: 0.0026 - mean_squared_error: 0.0026 - root_mean_squared_error: 0.0514 - val_loss: 2.1214e-04 - val_mean_squared_error: 2.1214e-04 - val_root_mean_squared_error: 0.0146\n",
            "Epoch 37/60\n",
            "1208/1208 [==============================] - 3s 2ms/sample - loss: 0.0025 - mean_squared_error: 0.0025 - root_mean_squared_error: 0.0503 - val_loss: 6.5851e-04 - val_mean_squared_error: 6.5851e-04 - val_root_mean_squared_error: 0.0257\n",
            "Epoch 38/60\n",
            "1208/1208 [==============================] - 4s 3ms/sample - loss: 0.0026 - mean_squared_error: 0.0026 - root_mean_squared_error: 0.0508 - val_loss: 0.0018 - val_mean_squared_error: 0.0018 - val_root_mean_squared_error: 0.0424\n",
            "Epoch 39/60\n",
            "1208/1208 [==============================] - 3s 2ms/sample - loss: 0.0029 - mean_squared_error: 0.0029 - root_mean_squared_error: 0.0542 - val_loss: 2.0847e-04 - val_mean_squared_error: 2.0847e-04 - val_root_mean_squared_error: 0.0144\n",
            "Epoch 40/60\n",
            "1208/1208 [==============================] - 3s 2ms/sample - loss: 0.0022 - mean_squared_error: 0.0022 - root_mean_squared_error: 0.0467 - val_loss: 4.4829e-04 - val_mean_squared_error: 4.4829e-04 - val_root_mean_squared_error: 0.0212\n",
            "Epoch 41/60\n",
            "1208/1208 [==============================] - 3s 2ms/sample - loss: 0.0024 - mean_squared_error: 0.0024 - root_mean_squared_error: 0.0486 - val_loss: 2.0737e-04 - val_mean_squared_error: 2.0737e-04 - val_root_mean_squared_error: 0.0144\n",
            "Epoch 42/60\n",
            "1208/1208 [==============================] - 3s 3ms/sample - loss: 0.0023 - mean_squared_error: 0.0023 - root_mean_squared_error: 0.0476 - val_loss: 3.4217e-04 - val_mean_squared_error: 3.4217e-04 - val_root_mean_squared_error: 0.0185\n",
            "Epoch 43/60\n",
            "1208/1208 [==============================] - 3s 3ms/sample - loss: 0.0020 - mean_squared_error: 0.0020 - root_mean_squared_error: 0.0448 - val_loss: 2.0484e-04 - val_mean_squared_error: 2.0484e-04 - val_root_mean_squared_error: 0.0143\n",
            "Epoch 44/60\n",
            "1208/1208 [==============================] - 3s 2ms/sample - loss: 0.0022 - mean_squared_error: 0.0022 - root_mean_squared_error: 0.0470 - val_loss: 2.0578e-04 - val_mean_squared_error: 2.0578e-04 - val_root_mean_squared_error: 0.0143\n",
            "Epoch 45/60\n",
            "1208/1208 [==============================] - 3s 2ms/sample - loss: 0.0023 - mean_squared_error: 0.0023 - root_mean_squared_error: 0.0475 - val_loss: 1.9219e-04 - val_mean_squared_error: 1.9219e-04 - val_root_mean_squared_error: 0.0139\n",
            "Epoch 46/60\n",
            "1208/1208 [==============================] - 3s 3ms/sample - loss: 0.0021 - mean_squared_error: 0.0021 - root_mean_squared_error: 0.0463 - val_loss: 2.0992e-04 - val_mean_squared_error: 2.0992e-04 - val_root_mean_squared_error: 0.0145\n",
            "Epoch 47/60\n",
            "1208/1208 [==============================] - 4s 3ms/sample - loss: 0.0021 - mean_squared_error: 0.0021 - root_mean_squared_error: 0.0459 - val_loss: 2.1430e-04 - val_mean_squared_error: 2.1430e-04 - val_root_mean_squared_error: 0.0146\n",
            "Epoch 48/60\n",
            "1208/1208 [==============================] - 4s 3ms/sample - loss: 0.0022 - mean_squared_error: 0.0022 - root_mean_squared_error: 0.0465 - val_loss: 1.9732e-04 - val_mean_squared_error: 1.9732e-04 - val_root_mean_squared_error: 0.0140\n",
            "Epoch 49/60\n",
            "1208/1208 [==============================] - 3s 2ms/sample - loss: 0.0020 - mean_squared_error: 0.0020 - root_mean_squared_error: 0.0453 - val_loss: 3.1213e-04 - val_mean_squared_error: 3.1213e-04 - val_root_mean_squared_error: 0.0177\n",
            "Epoch 50/60\n",
            "1208/1208 [==============================] - 3s 2ms/sample - loss: 0.0018 - mean_squared_error: 0.0018 - root_mean_squared_error: 0.0430 - val_loss: 2.0072e-04 - val_mean_squared_error: 2.0072e-04 - val_root_mean_squared_error: 0.0142\n",
            "Epoch 51/60\n",
            "1208/1208 [==============================] - 3s 2ms/sample - loss: 0.0019 - mean_squared_error: 0.0019 - root_mean_squared_error: 0.0431 - val_loss: 1.8640e-04 - val_mean_squared_error: 1.8640e-04 - val_root_mean_squared_error: 0.0137\n",
            "Epoch 52/60\n",
            "1208/1208 [==============================] - 4s 3ms/sample - loss: 0.0019 - mean_squared_error: 0.0019 - root_mean_squared_error: 0.0436 - val_loss: 2.0374e-04 - val_mean_squared_error: 2.0374e-04 - val_root_mean_squared_error: 0.0143\n",
            "Epoch 53/60\n",
            "1208/1208 [==============================] - 3s 2ms/sample - loss: 0.0019 - mean_squared_error: 0.0019 - root_mean_squared_error: 0.0435 - val_loss: 3.0586e-04 - val_mean_squared_error: 3.0586e-04 - val_root_mean_squared_error: 0.0175\n",
            "Epoch 54/60\n",
            "1208/1208 [==============================] - 3s 2ms/sample - loss: 0.0020 - mean_squared_error: 0.0020 - root_mean_squared_error: 0.0450 - val_loss: 1.8301e-04 - val_mean_squared_error: 1.8301e-04 - val_root_mean_squared_error: 0.0135\n",
            "Epoch 55/60\n",
            "1208/1208 [==============================] - 3s 2ms/sample - loss: 0.0020 - mean_squared_error: 0.0020 - root_mean_squared_error: 0.0445 - val_loss: 2.5640e-04 - val_mean_squared_error: 2.5640e-04 - val_root_mean_squared_error: 0.0160\n",
            "Epoch 56/60\n",
            "1208/1208 [==============================] - 3s 3ms/sample - loss: 0.0019 - mean_squared_error: 0.0019 - root_mean_squared_error: 0.0440 - val_loss: 1.8893e-04 - val_mean_squared_error: 1.8893e-04 - val_root_mean_squared_error: 0.0137\n",
            "Epoch 57/60\n",
            "1208/1208 [==============================] - 3s 3ms/sample - loss: 0.0019 - mean_squared_error: 0.0019 - root_mean_squared_error: 0.0442 - val_loss: 1.6070e-04 - val_mean_squared_error: 1.6070e-04 - val_root_mean_squared_error: 0.0127\n",
            "Epoch 58/60\n",
            "1208/1208 [==============================] - 3s 2ms/sample - loss: 0.0017 - mean_squared_error: 0.0017 - root_mean_squared_error: 0.0417 - val_loss: 1.8294e-04 - val_mean_squared_error: 1.8294e-04 - val_root_mean_squared_error: 0.0135\n",
            "Epoch 59/60\n",
            "1208/1208 [==============================] - 3s 3ms/sample - loss: 0.0022 - mean_squared_error: 0.0022 - root_mean_squared_error: 0.0473 - val_loss: 3.4471e-04 - val_mean_squared_error: 3.4471e-04 - val_root_mean_squared_error: 0.0186\n",
            "Epoch 60/60\n",
            "1208/1208 [==============================] - 3s 2ms/sample - loss: 0.0019 - mean_squared_error: 0.0019 - root_mean_squared_error: 0.0431 - val_loss: 2.6402e-04 - val_mean_squared_error: 2.6402e-04 - val_root_mean_squared_error: 0.0162\n"
          ]
        }
      ],
      "source": [
        "# Train the model\n",
        "history = train_model(model, X_train, y_train, X_validation, y_validation, epochs=epochs_train)"
      ]
    },
    {
      "cell_type": "code",
      "execution_count": 39,
      "id": "35CzJ_cXkiE8",
      "metadata": {
        "colab": {
          "base_uri": "https://localhost:8080/",
          "height": 483
        },
        "id": "35CzJ_cXkiE8",
        "outputId": "137ebcea-dfb2-45d2-94d9-f773ec1a5adc"
      },
      "outputs": [
        {
          "output_type": "display_data",
          "data": {
            "text/plain": [
              "<Figure size 1000x500 with 1 Axes>"
            ],
            "image/png": "[encoded data removed]"
          },
          "metadata": {}
        }
      ],
      "source": [
        "# Visualize loss\n",
        "visualize_loss(history)"
      ]
    },
    {
      "cell_type": "code",
      "execution_count": 40,
      "id": "x9xMIJFus3JI",
      "metadata": {
        "colab": {
          "base_uri": "https://localhost:8080/"
        },
        "id": "x9xMIJFus3JI",
        "outputId": "52a79324-ec97-42f5-d66b-cffe2982a958"
      },
      "outputs": [
        {
          "output_type": "stream",
          "name": "stderr",
          "text": [
            "/usr/local/lib/python3.10/dist-packages/keras/src/engine/training_v1.py:2359: UserWarning: `Model.state_updates` will be removed in a future version. This property should not be used in TensorFlow 2.0, as `updates` are applied automatically.\n",
            "  updates=self.state_updates,\n"
          ]
        },
        {
          "output_type": "stream",
          "name": "stdout",
          "text": [
            "(127, 1)\n",
            "[[2320.9614]\n",
            " [2323.7783]\n",
            " [2327.4492]\n",
            " [2335.9873]\n",
            " [2342.286 ]\n",
            " [2344.3203]\n",
            " [2339.43  ]\n",
            " [2338.3884]\n",
            " [2343.3972]\n",
            " [2334.6453]]\n",
            "['loss', 'mean_squared_error', 'root_mean_squared_error']\n",
            "[0.0009355591399243145, 0.0009355591, 0.030586911]\n"
          ]
        }
      ],
      "source": [
        "# Test the model\n",
        "predicted_price, history = test_model(model, train, X_test, y_test)\n",
        "print(predicted_price.shape)\n",
        "print(predicted_price[0:10])\n",
        "print(model.metrics_names)\n",
        "print(history)"
      ]
    },
    {
      "cell_type": "code",
      "execution_count": 41,
      "id": "X3I011h8tyr1",
      "metadata": {
        "colab": {
          "base_uri": "https://localhost:8080/",
          "height": 560
        },
        "id": "X3I011h8tyr1",
        "outputId": "f1675f44-8436-4369-acd7-08759b55ce52"
      },
      "outputs": [
        {
          "output_type": "display_data",
          "data": {
            "text/plain": [
              "<Figure size 1000x600 with 1 Axes>"
            ],
            "image/png": "[encoded data removed]"
          },
          "metadata": {}
        }
      ],
      "source": [
        "visualize_results(df, predicted_price, date_validation, coin, seq_length=seq_length)"
      ]
    },
    {
      "cell_type": "code",
      "source": [
        "# Test hit rate\n",
        "test_prices = df[(df['Date'] > date_validation)][\"Adj Close\"]\n",
        "test_prices = test_prices.to_numpy()\n",
        "hit_rate = calculate_hit_rate(test_prices[seq_length:], predicted_price)\n",
        "print(hit_rate)"
      ],
      "metadata": {
        "colab": {
          "base_uri": "https://localhost:8080/"
        },
        "id": "Kj-U6Y5BckUH",
        "outputId": "b5667cab-a18d-4a23-f873-4a043a005b40"
      },
      "id": "Kj-U6Y5BckUH",
      "execution_count": 44,
      "outputs": [
        {
          "output_type": "stream",
          "name": "stdout",
          "text": [
            "0.5793650793650794\n"
          ]
        }
      ]
    },
    {
      "cell_type": "code",
      "execution_count": null,
      "id": "FCwkos5K7ERr",
      "metadata": {
        "colab": {
          "base_uri": "https://localhost:8080/"
        },
        "id": "FCwkos5K7ERr",
        "outputId": "44fd7392-2311-43b7-e6d6-1d9a14ca0f74"
      },
      "outputs": [
        {
          "output_type": "stream",
          "name": "stderr",
          "text": [
            "/usr/local/lib/python3.10/dist-packages/shap/explainers/_deep/deep_tf.py:99: UserWarning: Your TensorFlow version is newer than 2.4.0 and so graph support has been removed in eager mode and some static graphs may not be supported. See PR #1483 for discussion.\n",
            "  warnings.warn(\"Your TensorFlow version is newer than 2.4.0 and so graph support has been removed in eager mode and some static graphs may not be supported. See PR #1483 for discussion.\")\n"
          ]
        }
      ],
      "source": [
        "explainer = shap.DeepExplainer(model, X_train)\n",
        "shap_values = explainer(X_test)"
      ]
    },
    {
      "cell_type": "code",
      "execution_count": null,
      "id": "gxCm3j_eNTiv",
      "metadata": {
        "colab": {
          "base_uri": "https://localhost:8080/"
        },
        "id": "gxCm3j_eNTiv",
        "outputId": "4dd2788e-24c6-4688-e8af-57732afc12b0"
      },
      "outputs": [
        {
          "output_type": "stream",
          "name": "stdout",
          "text": [
            "(120, 40, 5, 1)\n"
          ]
        }
      ],
      "source": [
        "print(shap_values.shape)"
      ]
    },
    {
      "cell_type": "code",
      "execution_count": null,
      "id": "rEfbW-b6LXYJ",
      "metadata": {
        "colab": {
          "base_uri": "https://localhost:8080/",
          "height": 357
        },
        "id": "rEfbW-b6LXYJ",
        "outputId": "85e8654a-cc26-4343-cf78-75bb509a1068"
      },
      "outputs": [
        {
          "output_type": "display_data",
          "data": {
            "text/plain": [
              "<Figure size 800x350 with 2 Axes>"
            ],
            "image/png": "[encoded data removed]"
          },
          "metadata": {}
        }
      ],
      "source": [
        "shap.summary_plot(shap_values[:,0,:,0], feature_names=features)"
      ]
    },
    {
      "cell_type": "markdown",
      "id": "che_-eMfe0ul",
      "metadata": {
        "id": "che_-eMfe0ul"
      },
      "source": [
        "### Run the loop to test hyperparameters"
      ]
    },
    {
      "cell_type": "code",
      "execution_count": null,
      "id": "2eq3uhEiQpMQ",
      "metadata": {
        "colab": {
          "base_uri": "https://localhost:8080/"
        },
        "collapsed": true,
        "id": "2eq3uhEiQpMQ",
        "outputId": "95609c28-be52-474f-bae6-e21ba7fd0684"
      },
      "outputs": [
        {
          "metadata": {
            "tags": null
          },
          "name": "stderr",
          "output_type": "stream",
          "text": [
            "WARNING:tensorflow:Layer lstm_8 will not use cuDNN kernels since it doesn't meet the criteria. It will use a generic GPU kernel as fallback when running on GPU.\n",
            "WARNING:tensorflow:Layer lstm_9 will not use cuDNN kernels since it doesn't meet the criteria. It will use a generic GPU kernel as fallback when running on GPU.\n"
          ]
        },
        {
          "metadata": {
            "tags": null
          },
          "name": "stdout",
          "output_type": "stream",
          "text": [
            "   Adj Close           TVL  sentiment_score  normalized_influence_robust  \\\n",
            "0     128.87  6.031933e+08         0.491250                     0.977273   \n",
            "1     131.61  6.029450e+08         0.567333                     4.992424   \n",
            "2     130.67  6.026967e+08         0.008000                     2.045455   \n",
            "3     129.96  5.999431e+08         0.791700                     0.827273   \n",
            "4     127.07  5.971895e+08         0.214620                     3.318182   \n",
            "\n",
            "       Volume  \n",
            "0  7769.17336  \n",
            "1  4163.30667  \n",
            "2  3772.66670  \n",
            "3  3718.46074  \n",
            "4  7303.34389  \n"
          ]
        },
        {
          "metadata": {
            "tags": null
          },
          "name": "stderr",
          "output_type": "stream",
          "text": [
            "WARNING:tensorflow:Layer lstm_10 will not use cuDNN kernels since it doesn't meet the criteria. It will use a generic GPU kernel as fallback when running on GPU.\n",
            "WARNING:tensorflow:Layer lstm_11 will not use cuDNN kernels since it doesn't meet the criteria. It will use a generic GPU kernel as fallback when running on GPU.\n"
          ]
        },
        {
          "metadata": {
            "tags": null
          },
          "name": "stdout",
          "output_type": "stream",
          "text": [
            "Train on 2559 samples, validate on 266 samples\n",
            "Epoch 1/60\n",
            "2559/2559 [==============================] - ETA: 0s - loss: 0.0129 - mean_squared_error: 0.0129 - root_mean_squared_error: 0.1138"
          ]
        },
        {
          "metadata": {
            "tags": null
          },
          "name": "stderr",
          "output_type": "stream",
          "text": [
            "/usr/local/lib/python3.10/dist-packages/keras/src/engine/training_v1.py:2335: UserWarning: `Model.state_updates` will be removed in a future version. This property should not be used in TensorFlow 2.0, as `updates` are applied automatically.\n",
            "  updates = self.state_updates\n"
          ]
        },
        {
          "metadata": {
            "tags": null
          },
          "name": "stdout",
          "output_type": "stream",
          "text": [
            "2559/2559 [==============================] - 9s 3ms/sample - loss: 0.0129 - mean_squared_error: 0.0129 - root_mean_squared_error: 0.1138 - val_loss: 0.0012 - val_mean_squared_error: 0.0012 - val_root_mean_squared_error: 0.0346\n",
            "Epoch 2/60\n",
            "2559/2559 [==============================] - 7s 3ms/sample - loss: 0.0045 - mean_squared_error: 0.0045 - root_mean_squared_error: 0.0673 - val_loss: 0.0017 - val_mean_squared_error: 0.0017 - val_root_mean_squared_error: 0.0414\n",
            "Epoch 3/60\n",
            "2559/2559 [==============================] - 9s 4ms/sample - loss: 0.0042 - mean_squared_error: 0.0042 - root_mean_squared_error: 0.0650 - val_loss: 0.0030 - val_mean_squared_error: 0.0030 - val_root_mean_squared_error: 0.0550\n",
            "Epoch 4/60\n",
            "2559/2559 [==============================] - 7s 3ms/sample - loss: 0.0036 - mean_squared_error: 0.0036 - root_mean_squared_error: 0.0599 - val_loss: 0.0026 - val_mean_squared_error: 0.0026 - val_root_mean_squared_error: 0.0510\n",
            "Epoch 5/60\n",
            "2559/2559 [==============================] - 8s 3ms/sample - loss: 0.0034 - mean_squared_error: 0.0034 - root_mean_squared_error: 0.0581 - val_loss: 0.0012 - val_mean_squared_error: 0.0012 - val_root_mean_squared_error: 0.0350\n",
            "Epoch 6/60\n",
            "2559/2559 [==============================] - 8s 3ms/sample - loss: 0.0030 - mean_squared_error: 0.0030 - root_mean_squared_error: 0.0551 - val_loss: 3.0380e-04 - val_mean_squared_error: 3.0380e-04 - val_root_mean_squared_error: 0.0174\n",
            "Epoch 7/60\n",
            "2559/2559 [==============================] - 7s 3ms/sample - loss: 0.0028 - mean_squared_error: 0.0028 - root_mean_squared_error: 0.0531 - val_loss: 0.0015 - val_mean_squared_error: 0.0015 - val_root_mean_squared_error: 0.0388\n",
            "Epoch 8/60\n",
            "2559/2559 [==============================] - 8s 3ms/sample - loss: 0.0026 - mean_squared_error: 0.0026 - root_mean_squared_error: 0.0507 - val_loss: 0.0021 - val_mean_squared_error: 0.0021 - val_root_mean_squared_error: 0.0462\n",
            "Epoch 9/60\n",
            "2559/2559 [==============================] - 7s 3ms/sample - loss: 0.0024 - mean_squared_error: 0.0024 - root_mean_squared_error: 0.0494 - val_loss: 5.0971e-04 - val_mean_squared_error: 5.0971e-04 - val_root_mean_squared_error: 0.0226\n",
            "Epoch 10/60\n",
            "2559/2559 [==============================] - 8s 3ms/sample - loss: 0.0024 - mean_squared_error: 0.0024 - root_mean_squared_error: 0.0493 - val_loss: 3.3208e-04 - val_mean_squared_error: 3.3208e-04 - val_root_mean_squared_error: 0.0182\n",
            "Epoch 11/60\n",
            "2559/2559 [==============================] - 7s 3ms/sample - loss: 0.0024 - mean_squared_error: 0.0024 - root_mean_squared_error: 0.0487 - val_loss: 4.3639e-04 - val_mean_squared_error: 4.3639e-04 - val_root_mean_squared_error: 0.0209\n",
            "Epoch 12/60\n",
            "2559/2559 [==============================] - 8s 3ms/sample - loss: 0.0023 - mean_squared_error: 0.0023 - root_mean_squared_error: 0.0480 - val_loss: 5.1056e-04 - val_mean_squared_error: 5.1056e-04 - val_root_mean_squared_error: 0.0226\n",
            "Epoch 13/60\n",
            "2559/2559 [==============================] - 8s 3ms/sample - loss: 0.0021 - mean_squared_error: 0.0021 - root_mean_squared_error: 0.0461 - val_loss: 2.0663e-04 - val_mean_squared_error: 2.0663e-04 - val_root_mean_squared_error: 0.0144\n",
            "Epoch 14/60\n",
            "2559/2559 [==============================] - 7s 3ms/sample - loss: 0.0019 - mean_squared_error: 0.0019 - root_mean_squared_error: 0.0436 - val_loss: 3.0666e-04 - val_mean_squared_error: 3.0666e-04 - val_root_mean_squared_error: 0.0175\n",
            "Epoch 15/60\n",
            "2559/2559 [==============================] - 8s 3ms/sample - loss: 0.0021 - mean_squared_error: 0.0021 - root_mean_squared_error: 0.0463 - val_loss: 3.1195e-04 - val_mean_squared_error: 3.1195e-04 - val_root_mean_squared_error: 0.0177\n",
            "Epoch 16/60\n",
            "2559/2559 [==============================] - 7s 3ms/sample - loss: 0.0020 - mean_squared_error: 0.0020 - root_mean_squared_error: 0.0443 - val_loss: 3.3607e-04 - val_mean_squared_error: 3.3607e-04 - val_root_mean_squared_error: 0.0183\n",
            "Epoch 17/60\n",
            "2559/2559 [==============================] - 8s 3ms/sample - loss: 0.0019 - mean_squared_error: 0.0019 - root_mean_squared_error: 0.0434 - val_loss: 2.2175e-04 - val_mean_squared_error: 2.2175e-04 - val_root_mean_squared_error: 0.0149\n",
            "Epoch 18/60\n",
            "2559/2559 [==============================] - 7s 3ms/sample - loss: 0.0017 - mean_squared_error: 0.0017 - root_mean_squared_error: 0.0417 - val_loss: 3.1415e-04 - val_mean_squared_error: 3.1415e-04 - val_root_mean_squared_error: 0.0177\n",
            "Epoch 19/60\n",
            "2559/2559 [==============================] - 8s 3ms/sample - loss: 0.0019 - mean_squared_error: 0.0019 - root_mean_squared_error: 0.0437 - val_loss: 2.0941e-04 - val_mean_squared_error: 2.0941e-04 - val_root_mean_squared_error: 0.0145\n",
            "Epoch 20/60\n",
            "2559/2559 [==============================] - 8s 3ms/sample - loss: 0.0018 - mean_squared_error: 0.0018 - root_mean_squared_error: 0.0429 - val_loss: 1.9715e-04 - val_mean_squared_error: 1.9715e-04 - val_root_mean_squared_error: 0.0140\n",
            "Epoch 21/60\n",
            "2559/2559 [==============================] - 7s 3ms/sample - loss: 0.0017 - mean_squared_error: 0.0017 - root_mean_squared_error: 0.0418 - val_loss: 1.6203e-04 - val_mean_squared_error: 1.6203e-04 - val_root_mean_squared_error: 0.0127\n",
            "Epoch 22/60\n",
            "2559/2559 [==============================] - 9s 4ms/sample - loss: 0.0017 - mean_squared_error: 0.0017 - root_mean_squared_error: 0.0408 - val_loss: 5.0783e-04 - val_mean_squared_error: 5.0783e-04 - val_root_mean_squared_error: 0.0225\n",
            "Epoch 23/60\n",
            "2559/2559 [==============================] - 7s 3ms/sample - loss: 0.0017 - mean_squared_error: 0.0017 - root_mean_squared_error: 0.0408 - val_loss: 1.4569e-04 - val_mean_squared_error: 1.4569e-04 - val_root_mean_squared_error: 0.0121\n",
            "Epoch 24/60\n",
            "2559/2559 [==============================] - 8s 3ms/sample - loss: 0.0016 - mean_squared_error: 0.0016 - root_mean_squared_error: 0.0399 - val_loss: 1.4446e-04 - val_mean_squared_error: 1.4446e-04 - val_root_mean_squared_error: 0.0120\n",
            "Epoch 25/60\n",
            "2559/2559 [==============================] - 7s 3ms/sample - loss: 0.0014 - mean_squared_error: 0.0014 - root_mean_squared_error: 0.0379 - val_loss: 1.4292e-04 - val_mean_squared_error: 1.4292e-04 - val_root_mean_squared_error: 0.0120\n",
            "Epoch 26/60\n",
            "2559/2559 [==============================] - 7s 3ms/sample - loss: 0.0014 - mean_squared_error: 0.0014 - root_mean_squared_error: 0.0380 - val_loss: 1.7230e-04 - val_mean_squared_error: 1.7230e-04 - val_root_mean_squared_error: 0.0131\n",
            "Epoch 27/60\n",
            "2559/2559 [==============================] - 9s 4ms/sample - loss: 0.0016 - mean_squared_error: 0.0016 - root_mean_squared_error: 0.0397 - val_loss: 5.2274e-04 - val_mean_squared_error: 5.2274e-04 - val_root_mean_squared_error: 0.0229\n",
            "Epoch 28/60\n",
            "2559/2559 [==============================] - 7s 3ms/sample - loss: 0.0015 - mean_squared_error: 0.0015 - root_mean_squared_error: 0.0391 - val_loss: 5.0909e-04 - val_mean_squared_error: 5.0909e-04 - val_root_mean_squared_error: 0.0226\n",
            "Epoch 29/60\n",
            "2559/2559 [==============================] - 8s 3ms/sample - loss: 0.0014 - mean_squared_error: 0.0014 - root_mean_squared_error: 0.0378 - val_loss: 7.1616e-04 - val_mean_squared_error: 7.1616e-04 - val_root_mean_squared_error: 0.0268\n",
            "Epoch 30/60\n",
            "2559/2559 [==============================] - 7s 3ms/sample - loss: 0.0013 - mean_squared_error: 0.0013 - root_mean_squared_error: 0.0366 - val_loss: 1.4960e-04 - val_mean_squared_error: 1.4960e-04 - val_root_mean_squared_error: 0.0122\n",
            "Epoch 31/60\n",
            "2559/2559 [==============================] - 8s 3ms/sample - loss: 0.0013 - mean_squared_error: 0.0013 - root_mean_squared_error: 0.0363 - val_loss: 2.6034e-04 - val_mean_squared_error: 2.6034e-04 - val_root_mean_squared_error: 0.0161\n",
            "Epoch 32/60\n",
            "2559/2559 [==============================] - 8s 3ms/sample - loss: 0.0014 - mean_squared_error: 0.0014 - root_mean_squared_error: 0.0370 - val_loss: 1.2736e-04 - val_mean_squared_error: 1.2736e-04 - val_root_mean_squared_error: 0.0113\n",
            "Epoch 33/60\n",
            "2559/2559 [==============================] - 7s 3ms/sample - loss: 0.0012 - mean_squared_error: 0.0012 - root_mean_squared_error: 0.0347 - val_loss: 3.1011e-04 - val_mean_squared_error: 3.1011e-04 - val_root_mean_squared_error: 0.0176\n",
            "Epoch 34/60\n",
            "2559/2559 [==============================] - 8s 3ms/sample - loss: 0.0014 - mean_squared_error: 0.0014 - root_mean_squared_error: 0.0369 - val_loss: 1.1880e-04 - val_mean_squared_error: 1.1880e-04 - val_root_mean_squared_error: 0.0109\n",
            "Epoch 35/60\n",
            "2559/2559 [==============================] - 7s 3ms/sample - loss: 0.0012 - mean_squared_error: 0.0012 - root_mean_squared_error: 0.0348 - val_loss: 1.1841e-04 - val_mean_squared_error: 1.1841e-04 - val_root_mean_squared_error: 0.0109\n",
            "Epoch 36/60\n",
            "2559/2559 [==============================] - 8s 3ms/sample - loss: 0.0013 - mean_squared_error: 0.0013 - root_mean_squared_error: 0.0367 - val_loss: 1.1792e-04 - val_mean_squared_error: 1.1792e-04 - val_root_mean_squared_error: 0.0109\n",
            "Epoch 37/60\n",
            "2559/2559 [==============================] - 7s 3ms/sample - loss: 0.0013 - mean_squared_error: 0.0013 - root_mean_squared_error: 0.0360 - val_loss: 1.3049e-04 - val_mean_squared_error: 1.3049e-04 - val_root_mean_squared_error: 0.0114\n",
            "Epoch 38/60\n",
            "2559/2559 [==============================] - 8s 3ms/sample - loss: 0.0011 - mean_squared_error: 0.0011 - root_mean_squared_error: 0.0336 - val_loss: 1.3802e-04 - val_mean_squared_error: 1.3802e-04 - val_root_mean_squared_error: 0.0117\n",
            "Epoch 39/60\n",
            "2559/2559 [==============================] - 7s 3ms/sample - loss: 0.0014 - mean_squared_error: 0.0014 - root_mean_squared_error: 0.0373 - val_loss: 1.0649e-04 - val_mean_squared_error: 1.0649e-04 - val_root_mean_squared_error: 0.0103\n",
            "Epoch 40/60\n",
            "2559/2559 [==============================] - 8s 3ms/sample - loss: 0.0012 - mean_squared_error: 0.0012 - root_mean_squared_error: 0.0352 - val_loss: 1.0704e-04 - val_mean_squared_error: 1.0704e-04 - val_root_mean_squared_error: 0.0103\n",
            "Epoch 41/60\n",
            "2559/2559 [==============================] - 8s 3ms/sample - loss: 0.0013 - mean_squared_error: 0.0013 - root_mean_squared_error: 0.0358 - val_loss: 1.8246e-04 - val_mean_squared_error: 1.8246e-04 - val_root_mean_squared_error: 0.0135\n",
            "Epoch 42/60\n",
            "2559/2559 [==============================] - 7s 3ms/sample - loss: 0.0011 - mean_squared_error: 0.0011 - root_mean_squared_error: 0.0332 - val_loss: 1.1763e-04 - val_mean_squared_error: 1.1763e-04 - val_root_mean_squared_error: 0.0108\n",
            "Epoch 43/60\n",
            "2559/2559 [==============================] - 8s 3ms/sample - loss: 0.0013 - mean_squared_error: 0.0013 - root_mean_squared_error: 0.0361 - val_loss: 2.9181e-04 - val_mean_squared_error: 2.9181e-04 - val_root_mean_squared_error: 0.0171\n",
            "Epoch 44/60\n",
            "2559/2559 [==============================] - 7s 3ms/sample - loss: 0.0012 - mean_squared_error: 0.0012 - root_mean_squared_error: 0.0340 - val_loss: 1.3141e-04 - val_mean_squared_error: 1.3141e-04 - val_root_mean_squared_error: 0.0115\n",
            "Epoch 45/60\n",
            "2559/2559 [==============================] - 8s 3ms/sample - loss: 0.0012 - mean_squared_error: 0.0012 - root_mean_squared_error: 0.0346 - val_loss: 1.0795e-04 - val_mean_squared_error: 1.0795e-04 - val_root_mean_squared_error: 0.0104\n",
            "Epoch 46/60\n",
            "2559/2559 [==============================] - 7s 3ms/sample - loss: 0.0012 - mean_squared_error: 0.0012 - root_mean_squared_error: 0.0343 - val_loss: 1.2658e-04 - val_mean_squared_error: 1.2658e-04 - val_root_mean_squared_error: 0.0113\n",
            "Epoch 47/60\n",
            "2559/2559 [==============================] - 8s 3ms/sample - loss: 0.0011 - mean_squared_error: 0.0011 - root_mean_squared_error: 0.0338 - val_loss: 1.0227e-04 - val_mean_squared_error: 1.0227e-04 - val_root_mean_squared_error: 0.0101\n",
            "Epoch 48/60\n",
            "2559/2559 [==============================] - 8s 3ms/sample - loss: 0.0012 - mean_squared_error: 0.0012 - root_mean_squared_error: 0.0342 - val_loss: 9.5690e-05 - val_mean_squared_error: 9.5690e-05 - val_root_mean_squared_error: 0.0098\n",
            "Epoch 49/60\n",
            "2559/2559 [==============================] - 7s 3ms/sample - loss: 0.0011 - mean_squared_error: 0.0011 - root_mean_squared_error: 0.0332 - val_loss: 1.7071e-04 - val_mean_squared_error: 1.7071e-04 - val_root_mean_squared_error: 0.0131\n",
            "Epoch 50/60\n",
            "2559/2559 [==============================] - 8s 3ms/sample - loss: 0.0011 - mean_squared_error: 0.0011 - root_mean_squared_error: 0.0336 - val_loss: 5.7302e-04 - val_mean_squared_error: 5.7302e-04 - val_root_mean_squared_error: 0.0239\n",
            "Epoch 51/60\n",
            "2559/2559 [==============================] - 7s 3ms/sample - loss: 0.0010 - mean_squared_error: 0.0010 - root_mean_squared_error: 0.0322 - val_loss: 8.9597e-05 - val_mean_squared_error: 8.9597e-05 - val_root_mean_squared_error: 0.0095\n",
            "Epoch 52/60\n",
            "2559/2559 [==============================] - 8s 3ms/sample - loss: 9.3775e-04 - mean_squared_error: 9.3775e-04 - root_mean_squared_error: 0.0306 - val_loss: 8.6625e-05 - val_mean_squared_error: 8.6625e-05 - val_root_mean_squared_error: 0.0093\n",
            "Epoch 53/60\n",
            "2559/2559 [==============================] - 7s 3ms/sample - loss: 0.0010 - mean_squared_error: 0.0010 - root_mean_squared_error: 0.0321 - val_loss: 1.0573e-04 - val_mean_squared_error: 1.0573e-04 - val_root_mean_squared_error: 0.0103\n",
            "Epoch 54/60\n",
            "2559/2559 [==============================] - 8s 3ms/sample - loss: 0.0012 - mean_squared_error: 0.0012 - root_mean_squared_error: 0.0344 - val_loss: 9.1005e-05 - val_mean_squared_error: 9.1005e-05 - val_root_mean_squared_error: 0.0095\n",
            "Epoch 55/60\n",
            "2559/2559 [==============================] - 7s 3ms/sample - loss: 0.0012 - mean_squared_error: 0.0012 - root_mean_squared_error: 0.0343 - val_loss: 2.6078e-04 - val_mean_squared_error: 2.6078e-04 - val_root_mean_squared_error: 0.0161\n",
            "Epoch 56/60\n",
            "2559/2559 [==============================] - 8s 3ms/sample - loss: 0.0011 - mean_squared_error: 0.0011 - root_mean_squared_error: 0.0334 - val_loss: 1.5712e-04 - val_mean_squared_error: 1.5712e-04 - val_root_mean_squared_error: 0.0125\n",
            "Epoch 57/60\n",
            "2559/2559 [==============================] - 8s 3ms/sample - loss: 0.0010 - mean_squared_error: 0.0010 - root_mean_squared_error: 0.0320 - val_loss: 8.1898e-05 - val_mean_squared_error: 8.1898e-05 - val_root_mean_squared_error: 0.0090\n",
            "Epoch 58/60\n",
            "2559/2559 [==============================] - 7s 3ms/sample - loss: 9.1109e-04 - mean_squared_error: 9.1109e-04 - root_mean_squared_error: 0.0302 - val_loss: 1.7028e-04 - val_mean_squared_error: 1.7028e-04 - val_root_mean_squared_error: 0.0130\n",
            "Epoch 59/60\n",
            "2559/2559 [==============================] - 8s 3ms/sample - loss: 9.6994e-04 - mean_squared_error: 9.6994e-04 - root_mean_squared_error: 0.0311 - val_loss: 1.5933e-04 - val_mean_squared_error: 1.5933e-04 - val_root_mean_squared_error: 0.0126\n",
            "Epoch 60/60\n",
            "2559/2559 [==============================] - 7s 3ms/sample - loss: 0.0011 - mean_squared_error: 0.0011 - root_mean_squared_error: 0.0333 - val_loss: 7.9828e-05 - val_mean_squared_error: 7.9828e-05 - val_root_mean_squared_error: 0.0089\n"
          ]
        },
        {
          "metadata": {
            "tags": null
          },
          "name": "stderr",
          "output_type": "stream",
          "text": [
            "/usr/local/lib/python3.10/dist-packages/keras/src/engine/training_v1.py:2359: UserWarning: `Model.state_updates` will be removed in a future version. This property should not be used in TensorFlow 2.0, as `updates` are applied automatically.\n",
            "  updates=self.state_updates,\n",
            "WARNING:tensorflow:Layer lstm_12 will not use cuDNN kernels since it doesn't meet the criteria. It will use a generic GPU kernel as fallback when running on GPU.\n",
            "WARNING:tensorflow:Layer lstm_13 will not use cuDNN kernels since it doesn't meet the criteria. It will use a generic GPU kernel as fallback when running on GPU.\n"
          ]
        },
        {
          "metadata": {
            "tags": null
          },
          "name": "stdout",
          "output_type": "stream",
          "text": [
            "   Adj Close           TVL  sentiment_score  normalized_influence_robust  \\\n",
            "0     128.87  6.031933e+08         0.491250                     0.977273   \n",
            "1     131.61  6.029450e+08         0.567333                     4.992424   \n",
            "2     130.67  6.026967e+08         0.008000                     2.045455   \n",
            "3     129.96  5.999431e+08         0.791700                     0.827273   \n",
            "4     127.07  5.971895e+08         0.214620                     3.318182   \n",
            "\n",
            "       Volume  \n",
            "0  7769.17336  \n",
            "1  4163.30667  \n",
            "2  3772.66670  \n",
            "3  3718.46074  \n",
            "4  7303.34389  \n"
          ]
        },
        {
          "metadata": {
            "tags": null
          },
          "name": "stderr",
          "output_type": "stream",
          "text": [
            "WARNING:tensorflow:Layer lstm_14 will not use cuDNN kernels since it doesn't meet the criteria. It will use a generic GPU kernel as fallback when running on GPU.\n",
            "WARNING:tensorflow:Layer lstm_15 will not use cuDNN kernels since it doesn't meet the criteria. It will use a generic GPU kernel as fallback when running on GPU.\n"
          ]
        },
        {
          "metadata": {
            "tags": null
          },
          "name": "stdout",
          "output_type": "stream",
          "text": [
            "Train on 2539 samples, validate on 246 samples\n",
            "Epoch 1/60\n",
            "2539/2539 [==============================] - ETA: 0s - loss: 0.0154 - mean_squared_error: 0.0154 - root_mean_squared_error: 0.1240"
          ]
        },
        {
          "metadata": {
            "tags": null
          },
          "name": "stderr",
          "output_type": "stream",
          "text": [
            "/usr/local/lib/python3.10/dist-packages/keras/src/engine/training_v1.py:2335: UserWarning: `Model.state_updates` will be removed in a future version. This property should not be used in TensorFlow 2.0, as `updates` are applied automatically.\n",
            "  updates = self.state_updates\n"
          ]
        },
        {
          "output_type": "stream",
          "name": "stdout",
          "text": [
            "2539/2539 [==============================] - 12s 5ms/sample - loss: 0.0154 - mean_squared_error: 0.0154 - root_mean_squared_error: 0.1240 - val_loss: 0.0041 - val_mean_squared_error: 0.0041 - val_root_mean_squared_error: 0.0639\n",
            "Epoch 2/60\n",
            "2539/2539 [==============================] - 11s 4ms/sample - loss: 0.0042 - mean_squared_error: 0.0042 - root_mean_squared_error: 0.0649 - val_loss: 8.3556e-04 - val_mean_squared_error: 8.3556e-04 - val_root_mean_squared_error: 0.0289\n",
            "Epoch 3/60\n",
            "2539/2539 [==============================] - 12s 5ms/sample - loss: 0.0038 - mean_squared_error: 0.0038 - root_mean_squared_error: 0.0617 - val_loss: 4.5861e-04 - val_mean_squared_error: 4.5861e-04 - val_root_mean_squared_error: 0.0214\n",
            "Epoch 4/60\n",
            "2539/2539 [==============================] - 12s 5ms/sample - loss: 0.0034 - mean_squared_error: 0.0034 - root_mean_squared_error: 0.0583 - val_loss: 7.8240e-04 - val_mean_squared_error: 7.8240e-04 - val_root_mean_squared_error: 0.0280\n",
            "Epoch 5/60\n",
            "2539/2539 [==============================] - 12s 5ms/sample - loss: 0.0033 - mean_squared_error: 0.0033 - root_mean_squared_error: 0.0572 - val_loss: 4.2037e-04 - val_mean_squared_error: 4.2037e-04 - val_root_mean_squared_error: 0.0205\n",
            "Epoch 6/60\n",
            "2539/2539 [==============================] - 12s 5ms/sample - loss: 0.0032 - mean_squared_error: 0.0032 - root_mean_squared_error: 0.0563 - val_loss: 0.0027 - val_mean_squared_error: 0.0027 - val_root_mean_squared_error: 0.0516\n",
            "Epoch 7/60\n",
            "2539/2539 [==============================] - 12s 5ms/sample - loss: 0.0031 - mean_squared_error: 0.0031 - root_mean_squared_error: 0.0553 - val_loss: 6.5228e-04 - val_mean_squared_error: 6.5228e-04 - val_root_mean_squared_error: 0.0255\n",
            "Epoch 8/60\n",
            "2539/2539 [==============================] - 11s 4ms/sample - loss: 0.0028 - mean_squared_error: 0.0028 - root_mean_squared_error: 0.0525 - val_loss: 7.4582e-04 - val_mean_squared_error: 7.4582e-04 - val_root_mean_squared_error: 0.0273\n",
            "Epoch 9/60\n",
            "2539/2539 [==============================] - 10s 4ms/sample - loss: 0.0025 - mean_squared_error: 0.0025 - root_mean_squared_error: 0.0505 - val_loss: 0.0013 - val_mean_squared_error: 0.0013 - val_root_mean_squared_error: 0.0363\n",
            "Epoch 10/60\n",
            "2539/2539 [==============================] - 12s 5ms/sample - loss: 0.0026 - mean_squared_error: 0.0026 - root_mean_squared_error: 0.0507 - val_loss: 2.4914e-04 - val_mean_squared_error: 2.4914e-04 - val_root_mean_squared_error: 0.0158\n",
            "Epoch 11/60\n",
            "2539/2539 [==============================] - 12s 5ms/sample - loss: 0.0023 - mean_squared_error: 0.0023 - root_mean_squared_error: 0.0479 - val_loss: 0.0011 - val_mean_squared_error: 0.0011 - val_root_mean_squared_error: 0.0335\n",
            "Epoch 12/60\n",
            "2539/2539 [==============================] - 12s 5ms/sample - loss: 0.0024 - mean_squared_error: 0.0024 - root_mean_squared_error: 0.0485 - val_loss: 6.8452e-04 - val_mean_squared_error: 6.8452e-04 - val_root_mean_squared_error: 0.0262\n",
            "Epoch 13/60\n",
            "2539/2539 [==============================] - 12s 5ms/sample - loss: 0.0024 - mean_squared_error: 0.0024 - root_mean_squared_error: 0.0491 - val_loss: 3.4837e-04 - val_mean_squared_error: 3.4837e-04 - val_root_mean_squared_error: 0.0187\n",
            "Epoch 14/60\n",
            "2539/2539 [==============================] - 12s 5ms/sample - loss: 0.0023 - mean_squared_error: 0.0023 - root_mean_squared_error: 0.0481 - val_loss: 0.0015 - val_mean_squared_error: 0.0015 - val_root_mean_squared_error: 0.0382\n",
            "Epoch 15/60\n",
            "2539/2539 [==============================] - 12s 5ms/sample - loss: 0.0022 - mean_squared_error: 0.0022 - root_mean_squared_error: 0.0467 - val_loss: 5.6272e-04 - val_mean_squared_error: 5.6272e-04 - val_root_mean_squared_error: 0.0237\n",
            "Epoch 16/60\n",
            "2539/2539 [==============================] - 11s 4ms/sample - loss: 0.0021 - mean_squared_error: 0.0021 - root_mean_squared_error: 0.0458 - val_loss: 5.2887e-04 - val_mean_squared_error: 5.2887e-04 - val_root_mean_squared_error: 0.0230\n",
            "Epoch 17/60\n",
            "2539/2539 [==============================] - 11s 4ms/sample - loss: 0.0019 - mean_squared_error: 0.0019 - root_mean_squared_error: 0.0437 - val_loss: 2.4362e-04 - val_mean_squared_error: 2.4362e-04 - val_root_mean_squared_error: 0.0156\n",
            "Epoch 18/60\n",
            "2539/2539 [==============================] - 12s 5ms/sample - loss: 0.0019 - mean_squared_error: 0.0019 - root_mean_squared_error: 0.0437 - val_loss: 2.7272e-04 - val_mean_squared_error: 2.7272e-04 - val_root_mean_squared_error: 0.0165\n",
            "Epoch 19/60\n",
            "2539/2539 [==============================] - 12s 5ms/sample - loss: 0.0021 - mean_squared_error: 0.0021 - root_mean_squared_error: 0.0463 - val_loss: 2.9370e-04 - val_mean_squared_error: 2.9370e-04 - val_root_mean_squared_error: 0.0171\n",
            "Epoch 20/60\n",
            "2539/2539 [==============================] - 12s 5ms/sample - loss: 0.0017 - mean_squared_error: 0.0017 - root_mean_squared_error: 0.0416 - val_loss: 9.0652e-04 - val_mean_squared_error: 9.0652e-04 - val_root_mean_squared_error: 0.0301\n",
            "Epoch 21/60\n",
            "2539/2539 [==============================] - 12s 5ms/sample - loss: 0.0018 - mean_squared_error: 0.0018 - root_mean_squared_error: 0.0428 - val_loss: 1.8266e-04 - val_mean_squared_error: 1.8266e-04 - val_root_mean_squared_error: 0.0135\n",
            "Epoch 22/60\n",
            "2539/2539 [==============================] - 12s 5ms/sample - loss: 0.0018 - mean_squared_error: 0.0018 - root_mean_squared_error: 0.0423 - val_loss: 1.7346e-04 - val_mean_squared_error: 1.7346e-04 - val_root_mean_squared_error: 0.0132\n",
            "Epoch 23/60\n",
            "2539/2539 [==============================] - 12s 5ms/sample - loss: 0.0018 - mean_squared_error: 0.0018 - root_mean_squared_error: 0.0425 - val_loss: 9.3176e-04 - val_mean_squared_error: 9.3176e-04 - val_root_mean_squared_error: 0.0305\n",
            "Epoch 24/60\n",
            "2539/2539 [==============================] - 11s 4ms/sample - loss: 0.0016 - mean_squared_error: 0.0016 - root_mean_squared_error: 0.0397 - val_loss: 3.8509e-04 - val_mean_squared_error: 3.8509e-04 - val_root_mean_squared_error: 0.0196\n",
            "Epoch 25/60\n",
            "2539/2539 [==============================] - 11s 5ms/sample - loss: 0.0016 - mean_squared_error: 0.0016 - root_mean_squared_error: 0.0400 - val_loss: 1.9086e-04 - val_mean_squared_error: 1.9086e-04 - val_root_mean_squared_error: 0.0138\n",
            "Epoch 26/60\n",
            "2539/2539 [==============================] - 12s 5ms/sample - loss: 0.0018 - mean_squared_error: 0.0018 - root_mean_squared_error: 0.0423 - val_loss: 1.7430e-04 - val_mean_squared_error: 1.7430e-04 - val_root_mean_squared_error: 0.0132\n",
            "Epoch 27/60\n",
            "2539/2539 [==============================] - 12s 5ms/sample - loss: 0.0015 - mean_squared_error: 0.0015 - root_mean_squared_error: 0.0392 - val_loss: 2.8991e-04 - val_mean_squared_error: 2.8991e-04 - val_root_mean_squared_error: 0.0170\n",
            "Epoch 28/60\n",
            "2539/2539 [==============================] - 12s 5ms/sample - loss: 0.0015 - mean_squared_error: 0.0015 - root_mean_squared_error: 0.0381 - val_loss: 1.6788e-04 - val_mean_squared_error: 1.6788e-04 - val_root_mean_squared_error: 0.0130\n",
            "Epoch 29/60\n",
            "2539/2539 [==============================] - 12s 5ms/sample - loss: 0.0014 - mean_squared_error: 0.0014 - root_mean_squared_error: 0.0371 - val_loss: 1.4383e-04 - val_mean_squared_error: 1.4383e-04 - val_root_mean_squared_error: 0.0120\n",
            "Epoch 30/60\n",
            "2539/2539 [==============================] - 12s 5ms/sample - loss: 0.0015 - mean_squared_error: 0.0015 - root_mean_squared_error: 0.0392 - val_loss: 6.7461e-04 - val_mean_squared_error: 6.7461e-04 - val_root_mean_squared_error: 0.0260\n",
            "Epoch 31/60\n",
            "2539/2539 [==============================] - 12s 5ms/sample - loss: 0.0015 - mean_squared_error: 0.0015 - root_mean_squared_error: 0.0389 - val_loss: 2.7424e-04 - val_mean_squared_error: 2.7424e-04 - val_root_mean_squared_error: 0.0166\n",
            "Epoch 32/60\n",
            "2539/2539 [==============================] - 11s 4ms/sample - loss: 0.0014 - mean_squared_error: 0.0014 - root_mean_squared_error: 0.0380 - val_loss: 1.3508e-04 - val_mean_squared_error: 1.3508e-04 - val_root_mean_squared_error: 0.0116\n",
            "Epoch 33/60\n",
            "2539/2539 [==============================] - 11s 4ms/sample - loss: 0.0015 - mean_squared_error: 0.0015 - root_mean_squared_error: 0.0382 - val_loss: 1.3845e-04 - val_mean_squared_error: 1.3845e-04 - val_root_mean_squared_error: 0.0118\n",
            "Epoch 34/60\n",
            "2539/2539 [==============================] - 11s 4ms/sample - loss: 0.0015 - mean_squared_error: 0.0015 - root_mean_squared_error: 0.0382 - val_loss: 1.7551e-04 - val_mean_squared_error: 1.7551e-04 - val_root_mean_squared_error: 0.0132\n",
            "Epoch 35/60\n",
            "2539/2539 [==============================] - 12s 5ms/sample - loss: 0.0014 - mean_squared_error: 0.0014 - root_mean_squared_error: 0.0378 - val_loss: 1.6567e-04 - val_mean_squared_error: 1.6567e-04 - val_root_mean_squared_error: 0.0129\n",
            "Epoch 36/60\n",
            "2539/2539 [==============================] - 11s 5ms/sample - loss: 0.0013 - mean_squared_error: 0.0013 - root_mean_squared_error: 0.0366 - val_loss: 3.0895e-04 - val_mean_squared_error: 3.0895e-04 - val_root_mean_squared_error: 0.0176\n",
            "Epoch 37/60\n",
            "2539/2539 [==============================] - 12s 5ms/sample - loss: 0.0015 - mean_squared_error: 0.0015 - root_mean_squared_error: 0.0387 - val_loss: 3.2959e-04 - val_mean_squared_error: 3.2959e-04 - val_root_mean_squared_error: 0.0182\n",
            "Epoch 38/60\n",
            "2539/2539 [==============================] - 12s 5ms/sample - loss: 0.0013 - mean_squared_error: 0.0013 - root_mean_squared_error: 0.0363 - val_loss: 1.3372e-04 - val_mean_squared_error: 1.3372e-04 - val_root_mean_squared_error: 0.0116\n",
            "Epoch 39/60\n",
            "2539/2539 [==============================] - 12s 5ms/sample - loss: 0.0013 - mean_squared_error: 0.0013 - root_mean_squared_error: 0.0356 - val_loss: 3.3514e-04 - val_mean_squared_error: 3.3514e-04 - val_root_mean_squared_error: 0.0183\n",
            "Epoch 40/60\n",
            "2539/2539 [==============================] - 12s 5ms/sample - loss: 0.0013 - mean_squared_error: 0.0013 - root_mean_squared_error: 0.0359 - val_loss: 2.0451e-04 - val_mean_squared_error: 2.0451e-04 - val_root_mean_squared_error: 0.0143\n",
            "Epoch 41/60\n",
            "2539/2539 [==============================] - 11s 4ms/sample - loss: 0.0013 - mean_squared_error: 0.0013 - root_mean_squared_error: 0.0363 - val_loss: 1.9055e-04 - val_mean_squared_error: 1.9055e-04 - val_root_mean_squared_error: 0.0138\n",
            "Epoch 42/60\n",
            "2539/2539 [==============================] - 11s 4ms/sample - loss: 0.0012 - mean_squared_error: 0.0012 - root_mean_squared_error: 0.0344 - val_loss: 3.2309e-04 - val_mean_squared_error: 3.2309e-04 - val_root_mean_squared_error: 0.0180\n",
            "Epoch 43/60\n",
            "2539/2539 [==============================] - 11s 5ms/sample - loss: 0.0014 - mean_squared_error: 0.0014 - root_mean_squared_error: 0.0369 - val_loss: 3.2133e-04 - val_mean_squared_error: 3.2133e-04 - val_root_mean_squared_error: 0.0179\n",
            "Epoch 44/60\n",
            "2539/2539 [==============================] - 11s 4ms/sample - loss: 0.0011 - mean_squared_error: 0.0011 - root_mean_squared_error: 0.0333 - val_loss: 1.2645e-04 - val_mean_squared_error: 1.2645e-04 - val_root_mean_squared_error: 0.0112\n",
            "Epoch 45/60\n",
            "2539/2539 [==============================] - 11s 5ms/sample - loss: 0.0012 - mean_squared_error: 0.0012 - root_mean_squared_error: 0.0342 - val_loss: 1.2946e-04 - val_mean_squared_error: 1.2946e-04 - val_root_mean_squared_error: 0.0114\n",
            "Epoch 46/60\n",
            "2539/2539 [==============================] - 11s 5ms/sample - loss: 0.0012 - mean_squared_error: 0.0012 - root_mean_squared_error: 0.0340 - val_loss: 1.0384e-04 - val_mean_squared_error: 1.0384e-04 - val_root_mean_squared_error: 0.0102\n",
            "Epoch 47/60\n",
            "2539/2539 [==============================] - 12s 5ms/sample - loss: 0.0011 - mean_squared_error: 0.0011 - root_mean_squared_error: 0.0329 - val_loss: 1.9130e-04 - val_mean_squared_error: 1.9130e-04 - val_root_mean_squared_error: 0.0138\n",
            "Epoch 48/60\n",
            "2539/2539 [==============================] - 11s 4ms/sample - loss: 0.0011 - mean_squared_error: 0.0011 - root_mean_squared_error: 0.0338 - val_loss: 1.1056e-04 - val_mean_squared_error: 1.1056e-04 - val_root_mean_squared_error: 0.0105\n",
            "Epoch 49/60\n",
            "2539/2539 [==============================] - 11s 4ms/sample - loss: 0.0011 - mean_squared_error: 0.0011 - root_mean_squared_error: 0.0333 - val_loss: 1.1761e-04 - val_mean_squared_error: 1.1761e-04 - val_root_mean_squared_error: 0.0108\n",
            "Epoch 50/60\n",
            "2539/2539 [==============================] - 12s 5ms/sample - loss: 0.0013 - mean_squared_error: 0.0013 - root_mean_squared_error: 0.0356 - val_loss: 1.0052e-04 - val_mean_squared_error: 1.0052e-04 - val_root_mean_squared_error: 0.0100\n",
            "Epoch 51/60\n",
            "2539/2539 [==============================] - 12s 5ms/sample - loss: 0.0011 - mean_squared_error: 0.0011 - root_mean_squared_error: 0.0338 - val_loss: 1.7055e-04 - val_mean_squared_error: 1.7055e-04 - val_root_mean_squared_error: 0.0131\n",
            "Epoch 52/60\n",
            "2539/2539 [==============================] - 12s 5ms/sample - loss: 0.0011 - mean_squared_error: 0.0011 - root_mean_squared_error: 0.0336 - val_loss: 2.5181e-04 - val_mean_squared_error: 2.5181e-04 - val_root_mean_squared_error: 0.0159\n",
            "Epoch 53/60\n",
            "2539/2539 [==============================] - 12s 5ms/sample - loss: 0.0010 - mean_squared_error: 0.0010 - root_mean_squared_error: 0.0320 - val_loss: 1.7694e-04 - val_mean_squared_error: 1.7694e-04 - val_root_mean_squared_error: 0.0133\n",
            "Epoch 54/60\n",
            "2539/2539 [==============================] - 12s 5ms/sample - loss: 9.9364e-04 - mean_squared_error: 9.9364e-04 - root_mean_squared_error: 0.0315 - val_loss: 1.1137e-04 - val_mean_squared_error: 1.1137e-04 - val_root_mean_squared_error: 0.0106\n",
            "Epoch 55/60\n",
            "2539/2539 [==============================] - 12s 5ms/sample - loss: 0.0011 - mean_squared_error: 0.0011 - root_mean_squared_error: 0.0333 - val_loss: 2.8443e-04 - val_mean_squared_error: 2.8443e-04 - val_root_mean_squared_error: 0.0169\n",
            "Epoch 56/60\n",
            "2539/2539 [==============================] - 12s 5ms/sample - loss: 0.0011 - mean_squared_error: 0.0011 - root_mean_squared_error: 0.0334 - val_loss: 9.6863e-05 - val_mean_squared_error: 9.6863e-05 - val_root_mean_squared_error: 0.0098\n",
            "Epoch 57/60\n",
            "2539/2539 [==============================] - 11s 4ms/sample - loss: 0.0012 - mean_squared_error: 0.0012 - root_mean_squared_error: 0.0340 - val_loss: 1.8240e-04 - val_mean_squared_error: 1.8240e-04 - val_root_mean_squared_error: 0.0135\n",
            "Epoch 58/60\n",
            "2539/2539 [==============================] - 11s 4ms/sample - loss: 0.0011 - mean_squared_error: 0.0011 - root_mean_squared_error: 0.0325 - val_loss: 1.7500e-04 - val_mean_squared_error: 1.7500e-04 - val_root_mean_squared_error: 0.0132\n",
            "Epoch 59/60\n",
            "2539/2539 [==============================] - 12s 5ms/sample - loss: 0.0011 - mean_squared_error: 0.0011 - root_mean_squared_error: 0.0324 - val_loss: 4.5584e-04 - val_mean_squared_error: 4.5584e-04 - val_root_mean_squared_error: 0.0214\n",
            "Epoch 60/60\n",
            "2539/2539 [==============================] - 12s 5ms/sample - loss: 0.0010 - mean_squared_error: 0.0010 - root_mean_squared_error: 0.0317 - val_loss: 2.5961e-04 - val_mean_squared_error: 2.5961e-04 - val_root_mean_squared_error: 0.0161\n"
          ]
        },
        {
          "output_type": "stream",
          "name": "stderr",
          "text": [
            "/usr/local/lib/python3.10/dist-packages/keras/src/engine/training_v1.py:2359: UserWarning: `Model.state_updates` will be removed in a future version. This property should not be used in TensorFlow 2.0, as `updates` are applied automatically.\n",
            "  updates=self.state_updates,\n",
            "WARNING:tensorflow:Layer lstm_16 will not use cuDNN kernels since it doesn't meet the criteria. It will use a generic GPU kernel as fallback when running on GPU.\n",
            "WARNING:tensorflow:Layer lstm_17 will not use cuDNN kernels since it doesn't meet the criteria. It will use a generic GPU kernel as fallback when running on GPU.\n"
          ]
        },
        {
          "output_type": "stream",
          "name": "stdout",
          "text": [
            "   Adj Close           TVL  sentiment_score  normalized_influence_robust  \\\n",
            "0     128.87  6.031933e+08         0.491250                     0.977273   \n",
            "1     131.61  6.029450e+08         0.567333                     4.992424   \n",
            "2     130.67  6.026967e+08         0.008000                     2.045455   \n",
            "3     129.96  5.999431e+08         0.791700                     0.827273   \n",
            "4     127.07  5.971895e+08         0.214620                     3.318182   \n",
            "\n",
            "       Volume  \n",
            "0  7769.17336  \n",
            "1  4163.30667  \n",
            "2  3772.66670  \n",
            "3  3718.46074  \n",
            "4  7303.34389  \n"
          ]
        },
        {
          "output_type": "stream",
          "name": "stderr",
          "text": [
            "WARNING:tensorflow:Layer lstm_18 will not use cuDNN kernels since it doesn't meet the criteria. It will use a generic GPU kernel as fallback when running on GPU.\n",
            "WARNING:tensorflow:Layer lstm_19 will not use cuDNN kernels since it doesn't meet the criteria. It will use a generic GPU kernel as fallback when running on GPU.\n"
          ]
        },
        {
          "output_type": "stream",
          "name": "stdout",
          "text": [
            "Train on 2519 samples, validate on 226 samples\n",
            "Epoch 1/60\n",
            "2519/2519 [==============================] - ETA: 0s - loss: 0.0130 - mean_squared_error: 0.0130 - root_mean_squared_error: 0.1139"
          ]
        },
        {
          "output_type": "stream",
          "name": "stderr",
          "text": [
            "/usr/local/lib/python3.10/dist-packages/keras/src/engine/training_v1.py:2335: UserWarning: `Model.state_updates` will be removed in a future version. This property should not be used in TensorFlow 2.0, as `updates` are applied automatically.\n",
            "  updates = self.state_updates\n"
          ]
        },
        {
          "output_type": "stream",
          "name": "stdout",
          "text": [
            "\b\b\b\b\b\b\b\b\b\b\b\b\b\b\b\b\b\b\b\b\b\b\b\b\b\b\b\b\b\b\b\b\b\b\b\b\b\b\b\b\b\b\b\b\b\b\b\b\b\b\b\b\b\b\b\b\b\b\b\b\b\b\b\b\b\b\b\b\b\b\b\b\b\b\b\b\b\b\b\b\b\b\b\b\b\b\b\b\b\b\b\b\b\b\b\b\b\b\b\b\b\b\b\b\b\b\b\b\b\b\b\b\b\b\b\b\b\b\b\b\b\b\b\b\b\b\b\b\b\b\r2519/2519 [==============================] - 17s 7ms/sample - loss: 0.0130 - mean_squared_error: 0.0130 - root_mean_squared_error: 0.1139 - val_loss: 0.0011 - val_mean_squared_error: 0.0011 - val_root_mean_squared_error: 0.0325\n",
            "Epoch 2/60\n",
            "2519/2519 [==============================] - 15s 6ms/sample - loss: 0.0044 - mean_squared_error: 0.0044 - root_mean_squared_error: 0.0666 - val_loss: 3.9041e-04 - val_mean_squared_error: 3.9041e-04 - val_root_mean_squared_error: 0.0198\n",
            "Epoch 3/60\n",
            "2519/2519 [==============================] - 15s 6ms/sample - loss: 0.0040 - mean_squared_error: 0.0040 - root_mean_squared_error: 0.0634 - val_loss: 0.0021 - val_mean_squared_error: 0.0021 - val_root_mean_squared_error: 0.0460\n",
            "Epoch 4/60\n",
            "2519/2519 [==============================] - 15s 6ms/sample - loss: 0.0036 - mean_squared_error: 0.0036 - root_mean_squared_error: 0.0600 - val_loss: 2.9593e-04 - val_mean_squared_error: 2.9593e-04 - val_root_mean_squared_error: 0.0172\n",
            "Epoch 5/60\n",
            "2519/2519 [==============================] - 17s 7ms/sample - loss: 0.0032 - mean_squared_error: 0.0032 - root_mean_squared_error: 0.0561 - val_loss: 0.0019 - val_mean_squared_error: 0.0019 - val_root_mean_squared_error: 0.0435\n",
            "Epoch 6/60\n",
            "2519/2519 [==============================] - 17s 7ms/sample - loss: 0.0036 - mean_squared_error: 0.0036 - root_mean_squared_error: 0.0604 - val_loss: 3.8239e-04 - val_mean_squared_error: 3.8239e-04 - val_root_mean_squared_error: 0.0196\n",
            "Epoch 7/60\n",
            "2519/2519 [==============================] - 16s 6ms/sample - loss: 0.0029 - mean_squared_error: 0.0029 - root_mean_squared_error: 0.0540 - val_loss: 0.0010 - val_mean_squared_error: 0.0010 - val_root_mean_squared_error: 0.0318\n",
            "Epoch 8/60\n",
            "2519/2519 [==============================] - 17s 7ms/sample - loss: 0.0026 - mean_squared_error: 0.0026 - root_mean_squared_error: 0.0511 - val_loss: 3.7956e-04 - val_mean_squared_error: 3.7956e-04 - val_root_mean_squared_error: 0.0195\n",
            "Epoch 9/60\n",
            "2519/2519 [==============================] - 18s 7ms/sample - loss: 0.0026 - mean_squared_error: 0.0026 - root_mean_squared_error: 0.0507 - val_loss: 4.0993e-04 - val_mean_squared_error: 4.0993e-04 - val_root_mean_squared_error: 0.0202\n",
            "Epoch 10/60\n",
            "2519/2519 [==============================] - 16s 6ms/sample - loss: 0.0026 - mean_squared_error: 0.0026 - root_mean_squared_error: 0.0509 - val_loss: 4.3407e-04 - val_mean_squared_error: 4.3407e-04 - val_root_mean_squared_error: 0.0208\n",
            "Epoch 11/60\n",
            "2519/2519 [==============================] - 16s 6ms/sample - loss: 0.0024 - mean_squared_error: 0.0024 - root_mean_squared_error: 0.0493 - val_loss: 2.3019e-04 - val_mean_squared_error: 2.3019e-04 - val_root_mean_squared_error: 0.0152\n",
            "Epoch 12/60\n",
            "2519/2519 [==============================] - 16s 6ms/sample - loss: 0.0024 - mean_squared_error: 0.0024 - root_mean_squared_error: 0.0486 - val_loss: 0.0011 - val_mean_squared_error: 0.0011 - val_root_mean_squared_error: 0.0329\n",
            "Epoch 13/60\n",
            "2519/2519 [==============================] - 16s 6ms/sample - loss: 0.0022 - mean_squared_error: 0.0022 - root_mean_squared_error: 0.0472 - val_loss: 6.7145e-04 - val_mean_squared_error: 6.7145e-04 - val_root_mean_squared_error: 0.0259\n",
            "Epoch 14/60\n",
            "2519/2519 [==============================] - 17s 7ms/sample - loss: 0.0019 - mean_squared_error: 0.0019 - root_mean_squared_error: 0.0441 - val_loss: 2.1201e-04 - val_mean_squared_error: 2.1201e-04 - val_root_mean_squared_error: 0.0146\n",
            "Epoch 15/60\n",
            "2519/2519 [==============================] - 16s 7ms/sample - loss: 0.0021 - mean_squared_error: 0.0021 - root_mean_squared_error: 0.0455 - val_loss: 8.3851e-04 - val_mean_squared_error: 8.3851e-04 - val_root_mean_squared_error: 0.0290\n",
            "Epoch 16/60\n",
            "2519/2519 [==============================] - 16s 6ms/sample - loss: 0.0021 - mean_squared_error: 0.0021 - root_mean_squared_error: 0.0456 - val_loss: 2.2830e-04 - val_mean_squared_error: 2.2830e-04 - val_root_mean_squared_error: 0.0151\n",
            "Epoch 17/60\n",
            "2519/2519 [==============================] - 17s 7ms/sample - loss: 0.0022 - mean_squared_error: 0.0022 - root_mean_squared_error: 0.0467 - val_loss: 4.5718e-04 - val_mean_squared_error: 4.5718e-04 - val_root_mean_squared_error: 0.0214\n",
            "Epoch 18/60\n",
            "2519/2519 [==============================] - 17s 7ms/sample - loss: 0.0018 - mean_squared_error: 0.0018 - root_mean_squared_error: 0.0428 - val_loss: 2.7234e-04 - val_mean_squared_error: 2.7234e-04 - val_root_mean_squared_error: 0.0165\n",
            "Epoch 19/60\n",
            "2519/2519 [==============================] - 16s 6ms/sample - loss: 0.0018 - mean_squared_error: 0.0018 - root_mean_squared_error: 0.0420 - val_loss: 1.8873e-04 - val_mean_squared_error: 1.8873e-04 - val_root_mean_squared_error: 0.0137\n",
            "Epoch 20/60\n",
            "2519/2519 [==============================] - 16s 6ms/sample - loss: 0.0019 - mean_squared_error: 0.0019 - root_mean_squared_error: 0.0441 - val_loss: 2.9633e-04 - val_mean_squared_error: 2.9633e-04 - val_root_mean_squared_error: 0.0172\n",
            "Epoch 21/60\n",
            "2519/2519 [==============================] - 17s 7ms/sample - loss: 0.0019 - mean_squared_error: 0.0019 - root_mean_squared_error: 0.0436 - val_loss: 0.0010 - val_mean_squared_error: 0.0010 - val_root_mean_squared_error: 0.0321\n",
            "Epoch 22/60\n",
            "2519/2519 [==============================] - 17s 7ms/sample - loss: 0.0016 - mean_squared_error: 0.0016 - root_mean_squared_error: 0.0402 - val_loss: 1.7130e-04 - val_mean_squared_error: 1.7130e-04 - val_root_mean_squared_error: 0.0131\n",
            "Epoch 23/60\n",
            "2519/2519 [==============================] - 16s 6ms/sample - loss: 0.0017 - mean_squared_error: 0.0017 - root_mean_squared_error: 0.0416 - val_loss: 0.0023 - val_mean_squared_error: 0.0023 - val_root_mean_squared_error: 0.0479\n",
            "Epoch 24/60\n",
            "2519/2519 [==============================] - 16s 6ms/sample - loss: 0.0021 - mean_squared_error: 0.0021 - root_mean_squared_error: 0.0455 - val_loss: 0.0012 - val_mean_squared_error: 0.0012 - val_root_mean_squared_error: 0.0350\n",
            "Epoch 25/60\n",
            "2519/2519 [==============================] - 16s 6ms/sample - loss: 0.0017 - mean_squared_error: 0.0017 - root_mean_squared_error: 0.0410 - val_loss: 2.6725e-04 - val_mean_squared_error: 2.6725e-04 - val_root_mean_squared_error: 0.0163\n",
            "Epoch 26/60\n",
            "2519/2519 [==============================] - 17s 7ms/sample - loss: 0.0017 - mean_squared_error: 0.0017 - root_mean_squared_error: 0.0409 - val_loss: 1.5983e-04 - val_mean_squared_error: 1.5983e-04 - val_root_mean_squared_error: 0.0126\n",
            "Epoch 27/60\n",
            "2519/2519 [==============================] - 16s 6ms/sample - loss: 0.0015 - mean_squared_error: 0.0015 - root_mean_squared_error: 0.0392 - val_loss: 1.4789e-04 - val_mean_squared_error: 1.4789e-04 - val_root_mean_squared_error: 0.0122\n",
            "Epoch 28/60\n",
            "2519/2519 [==============================] - 16s 6ms/sample - loss: 0.0018 - mean_squared_error: 0.0018 - root_mean_squared_error: 0.0420 - val_loss: 2.2803e-04 - val_mean_squared_error: 2.2803e-04 - val_root_mean_squared_error: 0.0151\n",
            "Epoch 29/60\n",
            "2519/2519 [==============================] - 16s 6ms/sample - loss: 0.0016 - mean_squared_error: 0.0016 - root_mean_squared_error: 0.0405 - val_loss: 1.4268e-04 - val_mean_squared_error: 1.4268e-04 - val_root_mean_squared_error: 0.0119\n",
            "Epoch 30/60\n",
            "2519/2519 [==============================] - 17s 7ms/sample - loss: 0.0014 - mean_squared_error: 0.0014 - root_mean_squared_error: 0.0378 - val_loss: 5.3166e-04 - val_mean_squared_error: 5.3166e-04 - val_root_mean_squared_error: 0.0231\n",
            "Epoch 31/60\n",
            "2519/2519 [==============================] - 16s 6ms/sample - loss: 0.0014 - mean_squared_error: 0.0014 - root_mean_squared_error: 0.0371 - val_loss: 2.1909e-04 - val_mean_squared_error: 2.1909e-04 - val_root_mean_squared_error: 0.0148\n",
            "Epoch 32/60\n",
            "2519/2519 [==============================] - 16s 6ms/sample - loss: 0.0015 - mean_squared_error: 0.0015 - root_mean_squared_error: 0.0383 - val_loss: 3.0645e-04 - val_mean_squared_error: 3.0645e-04 - val_root_mean_squared_error: 0.0175\n",
            "Epoch 33/60\n",
            "2519/2519 [==============================] - 16s 6ms/sample - loss: 0.0013 - mean_squared_error: 0.0013 - root_mean_squared_error: 0.0366 - val_loss: 1.4388e-04 - val_mean_squared_error: 1.4388e-04 - val_root_mean_squared_error: 0.0120\n",
            "Epoch 34/60\n",
            "2519/2519 [==============================] - 17s 7ms/sample - loss: 0.0013 - mean_squared_error: 0.0013 - root_mean_squared_error: 0.0354 - val_loss: 3.6636e-04 - val_mean_squared_error: 3.6636e-04 - val_root_mean_squared_error: 0.0191\n",
            "Epoch 35/60\n",
            "2519/2519 [==============================] - 16s 6ms/sample - loss: 0.0014 - mean_squared_error: 0.0014 - root_mean_squared_error: 0.0374 - val_loss: 1.2560e-04 - val_mean_squared_error: 1.2560e-04 - val_root_mean_squared_error: 0.0112\n",
            "Epoch 36/60\n",
            "2519/2519 [==============================] - 16s 6ms/sample - loss: 0.0013 - mean_squared_error: 0.0013 - root_mean_squared_error: 0.0358 - val_loss: 2.5453e-04 - val_mean_squared_error: 2.5453e-04 - val_root_mean_squared_error: 0.0160\n",
            "Epoch 37/60\n",
            "2519/2519 [==============================] - 16s 6ms/sample - loss: 0.0013 - mean_squared_error: 0.0013 - root_mean_squared_error: 0.0359 - val_loss: 1.5154e-04 - val_mean_squared_error: 1.5154e-04 - val_root_mean_squared_error: 0.0123\n",
            "Epoch 38/60\n",
            "2519/2519 [==============================] - 17s 7ms/sample - loss: 0.0012 - mean_squared_error: 0.0012 - root_mean_squared_error: 0.0353 - val_loss: 1.3468e-04 - val_mean_squared_error: 1.3468e-04 - val_root_mean_squared_error: 0.0116\n",
            "Epoch 39/60\n",
            "2519/2519 [==============================] - 16s 6ms/sample - loss: 0.0011 - mean_squared_error: 0.0011 - root_mean_squared_error: 0.0339 - val_loss: 6.4205e-04 - val_mean_squared_error: 6.4205e-04 - val_root_mean_squared_error: 0.0253\n",
            "Epoch 40/60\n",
            "2519/2519 [==============================] - 16s 6ms/sample - loss: 0.0012 - mean_squared_error: 0.0012 - root_mean_squared_error: 0.0347 - val_loss: 1.2474e-04 - val_mean_squared_error: 1.2474e-04 - val_root_mean_squared_error: 0.0112\n",
            "Epoch 41/60\n",
            "2519/2519 [==============================] - 16s 6ms/sample - loss: 0.0013 - mean_squared_error: 0.0013 - root_mean_squared_error: 0.0357 - val_loss: 2.6952e-04 - val_mean_squared_error: 2.6952e-04 - val_root_mean_squared_error: 0.0164\n",
            "Epoch 42/60\n",
            "2519/2519 [==============================] - 16s 6ms/sample - loss: 0.0012 - mean_squared_error: 0.0012 - root_mean_squared_error: 0.0347 - val_loss: 1.1261e-04 - val_mean_squared_error: 1.1261e-04 - val_root_mean_squared_error: 0.0106\n",
            "Epoch 43/60\n",
            "2519/2519 [==============================] - 17s 7ms/sample - loss: 0.0012 - mean_squared_error: 0.0012 - root_mean_squared_error: 0.0341 - val_loss: 1.1554e-04 - val_mean_squared_error: 1.1554e-04 - val_root_mean_squared_error: 0.0107\n",
            "Epoch 44/60\n",
            "2519/2519 [==============================] - 16s 6ms/sample - loss: 0.0012 - mean_squared_error: 0.0012 - root_mean_squared_error: 0.0342 - val_loss: 1.0732e-04 - val_mean_squared_error: 1.0732e-04 - val_root_mean_squared_error: 0.0104\n",
            "Epoch 45/60\n",
            "2519/2519 [==============================] - 16s 6ms/sample - loss: 0.0011 - mean_squared_error: 0.0011 - root_mean_squared_error: 0.0332 - val_loss: 1.7386e-04 - val_mean_squared_error: 1.7386e-04 - val_root_mean_squared_error: 0.0132\n",
            "Epoch 46/60\n",
            "2519/2519 [==============================] - 16s 6ms/sample - loss: 0.0011 - mean_squared_error: 0.0011 - root_mean_squared_error: 0.0338 - val_loss: 1.4168e-04 - val_mean_squared_error: 1.4168e-04 - val_root_mean_squared_error: 0.0119\n",
            "Epoch 47/60\n",
            "2519/2519 [==============================] - 17s 7ms/sample - loss: 0.0013 - mean_squared_error: 0.0013 - root_mean_squared_error: 0.0354 - val_loss: 2.9323e-04 - val_mean_squared_error: 2.9323e-04 - val_root_mean_squared_error: 0.0171\n",
            "Epoch 48/60\n",
            "2519/2519 [==============================] - 16s 6ms/sample - loss: 0.0011 - mean_squared_error: 0.0011 - root_mean_squared_error: 0.0334 - val_loss: 1.5186e-04 - val_mean_squared_error: 1.5186e-04 - val_root_mean_squared_error: 0.0123\n",
            "Epoch 49/60\n",
            "2519/2519 [==============================] - 16s 6ms/sample - loss: 0.0011 - mean_squared_error: 0.0011 - root_mean_squared_error: 0.0329 - val_loss: 3.2754e-04 - val_mean_squared_error: 3.2754e-04 - val_root_mean_squared_error: 0.0181\n",
            "Epoch 50/60\n",
            "2519/2519 [==============================] - 16s 6ms/sample - loss: 0.0011 - mean_squared_error: 0.0011 - root_mean_squared_error: 0.0330 - val_loss: 2.5884e-04 - val_mean_squared_error: 2.5884e-04 - val_root_mean_squared_error: 0.0161\n",
            "Epoch 51/60\n",
            "2519/2519 [==============================] - 16s 6ms/sample - loss: 0.0010 - mean_squared_error: 0.0010 - root_mean_squared_error: 0.0320 - val_loss: 1.2310e-04 - val_mean_squared_error: 1.2310e-04 - val_root_mean_squared_error: 0.0111\n",
            "Epoch 52/60\n",
            "2519/2519 [==============================] - 17s 7ms/sample - loss: 0.0012 - mean_squared_error: 0.0012 - root_mean_squared_error: 0.0341 - val_loss: 1.6977e-04 - val_mean_squared_error: 1.6977e-04 - val_root_mean_squared_error: 0.0130\n",
            "Epoch 53/60\n",
            "2519/2519 [==============================] - 16s 6ms/sample - loss: 0.0011 - mean_squared_error: 0.0011 - root_mean_squared_error: 0.0327 - val_loss: 9.8964e-05 - val_mean_squared_error: 9.8964e-05 - val_root_mean_squared_error: 0.0099\n",
            "Epoch 54/60\n",
            "2519/2519 [==============================] - 16s 6ms/sample - loss: 0.0010 - mean_squared_error: 0.0010 - root_mean_squared_error: 0.0317 - val_loss: 9.6365e-05 - val_mean_squared_error: 9.6365e-05 - val_root_mean_squared_error: 0.0098\n",
            "Epoch 55/60\n",
            "2519/2519 [==============================] - 16s 6ms/sample - loss: 9.2815e-04 - mean_squared_error: 9.2815e-04 - root_mean_squared_error: 0.0305 - val_loss: 9.9761e-05 - val_mean_squared_error: 9.9761e-05 - val_root_mean_squared_error: 0.0100\n",
            "Epoch 56/60\n",
            "2519/2519 [==============================] - 17s 7ms/sample - loss: 0.0011 - mean_squared_error: 0.0011 - root_mean_squared_error: 0.0335 - val_loss: 9.8093e-05 - val_mean_squared_error: 9.8093e-05 - val_root_mean_squared_error: 0.0099\n",
            "Epoch 57/60\n",
            "2519/2519 [==============================] - 16s 6ms/sample - loss: 0.0011 - mean_squared_error: 0.0011 - root_mean_squared_error: 0.0325 - val_loss: 2.5355e-04 - val_mean_squared_error: 2.5355e-04 - val_root_mean_squared_error: 0.0159\n",
            "Epoch 58/60\n",
            "2519/2519 [==============================] - 16s 6ms/sample - loss: 0.0011 - mean_squared_error: 0.0011 - root_mean_squared_error: 0.0328 - val_loss: 2.4939e-04 - val_mean_squared_error: 2.4939e-04 - val_root_mean_squared_error: 0.0158\n",
            "Epoch 59/60\n",
            "2519/2519 [==============================] - 16s 6ms/sample - loss: 0.0011 - mean_squared_error: 0.0011 - root_mean_squared_error: 0.0325 - val_loss: 2.7451e-04 - val_mean_squared_error: 2.7451e-04 - val_root_mean_squared_error: 0.0166\n",
            "Epoch 60/60\n",
            "2519/2519 [==============================] - 17s 7ms/sample - loss: 0.0010 - mean_squared_error: 0.0010 - root_mean_squared_error: 0.0321 - val_loss: 1.0192e-04 - val_mean_squared_error: 1.0192e-04 - val_root_mean_squared_error: 0.0101\n"
          ]
        },
        {
          "output_type": "stream",
          "name": "stderr",
          "text": [
            "/usr/local/lib/python3.10/dist-packages/keras/src/engine/training_v1.py:2359: UserWarning: `Model.state_updates` will be removed in a future version. This property should not be used in TensorFlow 2.0, as `updates` are applied automatically.\n",
            "  updates=self.state_updates,\n",
            "WARNING:tensorflow:Layer lstm_20 will not use cuDNN kernels since it doesn't meet the criteria. It will use a generic GPU kernel as fallback when running on GPU.\n",
            "WARNING:tensorflow:Layer lstm_21 will not use cuDNN kernels since it doesn't meet the criteria. It will use a generic GPU kernel as fallback when running on GPU.\n"
          ]
        },
        {
          "output_type": "stream",
          "name": "stdout",
          "text": [
            "   Adj Close           TVL  sentiment_score  normalized_influence_robust  \\\n",
            "0     128.87  6.031933e+08         0.491250                     0.977273   \n",
            "1     131.61  6.029450e+08         0.567333                     4.992424   \n",
            "2     130.67  6.026967e+08         0.008000                     2.045455   \n",
            "3     129.96  5.999431e+08         0.791700                     0.827273   \n",
            "4     127.07  5.971895e+08         0.214620                     3.318182   \n",
            "\n",
            "       Volume  \n",
            "0  7769.17336  \n",
            "1  4163.30667  \n",
            "2  3772.66670  \n",
            "3  3718.46074  \n",
            "4  7303.34389  \n"
          ]
        },
        {
          "output_type": "stream",
          "name": "stderr",
          "text": [
            "WARNING:tensorflow:Layer lstm_22 will not use cuDNN kernels since it doesn't meet the criteria. It will use a generic GPU kernel as fallback when running on GPU.\n",
            "WARNING:tensorflow:Layer lstm_23 will not use cuDNN kernels since it doesn't meet the criteria. It will use a generic GPU kernel as fallback when running on GPU.\n"
          ]
        },
        {
          "output_type": "stream",
          "name": "stdout",
          "text": [
            "Train on 2499 samples, validate on 206 samples\n",
            "Epoch 1/60\n",
            "2499/2499 [==============================] - ETA: 0s - loss: 0.0160 - mean_squared_error: 0.0160 - root_mean_squared_error: 0.1263"
          ]
        },
        {
          "output_type": "stream",
          "name": "stderr",
          "text": [
            "/usr/local/lib/python3.10/dist-packages/keras/src/engine/training_v1.py:2335: UserWarning: `Model.state_updates` will be removed in a future version. This property should not be used in TensorFlow 2.0, as `updates` are applied automatically.\n",
            "  updates = self.state_updates\n"
          ]
        },
        {
          "output_type": "stream",
          "name": "stdout",
          "text": [
            "\b\b\b\b\b\b\b\b\b\b\b\b\b\b\b\b\b\b\b\b\b\b\b\b\b\b\b\b\b\b\b\b\b\b\b\b\b\b\b\b\b\b\b\b\b\b\b\b\b\b\b\b\b\b\b\b\b\b\b\b\b\b\b\b\b\b\b\b\b\b\b\b\b\b\b\b\b\b\b\b\b\b\b\b\b\b\b\b\b\b\b\b\b\b\b\b\b\b\b\b\b\b\b\b\b\b\b\b\b\b\b\b\b\b\b\b\b\b\b\b\b\b\b\b\b\b\b\b\b\b\r2499/2499 [==============================] - 21s 8ms/sample - loss: 0.0160 - mean_squared_error: 0.0160 - root_mean_squared_error: 0.1263 - val_loss: 0.0057 - val_mean_squared_error: 0.0057 - val_root_mean_squared_error: 0.0752\n",
            "Epoch 2/60\n",
            "2499/2499 [==============================] - 20s 8ms/sample - loss: 0.0044 - mean_squared_error: 0.0044 - root_mean_squared_error: 0.0662 - val_loss: 0.0035 - val_mean_squared_error: 0.0035 - val_root_mean_squared_error: 0.0588\n",
            "Epoch 3/60\n",
            "2499/2499 [==============================] - 20s 8ms/sample - loss: 0.0050 - mean_squared_error: 0.0050 - root_mean_squared_error: 0.0707 - val_loss: 0.0019 - val_mean_squared_error: 0.0019 - val_root_mean_squared_error: 0.0442\n",
            "Epoch 4/60\n",
            "2499/2499 [==============================] - 20s 8ms/sample - loss: 0.0033 - mean_squared_error: 0.0033 - root_mean_squared_error: 0.0572 - val_loss: 0.0011 - val_mean_squared_error: 0.0011 - val_root_mean_squared_error: 0.0339\n",
            "Epoch 5/60\n",
            "2499/2499 [==============================] - 21s 8ms/sample - loss: 0.0033 - mean_squared_error: 0.0033 - root_mean_squared_error: 0.0576 - val_loss: 0.0018 - val_mean_squared_error: 0.0018 - val_root_mean_squared_error: 0.0424\n",
            "Epoch 6/60\n",
            "2499/2499 [==============================] - 19s 8ms/sample - loss: 0.0028 - mean_squared_error: 0.0028 - root_mean_squared_error: 0.0532 - val_loss: 7.3950e-04 - val_mean_squared_error: 7.3950e-04 - val_root_mean_squared_error: 0.0272\n",
            "Epoch 7/60\n",
            "2499/2499 [==============================] - 21s 8ms/sample - loss: 0.0031 - mean_squared_error: 0.0031 - root_mean_squared_error: 0.0559 - val_loss: 5.8091e-04 - val_mean_squared_error: 5.8091e-04 - val_root_mean_squared_error: 0.0241\n",
            "Epoch 8/60\n",
            "2499/2499 [==============================] - 19s 8ms/sample - loss: 0.0030 - mean_squared_error: 0.0030 - root_mean_squared_error: 0.0546 - val_loss: 0.0013 - val_mean_squared_error: 0.0013 - val_root_mean_squared_error: 0.0363\n",
            "Epoch 9/60\n",
            "2499/2499 [==============================] - 21s 8ms/sample - loss: 0.0026 - mean_squared_error: 0.0026 - root_mean_squared_error: 0.0508 - val_loss: 5.5468e-04 - val_mean_squared_error: 5.5468e-04 - val_root_mean_squared_error: 0.0236\n",
            "Epoch 10/60\n",
            "2499/2499 [==============================] - 20s 8ms/sample - loss: 0.0027 - mean_squared_error: 0.0027 - root_mean_squared_error: 0.0516 - val_loss: 2.6736e-04 - val_mean_squared_error: 2.6736e-04 - val_root_mean_squared_error: 0.0164\n",
            "Epoch 11/60\n",
            "2499/2499 [==============================] - 21s 8ms/sample - loss: 0.0025 - mean_squared_error: 0.0025 - root_mean_squared_error: 0.0502 - val_loss: 0.0013 - val_mean_squared_error: 0.0013 - val_root_mean_squared_error: 0.0358\n",
            "Epoch 12/60\n",
            "2499/2499 [==============================] - 20s 8ms/sample - loss: 0.0024 - mean_squared_error: 0.0024 - root_mean_squared_error: 0.0488 - val_loss: 7.0912e-04 - val_mean_squared_error: 7.0912e-04 - val_root_mean_squared_error: 0.0266\n",
            "Epoch 13/60\n",
            "2499/2499 [==============================] - 21s 8ms/sample - loss: 0.0023 - mean_squared_error: 0.0023 - root_mean_squared_error: 0.0482 - val_loss: 2.4044e-04 - val_mean_squared_error: 2.4044e-04 - val_root_mean_squared_error: 0.0155\n",
            "Epoch 14/60\n",
            "2499/2499 [==============================] - 21s 8ms/sample - loss: 0.0021 - mean_squared_error: 0.0021 - root_mean_squared_error: 0.0463 - val_loss: 0.0025 - val_mean_squared_error: 0.0025 - val_root_mean_squared_error: 0.0498\n",
            "Epoch 15/60\n",
            "2499/2499 [==============================] - 20s 8ms/sample - loss: 0.0024 - mean_squared_error: 0.0024 - root_mean_squared_error: 0.0493 - val_loss: 4.3404e-04 - val_mean_squared_error: 4.3404e-04 - val_root_mean_squared_error: 0.0208\n",
            "Epoch 16/60\n",
            "2499/2499 [==============================] - 21s 8ms/sample - loss: 0.0020 - mean_squared_error: 0.0020 - root_mean_squared_error: 0.0446 - val_loss: 3.2872e-04 - val_mean_squared_error: 3.2872e-04 - val_root_mean_squared_error: 0.0181\n",
            "Epoch 17/60\n",
            "2499/2499 [==============================] - 19s 8ms/sample - loss: 0.0021 - mean_squared_error: 0.0021 - root_mean_squared_error: 0.0462 - val_loss: 2.7446e-04 - val_mean_squared_error: 2.7446e-04 - val_root_mean_squared_error: 0.0166\n",
            "Epoch 18/60\n",
            "2499/2499 [==============================] - 21s 8ms/sample - loss: 0.0018 - mean_squared_error: 0.0018 - root_mean_squared_error: 0.0425 - val_loss: 2.6021e-04 - val_mean_squared_error: 2.6021e-04 - val_root_mean_squared_error: 0.0161\n",
            "Epoch 19/60\n",
            "2499/2499 [==============================] - 20s 8ms/sample - loss: 0.0020 - mean_squared_error: 0.0020 - root_mean_squared_error: 0.0450 - val_loss: 0.0031 - val_mean_squared_error: 0.0031 - val_root_mean_squared_error: 0.0554\n",
            "Epoch 20/60\n",
            "2499/2499 [==============================] - 21s 8ms/sample - loss: 0.0019 - mean_squared_error: 0.0019 - root_mean_squared_error: 0.0436 - val_loss: 2.6168e-04 - val_mean_squared_error: 2.6168e-04 - val_root_mean_squared_error: 0.0162\n",
            "Epoch 21/60\n",
            "2499/2499 [==============================] - 19s 8ms/sample - loss: 0.0020 - mean_squared_error: 0.0020 - root_mean_squared_error: 0.0446 - val_loss: 0.0032 - val_mean_squared_error: 0.0032 - val_root_mean_squared_error: 0.0562\n",
            "Epoch 22/60\n",
            "2499/2499 [==============================] - 21s 8ms/sample - loss: 0.0019 - mean_squared_error: 0.0019 - root_mean_squared_error: 0.0432 - val_loss: 0.0012 - val_mean_squared_error: 0.0012 - val_root_mean_squared_error: 0.0344\n",
            "Epoch 23/60\n",
            "2499/2499 [==============================] - 20s 8ms/sample - loss: 0.0016 - mean_squared_error: 0.0016 - root_mean_squared_error: 0.0406 - val_loss: 5.5942e-04 - val_mean_squared_error: 5.5942e-04 - val_root_mean_squared_error: 0.0237\n",
            "Epoch 24/60\n",
            "2499/2499 [==============================] - 20s 8ms/sample - loss: 0.0018 - mean_squared_error: 0.0018 - root_mean_squared_error: 0.0421 - val_loss: 2.1144e-04 - val_mean_squared_error: 2.1144e-04 - val_root_mean_squared_error: 0.0145\n",
            "Epoch 25/60\n",
            "2499/2499 [==============================] - 21s 8ms/sample - loss: 0.0015 - mean_squared_error: 0.0015 - root_mean_squared_error: 0.0390 - val_loss: 1.8466e-04 - val_mean_squared_error: 1.8466e-04 - val_root_mean_squared_error: 0.0136\n",
            "Epoch 26/60\n",
            "2499/2499 [==============================] - 19s 8ms/sample - loss: 0.0015 - mean_squared_error: 0.0015 - root_mean_squared_error: 0.0388 - val_loss: 3.8348e-04 - val_mean_squared_error: 3.8348e-04 - val_root_mean_squared_error: 0.0196\n",
            "Epoch 27/60\n",
            "2499/2499 [==============================] - 20s 8ms/sample - loss: 0.0014 - mean_squared_error: 0.0014 - root_mean_squared_error: 0.0376 - val_loss: 1.8651e-04 - val_mean_squared_error: 1.8651e-04 - val_root_mean_squared_error: 0.0137\n",
            "Epoch 28/60\n",
            "2499/2499 [==============================] - 19s 8ms/sample - loss: 0.0016 - mean_squared_error: 0.0016 - root_mean_squared_error: 0.0403 - val_loss: 1.6432e-04 - val_mean_squared_error: 1.6432e-04 - val_root_mean_squared_error: 0.0128\n",
            "Epoch 29/60\n",
            "2499/2499 [==============================] - 21s 8ms/sample - loss: 0.0014 - mean_squared_error: 0.0014 - root_mean_squared_error: 0.0376 - val_loss: 6.7974e-04 - val_mean_squared_error: 6.7974e-04 - val_root_mean_squared_error: 0.0261\n",
            "Epoch 30/60\n",
            "2499/2499 [==============================] - 19s 8ms/sample - loss: 0.0022 - mean_squared_error: 0.0022 - root_mean_squared_error: 0.0470 - val_loss: 4.4698e-04 - val_mean_squared_error: 4.4698e-04 - val_root_mean_squared_error: 0.0211\n",
            "Epoch 31/60\n",
            "2499/2499 [==============================] - 21s 8ms/sample - loss: 0.0015 - mean_squared_error: 0.0015 - root_mean_squared_error: 0.0383 - val_loss: 2.6098e-04 - val_mean_squared_error: 2.6098e-04 - val_root_mean_squared_error: 0.0162\n",
            "Epoch 32/60\n",
            "2499/2499 [==============================] - 19s 8ms/sample - loss: 0.0014 - mean_squared_error: 0.0014 - root_mean_squared_error: 0.0368 - val_loss: 3.1334e-04 - val_mean_squared_error: 3.1334e-04 - val_root_mean_squared_error: 0.0177\n",
            "Epoch 33/60\n",
            "2499/2499 [==============================] - 21s 8ms/sample - loss: 0.0016 - mean_squared_error: 0.0016 - root_mean_squared_error: 0.0394 - val_loss: 2.2832e-04 - val_mean_squared_error: 2.2832e-04 - val_root_mean_squared_error: 0.0151\n",
            "Epoch 34/60\n",
            "2499/2499 [==============================] - 19s 8ms/sample - loss: 0.0014 - mean_squared_error: 0.0014 - root_mean_squared_error: 0.0378 - val_loss: 1.7890e-04 - val_mean_squared_error: 1.7890e-04 - val_root_mean_squared_error: 0.0134\n",
            "Epoch 35/60\n",
            "2499/2499 [==============================] - 21s 8ms/sample - loss: 0.0014 - mean_squared_error: 0.0014 - root_mean_squared_error: 0.0376 - val_loss: 6.5681e-04 - val_mean_squared_error: 6.5681e-04 - val_root_mean_squared_error: 0.0256\n",
            "Epoch 36/60\n",
            "2499/2499 [==============================] - 21s 8ms/sample - loss: 0.0013 - mean_squared_error: 0.0013 - root_mean_squared_error: 0.0367 - val_loss: 3.1868e-04 - val_mean_squared_error: 3.1868e-04 - val_root_mean_squared_error: 0.0179\n",
            "Epoch 37/60\n",
            "2499/2499 [==============================] - 20s 8ms/sample - loss: 0.0013 - mean_squared_error: 0.0013 - root_mean_squared_error: 0.0357 - val_loss: 1.3638e-04 - val_mean_squared_error: 1.3638e-04 - val_root_mean_squared_error: 0.0117\n",
            "Epoch 38/60\n",
            "2499/2499 [==============================] - 21s 8ms/sample - loss: 0.0013 - mean_squared_error: 0.0013 - root_mean_squared_error: 0.0361 - val_loss: 1.9542e-04 - val_mean_squared_error: 1.9542e-04 - val_root_mean_squared_error: 0.0140\n",
            "Epoch 39/60\n",
            "2499/2499 [==============================] - 20s 8ms/sample - loss: 0.0014 - mean_squared_error: 0.0014 - root_mean_squared_error: 0.0368 - val_loss: 1.8015e-04 - val_mean_squared_error: 1.8015e-04 - val_root_mean_squared_error: 0.0134\n",
            "Epoch 40/60\n",
            "2499/2499 [==============================] - 21s 8ms/sample - loss: 0.0013 - mean_squared_error: 0.0013 - root_mean_squared_error: 0.0365 - val_loss: 4.5348e-04 - val_mean_squared_error: 4.5348e-04 - val_root_mean_squared_error: 0.0213\n",
            "Epoch 41/60\n",
            "2499/2499 [==============================] - 19s 8ms/sample - loss: 0.0013 - mean_squared_error: 0.0013 - root_mean_squared_error: 0.0354 - val_loss: 3.6112e-04 - val_mean_squared_error: 3.6112e-04 - val_root_mean_squared_error: 0.0190\n",
            "Epoch 42/60\n",
            "2499/2499 [==============================] - 20s 8ms/sample - loss: 0.0014 - mean_squared_error: 0.0014 - root_mean_squared_error: 0.0369 - val_loss: 1.2985e-04 - val_mean_squared_error: 1.2985e-04 - val_root_mean_squared_error: 0.0114\n",
            "Epoch 43/60\n",
            "2499/2499 [==============================] - 19s 8ms/sample - loss: 0.0013 - mean_squared_error: 0.0013 - root_mean_squared_error: 0.0355 - val_loss: 1.1577e-04 - val_mean_squared_error: 1.1577e-04 - val_root_mean_squared_error: 0.0108\n",
            "Epoch 44/60\n",
            "2499/2499 [==============================] - 21s 8ms/sample - loss: 0.0012 - mean_squared_error: 0.0012 - root_mean_squared_error: 0.0342 - val_loss: 1.8884e-04 - val_mean_squared_error: 1.8884e-04 - val_root_mean_squared_error: 0.0137\n",
            "Epoch 45/60\n",
            "2499/2499 [==============================] - 19s 8ms/sample - loss: 0.0011 - mean_squared_error: 0.0011 - root_mean_squared_error: 0.0339 - val_loss: 1.2028e-04 - val_mean_squared_error: 1.2028e-04 - val_root_mean_squared_error: 0.0110\n",
            "Epoch 46/60\n",
            "2499/2499 [==============================] - 21s 8ms/sample - loss: 0.0011 - mean_squared_error: 0.0011 - root_mean_squared_error: 0.0334 - val_loss: 2.4713e-04 - val_mean_squared_error: 2.4713e-04 - val_root_mean_squared_error: 0.0157\n",
            "Epoch 47/60\n",
            "2499/2499 [==============================] - 20s 8ms/sample - loss: 0.0013 - mean_squared_error: 0.0013 - root_mean_squared_error: 0.0367 - val_loss: 5.2235e-04 - val_mean_squared_error: 5.2235e-04 - val_root_mean_squared_error: 0.0229\n",
            "Epoch 48/60\n",
            "2499/2499 [==============================] - 20s 8ms/sample - loss: 0.0013 - mean_squared_error: 0.0013 - root_mean_squared_error: 0.0365 - val_loss: 4.7208e-04 - val_mean_squared_error: 4.7208e-04 - val_root_mean_squared_error: 0.0217\n",
            "Epoch 49/60\n",
            "2499/2499 [==============================] - 21s 8ms/sample - loss: 0.0014 - mean_squared_error: 0.0014 - root_mean_squared_error: 0.0369 - val_loss: 3.2770e-04 - val_mean_squared_error: 3.2770e-04 - val_root_mean_squared_error: 0.0181\n",
            "Epoch 50/60\n",
            "2499/2499 [==============================] - 19s 8ms/sample - loss: 0.0012 - mean_squared_error: 0.0012 - root_mean_squared_error: 0.0340 - val_loss: 3.1932e-04 - val_mean_squared_error: 3.1932e-04 - val_root_mean_squared_error: 0.0179\n",
            "Epoch 51/60\n",
            "2499/2499 [==============================] - 21s 8ms/sample - loss: 0.0011 - mean_squared_error: 0.0011 - root_mean_squared_error: 0.0325 - val_loss: 3.8167e-04 - val_mean_squared_error: 3.8167e-04 - val_root_mean_squared_error: 0.0195\n",
            "Epoch 52/60\n",
            "2499/2499 [==============================] - 19s 8ms/sample - loss: 0.0011 - mean_squared_error: 0.0011 - root_mean_squared_error: 0.0335 - val_loss: 6.8571e-04 - val_mean_squared_error: 6.8571e-04 - val_root_mean_squared_error: 0.0262\n",
            "Epoch 53/60\n",
            "2499/2499 [==============================] - 20s 8ms/sample - loss: 0.0012 - mean_squared_error: 0.0012 - root_mean_squared_error: 0.0350 - val_loss: 1.0627e-04 - val_mean_squared_error: 1.0627e-04 - val_root_mean_squared_error: 0.0103\n",
            "Epoch 54/60\n",
            "2499/2499 [==============================] - 19s 8ms/sample - loss: 0.0011 - mean_squared_error: 0.0011 - root_mean_squared_error: 0.0334 - val_loss: 6.2805e-04 - val_mean_squared_error: 6.2805e-04 - val_root_mean_squared_error: 0.0251\n",
            "Epoch 55/60\n",
            "2499/2499 [==============================] - 21s 8ms/sample - loss: 0.0012 - mean_squared_error: 0.0012 - root_mean_squared_error: 0.0341 - val_loss: 1.7089e-04 - val_mean_squared_error: 1.7089e-04 - val_root_mean_squared_error: 0.0131\n",
            "Epoch 56/60\n",
            "2499/2499 [==============================] - 20s 8ms/sample - loss: 0.0010 - mean_squared_error: 0.0010 - root_mean_squared_error: 0.0321 - val_loss: 3.9411e-04 - val_mean_squared_error: 3.9411e-04 - val_root_mean_squared_error: 0.0199\n",
            "Epoch 57/60\n",
            "2499/2499 [==============================] - 21s 8ms/sample - loss: 0.0011 - mean_squared_error: 0.0011 - root_mean_squared_error: 0.0325 - val_loss: 1.4500e-04 - val_mean_squared_error: 1.4500e-04 - val_root_mean_squared_error: 0.0120\n",
            "Epoch 58/60\n",
            "2499/2499 [==============================] - 20s 8ms/sample - loss: 0.0013 - mean_squared_error: 0.0013 - root_mean_squared_error: 0.0354 - val_loss: 1.0806e-04 - val_mean_squared_error: 1.0806e-04 - val_root_mean_squared_error: 0.0104\n",
            "Epoch 59/60\n",
            "2499/2499 [==============================] - 20s 8ms/sample - loss: 8.9235e-04 - mean_squared_error: 8.9235e-04 - root_mean_squared_error: 0.0299 - val_loss: 2.6695e-04 - val_mean_squared_error: 2.6695e-04 - val_root_mean_squared_error: 0.0163\n",
            "Epoch 60/60\n",
            "2499/2499 [==============================] - 21s 8ms/sample - loss: 0.0010 - mean_squared_error: 0.0010 - root_mean_squared_error: 0.0323 - val_loss: 1.0446e-04 - val_mean_squared_error: 1.0446e-04 - val_root_mean_squared_error: 0.0102\n"
          ]
        },
        {
          "output_type": "stream",
          "name": "stderr",
          "text": [
            "/usr/local/lib/python3.10/dist-packages/keras/src/engine/training_v1.py:2359: UserWarning: `Model.state_updates` will be removed in a future version. This property should not be used in TensorFlow 2.0, as `updates` are applied automatically.\n",
            "  updates=self.state_updates,\n"
          ]
        },
        {
          "output_type": "stream",
          "name": "stdout",
          "text": [
            "{(('Adj Close', 'TVL', 'sentiment_score', 'normalized_influence_robust', 'Volume'), 40, 60): [0.0006080534518696368, 0.0006080534, 0.02465874], (('Adj Close', 'TVL', 'sentiment_score', 'normalized_influence_robust', 'Volume'), 60, 60): [0.001051710112692995, 0.0010517101, 0.03243008], (('Adj Close', 'TVL', 'sentiment_score', 'normalized_influence_robust', 'Volume'), 80, 60): [0.00048607932403683663, 0.0004860793, 0.022047207], (('Adj Close', 'TVL', 'sentiment_score', 'normalized_influence_robust', 'Volume'), 100, 60): [0.0005713012277348233, 0.0005713012, 0.023901908]}\n"
          ]
        }
      ],
      "source": [
        "def run_model_with_configs(coin, date_train, date_validation, features_list, seq_length_list, epochs_list):\n",
        "  history_dict = {}\n",
        "  df = read_data(coin)\n",
        "\n",
        "  for features in features_list:\n",
        "    for seq_length in seq_length_list:\n",
        "      for epochs in epochs_list:\n",
        "        train, validation, test = train_test_val(df, date_train, date_validation, features)\n",
        "        scaler = MinMaxScaler(feature_range=(0, 1))\n",
        "        train_scaled, validation_scaled, test_scaled = scale_features(scaler, train, validation, test)\n",
        "        X_train, y_train = create_sequences(train_scaled, seq_length=seq_length)\n",
        "        X_validation, y_validation = create_sequences(validation_scaled, seq_length=seq_length)\n",
        "        X_test, y_test = create_sequences(test_scaled, seq_length=seq_length)\n",
        "        y_train = np.reshape(y_train, (-1, 1))\n",
        "        y_test = np.reshape(y_test, (-1, 1))\n",
        "        y_validation = np.reshape(y_validation, (-1, 1))\n",
        "\n",
        "        # Define, train and test the model\n",
        "        model = define_model(optimizer, loss, seq_length=seq_length, num_parameters=len(features))\n",
        "        train_model(model, X_train, y_train, X_validation, y_validation, epochs=epochs)\n",
        "        predicted_price, history = test_model(model, train, X_test, y_test)\n",
        "\n",
        "        # Store history with a key representing the configuration\n",
        "        key = (tuple(features), seq_length, epochs)\n",
        "        history_dict[key] = history\n",
        "\n",
        "  return history_dict\n",
        "\n",
        "\n",
        "features_list = [[\"Adj Close\", \"TVL\", \"sentiment_score\", \"normalized_influence_robust\", \"Volume\"]]\n",
        "seq_length_list = [40, 60, 80, 100]\n",
        "epochs_list = [60]\n",
        "coin = \"ETH_12h\"\n",
        "\n",
        "history_dict = run_model_with_configs(coin, date_train, date_validation, features_list, seq_length_list, epochs_list)\n",
        "\n",
        "print(history_dict)"
      ]
    },
    {
      "cell_type": "code",
      "execution_count": null,
      "id": "kNUzGqFph-82",
      "metadata": {
        "colab": {
          "base_uri": "https://localhost:8080/"
        },
        "id": "kNUzGqFph-82",
        "outputId": "8f1c3a01-ad03-456f-8e29-959c45048c15"
      },
      "outputs": [
        {
          "output_type": "execute_result",
          "data": {
            "text/plain": [
              "{(('Adj Close',\n",
              "   'TVL',\n",
              "   'sentiment_score',\n",
              "   'normalized_influence_robust',\n",
              "   'Volume'),\n",
              "  40,\n",
              "  60): [0.0006080534518696368, 0.0006080534, 0.02465874],\n",
              " (('Adj Close',\n",
              "   'TVL',\n",
              "   'sentiment_score',\n",
              "   'normalized_influence_robust',\n",
              "   'Volume'),\n",
              "  60,\n",
              "  60): [0.001051710112692995, 0.0010517101, 0.03243008],\n",
              " (('Adj Close',\n",
              "   'TVL',\n",
              "   'sentiment_score',\n",
              "   'normalized_influence_robust',\n",
              "   'Volume'),\n",
              "  80,\n",
              "  60): [0.00048607932403683663, 0.0004860793, 0.022047207],\n",
              " (('Adj Close',\n",
              "   'TVL',\n",
              "   'sentiment_score',\n",
              "   'normalized_influence_robust',\n",
              "   'Volume'),\n",
              "  100,\n",
              "  60): [0.0005713012277348233, 0.0005713012, 0.023901908]}"
            ]
          },
          "metadata": {},
          "execution_count": 21
        }
      ],
      "source": [
        "history_dict"
      ]
    },
    {
      "cell_type": "markdown",
      "id": "as6LSv3g4mwM",
      "metadata": {
        "id": "as6LSv3g4mwM"
      },
      "source": [
        "### Make a chart comparison with/without sentiment"
      ]
    },
    {
      "cell_type": "code",
      "execution_count": null,
      "id": "gCkraJsdnLHt",
      "metadata": {
        "id": "gCkraJsdnLHt"
      },
      "outputs": [],
      "source": [
        "# Define the parameters\n",
        "coin = \"SUI_6h\"\n",
        "date_train = \"2024-02-15\"\n",
        "date_validation = \"2024-03-21\"\n",
        "features_list = [[\"Adj Close\"], [\"Adj Close\", \"TVL\", \"sentiment_score\", \"normalized_influence_robust\", \"Volume\"]]\n",
        "optimizer = \"adam\"\n",
        "loss = \"mean_squared_error\"\n",
        "seq_length = 40\n",
        "epochs = 60"
      ]
    },
    {
      "cell_type": "code",
      "execution_count": null,
      "id": "dqFW-tOb8QhB",
      "metadata": {
        "colab": {
          "base_uri": "https://localhost:8080/"
        },
        "id": "dqFW-tOb8QhB",
        "outputId": "6866c344-6b71-44cc-a1c4-c2a1e16adbd3"
      },
      "outputs": [
        {
          "output_type": "stream",
          "name": "stdout",
          "text": [
            "   Adj Close\n",
            "0     1.3430\n",
            "1     1.3550\n",
            "2     1.3112\n",
            "3     1.3217\n",
            "4     1.3312\n",
            "(1101, 40, 1) (1101,)\n",
            "(100, 40, 1) (100,)\n",
            "(120, 40, 1) (120,)\n",
            "Train on 1101 samples, validate on 100 samples\n",
            "Epoch 1/60\n",
            "1101/1101 [==============================] - ETA: 0s - loss: 0.0163 - mean_squared_error: 0.0163 - root_mean_squared_error: 0.1275"
          ]
        },
        {
          "output_type": "stream",
          "name": "stderr",
          "text": [
            "/usr/local/lib/python3.10/dist-packages/keras/src/engine/training_v1.py:2335: UserWarning: `Model.state_updates` will be removed in a future version. This property should not be used in TensorFlow 2.0, as `updates` are applied automatically.\n",
            "  updates = self.state_updates\n"
          ]
        },
        {
          "output_type": "stream",
          "name": "stdout",
          "text": [
            "\b\b\b\b\b\b\b\b\b\b\b\b\b\b\b\b\b\b\b\b\b\b\b\b\b\b\b\b\b\b\b\b\b\b\b\b\b\b\b\b\b\b\b\b\b\b\b\b\b\b\b\b\b\b\b\b\b\b\b\b\b\b\b\b\b\b\b\b\b\b\b\b\b\b\b\b\b\b\b\b\b\b\b\b\b\b\b\b\b\b\b\b\b\b\b\b\b\b\b\b\b\b\b\b\b\b\b\b\b\b\b\b\b\b\b\b\b\b\b\b\b\b\b\b\b\b\b\b\b\b\r1101/1101 [==============================] - 4s 4ms/sample - loss: 0.0163 - mean_squared_error: 0.0163 - root_mean_squared_error: 0.1275 - val_loss: 0.0048 - val_mean_squared_error: 0.0048 - val_root_mean_squared_error: 0.0694\n",
            "Epoch 2/60\n",
            "1101/1101 [==============================] - 4s 3ms/sample - loss: 0.0041 - mean_squared_error: 0.0041 - root_mean_squared_error: 0.0638 - val_loss: 0.0091 - val_mean_squared_error: 0.0091 - val_root_mean_squared_error: 0.0954\n",
            "Epoch 3/60\n",
            "1101/1101 [==============================] - 3s 2ms/sample - loss: 0.0036 - mean_squared_error: 0.0036 - root_mean_squared_error: 0.0598 - val_loss: 0.0029 - val_mean_squared_error: 0.0029 - val_root_mean_squared_error: 0.0535\n",
            "Epoch 4/60\n",
            "1101/1101 [==============================] - 2s 2ms/sample - loss: 0.0031 - mean_squared_error: 0.0031 - root_mean_squared_error: 0.0561 - val_loss: 0.0037 - val_mean_squared_error: 0.0037 - val_root_mean_squared_error: 0.0605\n",
            "Epoch 5/60\n",
            "1101/1101 [==============================] - 2s 2ms/sample - loss: 0.0034 - mean_squared_error: 0.0034 - root_mean_squared_error: 0.0583 - val_loss: 0.0243 - val_mean_squared_error: 0.0243 - val_root_mean_squared_error: 0.1559\n",
            "Epoch 6/60\n",
            "1101/1101 [==============================] - 2s 2ms/sample - loss: 0.0029 - mean_squared_error: 0.0029 - root_mean_squared_error: 0.0536 - val_loss: 0.0049 - val_mean_squared_error: 0.0049 - val_root_mean_squared_error: 0.0701\n",
            "Epoch 7/60\n",
            "1101/1101 [==============================] - 3s 3ms/sample - loss: 0.0028 - mean_squared_error: 0.0028 - root_mean_squared_error: 0.0533 - val_loss: 0.0024 - val_mean_squared_error: 0.0024 - val_root_mean_squared_error: 0.0490\n",
            "Epoch 8/60\n",
            "1101/1101 [==============================] - 3s 3ms/sample - loss: 0.0023 - mean_squared_error: 0.0023 - root_mean_squared_error: 0.0481 - val_loss: 0.0032 - val_mean_squared_error: 0.0032 - val_root_mean_squared_error: 0.0569\n",
            "Epoch 9/60\n",
            "1101/1101 [==============================] - 2s 2ms/sample - loss: 0.0024 - mean_squared_error: 0.0024 - root_mean_squared_error: 0.0494 - val_loss: 0.0093 - val_mean_squared_error: 0.0093 - val_root_mean_squared_error: 0.0967\n",
            "Epoch 10/60\n",
            "1101/1101 [==============================] - 3s 2ms/sample - loss: 0.0025 - mean_squared_error: 0.0025 - root_mean_squared_error: 0.0498 - val_loss: 0.0023 - val_mean_squared_error: 0.0023 - val_root_mean_squared_error: 0.0475\n",
            "Epoch 11/60\n",
            "1101/1101 [==============================] - 2s 2ms/sample - loss: 0.0025 - mean_squared_error: 0.0025 - root_mean_squared_error: 0.0497 - val_loss: 0.0037 - val_mean_squared_error: 0.0037 - val_root_mean_squared_error: 0.0607\n",
            "Epoch 12/60\n",
            "1101/1101 [==============================] - 3s 3ms/sample - loss: 0.0027 - mean_squared_error: 0.0027 - root_mean_squared_error: 0.0521 - val_loss: 0.0104 - val_mean_squared_error: 0.0104 - val_root_mean_squared_error: 0.1020\n",
            "Epoch 13/60\n",
            "1101/1101 [==============================] - 3s 3ms/sample - loss: 0.0023 - mean_squared_error: 0.0023 - root_mean_squared_error: 0.0482 - val_loss: 0.0036 - val_mean_squared_error: 0.0036 - val_root_mean_squared_error: 0.0599\n",
            "Epoch 14/60\n",
            "1101/1101 [==============================] - 3s 2ms/sample - loss: 0.0015 - mean_squared_error: 0.0015 - root_mean_squared_error: 0.0392 - val_loss: 0.0026 - val_mean_squared_error: 0.0026 - val_root_mean_squared_error: 0.0506\n",
            "Epoch 15/60\n",
            "1101/1101 [==============================] - 2s 2ms/sample - loss: 0.0016 - mean_squared_error: 0.0016 - root_mean_squared_error: 0.0399 - val_loss: 0.0027 - val_mean_squared_error: 0.0027 - val_root_mean_squared_error: 0.0515\n",
            "Epoch 16/60\n",
            "1101/1101 [==============================] - 2s 2ms/sample - loss: 0.0019 - mean_squared_error: 0.0019 - root_mean_squared_error: 0.0440 - val_loss: 0.0056 - val_mean_squared_error: 0.0056 - val_root_mean_squared_error: 0.0748\n",
            "Epoch 17/60\n",
            "1101/1101 [==============================] - 3s 3ms/sample - loss: 0.0019 - mean_squared_error: 0.0019 - root_mean_squared_error: 0.0440 - val_loss: 0.0021 - val_mean_squared_error: 0.0021 - val_root_mean_squared_error: 0.0457\n",
            "Epoch 18/60\n",
            "1101/1101 [==============================] - 4s 3ms/sample - loss: 0.0016 - mean_squared_error: 0.0016 - root_mean_squared_error: 0.0406 - val_loss: 0.0064 - val_mean_squared_error: 0.0064 - val_root_mean_squared_error: 0.0801\n",
            "Epoch 19/60\n",
            "1101/1101 [==============================] - 3s 3ms/sample - loss: 0.0020 - mean_squared_error: 0.0020 - root_mean_squared_error: 0.0452 - val_loss: 0.0022 - val_mean_squared_error: 0.0022 - val_root_mean_squared_error: 0.0469\n",
            "Epoch 20/60\n",
            "1101/1101 [==============================] - 2s 2ms/sample - loss: 0.0018 - mean_squared_error: 0.0018 - root_mean_squared_error: 0.0429 - val_loss: 0.0026 - val_mean_squared_error: 0.0026 - val_root_mean_squared_error: 0.0513\n",
            "Epoch 21/60\n",
            "1101/1101 [==============================] - 2s 2ms/sample - loss: 0.0019 - mean_squared_error: 0.0019 - root_mean_squared_error: 0.0435 - val_loss: 0.0031 - val_mean_squared_error: 0.0031 - val_root_mean_squared_error: 0.0554\n",
            "Epoch 22/60\n",
            "1101/1101 [==============================] - 4s 3ms/sample - loss: 0.0019 - mean_squared_error: 0.0019 - root_mean_squared_error: 0.0433 - val_loss: 0.0087 - val_mean_squared_error: 0.0087 - val_root_mean_squared_error: 0.0934\n",
            "Epoch 23/60\n",
            "1101/1101 [==============================] - 2s 2ms/sample - loss: 0.0018 - mean_squared_error: 0.0018 - root_mean_squared_error: 0.0420 - val_loss: 0.0028 - val_mean_squared_error: 0.0028 - val_root_mean_squared_error: 0.0534\n",
            "Epoch 24/60\n",
            "1101/1101 [==============================] - 2s 2ms/sample - loss: 0.0017 - mean_squared_error: 0.0017 - root_mean_squared_error: 0.0416 - val_loss: 0.0043 - val_mean_squared_error: 0.0043 - val_root_mean_squared_error: 0.0656\n",
            "Epoch 25/60\n",
            "1101/1101 [==============================] - 2s 2ms/sample - loss: 0.0018 - mean_squared_error: 0.0018 - root_mean_squared_error: 0.0419 - val_loss: 0.0021 - val_mean_squared_error: 0.0021 - val_root_mean_squared_error: 0.0459\n",
            "Epoch 26/60\n",
            "1101/1101 [==============================] - 2s 2ms/sample - loss: 0.0015 - mean_squared_error: 0.0015 - root_mean_squared_error: 0.0390 - val_loss: 0.0021 - val_mean_squared_error: 0.0021 - val_root_mean_squared_error: 0.0457\n",
            "Epoch 27/60\n",
            "1101/1101 [==============================] - 4s 3ms/sample - loss: 0.0018 - mean_squared_error: 0.0018 - root_mean_squared_error: 0.0422 - val_loss: 0.0028 - val_mean_squared_error: 0.0028 - val_root_mean_squared_error: 0.0530\n",
            "Epoch 28/60\n",
            "1101/1101 [==============================] - 3s 3ms/sample - loss: 0.0017 - mean_squared_error: 0.0017 - root_mean_squared_error: 0.0407 - val_loss: 0.0025 - val_mean_squared_error: 0.0025 - val_root_mean_squared_error: 0.0503\n",
            "Epoch 29/60\n",
            "1101/1101 [==============================] - 2s 2ms/sample - loss: 0.0018 - mean_squared_error: 0.0018 - root_mean_squared_error: 0.0422 - val_loss: 0.0033 - val_mean_squared_error: 0.0033 - val_root_mean_squared_error: 0.0570\n",
            "Epoch 30/60\n",
            "1101/1101 [==============================] - 2s 2ms/sample - loss: 0.0016 - mean_squared_error: 0.0016 - root_mean_squared_error: 0.0403 - val_loss: 0.0057 - val_mean_squared_error: 0.0057 - val_root_mean_squared_error: 0.0753\n",
            "Epoch 31/60\n",
            "1101/1101 [==============================] - 3s 2ms/sample - loss: 0.0016 - mean_squared_error: 0.0016 - root_mean_squared_error: 0.0398 - val_loss: 0.0025 - val_mean_squared_error: 0.0025 - val_root_mean_squared_error: 0.0504\n",
            "Epoch 32/60\n",
            "1101/1101 [==============================] - 4s 3ms/sample - loss: 0.0018 - mean_squared_error: 0.0018 - root_mean_squared_error: 0.0420 - val_loss: 0.0025 - val_mean_squared_error: 0.0025 - val_root_mean_squared_error: 0.0496\n",
            "Epoch 33/60\n",
            "1101/1101 [==============================] - 2s 2ms/sample - loss: 0.0016 - mean_squared_error: 0.0016 - root_mean_squared_error: 0.0395 - val_loss: 0.0027 - val_mean_squared_error: 0.0027 - val_root_mean_squared_error: 0.0518\n",
            "Epoch 34/60\n",
            "1101/1101 [==============================] - 2s 2ms/sample - loss: 0.0017 - mean_squared_error: 0.0017 - root_mean_squared_error: 0.0418 - val_loss: 0.0051 - val_mean_squared_error: 0.0051 - val_root_mean_squared_error: 0.0714\n",
            "Epoch 35/60\n",
            "1101/1101 [==============================] - 3s 2ms/sample - loss: 0.0017 - mean_squared_error: 0.0017 - root_mean_squared_error: 0.0409 - val_loss: 0.0031 - val_mean_squared_error: 0.0031 - val_root_mean_squared_error: 0.0557\n",
            "Epoch 36/60\n",
            "1101/1101 [==============================] - 3s 2ms/sample - loss: 0.0014 - mean_squared_error: 0.0014 - root_mean_squared_error: 0.0368 - val_loss: 0.0023 - val_mean_squared_error: 0.0023 - val_root_mean_squared_error: 0.0484\n",
            "Epoch 37/60\n",
            "1101/1101 [==============================] - 4s 3ms/sample - loss: 0.0014 - mean_squared_error: 0.0014 - root_mean_squared_error: 0.0368 - val_loss: 0.0023 - val_mean_squared_error: 0.0023 - val_root_mean_squared_error: 0.0475\n",
            "Epoch 38/60\n",
            "1101/1101 [==============================] - 3s 2ms/sample - loss: 0.0013 - mean_squared_error: 0.0013 - root_mean_squared_error: 0.0362 - val_loss: 0.0020 - val_mean_squared_error: 0.0020 - val_root_mean_squared_error: 0.0443\n",
            "Epoch 39/60\n",
            "1101/1101 [==============================] - 2s 2ms/sample - loss: 0.0013 - mean_squared_error: 0.0013 - root_mean_squared_error: 0.0366 - val_loss: 0.0019 - val_mean_squared_error: 0.0019 - val_root_mean_squared_error: 0.0437\n",
            "Epoch 40/60\n",
            "1101/1101 [==============================] - 2s 2ms/sample - loss: 0.0016 - mean_squared_error: 0.0016 - root_mean_squared_error: 0.0406 - val_loss: 0.0033 - val_mean_squared_error: 0.0033 - val_root_mean_squared_error: 0.0577\n",
            "Epoch 41/60\n",
            "1101/1101 [==============================] - 2s 2ms/sample - loss: 0.0013 - mean_squared_error: 0.0013 - root_mean_squared_error: 0.0367 - val_loss: 0.0035 - val_mean_squared_error: 0.0035 - val_root_mean_squared_error: 0.0589\n",
            "Epoch 42/60\n",
            "1101/1101 [==============================] - 4s 3ms/sample - loss: 0.0015 - mean_squared_error: 0.0015 - root_mean_squared_error: 0.0383 - val_loss: 0.0021 - val_mean_squared_error: 0.0021 - val_root_mean_squared_error: 0.0458\n",
            "Epoch 43/60\n",
            "1101/1101 [==============================] - 3s 2ms/sample - loss: 0.0017 - mean_squared_error: 0.0017 - root_mean_squared_error: 0.0408 - val_loss: 0.0022 - val_mean_squared_error: 0.0022 - val_root_mean_squared_error: 0.0473\n",
            "Epoch 44/60\n",
            "1101/1101 [==============================] - 2s 2ms/sample - loss: 0.0012 - mean_squared_error: 0.0012 - root_mean_squared_error: 0.0353 - val_loss: 0.0034 - val_mean_squared_error: 0.0034 - val_root_mean_squared_error: 0.0583\n",
            "Epoch 45/60\n",
            "1101/1101 [==============================] - 3s 2ms/sample - loss: 0.0013 - mean_squared_error: 0.0013 - root_mean_squared_error: 0.0359 - val_loss: 0.0042 - val_mean_squared_error: 0.0042 - val_root_mean_squared_error: 0.0648\n",
            "Epoch 46/60\n",
            "1101/1101 [==============================] - 3s 2ms/sample - loss: 0.0015 - mean_squared_error: 0.0015 - root_mean_squared_error: 0.0385 - val_loss: 0.0023 - val_mean_squared_error: 0.0023 - val_root_mean_squared_error: 0.0482\n",
            "Epoch 47/60\n",
            "1101/1101 [==============================] - 4s 3ms/sample - loss: 0.0014 - mean_squared_error: 0.0014 - root_mean_squared_error: 0.0375 - val_loss: 0.0019 - val_mean_squared_error: 0.0019 - val_root_mean_squared_error: 0.0432\n",
            "Epoch 48/60\n",
            "1101/1101 [==============================] - 3s 2ms/sample - loss: 0.0014 - mean_squared_error: 0.0014 - root_mean_squared_error: 0.0370 - val_loss: 0.0018 - val_mean_squared_error: 0.0018 - val_root_mean_squared_error: 0.0421\n",
            "Epoch 49/60\n",
            "1101/1101 [==============================] - 2s 2ms/sample - loss: 0.0013 - mean_squared_error: 0.0013 - root_mean_squared_error: 0.0355 - val_loss: 0.0019 - val_mean_squared_error: 0.0019 - val_root_mean_squared_error: 0.0434\n",
            "Epoch 50/60\n",
            "1101/1101 [==============================] - 3s 2ms/sample - loss: 0.0014 - mean_squared_error: 0.0014 - root_mean_squared_error: 0.0370 - val_loss: 0.0021 - val_mean_squared_error: 0.0021 - val_root_mean_squared_error: 0.0463\n",
            "Epoch 51/60\n",
            "1101/1101 [==============================] - 3s 2ms/sample - loss: 0.0013 - mean_squared_error: 0.0013 - root_mean_squared_error: 0.0366 - val_loss: 0.0021 - val_mean_squared_error: 0.0021 - val_root_mean_squared_error: 0.0459\n",
            "Epoch 52/60\n",
            "1101/1101 [==============================] - 4s 3ms/sample - loss: 0.0013 - mean_squared_error: 0.0013 - root_mean_squared_error: 0.0355 - val_loss: 0.0018 - val_mean_squared_error: 0.0018 - val_root_mean_squared_error: 0.0421\n",
            "Epoch 53/60\n",
            "1101/1101 [==============================] - 3s 3ms/sample - loss: 0.0013 - mean_squared_error: 0.0013 - root_mean_squared_error: 0.0365 - val_loss: 0.0043 - val_mean_squared_error: 0.0043 - val_root_mean_squared_error: 0.0659\n",
            "Epoch 54/60\n",
            "1101/1101 [==============================] - 2s 2ms/sample - loss: 0.0013 - mean_squared_error: 0.0013 - root_mean_squared_error: 0.0357 - val_loss: 0.0030 - val_mean_squared_error: 0.0030 - val_root_mean_squared_error: 0.0545\n",
            "Epoch 55/60\n",
            "1101/1101 [==============================] - 2s 2ms/sample - loss: 0.0014 - mean_squared_error: 0.0014 - root_mean_squared_error: 0.0377 - val_loss: 0.0075 - val_mean_squared_error: 0.0075 - val_root_mean_squared_error: 0.0867\n",
            "Epoch 56/60\n",
            "1101/1101 [==============================] - 3s 2ms/sample - loss: 0.0017 - mean_squared_error: 0.0017 - root_mean_squared_error: 0.0412 - val_loss: 0.0021 - val_mean_squared_error: 0.0021 - val_root_mean_squared_error: 0.0456\n",
            "Epoch 57/60\n",
            "1101/1101 [==============================] - 3s 3ms/sample - loss: 0.0012 - mean_squared_error: 0.0012 - root_mean_squared_error: 0.0346 - val_loss: 0.0041 - val_mean_squared_error: 0.0041 - val_root_mean_squared_error: 0.0637\n",
            "Epoch 58/60\n",
            "1101/1101 [==============================] - 3s 3ms/sample - loss: 0.0012 - mean_squared_error: 0.0012 - root_mean_squared_error: 0.0342 - val_loss: 0.0017 - val_mean_squared_error: 0.0017 - val_root_mean_squared_error: 0.0417\n",
            "Epoch 59/60\n",
            "1101/1101 [==============================] - 2s 2ms/sample - loss: 0.0011 - mean_squared_error: 0.0011 - root_mean_squared_error: 0.0339 - val_loss: 0.0018 - val_mean_squared_error: 0.0018 - val_root_mean_squared_error: 0.0421\n",
            "Epoch 60/60\n",
            "1101/1101 [==============================] - 3s 2ms/sample - loss: 0.0012 - mean_squared_error: 0.0012 - root_mean_squared_error: 0.0352 - val_loss: 0.0044 - val_mean_squared_error: 0.0044 - val_root_mean_squared_error: 0.0666\n"
          ]
        },
        {
          "output_type": "stream",
          "name": "stderr",
          "text": [
            "/usr/local/lib/python3.10/dist-packages/keras/src/engine/training_v1.py:2359: UserWarning: `Model.state_updates` will be removed in a future version. This property should not be used in TensorFlow 2.0, as `updates` are applied automatically.\n",
            "  updates=self.state_updates,\n"
          ]
        },
        {
          "output_type": "stream",
          "name": "stdout",
          "text": [
            "   Adj Close           TVL  sentiment_score  normalized_influence_robust  \\\n",
            "0     1.3430  3.275880e+07         0.413783                     3.712121   \n",
            "1     1.3550  3.357236e+07         0.273445                     0.764463   \n",
            "2     1.3112  3.438593e+07         0.210344                     2.130682   \n",
            "3     1.3217  3.519949e+07         0.505086                     0.597403   \n",
            "4     1.3312  3.601305e+07         0.590564                     3.181818   \n",
            "\n",
            "      Volume  \n",
            "0  3705766.0  \n",
            "1  3220886.3  \n",
            "2  3169702.5  \n",
            "3  1720384.3  \n",
            "4  3435000.4  \n",
            "(1101, 40, 5) (1101,)\n",
            "(100, 40, 5) (100,)\n",
            "(120, 40, 5) (120,)\n",
            "Train on 1101 samples, validate on 100 samples\n",
            "Epoch 1/60\n",
            "1101/1101 [==============================] - ETA: 0s - loss: 0.0152 - mean_squared_error: 0.0152 - root_mean_squared_error: 0.1231"
          ]
        },
        {
          "output_type": "stream",
          "name": "stderr",
          "text": [
            "/usr/local/lib/python3.10/dist-packages/keras/src/engine/training_v1.py:2335: UserWarning: `Model.state_updates` will be removed in a future version. This property should not be used in TensorFlow 2.0, as `updates` are applied automatically.\n",
            "  updates = self.state_updates\n"
          ]
        },
        {
          "output_type": "stream",
          "name": "stdout",
          "text": [
            "\b\b\b\b\b\b\b\b\b\b\b\b\b\b\b\b\b\b\b\b\b\b\b\b\b\b\b\b\b\b\b\b\b\b\b\b\b\b\b\b\b\b\b\b\b\b\b\b\b\b\b\b\b\b\b\b\b\b\b\b\b\b\b\b\b\b\b\b\b\b\b\b\b\b\b\b\b\b\b\b\b\b\b\b\b\b\b\b\b\b\b\b\b\b\b\b\b\b\b\b\b\b\b\b\b\b\b\b\b\b\b\b\b\b\b\b\b\b\b\b\b\b\b\b\b\b\b\b\b\b\r1101/1101 [==============================] - 6s 5ms/sample - loss: 0.0152 - mean_squared_error: 0.0152 - root_mean_squared_error: 0.1231 - val_loss: 0.0243 - val_mean_squared_error: 0.0243 - val_root_mean_squared_error: 0.1560\n",
            "Epoch 2/60\n",
            "1101/1101 [==============================] - 2s 2ms/sample - loss: 0.0038 - mean_squared_error: 0.0038 - root_mean_squared_error: 0.0613 - val_loss: 0.0091 - val_mean_squared_error: 0.0091 - val_root_mean_squared_error: 0.0953\n",
            "Epoch 3/60\n",
            "1101/1101 [==============================] - 3s 3ms/sample - loss: 0.0036 - mean_squared_error: 0.0036 - root_mean_squared_error: 0.0600 - val_loss: 0.0042 - val_mean_squared_error: 0.0042 - val_root_mean_squared_error: 0.0651\n",
            "Epoch 4/60\n",
            "1101/1101 [==============================] - 4s 3ms/sample - loss: 0.0034 - mean_squared_error: 0.0034 - root_mean_squared_error: 0.0579 - val_loss: 0.0027 - val_mean_squared_error: 0.0027 - val_root_mean_squared_error: 0.0520\n",
            "Epoch 5/60\n",
            "1101/1101 [==============================] - 3s 2ms/sample - loss: 0.0033 - mean_squared_error: 0.0033 - root_mean_squared_error: 0.0571 - val_loss: 0.0056 - val_mean_squared_error: 0.0056 - val_root_mean_squared_error: 0.0748\n",
            "Epoch 6/60\n",
            "1101/1101 [==============================] - 2s 2ms/sample - loss: 0.0028 - mean_squared_error: 0.0028 - root_mean_squared_error: 0.0529 - val_loss: 0.0103 - val_mean_squared_error: 0.0103 - val_root_mean_squared_error: 0.1014\n",
            "Epoch 7/60\n",
            "1101/1101 [==============================] - 2s 2ms/sample - loss: 0.0024 - mean_squared_error: 0.0024 - root_mean_squared_error: 0.0486 - val_loss: 0.0086 - val_mean_squared_error: 0.0086 - val_root_mean_squared_error: 0.0930\n",
            "Epoch 8/60\n",
            "1101/1101 [==============================] - 3s 3ms/sample - loss: 0.0025 - mean_squared_error: 0.0025 - root_mean_squared_error: 0.0495 - val_loss: 0.0070 - val_mean_squared_error: 0.0070 - val_root_mean_squared_error: 0.0838\n",
            "Epoch 9/60\n",
            "1101/1101 [==============================] - 4s 3ms/sample - loss: 0.0026 - mean_squared_error: 0.0026 - root_mean_squared_error: 0.0514 - val_loss: 0.0242 - val_mean_squared_error: 0.0242 - val_root_mean_squared_error: 0.1557\n",
            "Epoch 10/60\n",
            "1101/1101 [==============================] - 3s 2ms/sample - loss: 0.0024 - mean_squared_error: 0.0024 - root_mean_squared_error: 0.0492 - val_loss: 0.0089 - val_mean_squared_error: 0.0089 - val_root_mean_squared_error: 0.0942\n",
            "Epoch 11/60\n",
            "1101/1101 [==============================] - 2s 2ms/sample - loss: 0.0024 - mean_squared_error: 0.0024 - root_mean_squared_error: 0.0486 - val_loss: 0.0268 - val_mean_squared_error: 0.0268 - val_root_mean_squared_error: 0.1636\n",
            "Epoch 12/60\n",
            "1101/1101 [==============================] - 2s 2ms/sample - loss: 0.0023 - mean_squared_error: 0.0023 - root_mean_squared_error: 0.0482 - val_loss: 0.0118 - val_mean_squared_error: 0.0118 - val_root_mean_squared_error: 0.1084\n",
            "Epoch 13/60\n",
            "1101/1101 [==============================] - 3s 2ms/sample - loss: 0.0022 - mean_squared_error: 0.0022 - root_mean_squared_error: 0.0473 - val_loss: 0.0021 - val_mean_squared_error: 0.0021 - val_root_mean_squared_error: 0.0453\n",
            "Epoch 14/60\n",
            "1101/1101 [==============================] - 4s 3ms/sample - loss: 0.0025 - mean_squared_error: 0.0025 - root_mean_squared_error: 0.0501 - val_loss: 0.0116 - val_mean_squared_error: 0.0116 - val_root_mean_squared_error: 0.1075\n",
            "Epoch 15/60\n",
            "1101/1101 [==============================] - 2s 2ms/sample - loss: 0.0027 - mean_squared_error: 0.0027 - root_mean_squared_error: 0.0519 - val_loss: 0.0018 - val_mean_squared_error: 0.0018 - val_root_mean_squared_error: 0.0427\n",
            "Epoch 16/60\n",
            "1101/1101 [==============================] - 2s 2ms/sample - loss: 0.0020 - mean_squared_error: 0.0020 - root_mean_squared_error: 0.0451 - val_loss: 0.0130 - val_mean_squared_error: 0.0130 - val_root_mean_squared_error: 0.1140\n",
            "Epoch 17/60\n",
            "1101/1101 [==============================] - 2s 2ms/sample - loss: 0.0022 - mean_squared_error: 0.0022 - root_mean_squared_error: 0.0466 - val_loss: 0.0026 - val_mean_squared_error: 0.0026 - val_root_mean_squared_error: 0.0506\n",
            "Epoch 18/60\n",
            "1101/1101 [==============================] - 3s 2ms/sample - loss: 0.0016 - mean_squared_error: 0.0016 - root_mean_squared_error: 0.0405 - val_loss: 0.0133 - val_mean_squared_error: 0.0133 - val_root_mean_squared_error: 0.1155\n",
            "Epoch 19/60\n",
            "1101/1101 [==============================] - 4s 4ms/sample - loss: 0.0021 - mean_squared_error: 0.0021 - root_mean_squared_error: 0.0462 - val_loss: 0.0195 - val_mean_squared_error: 0.0195 - val_root_mean_squared_error: 0.1396\n",
            "Epoch 20/60\n",
            "1101/1101 [==============================] - 3s 2ms/sample - loss: 0.0018 - mean_squared_error: 0.0018 - root_mean_squared_error: 0.0430 - val_loss: 0.0018 - val_mean_squared_error: 0.0018 - val_root_mean_squared_error: 0.0427\n",
            "Epoch 21/60\n",
            "1101/1101 [==============================] - 4s 3ms/sample - loss: 0.0021 - mean_squared_error: 0.0021 - root_mean_squared_error: 0.0455 - val_loss: 0.0019 - val_mean_squared_error: 0.0019 - val_root_mean_squared_error: 0.0438\n",
            "Epoch 22/60\n",
            "1101/1101 [==============================] - 3s 3ms/sample - loss: 0.0020 - mean_squared_error: 0.0020 - root_mean_squared_error: 0.0452 - val_loss: 0.0068 - val_mean_squared_error: 0.0068 - val_root_mean_squared_error: 0.0827\n",
            "Epoch 23/60\n",
            "1101/1101 [==============================] - 4s 3ms/sample - loss: 0.0018 - mean_squared_error: 0.0018 - root_mean_squared_error: 0.0420 - val_loss: 0.0043 - val_mean_squared_error: 0.0043 - val_root_mean_squared_error: 0.0659\n",
            "Epoch 24/60\n",
            "1101/1101 [==============================] - 3s 3ms/sample - loss: 0.0021 - mean_squared_error: 0.0021 - root_mean_squared_error: 0.0453 - val_loss: 0.0019 - val_mean_squared_error: 0.0019 - val_root_mean_squared_error: 0.0436\n",
            "Epoch 25/60\n",
            "1101/1101 [==============================] - 3s 2ms/sample - loss: 0.0017 - mean_squared_error: 0.0017 - root_mean_squared_error: 0.0411 - val_loss: 0.0028 - val_mean_squared_error: 0.0028 - val_root_mean_squared_error: 0.0530\n",
            "Epoch 26/60\n",
            "1101/1101 [==============================] - 3s 2ms/sample - loss: 0.0015 - mean_squared_error: 0.0015 - root_mean_squared_error: 0.0389 - val_loss: 0.0041 - val_mean_squared_error: 0.0041 - val_root_mean_squared_error: 0.0637\n",
            "Epoch 27/60\n",
            "1101/1101 [==============================] - 2s 2ms/sample - loss: 0.0015 - mean_squared_error: 0.0015 - root_mean_squared_error: 0.0390 - val_loss: 0.0164 - val_mean_squared_error: 0.0164 - val_root_mean_squared_error: 0.1281\n",
            "Epoch 28/60\n",
            "1101/1101 [==============================] - 3s 3ms/sample - loss: 0.0015 - mean_squared_error: 0.0015 - root_mean_squared_error: 0.0385 - val_loss: 0.0066 - val_mean_squared_error: 0.0066 - val_root_mean_squared_error: 0.0812\n",
            "Epoch 29/60\n",
            "1101/1101 [==============================] - 3s 3ms/sample - loss: 0.0016 - mean_squared_error: 0.0016 - root_mean_squared_error: 0.0397 - val_loss: 0.0028 - val_mean_squared_error: 0.0028 - val_root_mean_squared_error: 0.0527\n",
            "Epoch 30/60\n",
            "1101/1101 [==============================] - 2s 2ms/sample - loss: 0.0017 - mean_squared_error: 0.0017 - root_mean_squared_error: 0.0417 - val_loss: 0.0031 - val_mean_squared_error: 0.0031 - val_root_mean_squared_error: 0.0557\n",
            "Epoch 31/60\n",
            "1101/1101 [==============================] - 2s 2ms/sample - loss: 0.0014 - mean_squared_error: 0.0014 - root_mean_squared_error: 0.0380 - val_loss: 0.0063 - val_mean_squared_error: 0.0063 - val_root_mean_squared_error: 0.0796\n",
            "Epoch 32/60\n",
            "1101/1101 [==============================] - 2s 2ms/sample - loss: 0.0014 - mean_squared_error: 0.0014 - root_mean_squared_error: 0.0374 - val_loss: 0.0085 - val_mean_squared_error: 0.0085 - val_root_mean_squared_error: 0.0922\n",
            "Epoch 33/60\n",
            "1101/1101 [==============================] - 3s 3ms/sample - loss: 0.0016 - mean_squared_error: 0.0016 - root_mean_squared_error: 0.0395 - val_loss: 0.0051 - val_mean_squared_error: 0.0051 - val_root_mean_squared_error: 0.0714\n",
            "Epoch 34/60\n",
            "1101/1101 [==============================] - 3s 3ms/sample - loss: 0.0016 - mean_squared_error: 0.0016 - root_mean_squared_error: 0.0397 - val_loss: 0.0088 - val_mean_squared_error: 0.0088 - val_root_mean_squared_error: 0.0938\n",
            "Epoch 35/60\n",
            "1101/1101 [==============================] - 3s 2ms/sample - loss: 0.0016 - mean_squared_error: 0.0016 - root_mean_squared_error: 0.0405 - val_loss: 0.0035 - val_mean_squared_error: 0.0035 - val_root_mean_squared_error: 0.0594\n",
            "Epoch 36/60\n",
            "1101/1101 [==============================] - 3s 2ms/sample - loss: 0.0013 - mean_squared_error: 0.0013 - root_mean_squared_error: 0.0356 - val_loss: 0.0024 - val_mean_squared_error: 0.0024 - val_root_mean_squared_error: 0.0494\n",
            "Epoch 37/60\n",
            "1101/1101 [==============================] - 3s 2ms/sample - loss: 0.0015 - mean_squared_error: 0.0015 - root_mean_squared_error: 0.0390 - val_loss: 0.0020 - val_mean_squared_error: 0.0020 - val_root_mean_squared_error: 0.0442\n",
            "Epoch 38/60\n",
            "1101/1101 [==============================] - 3s 3ms/sample - loss: 0.0015 - mean_squared_error: 0.0015 - root_mean_squared_error: 0.0388 - val_loss: 0.0140 - val_mean_squared_error: 0.0140 - val_root_mean_squared_error: 0.1181\n",
            "Epoch 39/60\n",
            "1101/1101 [==============================] - 3s 3ms/sample - loss: 0.0016 - mean_squared_error: 0.0016 - root_mean_squared_error: 0.0402 - val_loss: 0.0018 - val_mean_squared_error: 0.0018 - val_root_mean_squared_error: 0.0420\n",
            "Epoch 40/60\n",
            "1101/1101 [==============================] - 2s 2ms/sample - loss: 0.0014 - mean_squared_error: 0.0014 - root_mean_squared_error: 0.0373 - val_loss: 0.0018 - val_mean_squared_error: 0.0018 - val_root_mean_squared_error: 0.0428\n",
            "Epoch 41/60\n",
            "1101/1101 [==============================] - 2s 2ms/sample - loss: 0.0015 - mean_squared_error: 0.0015 - root_mean_squared_error: 0.0390 - val_loss: 0.0064 - val_mean_squared_error: 0.0064 - val_root_mean_squared_error: 0.0803\n",
            "Epoch 42/60\n",
            "1101/1101 [==============================] - 3s 2ms/sample - loss: 0.0013 - mean_squared_error: 0.0013 - root_mean_squared_error: 0.0362 - val_loss: 0.0046 - val_mean_squared_error: 0.0046 - val_root_mean_squared_error: 0.0676\n",
            "Epoch 43/60\n",
            "1101/1101 [==============================] - 3s 3ms/sample - loss: 0.0013 - mean_squared_error: 0.0013 - root_mean_squared_error: 0.0359 - val_loss: 0.0139 - val_mean_squared_error: 0.0139 - val_root_mean_squared_error: 0.1179\n",
            "Epoch 44/60\n",
            "1101/1101 [==============================] - 3s 3ms/sample - loss: 0.0014 - mean_squared_error: 0.0014 - root_mean_squared_error: 0.0378 - val_loss: 0.0054 - val_mean_squared_error: 0.0054 - val_root_mean_squared_error: 0.0737\n",
            "Epoch 45/60\n",
            "1101/1101 [==============================] - 3s 2ms/sample - loss: 0.0014 - mean_squared_error: 0.0014 - root_mean_squared_error: 0.0368 - val_loss: 0.0035 - val_mean_squared_error: 0.0035 - val_root_mean_squared_error: 0.0588\n",
            "Epoch 46/60\n",
            "1101/1101 [==============================] - 3s 2ms/sample - loss: 0.0017 - mean_squared_error: 0.0017 - root_mean_squared_error: 0.0417 - val_loss: 0.0027 - val_mean_squared_error: 0.0027 - val_root_mean_squared_error: 0.0520\n",
            "Epoch 47/60\n",
            "1101/1101 [==============================] - 3s 2ms/sample - loss: 0.0012 - mean_squared_error: 0.0012 - root_mean_squared_error: 0.0341 - val_loss: 0.0042 - val_mean_squared_error: 0.0042 - val_root_mean_squared_error: 0.0646\n",
            "Epoch 48/60\n",
            "1101/1101 [==============================] - 3s 3ms/sample - loss: 0.0011 - mean_squared_error: 0.0011 - root_mean_squared_error: 0.0331 - val_loss: 0.0063 - val_mean_squared_error: 0.0063 - val_root_mean_squared_error: 0.0793\n",
            "Epoch 49/60\n",
            "1101/1101 [==============================] - 3s 3ms/sample - loss: 0.0012 - mean_squared_error: 0.0012 - root_mean_squared_error: 0.0345 - val_loss: 0.0023 - val_mean_squared_error: 0.0023 - val_root_mean_squared_error: 0.0477\n",
            "Epoch 50/60\n",
            "1101/1101 [==============================] - 3s 2ms/sample - loss: 0.0013 - mean_squared_error: 0.0013 - root_mean_squared_error: 0.0367 - val_loss: 0.0052 - val_mean_squared_error: 0.0052 - val_root_mean_squared_error: 0.0722\n",
            "Epoch 51/60\n",
            "1101/1101 [==============================] - 3s 2ms/sample - loss: 0.0013 - mean_squared_error: 0.0013 - root_mean_squared_error: 0.0354 - val_loss: 0.0073 - val_mean_squared_error: 0.0073 - val_root_mean_squared_error: 0.0856\n",
            "Epoch 52/60\n",
            "1101/1101 [==============================] - 2s 2ms/sample - loss: 0.0014 - mean_squared_error: 0.0014 - root_mean_squared_error: 0.0373 - val_loss: 0.0097 - val_mean_squared_error: 0.0097 - val_root_mean_squared_error: 0.0985\n",
            "Epoch 53/60\n",
            "1101/1101 [==============================] - 4s 3ms/sample - loss: 0.0013 - mean_squared_error: 0.0013 - root_mean_squared_error: 0.0366 - val_loss: 0.0042 - val_mean_squared_error: 0.0042 - val_root_mean_squared_error: 0.0648\n",
            "Epoch 54/60\n",
            "1101/1101 [==============================] - 3s 3ms/sample - loss: 0.0013 - mean_squared_error: 0.0013 - root_mean_squared_error: 0.0362 - val_loss: 0.0086 - val_mean_squared_error: 0.0086 - val_root_mean_squared_error: 0.0926\n",
            "Epoch 55/60\n",
            "1101/1101 [==============================] - 3s 2ms/sample - loss: 0.0015 - mean_squared_error: 0.0015 - root_mean_squared_error: 0.0390 - val_loss: 0.0043 - val_mean_squared_error: 0.0043 - val_root_mean_squared_error: 0.0658\n",
            "Epoch 56/60\n",
            "1101/1101 [==============================] - 3s 2ms/sample - loss: 0.0011 - mean_squared_error: 0.0011 - root_mean_squared_error: 0.0325 - val_loss: 0.0044 - val_mean_squared_error: 0.0044 - val_root_mean_squared_error: 0.0660\n",
            "Epoch 57/60\n",
            "1101/1101 [==============================] - 3s 2ms/sample - loss: 0.0012 - mean_squared_error: 0.0012 - root_mean_squared_error: 0.0351 - val_loss: 0.0039 - val_mean_squared_error: 0.0039 - val_root_mean_squared_error: 0.0622\n",
            "Epoch 58/60\n",
            "1101/1101 [==============================] - 3s 3ms/sample - loss: 0.0014 - mean_squared_error: 0.0014 - root_mean_squared_error: 0.0378 - val_loss: 0.0059 - val_mean_squared_error: 0.0059 - val_root_mean_squared_error: 0.0765\n",
            "Epoch 59/60\n",
            "1101/1101 [==============================] - 3s 3ms/sample - loss: 0.0013 - mean_squared_error: 0.0013 - root_mean_squared_error: 0.0367 - val_loss: 0.0081 - val_mean_squared_error: 0.0081 - val_root_mean_squared_error: 0.0903\n",
            "Epoch 60/60\n",
            "1101/1101 [==============================] - 2s 2ms/sample - loss: 0.0013 - mean_squared_error: 0.0013 - root_mean_squared_error: 0.0355 - val_loss: 0.0081 - val_mean_squared_error: 0.0081 - val_root_mean_squared_error: 0.0898\n"
          ]
        },
        {
          "output_type": "stream",
          "name": "stderr",
          "text": [
            "/usr/local/lib/python3.10/dist-packages/keras/src/engine/training_v1.py:2359: UserWarning: `Model.state_updates` will be removed in a future version. This property should not be used in TensorFlow 2.0, as `updates` are applied automatically.\n",
            "  updates=self.state_updates,\n"
          ]
        }
      ],
      "source": [
        "# Train two models\n",
        "models = []\n",
        "df = read_data(coin)\n",
        "\n",
        "for features in features_list:\n",
        "    train, validation, test = train_test_val(df, date_train, date_validation, features)\n",
        "    scaler = MinMaxScaler(feature_range=(0, 1))\n",
        "    train_scaled, validation_scaled, test_scaled = scale_features(scaler, train, validation, test)\n",
        "    X_train, y_train = create_sequences(train_scaled, seq_length=seq_length)\n",
        "    X_validation, y_validation = create_sequences(validation_scaled, seq_length=seq_length)\n",
        "    X_test, y_test = create_sequences(test_scaled, seq_length=seq_length)\n",
        "    print(X_train.shape, y_train.shape)\n",
        "    print(X_validation.shape, y_validation.shape)\n",
        "    print(X_test.shape, y_test.shape)\n",
        "    y_train = np.reshape(y_train, (-1, 1))\n",
        "    y_test = np.reshape(y_test, (-1, 1))\n",
        "    y_validation = np.reshape(y_validation, (-1, 1))\n",
        "\n",
        "    # Define, train and test the model\n",
        "    model = define_model(optimizer, loss, seq_length=seq_length, num_parameters=len(features))\n",
        "    train_model(model, X_train, y_train, X_validation, y_validation, epochs=epochs)\n",
        "    predicted_price, history = test_model(model, train, X_test, y_test)\n",
        "    models.append((model, predicted_price, history))"
      ]
    },
    {
      "cell_type": "code",
      "execution_count": null,
      "id": "RMJyuvx7AMHe",
      "metadata": {
        "colab": {
          "base_uri": "https://localhost:8080/",
          "height": 560
        },
        "id": "RMJyuvx7AMHe",
        "outputId": "2d0b6919-573a-4e14-9891-28af876aa2dc"
      },
      "outputs": [
        {
          "output_type": "display_data",
          "data": {
            "text/plain": [
              "<Figure size 1000x600 with 1 Axes>"
            ],
            "image/png": "[encoded data removed]"
          },
          "metadata": {}
        }
      ],
      "source": [
        "# Visualize both price predictions at once\n",
        "visualize_results2(df, models[0][1], models[1][1], date_validation, coin, seq_length=seq_length)"
      ]
    },
    {
      "cell_type": "code",
      "execution_count": null,
      "id": "dbRFHH_eEu6M",
      "metadata": {
        "colab": {
          "base_uri": "https://localhost:8080/"
        },
        "id": "dbRFHH_eEu6M",
        "outputId": "c5b088fa-3a01-4255-ed97-49b1572ceb9d"
      },
      "outputs": [
        {
          "output_type": "stream",
          "name": "stdout",
          "text": [
            "['loss', 'mean_squared_error', 'root_mean_squared_error']\n",
            "[0.006167123109723131, 0.0061671226, 0.07853103]\n",
            "['loss', 'mean_squared_error', 'root_mean_squared_error']\n",
            "[0.03588551754752795, 0.035885517, 0.18943472]\n"
          ]
        }
      ],
      "source": [
        "print(models[0][0].metrics_names)\n",
        "print(models[0][2])\n",
        "print(models[1][0].metrics_names)\n",
        "print(models[1][2])"
      ]
    },
    {
      "cell_type": "markdown",
      "id": "WMNAkV5Lf7c-",
      "metadata": {
        "id": "WMNAkV5Lf7c-"
      },
      "source": []
    },
    {
      "cell_type": "code",
      "execution_count": null,
      "id": "lK9tkE9ZInjJ",
      "metadata": {
        "id": "lK9tkE9ZInjJ"
      },
      "outputs": [],
      "source": []
    }
  ],
  "metadata": {
    "accelerator": "GPU",
    "colab": {
      "gpuType": "T4",
      "provenance": []
    },
    "kernelspec": {
      "display_name": "Python 3",
      "name": "python3"
    },
    "language_info": {
      "codemirror_mode": {
        "name": "ipython",
        "version": 2
      },
      "file_extension": ".py",
      "mimetype": "text/x-python",
      "name": "python",
      "nbconvert_exporter": "python",
      "pygments_lexer": "ipython2",
      "version": "2.7.6"
    }
  },
  "nbformat": 4,
  "nbformat_minor": 5
}