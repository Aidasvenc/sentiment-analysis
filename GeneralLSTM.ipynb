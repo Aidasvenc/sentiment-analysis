{
  "cells": [
    {
      "cell_type": "markdown",
      "id": "3c684607075e87ba",
      "metadata": {
        "collapsed": false,
        "id": "3c684607075e87ba"
      },
      "source": [
        "## General LSTM Model\n",
        "\n",
        "This model use multiple features: price, trading volume, and TVL to predict coin prices"
      ]
    },
    {
      "cell_type": "code",
      "source": [
        "!pip install shap"
      ],
      "metadata": {
        "colab": {
          "base_uri": "https://localhost:8080/"
        },
        "id": "tboXfGdzDdhf",
        "outputId": "cbdc6248-0da7-4698-f0a2-f5b1f701fbcf"
      },
      "id": "tboXfGdzDdhf",
      "execution_count": null,
      "outputs": [
        {
          "output_type": "stream",
          "name": "stdout",
          "text": [
            "Collecting shap\n",
            "  Downloading shap-0.45.1-cp310-cp310-manylinux_2_12_x86_64.manylinux2010_x86_64.manylinux_2_17_x86_64.manylinux2014_x86_64.whl (540 kB)\n",
            "\u001b[2K     \u001b[90m━━━━━━━━━━━━━━━━━━━━━━━━━━━━━━━━━━━━━━━━\u001b[0m \u001b[32m540.5/540.5 kB\u001b[0m \u001b[31m4.8 MB/s\u001b[0m eta \u001b[36m0:00:00\u001b[0m\n",
            "\u001b[?25hRequirement already satisfied: numpy in /usr/local/lib/python3.10/dist-packages (from shap) (1.25.2)\n",
            "Requirement already satisfied: scipy in /usr/local/lib/python3.10/dist-packages (from shap) (1.11.4)\n",
            "Requirement already satisfied: scikit-learn in /usr/local/lib/python3.10/dist-packages (from shap) (1.2.2)\n",
            "Requirement already satisfied: pandas in /usr/local/lib/python3.10/dist-packages (from shap) (2.0.3)\n",
            "Requirement already satisfied: tqdm>=4.27.0 in /usr/local/lib/python3.10/dist-packages (from shap) (4.66.4)\n",
            "Requirement already satisfied: packaging>20.9 in /usr/local/lib/python3.10/dist-packages (from shap) (24.0)\n",
            "Collecting slicer==0.0.8 (from shap)\n",
            "  Downloading slicer-0.0.8-py3-none-any.whl (15 kB)\n",
            "Requirement already satisfied: numba in /usr/local/lib/python3.10/dist-packages (from shap) (0.58.1)\n",
            "Requirement already satisfied: cloudpickle in /usr/local/lib/python3.10/dist-packages (from shap) (2.2.1)\n",
            "Requirement already satisfied: llvmlite<0.42,>=0.41.0dev0 in /usr/local/lib/python3.10/dist-packages (from numba->shap) (0.41.1)\n",
            "Requirement already satisfied: python-dateutil>=2.8.2 in /usr/local/lib/python3.10/dist-packages (from pandas->shap) (2.8.2)\n",
            "Requirement already satisfied: pytz>=2020.1 in /usr/local/lib/python3.10/dist-packages (from pandas->shap) (2023.4)\n",
            "Requirement already satisfied: tzdata>=2022.1 in /usr/local/lib/python3.10/dist-packages (from pandas->shap) (2024.1)\n",
            "Requirement already satisfied: joblib>=1.1.1 in /usr/local/lib/python3.10/dist-packages (from scikit-learn->shap) (1.4.2)\n",
            "Requirement already satisfied: threadpoolctl>=2.0.0 in /usr/local/lib/python3.10/dist-packages (from scikit-learn->shap) (3.5.0)\n",
            "Requirement already satisfied: six>=1.5 in /usr/local/lib/python3.10/dist-packages (from python-dateutil>=2.8.2->pandas->shap) (1.16.0)\n",
            "Installing collected packages: slicer, shap\n",
            "Successfully installed shap-0.45.1 slicer-0.0.8\n"
          ]
        }
      ]
    },
    {
      "cell_type": "code",
      "execution_count": null,
      "id": "initial_id",
      "metadata": {
        "collapsed": true,
        "id": "initial_id",
        "colab": {
          "base_uri": "https://localhost:8080/"
        },
        "outputId": "3b103151-7a03-4659-c41b-250eda659e29"
      },
      "outputs": [
        {
          "output_type": "stream",
          "name": "stderr",
          "text": [
            "WARNING:tensorflow:From /usr/local/lib/python3.10/dist-packages/tensorflow/python/compat/v2_compat.py:108: disable_resource_variables (from tensorflow.python.ops.variable_scope) is deprecated and will be removed in a future version.\n",
            "Instructions for updating:\n",
            "non-resource variables are not supported in the long term\n"
          ]
        }
      ],
      "source": [
        "# Import needed libraries\n",
        "import numpy as np\n",
        "import pandas as pd\n",
        "import matplotlib.pyplot as plt\n",
        "import matplotlib.dates as dates\n",
        "from sklearn.preprocessing import MinMaxScaler\n",
        "from tensorflow import keras\n",
        "import tensorflow as tf\n",
        "tf.compat.v1.disable_v2_behavior()\n",
        "import shap"
      ]
    },
    {
      "cell_type": "markdown",
      "id": "1a3169948d4b8a4",
      "metadata": {
        "collapsed": false,
        "id": "1a3169948d4b8a4"
      },
      "source": [
        "### Import the data"
      ]
    },
    {
      "cell_type": "code",
      "execution_count": 36,
      "id": "2cc5427bfa37b40a",
      "metadata": {
        "id": "2cc5427bfa37b40a"
      },
      "outputs": [],
      "source": [
        "# Read the data based on coin\n",
        "def read_data(coin):\n",
        "    # Read csv\n",
        "    df = pd.read_csv(\"data/\" + coin + \".csv\")\n",
        "\n",
        "    # Covert to datetime\n",
        "    df[\"Date\"] = pd.to_datetime(df[\"Date\"])\n",
        "    return df"
      ]
    },
    {
      "cell_type": "markdown",
      "id": "991b9dda896ea936",
      "metadata": {
        "collapsed": false,
        "id": "991b9dda896ea936"
      },
      "source": [
        "### Prepare data"
      ]
    },
    {
      "cell_type": "code",
      "execution_count": 37,
      "id": "a30a8e1ee2ce0a20",
      "metadata": {
        "id": "a30a8e1ee2ce0a20"
      },
      "outputs": [],
      "source": [
        "def train_test_val(df, date_train, date_validation, features):\n",
        "    # Split data into training, validation and test sets\n",
        "    training_data = df[(df['Date'] <= date_train)][features]\n",
        "    validation_data = df[(df['Date'] > date_train) & (df['Date'] <= date_validation)][features]\n",
        "    test_data = df[(df['Date'] > date_validation)][features]\n",
        "\n",
        "    print(training_data.head())\n",
        "\n",
        "    # Reshape the data\n",
        "    training_set = training_data.to_numpy()\n",
        "    validation_set = validation_data.to_numpy()\n",
        "    test_set = test_data.to_numpy()\n",
        "    return training_set, validation_set, test_set"
      ]
    },
    {
      "cell_type": "markdown",
      "id": "caf27f3ca607fcf4",
      "metadata": {
        "collapsed": false,
        "id": "caf27f3ca607fcf4"
      },
      "source": [
        "### Scale the features"
      ]
    },
    {
      "cell_type": "code",
      "execution_count": 38,
      "id": "ba2f3fbdf831cd51",
      "metadata": {
        "id": "ba2f3fbdf831cd51"
      },
      "outputs": [],
      "source": [
        "def scale_features(scaler, training_set, validation_set, test_set):\n",
        "    training_set_scaled = scaler.fit_transform(training_set)\n",
        "    validation_set_scaled = scaler.transform(validation_set)\n",
        "    test_set_scaled = scaler.transform(test_set)\n",
        "    return training_set_scaled, validation_set_scaled, test_set_scaled"
      ]
    },
    {
      "cell_type": "markdown",
      "id": "b2e95150a80715c3",
      "metadata": {
        "collapsed": false,
        "id": "b2e95150a80715c3"
      },
      "source": [
        "### Create Input sequences"
      ]
    },
    {
      "cell_type": "code",
      "execution_count": 39,
      "id": "ccfda876c7530b06",
      "metadata": {
        "id": "ccfda876c7530b06"
      },
      "outputs": [],
      "source": [
        "def create_sequences(data, seq_length=60):\n",
        "    X = []\n",
        "    y = []\n",
        "    for i in range(seq_length, len(data)):\n",
        "        X.append(data[i-seq_length:i,:])\n",
        "        y.append(data[i,0])\n",
        "    return np.array(X), np.array(y)"
      ]
    },
    {
      "cell_type": "markdown",
      "id": "a6dd61282e01584",
      "metadata": {
        "collapsed": false,
        "id": "a6dd61282e01584"
      },
      "source": [
        "### Define the model"
      ]
    },
    {
      "cell_type": "code",
      "execution_count": 40,
      "id": "eb93c39d3b6182c1",
      "metadata": {
        "id": "eb93c39d3b6182c1"
      },
      "outputs": [],
      "source": [
        "def define_model(optimizer, loss, seq_length=60, num_parameters=1):\n",
        "    # Define the structure\n",
        "    model = keras.Sequential()\n",
        "    model.add(keras.layers.LSTM(units=50, return_sequences=True, input_shape=(seq_length, num_parameters)))\n",
        "    model.add(keras.layers.Dropout(0.2))\n",
        "    model.add(keras.layers.LSTM(units=50, return_sequences=True))\n",
        "    model.add(keras.layers.Dropout(0.2))\n",
        "    model.add(keras.layers.LSTM(units=50, return_sequences=True))\n",
        "    model.add(keras.layers.Dropout(0.2))\n",
        "    model.add(keras.layers.LSTM(units=50))\n",
        "    model.add(keras.layers.Dropout(0.2))\n",
        "    model.add(keras.layers.Dense(units=1))\n",
        "\n",
        "    # Specify the parameters for the LSTM Model\n",
        "    model.compile(optimizer=optimizer, loss=loss, metrics=[keras.metrics.MeanSquaredError(), keras.metrics.RootMeanSquaredError()])\n",
        "    return model"
      ]
    },
    {
      "cell_type": "markdown",
      "id": "9179eff5fa42cd84",
      "metadata": {
        "collapsed": false,
        "id": "9179eff5fa42cd84"
      },
      "source": [
        "### Train the model"
      ]
    },
    {
      "cell_type": "code",
      "execution_count": 41,
      "id": "9dddfdec778457b1",
      "metadata": {
        "id": "9dddfdec778457b1"
      },
      "outputs": [],
      "source": [
        "def train_model(model, X_train, y_train, X_validation, y_validation, epochs=100):\n",
        "    history = model.fit(X_train, y_train, epochs=epochs, batch_size=32, validation_data=(X_validation, y_validation))\n",
        "    return history"
      ]
    },
    {
      "cell_type": "markdown",
      "id": "c911a7e353af2bf7",
      "metadata": {
        "collapsed": false,
        "id": "c911a7e353af2bf7"
      },
      "source": [
        "### Visualise the loss during training"
      ]
    },
    {
      "cell_type": "code",
      "execution_count": 42,
      "id": "c7cc3a0d0b14c5cd",
      "metadata": {
        "id": "c7cc3a0d0b14c5cd"
      },
      "outputs": [],
      "source": [
        "def visualize_loss(history):\n",
        "    # Plot loss during training\n",
        "    plt.figure(figsize=(10, 5))\n",
        "    plt.plot(history.history['loss'], label='Training Loss')\n",
        "    plt.plot(history.history['val_loss'], label='Validation Loss')\n",
        "    plt.title('Model Loss')\n",
        "    plt.xlabel('Epoch')\n",
        "    plt.ylabel('Loss')\n",
        "    plt.legend()\n",
        "    plt.show()"
      ]
    },
    {
      "cell_type": "markdown",
      "id": "acfaeceea4bd0adb",
      "metadata": {
        "collapsed": false,
        "id": "acfaeceea4bd0adb"
      },
      "source": [
        "### Test the model"
      ]
    },
    {
      "cell_type": "code",
      "execution_count": 43,
      "id": "cd3363f8b472b8cd",
      "metadata": {
        "id": "cd3363f8b472b8cd"
      },
      "outputs": [],
      "source": [
        "def test_model(model, data, X_test, y_test):\n",
        "    history = model.evaluate(X_test, y_test)\n",
        "    predicted_price = model.predict(X_test)\n",
        "\n",
        "    # Fit scaler for the stock price\n",
        "    feature_scaler = MinMaxScaler()\n",
        "    feature_scaler.fit(data[:, 0].reshape(-1, 1))\n",
        "\n",
        "    # Inverse transform the stock price\n",
        "    predicted_price = feature_scaler.inverse_transform(predicted_price)\n",
        "    return predicted_price, history"
      ]
    },
    {
      "cell_type": "markdown",
      "id": "462123e50d4bdfbe",
      "metadata": {
        "collapsed": false,
        "id": "462123e50d4bdfbe"
      },
      "source": [
        "### Visualise results"
      ]
    },
    {
      "cell_type": "code",
      "execution_count": 44,
      "id": "bda2c165de7b874a",
      "metadata": {
        "id": "bda2c165de7b874a"
      },
      "outputs": [],
      "source": [
        "def visualize_results(df, predicted_price, date_validation, coin):\n",
        "    date_range = pd.date_range(start='2024-01-01', periods=len(predicted_price), freq='B')\n",
        "    test_prices = df[(df['Date'] > date_validation)]['Adj Close']\n",
        "    test_dates = df[(df['Date'] > date_validation)][\"Date\"]\n",
        "    plt.figure(figsize=(10, 6))\n",
        "    plt.plot(test_dates, test_prices, color='black', label=(coin + ' Price'))\n",
        "    plt.plot(test_dates[60:], predicted_price, color='green', label='Predicted ' + coin + ' Price')\n",
        "    plt.gca().xaxis.set_major_locator(dates.MonthLocator(interval=3))  # Show tick marks for every 3 months\n",
        "    plt.gca().xaxis.set_major_formatter(dates.DateFormatter('%b %Y'))  # Format x-axis labels as 'Jan 2023', 'Feb 2023', etc.\n",
        "    plt.title(coin + ' Price Prediction')\n",
        "    plt.xlabel('Time')\n",
        "    plt.ylabel(coin + 'Price')\n",
        "    plt.legend()\n",
        "    plt.show()"
      ]
    },
    {
      "cell_type": "markdown",
      "id": "e474fd5edf79405d",
      "metadata": {
        "collapsed": false,
        "id": "e474fd5edf79405d"
      },
      "source": [
        "## Make a custom run"
      ]
    },
    {
      "cell_type": "code",
      "execution_count": 45,
      "id": "dedfa36a14deea2",
      "metadata": {
        "id": "dedfa36a14deea2"
      },
      "outputs": [],
      "source": [
        "# Define the parameters\n",
        "coin = \"BTC\"\n",
        "date_train = \"2022-10-31\"\n",
        "date_validation = \"2023-07-01\"\n",
        "features = [\"Adj Close\"]\n",
        "optimizer = \"adam\"\n",
        "loss = \"mean_squared_error\"\n",
        "seq_length = 60\n",
        "epochs_train = 20"
      ]
    },
    {
      "cell_type": "code",
      "execution_count": 46,
      "id": "1ab14d58b13b1332",
      "metadata": {
        "id": "1ab14d58b13b1332"
      },
      "outputs": [],
      "source": [
        "# Read the data\n",
        "df = read_data(coin)"
      ]
    },
    {
      "cell_type": "code",
      "execution_count": 47,
      "id": "56bb80b4ac6c5c77",
      "metadata": {
        "colab": {
          "base_uri": "https://localhost:8080/"
        },
        "id": "56bb80b4ac6c5c77",
        "outputId": "f3452d2f-10ba-4ce9-a0f6-3698e98a9418"
      },
      "outputs": [
        {
          "output_type": "stream",
          "name": "stdout",
          "text": [
            "     Adj Close\n",
            "0  6378.849121\n",
            "1  7204.771484\n",
            "2  6972.371582\n",
            "3  7814.915039\n",
            "4  7994.416016\n",
            "(1271, 1)\n",
            "(243, 1)\n",
            "(314, 1)\n"
          ]
        }
      ],
      "source": [
        "# Split the data\n",
        "train, validation, test = train_test_val(df, date_train, date_validation, features)\n",
        "print(train.shape)\n",
        "print(validation.shape)\n",
        "print(test.shape)"
      ]
    },
    {
      "cell_type": "code",
      "execution_count": 48,
      "id": "a30fab4ee70396f",
      "metadata": {
        "id": "a30fab4ee70396f"
      },
      "outputs": [],
      "source": [
        "# Define the scaler\n",
        "scaler = MinMaxScaler(feature_range=(0, 1))"
      ]
    },
    {
      "cell_type": "code",
      "execution_count": 49,
      "id": "bcc43122ae391050",
      "metadata": {
        "id": "bcc43122ae391050"
      },
      "outputs": [],
      "source": [
        "# Scale the features\n",
        "train_scaled, validation_scaled, test_scaled = scale_features(scaler, train, validation, test)"
      ]
    },
    {
      "cell_type": "code",
      "execution_count": 50,
      "id": "649ea3786bc0e3dd",
      "metadata": {
        "colab": {
          "base_uri": "https://localhost:8080/"
        },
        "id": "649ea3786bc0e3dd",
        "outputId": "9a5a1af5-e7ab-449b-d2bc-57fda5d737fc"
      },
      "outputs": [
        {
          "output_type": "stream",
          "name": "stdout",
          "text": [
            "(1211, 60, 1) (1211,)\n",
            "(183, 60, 1) (183,)\n",
            "(254, 60, 1) (254,)\n"
          ]
        }
      ],
      "source": [
        "# Create sequences for LSTM\n",
        "X_train, y_train = create_sequences(train_scaled)\n",
        "X_validation, y_validation = create_sequences(validation_scaled)\n",
        "X_test, y_test = create_sequences(test_scaled)\n",
        "print(X_train.shape, y_train.shape)\n",
        "print(X_validation.shape, y_validation.shape)\n",
        "print(X_test.shape, y_test.shape)"
      ]
    },
    {
      "cell_type": "code",
      "execution_count": 51,
      "id": "2b4789f2a3cbd18",
      "metadata": {
        "colab": {
          "base_uri": "https://localhost:8080/"
        },
        "id": "2b4789f2a3cbd18",
        "outputId": "fdb0e362-b288-4f9b-b315-072b623aab21"
      },
      "outputs": [
        {
          "output_type": "stream",
          "name": "stdout",
          "text": [
            "(1211, 60, 1) (1211, 1)\n",
            "(183, 60, 1) (183, 1)\n",
            "(254, 60, 1) (254, 1)\n"
          ]
        }
      ],
      "source": [
        "# Reshape inputs for LSTM\n",
        "y_train = np.reshape(y_train, (-1, 1))\n",
        "y_test = np.reshape(y_test, (-1, 1))\n",
        "y_validation = np.reshape(y_validation, (-1, 1))\n",
        "print(X_train.shape, y_train.shape)\n",
        "print(X_validation.shape, y_validation.shape)\n",
        "print(X_test.shape, y_test.shape)"
      ]
    },
    {
      "cell_type": "code",
      "execution_count": 52,
      "id": "SFAhEf81hEL0",
      "metadata": {
        "id": "SFAhEf81hEL0",
        "colab": {
          "base_uri": "https://localhost:8080/"
        },
        "outputId": "f7c4a85c-f02e-48c6-ada4-f8408609c7e9"
      },
      "outputs": [
        {
          "output_type": "execute_result",
          "data": {
            "text/plain": [
              "<tf.Tensor 'sequential_1/dense_1/BiasAdd:0' shape=(1, 1) dtype=float32>"
            ]
          },
          "metadata": {},
          "execution_count": 52
        }
      ],
      "source": [
        "# Define the model\n",
        "model = define_model(optimizer, loss, seq_length=seq_length, num_parameters=len(features))\n",
        "model(tf.random.normal((1, seq_length, len(features))))"
      ]
    },
    {
      "cell_type": "code",
      "execution_count": 53,
      "id": "i0BmH8ubkYHf",
      "metadata": {
        "colab": {
          "base_uri": "https://localhost:8080/"
        },
        "id": "i0BmH8ubkYHf",
        "outputId": "7edb17b7-7f1a-4f59-d085-9bc22f2d8bbc"
      },
      "outputs": [
        {
          "output_type": "stream",
          "name": "stdout",
          "text": [
            "Train on 1211 samples, validate on 183 samples\n",
            "Epoch 1/20\n",
            "1211/1211 [==============================] - ETA: 0s - loss: 0.0260 - mean_squared_error: 0.0260 - root_mean_squared_error: 0.1612"
          ]
        },
        {
          "output_type": "stream",
          "name": "stderr",
          "text": [
            "/usr/local/lib/python3.10/dist-packages/keras/src/engine/training_v1.py:2335: UserWarning: `Model.state_updates` will be removed in a future version. This property should not be used in TensorFlow 2.0, as `updates` are applied automatically.\n",
            "  updates = self.state_updates\n"
          ]
        },
        {
          "output_type": "stream",
          "name": "stdout",
          "text": [
            "\b\b\b\b\b\b\b\b\b\b\b\b\b\b\b\b\b\b\b\b\b\b\b\b\b\b\b\b\b\b\b\b\b\b\b\b\b\b\b\b\b\b\b\b\b\b\b\b\b\b\b\b\b\b\b\b\b\b\b\b\b\b\b\b\b\b\b\b\b\b\b\b\b\b\b\b\b\b\b\b\b\b\b\b\b\b\b\b\b\b\b\b\b\b\b\b\b\b\b\b\b\b\b\b\b\b\b\b\b\b\b\b\b\b\b\b\b\b\b\b\b\b\b\b\b\b\b\b\b\b\r1211/1211 [==============================] - 5s 4ms/sample - loss: 0.0260 - mean_squared_error: 0.0260 - root_mean_squared_error: 0.1612 - val_loss: 0.0024 - val_mean_squared_error: 0.0024 - val_root_mean_squared_error: 0.0487\n",
            "Epoch 2/20\n",
            "1211/1211 [==============================] - 4s 3ms/sample - loss: 0.0068 - mean_squared_error: 0.0068 - root_mean_squared_error: 0.0822 - val_loss: 0.0018 - val_mean_squared_error: 0.0018 - val_root_mean_squared_error: 0.0428\n",
            "Epoch 3/20\n",
            "1211/1211 [==============================] - 6s 5ms/sample - loss: 0.0060 - mean_squared_error: 0.0060 - root_mean_squared_error: 0.0773 - val_loss: 0.0016 - val_mean_squared_error: 0.0016 - val_root_mean_squared_error: 0.0400\n",
            "Epoch 4/20\n",
            "1211/1211 [==============================] - 4s 3ms/sample - loss: 0.0060 - mean_squared_error: 0.0060 - root_mean_squared_error: 0.0776 - val_loss: 0.0011 - val_mean_squared_error: 0.0011 - val_root_mean_squared_error: 0.0325\n",
            "Epoch 5/20\n",
            "1211/1211 [==============================] - 4s 3ms/sample - loss: 0.0056 - mean_squared_error: 0.0056 - root_mean_squared_error: 0.0752 - val_loss: 0.0010 - val_mean_squared_error: 0.0010 - val_root_mean_squared_error: 0.0319\n",
            "Epoch 6/20\n",
            "1211/1211 [==============================] - 5s 4ms/sample - loss: 0.0050 - mean_squared_error: 0.0050 - root_mean_squared_error: 0.0709 - val_loss: 0.0014 - val_mean_squared_error: 0.0014 - val_root_mean_squared_error: 0.0368\n",
            "Epoch 7/20\n",
            "1211/1211 [==============================] - 4s 3ms/sample - loss: 0.0053 - mean_squared_error: 0.0053 - root_mean_squared_error: 0.0726 - val_loss: 0.0017 - val_mean_squared_error: 0.0017 - val_root_mean_squared_error: 0.0407\n",
            "Epoch 8/20\n",
            "1211/1211 [==============================] - 4s 3ms/sample - loss: 0.0047 - mean_squared_error: 0.0047 - root_mean_squared_error: 0.0687 - val_loss: 9.5320e-04 - val_mean_squared_error: 9.5320e-04 - val_root_mean_squared_error: 0.0309\n",
            "Epoch 9/20\n",
            "1211/1211 [==============================] - 4s 4ms/sample - loss: 0.0048 - mean_squared_error: 0.0048 - root_mean_squared_error: 0.0691 - val_loss: 0.0019 - val_mean_squared_error: 0.0019 - val_root_mean_squared_error: 0.0433\n",
            "Epoch 10/20\n",
            "1211/1211 [==============================] - 5s 4ms/sample - loss: 0.0048 - mean_squared_error: 0.0048 - root_mean_squared_error: 0.0696 - val_loss: 8.4602e-04 - val_mean_squared_error: 8.4602e-04 - val_root_mean_squared_error: 0.0291\n",
            "Epoch 11/20\n",
            "1211/1211 [==============================] - 4s 3ms/sample - loss: 0.0042 - mean_squared_error: 0.0042 - root_mean_squared_error: 0.0648 - val_loss: 8.5923e-04 - val_mean_squared_error: 8.5923e-04 - val_root_mean_squared_error: 0.0293\n",
            "Epoch 12/20\n",
            "1211/1211 [==============================] - 4s 3ms/sample - loss: 0.0045 - mean_squared_error: 0.0045 - root_mean_squared_error: 0.0673 - val_loss: 8.7419e-04 - val_mean_squared_error: 8.7419e-04 - val_root_mean_squared_error: 0.0296\n",
            "Epoch 13/20\n",
            "1211/1211 [==============================] - 5s 4ms/sample - loss: 0.0042 - mean_squared_error: 0.0042 - root_mean_squared_error: 0.0644 - val_loss: 8.5396e-04 - val_mean_squared_error: 8.5396e-04 - val_root_mean_squared_error: 0.0292\n",
            "Epoch 14/20\n",
            "1211/1211 [==============================] - 4s 3ms/sample - loss: 0.0051 - mean_squared_error: 0.0051 - root_mean_squared_error: 0.0714 - val_loss: 0.0030 - val_mean_squared_error: 0.0030 - val_root_mean_squared_error: 0.0547\n",
            "Epoch 15/20\n",
            "1211/1211 [==============================] - 4s 3ms/sample - loss: 0.0041 - mean_squared_error: 0.0041 - root_mean_squared_error: 0.0637 - val_loss: 7.8341e-04 - val_mean_squared_error: 7.8341e-04 - val_root_mean_squared_error: 0.0280\n",
            "Epoch 16/20\n",
            "1211/1211 [==============================] - 5s 4ms/sample - loss: 0.0034 - mean_squared_error: 0.0034 - root_mean_squared_error: 0.0587 - val_loss: 0.0011 - val_mean_squared_error: 0.0011 - val_root_mean_squared_error: 0.0331\n",
            "Epoch 17/20\n",
            "1211/1211 [==============================] - 4s 3ms/sample - loss: 0.0033 - mean_squared_error: 0.0033 - root_mean_squared_error: 0.0571 - val_loss: 7.0621e-04 - val_mean_squared_error: 7.0621e-04 - val_root_mean_squared_error: 0.0266\n",
            "Epoch 18/20\n",
            "1211/1211 [==============================] - 4s 3ms/sample - loss: 0.0033 - mean_squared_error: 0.0033 - root_mean_squared_error: 0.0577 - val_loss: 7.4146e-04 - val_mean_squared_error: 7.4146e-04 - val_root_mean_squared_error: 0.0272\n",
            "Epoch 19/20\n",
            "1211/1211 [==============================] - 5s 4ms/sample - loss: 0.0035 - mean_squared_error: 0.0035 - root_mean_squared_error: 0.0592 - val_loss: 8.9560e-04 - val_mean_squared_error: 8.9560e-04 - val_root_mean_squared_error: 0.0299\n",
            "Epoch 20/20\n",
            "1211/1211 [==============================] - 4s 4ms/sample - loss: 0.0038 - mean_squared_error: 0.0038 - root_mean_squared_error: 0.0617 - val_loss: 7.9915e-04 - val_mean_squared_error: 7.9915e-04 - val_root_mean_squared_error: 0.0283\n"
          ]
        }
      ],
      "source": [
        "# Train the model\n",
        "history = train_model(model, X_train, y_train, X_validation, y_validation, epochs=epochs_train)"
      ]
    },
    {
      "cell_type": "code",
      "execution_count": 54,
      "id": "35CzJ_cXkiE8",
      "metadata": {
        "id": "35CzJ_cXkiE8",
        "colab": {
          "base_uri": "https://localhost:8080/",
          "height": 487
        },
        "outputId": "0f1aa8a4-0ae4-4cfd-beba-b7e91e51726a"
      },
      "outputs": [
        {
          "output_type": "display_data",
          "data": {
            "text/plain": [
              "<Figure size 1000x500 with 1 Axes>"
            ],
            "image/png": "[encoded data removed]"
          },
          "metadata": {}
        }
      ],
      "source": [
        "# Visualize loss\n",
        "visualize_loss(history)"
      ]
    },
    {
      "cell_type": "code",
      "source": [
        "# Test the model\n",
        "predicted_price, history = test_model(model, train, X_test, y_test)\n",
        "print(predicted_price.shape)\n",
        "print(predicted_price[0:10])\n",
        "print(model.metrics_names)\n",
        "print(history)"
      ],
      "metadata": {
        "colab": {
          "base_uri": "https://localhost:8080/"
        },
        "id": "x9xMIJFus3JI",
        "outputId": "b7a86e4d-302f-4add-e158-3b3462bd1cc9"
      },
      "id": "x9xMIJFus3JI",
      "execution_count": 55,
      "outputs": [
        {
          "output_type": "stream",
          "name": "stderr",
          "text": [
            "/usr/local/lib/python3.10/dist-packages/keras/src/engine/training_v1.py:2359: UserWarning: `Model.state_updates` will be removed in a future version. This property should not be used in TensorFlow 2.0, as `updates` are applied automatically.\n",
            "  updates=self.state_updates,\n"
          ]
        },
        {
          "output_type": "stream",
          "name": "stdout",
          "text": [
            "(254, 1)\n",
            "[[27025.473]\n",
            " [27168.441]\n",
            " [27324.777]\n",
            " [27457.174]\n",
            " [27543.809]\n",
            " [27574.646]\n",
            " [27550.66 ]\n",
            " [27480.715]\n",
            " [27386.578]\n",
            " [27285.172]]\n",
            "['loss', 'mean_squared_error', 'root_mean_squared_error']\n",
            "[0.0018934638122111325, 0.0018934638, 0.04351395]\n"
          ]
        }
      ]
    },
    {
      "cell_type": "code",
      "source": [
        "visualize_results(df, predicted_price, date_validation, coin)"
      ],
      "metadata": {
        "colab": {
          "base_uri": "https://localhost:8080/",
          "height": 564
        },
        "id": "X3I011h8tyr1",
        "outputId": "5bfbd993-36f2-4fc0-fbac-6534aa568c31"
      },
      "id": "X3I011h8tyr1",
      "execution_count": null,
      "outputs": [
        {
          "output_type": "display_data",
          "data": {
            "text/plain": [
              "<Figure size 1000x600 with 1 Axes>"
            ],
            "image/png": "[encoded data removed]"
          },
          "metadata": {}
        }
      ]
    },
    {
      "cell_type": "code",
      "source": [
        "explainer = shap.DeepExplainer(model, X_train)\n",
        "shap_values = explainer(X_test)"
      ],
      "metadata": {
        "colab": {
          "base_uri": "https://localhost:8080/",
          "height": 359
        },
        "id": "FCwkos5K7ERr",
        "outputId": "37f368e0-d9b9-4611-916e-50abdd3a7ddf"
      },
      "id": "FCwkos5K7ERr",
      "execution_count": 35,
      "outputs": [
        {
          "metadata": {
            "tags": null
          },
          "name": "stderr",
          "output_type": "stream",
          "text": [
            "/usr/local/lib/python3.10/dist-packages/shap/explainers/_deep/deep_tf.py:99: UserWarning: Your TensorFlow version is newer than 2.4.0 and so graph support has been removed in eager mode and some static graphs may not be supported. See PR #1483 for discussion.\n",
            "  warnings.warn(\"Your TensorFlow version is newer than 2.4.0 and so graph support has been removed in eager mode and some static graphs may not be supported. See PR #1483 for discussion.\")\n"
          ]
        },
        {
          "output_type": "error",
          "ename": "KeyboardInterrupt",
          "evalue": "",
          "traceback": [
            "\u001b[0;31m---------------------------------------------------------------------------\u001b[0m",
            "\u001b[0;31mKeyboardInterrupt\u001b[0m                         Traceback (most recent call last)",
            "\u001b[0;32m<ipython-input-35-eafd499e16f9>\u001b[0m in \u001b[0;36m<cell line: 2>\u001b[0;34m()\u001b[0m\n\u001b[1;32m      1\u001b[0m \u001b[0mexplainer\u001b[0m \u001b[0;34m=\u001b[0m \u001b[0mshap\u001b[0m\u001b[0;34m.\u001b[0m\u001b[0mDeepExplainer\u001b[0m\u001b[0;34m(\u001b[0m\u001b[0mmodel\u001b[0m\u001b[0;34m,\u001b[0m \u001b[0mX_train\u001b[0m\u001b[0;34m)\u001b[0m\u001b[0;34m\u001b[0m\u001b[0;34m\u001b[0m\u001b[0m\n\u001b[0;32m----> 2\u001b[0;31m \u001b[0mshap_values\u001b[0m \u001b[0;34m=\u001b[0m \u001b[0mexplainer\u001b[0m\u001b[0;34m(\u001b[0m\u001b[0mX_test\u001b[0m\u001b[0;34m)\u001b[0m\u001b[0;34m\u001b[0m\u001b[0;34m\u001b[0m\u001b[0m\n\u001b[0m",
            "\u001b[0;32m/usr/local/lib/python3.10/dist-packages/shap/explainers/_deep/__init__.py\u001b[0m in \u001b[0;36m__call__\u001b[0;34m(self, X)\u001b[0m\n\u001b[1;32m    110\u001b[0m         \u001b[0mshap\u001b[0m\u001b[0;34m.\u001b[0m\u001b[0mExplanation\u001b[0m\u001b[0;34m:\u001b[0m\u001b[0;34m\u001b[0m\u001b[0;34m\u001b[0m\u001b[0m\n\u001b[1;32m    111\u001b[0m         \"\"\"\n\u001b[0;32m--> 112\u001b[0;31m         \u001b[0mshap_values\u001b[0m \u001b[0;34m=\u001b[0m \u001b[0mself\u001b[0m\u001b[0;34m.\u001b[0m\u001b[0mshap_values\u001b[0m\u001b[0;34m(\u001b[0m\u001b[0mX\u001b[0m\u001b[0;34m)\u001b[0m\u001b[0;34m\u001b[0m\u001b[0;34m\u001b[0m\u001b[0m\n\u001b[0m\u001b[1;32m    113\u001b[0m         \u001b[0;32mreturn\u001b[0m \u001b[0mExplanation\u001b[0m\u001b[0;34m(\u001b[0m\u001b[0mvalues\u001b[0m\u001b[0;34m=\u001b[0m\u001b[0mshap_values\u001b[0m\u001b[0;34m,\u001b[0m \u001b[0mdata\u001b[0m\u001b[0;34m=\u001b[0m\u001b[0mX\u001b[0m\u001b[0;34m)\u001b[0m\u001b[0;34m\u001b[0m\u001b[0;34m\u001b[0m\u001b[0m\n\u001b[1;32m    114\u001b[0m \u001b[0;34m\u001b[0m\u001b[0m\n",
            "\u001b[0;32m/usr/local/lib/python3.10/dist-packages/shap/explainers/_deep/__init__.py\u001b[0m in \u001b[0;36mshap_values\u001b[0;34m(self, X, ranked_outputs, output_rank_order, check_additivity)\u001b[0m\n\u001b[1;32m    157\u001b[0m \u001b[0;34m\u001b[0m\u001b[0m\n\u001b[1;32m    158\u001b[0m         \"\"\"\n\u001b[0;32m--> 159\u001b[0;31m         \u001b[0;32mreturn\u001b[0m \u001b[0mself\u001b[0m\u001b[0;34m.\u001b[0m\u001b[0mexplainer\u001b[0m\u001b[0;34m.\u001b[0m\u001b[0mshap_values\u001b[0m\u001b[0;34m(\u001b[0m\u001b[0mX\u001b[0m\u001b[0;34m,\u001b[0m \u001b[0mranked_outputs\u001b[0m\u001b[0;34m,\u001b[0m \u001b[0moutput_rank_order\u001b[0m\u001b[0;34m,\u001b[0m \u001b[0mcheck_additivity\u001b[0m\u001b[0;34m=\u001b[0m\u001b[0mcheck_additivity\u001b[0m\u001b[0;34m)\u001b[0m\u001b[0;34m\u001b[0m\u001b[0;34m\u001b[0m\u001b[0m\n\u001b[0m",
            "\u001b[0;32m/usr/local/lib/python3.10/dist-packages/shap/explainers/_deep/deep_tf.py\u001b[0m in \u001b[0;36mshap_values\u001b[0;34m(self, X, ranked_outputs, output_rank_order, check_additivity)\u001b[0m\n\u001b[1;32m    308\u001b[0m                 \u001b[0;31m# run attribution computation graph\u001b[0m\u001b[0;34m\u001b[0m\u001b[0;34m\u001b[0m\u001b[0m\n\u001b[1;32m    309\u001b[0m                 \u001b[0mfeature_ind\u001b[0m \u001b[0;34m=\u001b[0m \u001b[0mmodel_output_ranks\u001b[0m\u001b[0;34m[\u001b[0m\u001b[0mj\u001b[0m\u001b[0;34m,\u001b[0m\u001b[0mi\u001b[0m\u001b[0;34m]\u001b[0m\u001b[0;34m\u001b[0m\u001b[0;34m\u001b[0m\u001b[0m\n\u001b[0;32m--> 310\u001b[0;31m                 \u001b[0msample_phis\u001b[0m \u001b[0;34m=\u001b[0m \u001b[0mself\u001b[0m\u001b[0;34m.\u001b[0m\u001b[0mrun\u001b[0m\u001b[0;34m(\u001b[0m\u001b[0mself\u001b[0m\u001b[0;34m.\u001b[0m\u001b[0mphi_symbolic\u001b[0m\u001b[0;34m(\u001b[0m\u001b[0mfeature_ind\u001b[0m\u001b[0;34m)\u001b[0m\u001b[0;34m,\u001b[0m \u001b[0mself\u001b[0m\u001b[0;34m.\u001b[0m\u001b[0mmodel_inputs\u001b[0m\u001b[0;34m,\u001b[0m \u001b[0mjoint_input\u001b[0m\u001b[0;34m)\u001b[0m\u001b[0;34m\u001b[0m\u001b[0;34m\u001b[0m\u001b[0m\n\u001b[0m\u001b[1;32m    311\u001b[0m \u001b[0;34m\u001b[0m\u001b[0m\n\u001b[1;32m    312\u001b[0m                 \u001b[0;31m# assign the attributions to the right part of the output arrays\u001b[0m\u001b[0;34m\u001b[0m\u001b[0;34m\u001b[0m\u001b[0m\n",
            "\u001b[0;32m/usr/local/lib/python3.10/dist-packages/shap/explainers/_deep/deep_tf.py\u001b[0m in \u001b[0;36mrun\u001b[0;34m(self, out, model_inputs, X)\u001b[0m\n\u001b[1;32m    344\u001b[0m             \u001b[0;32mfor\u001b[0m \u001b[0mt\u001b[0m \u001b[0;32min\u001b[0m \u001b[0mself\u001b[0m\u001b[0;34m.\u001b[0m\u001b[0mlearning_phase_flags\u001b[0m\u001b[0;34m:\u001b[0m\u001b[0;34m\u001b[0m\u001b[0;34m\u001b[0m\u001b[0m\n\u001b[1;32m    345\u001b[0m                 \u001b[0mfeed_dict\u001b[0m\u001b[0;34m[\u001b[0m\u001b[0mt\u001b[0m\u001b[0;34m]\u001b[0m \u001b[0;34m=\u001b[0m \u001b[0;32mFalse\u001b[0m\u001b[0;34m\u001b[0m\u001b[0;34m\u001b[0m\u001b[0m\n\u001b[0;32m--> 346\u001b[0;31m             \u001b[0;32mreturn\u001b[0m \u001b[0mself\u001b[0m\u001b[0;34m.\u001b[0m\u001b[0msession\u001b[0m\u001b[0;34m.\u001b[0m\u001b[0mrun\u001b[0m\u001b[0;34m(\u001b[0m\u001b[0mout\u001b[0m\u001b[0;34m,\u001b[0m \u001b[0mfeed_dict\u001b[0m\u001b[0;34m)\u001b[0m\u001b[0;34m\u001b[0m\u001b[0;34m\u001b[0m\u001b[0m\n\u001b[0m\u001b[1;32m    347\u001b[0m         \u001b[0;32melse\u001b[0m\u001b[0;34m:\u001b[0m\u001b[0;34m\u001b[0m\u001b[0;34m\u001b[0m\u001b[0m\n\u001b[1;32m    348\u001b[0m             \u001b[0;32mdef\u001b[0m \u001b[0manon\u001b[0m\u001b[0;34m(\u001b[0m\u001b[0;34m)\u001b[0m\u001b[0;34m:\u001b[0m\u001b[0;34m\u001b[0m\u001b[0;34m\u001b[0m\u001b[0m\n",
            "\u001b[0;32m/usr/local/lib/python3.10/dist-packages/tensorflow/python/client/session.py\u001b[0m in \u001b[0;36mrun\u001b[0;34m(self, fetches, feed_dict, options, run_metadata)\u001b[0m\n\u001b[1;32m    970\u001b[0m \u001b[0;34m\u001b[0m\u001b[0m\n\u001b[1;32m    971\u001b[0m     \u001b[0;32mtry\u001b[0m\u001b[0;34m:\u001b[0m\u001b[0;34m\u001b[0m\u001b[0;34m\u001b[0m\u001b[0m\n\u001b[0;32m--> 972\u001b[0;31m       result = self._run(None, fetches, feed_dict, options_ptr,\n\u001b[0m\u001b[1;32m    973\u001b[0m                          run_metadata_ptr)\n\u001b[1;32m    974\u001b[0m       \u001b[0;32mif\u001b[0m \u001b[0mrun_metadata\u001b[0m\u001b[0;34m:\u001b[0m\u001b[0;34m\u001b[0m\u001b[0;34m\u001b[0m\u001b[0m\n",
            "\u001b[0;32m/usr/local/lib/python3.10/dist-packages/tensorflow/python/client/session.py\u001b[0m in \u001b[0;36m_run\u001b[0;34m(self, handle, fetches, feed_dict, options, run_metadata)\u001b[0m\n\u001b[1;32m   1213\u001b[0m     \u001b[0;31m# or if the call is a partial run that specifies feeds.\u001b[0m\u001b[0;34m\u001b[0m\u001b[0;34m\u001b[0m\u001b[0m\n\u001b[1;32m   1214\u001b[0m     \u001b[0;32mif\u001b[0m \u001b[0mfinal_fetches\u001b[0m \u001b[0;32mor\u001b[0m \u001b[0mfinal_targets\u001b[0m \u001b[0;32mor\u001b[0m \u001b[0;34m(\u001b[0m\u001b[0mhandle\u001b[0m \u001b[0;32mand\u001b[0m \u001b[0mfeed_dict_tensor\u001b[0m\u001b[0;34m)\u001b[0m\u001b[0;34m:\u001b[0m\u001b[0;34m\u001b[0m\u001b[0;34m\u001b[0m\u001b[0m\n\u001b[0;32m-> 1215\u001b[0;31m       results = self._do_run(handle, final_targets, final_fetches,\n\u001b[0m\u001b[1;32m   1216\u001b[0m                              feed_dict_tensor, options, run_metadata)\n\u001b[1;32m   1217\u001b[0m     \u001b[0;32melse\u001b[0m\u001b[0;34m:\u001b[0m\u001b[0;34m\u001b[0m\u001b[0;34m\u001b[0m\u001b[0m\n",
            "\u001b[0;32m/usr/local/lib/python3.10/dist-packages/tensorflow/python/client/session.py\u001b[0m in \u001b[0;36m_do_run\u001b[0;34m(self, handle, target_list, fetch_list, feed_dict, options, run_metadata)\u001b[0m\n\u001b[1;32m   1393\u001b[0m \u001b[0;34m\u001b[0m\u001b[0m\n\u001b[1;32m   1394\u001b[0m     \u001b[0;32mif\u001b[0m \u001b[0mhandle\u001b[0m \u001b[0;32mis\u001b[0m \u001b[0;32mNone\u001b[0m\u001b[0;34m:\u001b[0m\u001b[0;34m\u001b[0m\u001b[0;34m\u001b[0m\u001b[0m\n\u001b[0;32m-> 1395\u001b[0;31m       return self._do_call(_run_fn, feeds, fetches, targets, options,\n\u001b[0m\u001b[1;32m   1396\u001b[0m                            run_metadata)\n\u001b[1;32m   1397\u001b[0m     \u001b[0;32melse\u001b[0m\u001b[0;34m:\u001b[0m\u001b[0;34m\u001b[0m\u001b[0;34m\u001b[0m\u001b[0m\n",
            "\u001b[0;32m/usr/local/lib/python3.10/dist-packages/tensorflow/python/client/session.py\u001b[0m in \u001b[0;36m_do_call\u001b[0;34m(self, fn, *args)\u001b[0m\n\u001b[1;32m   1400\u001b[0m   \u001b[0;32mdef\u001b[0m \u001b[0m_do_call\u001b[0m\u001b[0;34m(\u001b[0m\u001b[0mself\u001b[0m\u001b[0;34m,\u001b[0m \u001b[0mfn\u001b[0m\u001b[0;34m,\u001b[0m \u001b[0;34m*\u001b[0m\u001b[0margs\u001b[0m\u001b[0;34m)\u001b[0m\u001b[0;34m:\u001b[0m\u001b[0;34m\u001b[0m\u001b[0;34m\u001b[0m\u001b[0m\n\u001b[1;32m   1401\u001b[0m     \u001b[0;32mtry\u001b[0m\u001b[0;34m:\u001b[0m\u001b[0;34m\u001b[0m\u001b[0;34m\u001b[0m\u001b[0m\n\u001b[0;32m-> 1402\u001b[0;31m       \u001b[0;32mreturn\u001b[0m \u001b[0mfn\u001b[0m\u001b[0;34m(\u001b[0m\u001b[0;34m*\u001b[0m\u001b[0margs\u001b[0m\u001b[0;34m)\u001b[0m\u001b[0;34m\u001b[0m\u001b[0;34m\u001b[0m\u001b[0m\n\u001b[0m\u001b[1;32m   1403\u001b[0m     \u001b[0;32mexcept\u001b[0m \u001b[0merrors\u001b[0m\u001b[0;34m.\u001b[0m\u001b[0mOpError\u001b[0m \u001b[0;32mas\u001b[0m \u001b[0me\u001b[0m\u001b[0;34m:\u001b[0m\u001b[0;34m\u001b[0m\u001b[0;34m\u001b[0m\u001b[0m\n\u001b[1;32m   1404\u001b[0m       \u001b[0mmessage\u001b[0m \u001b[0;34m=\u001b[0m \u001b[0mcompat\u001b[0m\u001b[0;34m.\u001b[0m\u001b[0mas_text\u001b[0m\u001b[0;34m(\u001b[0m\u001b[0me\u001b[0m\u001b[0;34m.\u001b[0m\u001b[0mmessage\u001b[0m\u001b[0;34m)\u001b[0m\u001b[0;34m\u001b[0m\u001b[0;34m\u001b[0m\u001b[0m\n",
            "\u001b[0;32m/usr/local/lib/python3.10/dist-packages/tensorflow/python/client/session.py\u001b[0m in \u001b[0;36m_run_fn\u001b[0;34m(feed_dict, fetch_list, target_list, options, run_metadata)\u001b[0m\n\u001b[1;32m   1383\u001b[0m       \u001b[0;31m# Ensure any changes to the graph are reflected in the runtime.\u001b[0m\u001b[0;34m\u001b[0m\u001b[0;34m\u001b[0m\u001b[0m\n\u001b[1;32m   1384\u001b[0m       \u001b[0mself\u001b[0m\u001b[0;34m.\u001b[0m\u001b[0m_extend_graph\u001b[0m\u001b[0;34m(\u001b[0m\u001b[0;34m)\u001b[0m\u001b[0;34m\u001b[0m\u001b[0;34m\u001b[0m\u001b[0m\n\u001b[0;32m-> 1385\u001b[0;31m       return self._call_tf_sessionrun(options, feed_dict, fetch_list,\n\u001b[0m\u001b[1;32m   1386\u001b[0m                                       target_list, run_metadata)\n\u001b[1;32m   1387\u001b[0m \u001b[0;34m\u001b[0m\u001b[0m\n",
            "\u001b[0;32m/usr/local/lib/python3.10/dist-packages/tensorflow/python/client/session.py\u001b[0m in \u001b[0;36m_call_tf_sessionrun\u001b[0;34m(self, options, feed_dict, fetch_list, target_list, run_metadata)\u001b[0m\n\u001b[1;32m   1476\u001b[0m   def _call_tf_sessionrun(self, options, feed_dict, fetch_list, target_list,\n\u001b[1;32m   1477\u001b[0m                           run_metadata):\n\u001b[0;32m-> 1478\u001b[0;31m     return tf_session.TF_SessionRun_wrapper(self._session, options, feed_dict,\n\u001b[0m\u001b[1;32m   1479\u001b[0m                                             \u001b[0mfetch_list\u001b[0m\u001b[0;34m,\u001b[0m \u001b[0mtarget_list\u001b[0m\u001b[0;34m,\u001b[0m\u001b[0;34m\u001b[0m\u001b[0;34m\u001b[0m\u001b[0m\n\u001b[1;32m   1480\u001b[0m                                             run_metadata)\n",
            "\u001b[0;31mKeyboardInterrupt\u001b[0m: "
          ]
        }
      ]
    },
    {
      "cell_type": "code",
      "source": [
        "print(shap_values.shape)"
      ],
      "metadata": {
        "colab": {
          "base_uri": "https://localhost:8080/"
        },
        "id": "gxCm3j_eNTiv",
        "outputId": "d954dd79-a39e-4cea-e5da-2ac58214fd5b"
      },
      "id": "gxCm3j_eNTiv",
      "execution_count": null,
      "outputs": [
        {
          "output_type": "stream",
          "name": "stdout",
          "text": [
            "(80, 60, 3, 1)\n"
          ]
        }
      ]
    },
    {
      "cell_type": "code",
      "source": [
        "shap.summary_plot(shap_values[:,0,:,0], feature_names=features)"
      ],
      "metadata": {
        "colab": {
          "base_uri": "https://localhost:8080/",
          "height": 276
        },
        "id": "rEfbW-b6LXYJ",
        "outputId": "313cd10d-d58b-4550-ddfe-62b3f906c0e6"
      },
      "id": "rEfbW-b6LXYJ",
      "execution_count": null,
      "outputs": [
        {
          "output_type": "display_data",
          "data": {
            "text/plain": [
              "<Figure size 800x270 with 2 Axes>"
            ],
            "image/png": "[encoded data removed]"
          },
          "metadata": {}
        }
      ]
    },
    {
      "cell_type": "markdown",
      "source": [
        "### Run the loop to test hyperparameters"
      ],
      "metadata": {
        "id": "che_-eMfe0ul"
      },
      "id": "che_-eMfe0ul"
    },
    {
      "cell_type": "code",
      "source": [
        "def run_model_with_configs(coin, date_train, date_validation, features_list, seq_length_list, epochs_list):\n",
        "  history_dict = {}\n",
        "  df = read_data(coin)\n",
        "\n",
        "  for features in features_list:\n",
        "    for seq_length in seq_length_list:\n",
        "      for epochs in epochs_list:\n",
        "        train, validation, test = train_test_val(df, date_train, date_validation, features)\n",
        "        scaler = MinMaxScaler(feature_range=(0, 1))\n",
        "        train_scaled, validation_scaled, test_scaled = scale_features(scaler, train, validation, test)\n",
        "        X_train, y_train = create_sequences(train_scaled, seq_length=seq_length)\n",
        "        X_validation, y_validation = create_sequences(validation_scaled, seq_length=seq_length)\n",
        "        X_test, y_test = create_sequences(test_scaled, seq_length=seq_length)\n",
        "        y_train = np.reshape(y_train, (-1, 1))\n",
        "        y_test = np.reshape(y_test, (-1, 1))\n",
        "        y_validation = np.reshape(y_validation, (-1, 1))\n",
        "\n",
        "        # Define, train and test the model\n",
        "        model = define_model(optimizer, loss, seq_length=seq_length, num_parameters=len(features))\n",
        "        train_model(model, X_train, y_train, X_validation, y_validation, epochs=epochs)\n",
        "        predicted_price, history = test_model(model, train, X_test, y_test)\n",
        "\n",
        "        # Store history with a key representing the configuration\n",
        "        key = (tuple(features), seq_length, epochs)\n",
        "        history_dict[key] = history\n",
        "\n",
        "  return history_dict\n",
        "\n",
        "\n",
        "features_list = [[\"Adj Close\"], [\"Adj Close\", \"Volume\"]]\n",
        "seq_length_list = [20, 40, 60]\n",
        "epochs_list = [60]\n",
        "\n",
        "history_dict = run_model_with_configs(coin, date_train, date_validation, features_list, seq_length_list, epochs_list)\n",
        "\n",
        "print(history_dict)"
      ],
      "metadata": {
        "id": "2eq3uhEiQpMQ",
        "colab": {
          "base_uri": "https://localhost:8080/"
        },
        "outputId": "2b9c6870-6166-4bfc-872e-cc5c97016b14"
      },
      "id": "2eq3uhEiQpMQ",
      "execution_count": 57,
      "outputs": [
        {
          "metadata": {
            "tags": null
          },
          "name": "stdout",
          "output_type": "stream",
          "text": [
            "     Adj Close\n",
            "0  6378.849121\n",
            "1  7204.771484\n",
            "2  6972.371582\n",
            "3  7814.915039\n",
            "4  7994.416016\n",
            "Train on 1251 samples, validate on 223 samples\n",
            "Epoch 1/60\n",
            "1248/1251 [============================>.] - ETA: 0s - loss: 0.0294 - mean_squared_error: 0.0294 - root_mean_squared_error: 0.1714"
          ]
        },
        {
          "metadata": {
            "tags": null
          },
          "name": "stderr",
          "output_type": "stream",
          "text": [
            "/usr/local/lib/python3.10/dist-packages/keras/src/engine/training_v1.py:2335: UserWarning: `Model.state_updates` will be removed in a future version. This property should not be used in TensorFlow 2.0, as `updates` are applied automatically.\n",
            "  updates = self.state_updates\n"
          ]
        },
        {
          "metadata": {
            "tags": null
          },
          "name": "stdout",
          "output_type": "stream",
          "text": [
            "1251/1251 [==============================] - 3s 2ms/sample - loss: 0.0293 - mean_squared_error: 0.0293 - root_mean_squared_error: 0.1712 - val_loss: 0.0021 - val_mean_squared_error: 0.0021 - val_root_mean_squared_error: 0.0456\n",
            "Epoch 2/60\n",
            "1251/1251 [==============================] - 2s 1ms/sample - loss: 0.0074 - mean_squared_error: 0.0074 - root_mean_squared_error: 0.0858 - val_loss: 0.0024 - val_mean_squared_error: 0.0024 - val_root_mean_squared_error: 0.0490\n",
            "Epoch 3/60\n",
            "1251/1251 [==============================] - 2s 2ms/sample - loss: 0.0062 - mean_squared_error: 0.0062 - root_mean_squared_error: 0.0785 - val_loss: 0.0010 - val_mean_squared_error: 0.0010 - val_root_mean_squared_error: 0.0321\n",
            "Epoch 4/60\n",
            "1251/1251 [==============================] - 2s 2ms/sample - loss: 0.0054 - mean_squared_error: 0.0054 - root_mean_squared_error: 0.0738 - val_loss: 0.0011 - val_mean_squared_error: 0.0011 - val_root_mean_squared_error: 0.0326\n",
            "Epoch 5/60\n",
            "1251/1251 [==============================] - 2s 1ms/sample - loss: 0.0051 - mean_squared_error: 0.0051 - root_mean_squared_error: 0.0714 - val_loss: 8.9746e-04 - val_mean_squared_error: 8.9746e-04 - val_root_mean_squared_error: 0.0300\n",
            "Epoch 6/60\n",
            "1251/1251 [==============================] - 2s 1ms/sample - loss: 0.0053 - mean_squared_error: 0.0053 - root_mean_squared_error: 0.0728 - val_loss: 8.3890e-04 - val_mean_squared_error: 8.3890e-04 - val_root_mean_squared_error: 0.0290\n",
            "Epoch 7/60\n",
            "1251/1251 [==============================] - 2s 1ms/sample - loss: 0.0053 - mean_squared_error: 0.0053 - root_mean_squared_error: 0.0725 - val_loss: 8.0772e-04 - val_mean_squared_error: 8.0772e-04 - val_root_mean_squared_error: 0.0284\n",
            "Epoch 8/60\n",
            "1251/1251 [==============================] - 2s 1ms/sample - loss: 0.0042 - mean_squared_error: 0.0042 - root_mean_squared_error: 0.0649 - val_loss: 8.2499e-04 - val_mean_squared_error: 8.2499e-04 - val_root_mean_squared_error: 0.0287\n",
            "Epoch 9/60\n",
            "1251/1251 [==============================] - 2s 1ms/sample - loss: 0.0042 - mean_squared_error: 0.0042 - root_mean_squared_error: 0.0649 - val_loss: 9.2675e-04 - val_mean_squared_error: 9.2675e-04 - val_root_mean_squared_error: 0.0304\n",
            "Epoch 10/60\n",
            "1251/1251 [==============================] - 2s 1ms/sample - loss: 0.0041 - mean_squared_error: 0.0041 - root_mean_squared_error: 0.0641 - val_loss: 0.0012 - val_mean_squared_error: 0.0012 - val_root_mean_squared_error: 0.0352\n",
            "Epoch 11/60\n",
            "1251/1251 [==============================] - 2s 2ms/sample - loss: 0.0045 - mean_squared_error: 0.0045 - root_mean_squared_error: 0.0671 - val_loss: 7.0257e-04 - val_mean_squared_error: 7.0257e-04 - val_root_mean_squared_error: 0.0265\n",
            "Epoch 12/60\n",
            "1251/1251 [==============================] - 2s 2ms/sample - loss: 0.0048 - mean_squared_error: 0.0048 - root_mean_squared_error: 0.0690 - val_loss: 8.0310e-04 - val_mean_squared_error: 8.0310e-04 - val_root_mean_squared_error: 0.0283\n",
            "Epoch 13/60\n",
            "1251/1251 [==============================] - 2s 1ms/sample - loss: 0.0036 - mean_squared_error: 0.0036 - root_mean_squared_error: 0.0599 - val_loss: 0.0014 - val_mean_squared_error: 0.0014 - val_root_mean_squared_error: 0.0379\n",
            "Epoch 14/60\n",
            "1251/1251 [==============================] - 2s 1ms/sample - loss: 0.0043 - mean_squared_error: 0.0043 - root_mean_squared_error: 0.0654 - val_loss: 6.8916e-04 - val_mean_squared_error: 6.8916e-04 - val_root_mean_squared_error: 0.0263\n",
            "Epoch 15/60\n",
            "1251/1251 [==============================] - 2s 1ms/sample - loss: 0.0039 - mean_squared_error: 0.0039 - root_mean_squared_error: 0.0624 - val_loss: 6.6562e-04 - val_mean_squared_error: 6.6562e-04 - val_root_mean_squared_error: 0.0258\n",
            "Epoch 16/60\n",
            "1251/1251 [==============================] - 2s 1ms/sample - loss: 0.0039 - mean_squared_error: 0.0039 - root_mean_squared_error: 0.0624 - val_loss: 0.0010 - val_mean_squared_error: 0.0010 - val_root_mean_squared_error: 0.0318\n",
            "Epoch 17/60\n",
            "1251/1251 [==============================] - 1s 1ms/sample - loss: 0.0032 - mean_squared_error: 0.0032 - root_mean_squared_error: 0.0568 - val_loss: 5.8190e-04 - val_mean_squared_error: 5.8190e-04 - val_root_mean_squared_error: 0.0241\n",
            "Epoch 18/60\n",
            "1251/1251 [==============================] - 2s 1ms/sample - loss: 0.0035 - mean_squared_error: 0.0035 - root_mean_squared_error: 0.0595 - val_loss: 5.7397e-04 - val_mean_squared_error: 5.7397e-04 - val_root_mean_squared_error: 0.0240\n",
            "Epoch 19/60\n",
            "1251/1251 [==============================] - 2s 2ms/sample - loss: 0.0033 - mean_squared_error: 0.0033 - root_mean_squared_error: 0.0574 - val_loss: 0.0017 - val_mean_squared_error: 0.0017 - val_root_mean_squared_error: 0.0414\n",
            "Epoch 20/60\n",
            "1251/1251 [==============================] - 2s 2ms/sample - loss: 0.0040 - mean_squared_error: 0.0040 - root_mean_squared_error: 0.0631 - val_loss: 6.9663e-04 - val_mean_squared_error: 6.9663e-04 - val_root_mean_squared_error: 0.0264\n",
            "Epoch 21/60\n",
            "1251/1251 [==============================] - 2s 1ms/sample - loss: 0.0034 - mean_squared_error: 0.0034 - root_mean_squared_error: 0.0586 - val_loss: 0.0011 - val_mean_squared_error: 0.0011 - val_root_mean_squared_error: 0.0339\n",
            "Epoch 22/60\n",
            "1251/1251 [==============================] - 2s 1ms/sample - loss: 0.0033 - mean_squared_error: 0.0033 - root_mean_squared_error: 0.0572 - val_loss: 0.0012 - val_mean_squared_error: 0.0012 - val_root_mean_squared_error: 0.0348\n",
            "Epoch 23/60\n",
            "1251/1251 [==============================] - 2s 1ms/sample - loss: 0.0040 - mean_squared_error: 0.0040 - root_mean_squared_error: 0.0634 - val_loss: 5.6431e-04 - val_mean_squared_error: 5.6431e-04 - val_root_mean_squared_error: 0.0238\n",
            "Epoch 24/60\n",
            "1251/1251 [==============================] - 2s 1ms/sample - loss: 0.0030 - mean_squared_error: 0.0030 - root_mean_squared_error: 0.0544 - val_loss: 4.8557e-04 - val_mean_squared_error: 4.8557e-04 - val_root_mean_squared_error: 0.0220\n",
            "Epoch 25/60\n",
            "1251/1251 [==============================] - 2s 1ms/sample - loss: 0.0035 - mean_squared_error: 0.0035 - root_mean_squared_error: 0.0588 - val_loss: 5.5360e-04 - val_mean_squared_error: 5.5360e-04 - val_root_mean_squared_error: 0.0235\n",
            "Epoch 26/60\n",
            "1251/1251 [==============================] - 2s 1ms/sample - loss: 0.0029 - mean_squared_error: 0.0029 - root_mean_squared_error: 0.0543 - val_loss: 5.2278e-04 - val_mean_squared_error: 5.2278e-04 - val_root_mean_squared_error: 0.0229\n",
            "Epoch 27/60\n",
            "1251/1251 [==============================] - 3s 2ms/sample - loss: 0.0027 - mean_squared_error: 0.0027 - root_mean_squared_error: 0.0518 - val_loss: 4.9134e-04 - val_mean_squared_error: 4.9134e-04 - val_root_mean_squared_error: 0.0222\n",
            "Epoch 28/60\n",
            "1251/1251 [==============================] - 2s 2ms/sample - loss: 0.0025 - mean_squared_error: 0.0025 - root_mean_squared_error: 0.0498 - val_loss: 9.6776e-04 - val_mean_squared_error: 9.6776e-04 - val_root_mean_squared_error: 0.0311\n",
            "Epoch 29/60\n",
            "1251/1251 [==============================] - 2s 1ms/sample - loss: 0.0027 - mean_squared_error: 0.0027 - root_mean_squared_error: 0.0517 - val_loss: 4.5339e-04 - val_mean_squared_error: 4.5339e-04 - val_root_mean_squared_error: 0.0213\n",
            "Epoch 30/60\n",
            "1251/1251 [==============================] - 1s 1ms/sample - loss: 0.0027 - mean_squared_error: 0.0027 - root_mean_squared_error: 0.0524 - val_loss: 6.2348e-04 - val_mean_squared_error: 6.2348e-04 - val_root_mean_squared_error: 0.0250\n",
            "Epoch 31/60\n",
            "1251/1251 [==============================] - 1s 1ms/sample - loss: 0.0026 - mean_squared_error: 0.0026 - root_mean_squared_error: 0.0509 - val_loss: 4.6467e-04 - val_mean_squared_error: 4.6467e-04 - val_root_mean_squared_error: 0.0216\n",
            "Epoch 32/60\n",
            "1251/1251 [==============================] - 2s 1ms/sample - loss: 0.0026 - mean_squared_error: 0.0026 - root_mean_squared_error: 0.0509 - val_loss: 4.8469e-04 - val_mean_squared_error: 4.8469e-04 - val_root_mean_squared_error: 0.0220\n",
            "Epoch 33/60\n",
            "1251/1251 [==============================] - 1s 1ms/sample - loss: 0.0023 - mean_squared_error: 0.0023 - root_mean_squared_error: 0.0476 - val_loss: 4.2038e-04 - val_mean_squared_error: 4.2038e-04 - val_root_mean_squared_error: 0.0205\n",
            "Epoch 34/60\n",
            "1251/1251 [==============================] - 1s 1ms/sample - loss: 0.0026 - mean_squared_error: 0.0026 - root_mean_squared_error: 0.0510 - val_loss: 4.2806e-04 - val_mean_squared_error: 4.2806e-04 - val_root_mean_squared_error: 0.0207\n",
            "Epoch 35/60\n",
            "1251/1251 [==============================] - 2s 2ms/sample - loss: 0.0022 - mean_squared_error: 0.0022 - root_mean_squared_error: 0.0472 - val_loss: 5.1767e-04 - val_mean_squared_error: 5.1767e-04 - val_root_mean_squared_error: 0.0228\n",
            "Epoch 36/60\n",
            "1251/1251 [==============================] - 2s 2ms/sample - loss: 0.0022 - mean_squared_error: 0.0022 - root_mean_squared_error: 0.0468 - val_loss: 7.7156e-04 - val_mean_squared_error: 7.7156e-04 - val_root_mean_squared_error: 0.0278\n",
            "Epoch 37/60\n",
            "1251/1251 [==============================] - 2s 1ms/sample - loss: 0.0022 - mean_squared_error: 0.0022 - root_mean_squared_error: 0.0464 - val_loss: 3.7081e-04 - val_mean_squared_error: 3.7081e-04 - val_root_mean_squared_error: 0.0193\n",
            "Epoch 38/60\n",
            "1251/1251 [==============================] - 1s 1ms/sample - loss: 0.0023 - mean_squared_error: 0.0023 - root_mean_squared_error: 0.0480 - val_loss: 4.7823e-04 - val_mean_squared_error: 4.7823e-04 - val_root_mean_squared_error: 0.0219\n",
            "Epoch 39/60\n",
            "1251/1251 [==============================] - 1s 1ms/sample - loss: 0.0021 - mean_squared_error: 0.0021 - root_mean_squared_error: 0.0463 - val_loss: 5.3792e-04 - val_mean_squared_error: 5.3792e-04 - val_root_mean_squared_error: 0.0232\n",
            "Epoch 40/60\n",
            "1251/1251 [==============================] - 2s 1ms/sample - loss: 0.0020 - mean_squared_error: 0.0020 - root_mean_squared_error: 0.0452 - val_loss: 6.0980e-04 - val_mean_squared_error: 6.0980e-04 - val_root_mean_squared_error: 0.0247\n",
            "Epoch 41/60\n",
            "1251/1251 [==============================] - 2s 1ms/sample - loss: 0.0023 - mean_squared_error: 0.0023 - root_mean_squared_error: 0.0477 - val_loss: 3.5508e-04 - val_mean_squared_error: 3.5508e-04 - val_root_mean_squared_error: 0.0188\n",
            "Epoch 42/60\n",
            "1251/1251 [==============================] - 2s 1ms/sample - loss: 0.0023 - mean_squared_error: 0.0023 - root_mean_squared_error: 0.0475 - val_loss: 3.6474e-04 - val_mean_squared_error: 3.6474e-04 - val_root_mean_squared_error: 0.0191\n",
            "Epoch 43/60\n",
            "1251/1251 [==============================] - 2s 2ms/sample - loss: 0.0023 - mean_squared_error: 0.0023 - root_mean_squared_error: 0.0477 - val_loss: 3.6691e-04 - val_mean_squared_error: 3.6691e-04 - val_root_mean_squared_error: 0.0192\n",
            "Epoch 44/60\n",
            "1251/1251 [==============================] - 3s 2ms/sample - loss: 0.0020 - mean_squared_error: 0.0020 - root_mean_squared_error: 0.0447 - val_loss: 3.6570e-04 - val_mean_squared_error: 3.6570e-04 - val_root_mean_squared_error: 0.0191\n",
            "Epoch 45/60\n",
            "1251/1251 [==============================] - 2s 1ms/sample - loss: 0.0022 - mean_squared_error: 0.0022 - root_mean_squared_error: 0.0464 - val_loss: 7.0395e-04 - val_mean_squared_error: 7.0395e-04 - val_root_mean_squared_error: 0.0265\n",
            "Epoch 46/60\n",
            "1251/1251 [==============================] - 2s 1ms/sample - loss: 0.0023 - mean_squared_error: 0.0023 - root_mean_squared_error: 0.0478 - val_loss: 3.8153e-04 - val_mean_squared_error: 3.8153e-04 - val_root_mean_squared_error: 0.0195\n",
            "Epoch 47/60\n",
            "1251/1251 [==============================] - 2s 2ms/sample - loss: 0.0023 - mean_squared_error: 0.0023 - root_mean_squared_error: 0.0478 - val_loss: 7.3836e-04 - val_mean_squared_error: 7.3836e-04 - val_root_mean_squared_error: 0.0272\n",
            "Epoch 48/60\n",
            "1251/1251 [==============================] - 2s 1ms/sample - loss: 0.0022 - mean_squared_error: 0.0022 - root_mean_squared_error: 0.0472 - val_loss: 3.2583e-04 - val_mean_squared_error: 3.2583e-04 - val_root_mean_squared_error: 0.0181\n",
            "Epoch 49/60\n",
            "1251/1251 [==============================] - 2s 1ms/sample - loss: 0.0022 - mean_squared_error: 0.0022 - root_mean_squared_error: 0.0470 - val_loss: 3.1091e-04 - val_mean_squared_error: 3.1091e-04 - val_root_mean_squared_error: 0.0176\n",
            "Epoch 50/60\n",
            "1251/1251 [==============================] - 2s 1ms/sample - loss: 0.0021 - mean_squared_error: 0.0021 - root_mean_squared_error: 0.0458 - val_loss: 3.1127e-04 - val_mean_squared_error: 3.1127e-04 - val_root_mean_squared_error: 0.0176\n",
            "Epoch 51/60\n",
            "1251/1251 [==============================] - 3s 3ms/sample - loss: 0.0020 - mean_squared_error: 0.0020 - root_mean_squared_error: 0.0445 - val_loss: 2.9954e-04 - val_mean_squared_error: 2.9954e-04 - val_root_mean_squared_error: 0.0173\n",
            "Epoch 52/60\n",
            "1251/1251 [==============================] - 2s 1ms/sample - loss: 0.0021 - mean_squared_error: 0.0021 - root_mean_squared_error: 0.0455 - val_loss: 3.7383e-04 - val_mean_squared_error: 3.7383e-04 - val_root_mean_squared_error: 0.0193\n",
            "Epoch 53/60\n",
            "1251/1251 [==============================] - 1s 1ms/sample - loss: 0.0023 - mean_squared_error: 0.0023 - root_mean_squared_error: 0.0481 - val_loss: 3.0446e-04 - val_mean_squared_error: 3.0446e-04 - val_root_mean_squared_error: 0.0174\n",
            "Epoch 54/60\n",
            "1251/1251 [==============================] - 1s 1ms/sample - loss: 0.0020 - mean_squared_error: 0.0020 - root_mean_squared_error: 0.0453 - val_loss: 3.7111e-04 - val_mean_squared_error: 3.7111e-04 - val_root_mean_squared_error: 0.0193\n",
            "Epoch 55/60\n",
            "1251/1251 [==============================] - 2s 1ms/sample - loss: 0.0019 - mean_squared_error: 0.0019 - root_mean_squared_error: 0.0431 - val_loss: 3.1926e-04 - val_mean_squared_error: 3.1926e-04 - val_root_mean_squared_error: 0.0179\n",
            "Epoch 56/60\n",
            "1251/1251 [==============================] - 2s 1ms/sample - loss: 0.0019 - mean_squared_error: 0.0019 - root_mean_squared_error: 0.0433 - val_loss: 3.9121e-04 - val_mean_squared_error: 3.9121e-04 - val_root_mean_squared_error: 0.0198\n",
            "Epoch 57/60\n",
            "1251/1251 [==============================] - 1s 1ms/sample - loss: 0.0020 - mean_squared_error: 0.0020 - root_mean_squared_error: 0.0446 - val_loss: 3.2764e-04 - val_mean_squared_error: 3.2764e-04 - val_root_mean_squared_error: 0.0181\n",
            "Epoch 58/60\n",
            "1251/1251 [==============================] - 2s 1ms/sample - loss: 0.0018 - mean_squared_error: 0.0018 - root_mean_squared_error: 0.0429 - val_loss: 2.9194e-04 - val_mean_squared_error: 2.9194e-04 - val_root_mean_squared_error: 0.0171\n",
            "Epoch 59/60\n",
            "1251/1251 [==============================] - 3s 2ms/sample - loss: 0.0018 - mean_squared_error: 0.0018 - root_mean_squared_error: 0.0424 - val_loss: 2.9121e-04 - val_mean_squared_error: 2.9121e-04 - val_root_mean_squared_error: 0.0171\n",
            "Epoch 60/60\n",
            "1251/1251 [==============================] - 2s 2ms/sample - loss: 0.0019 - mean_squared_error: 0.0019 - root_mean_squared_error: 0.0430 - val_loss: 3.7566e-04 - val_mean_squared_error: 3.7566e-04 - val_root_mean_squared_error: 0.0194\n"
          ]
        },
        {
          "metadata": {
            "tags": null
          },
          "name": "stderr",
          "output_type": "stream",
          "text": [
            "/usr/local/lib/python3.10/dist-packages/keras/src/engine/training_v1.py:2359: UserWarning: `Model.state_updates` will be removed in a future version. This property should not be used in TensorFlow 2.0, as `updates` are applied automatically.\n",
            "  updates=self.state_updates,\n"
          ]
        },
        {
          "metadata": {
            "tags": null
          },
          "name": "stdout",
          "output_type": "stream",
          "text": [
            "     Adj Close\n",
            "0  6378.849121\n",
            "1  7204.771484\n",
            "2  6972.371582\n",
            "3  7814.915039\n",
            "4  7994.416016\n",
            "Train on 1231 samples, validate on 203 samples\n",
            "Epoch 1/60\n",
            "1231/1231 [==============================] - ETA: 0s - loss: 0.0297 - mean_squared_error: 0.0297 - root_mean_squared_error: 0.1724"
          ]
        },
        {
          "metadata": {
            "tags": null
          },
          "name": "stderr",
          "output_type": "stream",
          "text": [
            "/usr/local/lib/python3.10/dist-packages/keras/src/engine/training_v1.py:2335: UserWarning: `Model.state_updates` will be removed in a future version. This property should not be used in TensorFlow 2.0, as `updates` are applied automatically.\n",
            "  updates = self.state_updates\n"
          ]
        },
        {
          "metadata": {
            "tags": null
          },
          "name": "stdout",
          "output_type": "stream",
          "text": [
            "1231/1231 [==============================] - 4s 4ms/sample - loss: 0.0297 - mean_squared_error: 0.0297 - root_mean_squared_error: 0.1724 - val_loss: 0.0015 - val_mean_squared_error: 0.0015 - val_root_mean_squared_error: 0.0381\n",
            "Epoch 2/60\n",
            "1231/1231 [==============================] - 4s 3ms/sample - loss: 0.0073 - mean_squared_error: 0.0073 - root_mean_squared_error: 0.0852 - val_loss: 0.0012 - val_mean_squared_error: 0.0012 - val_root_mean_squared_error: 0.0351\n",
            "Epoch 3/60\n",
            "1231/1231 [==============================] - 3s 2ms/sample - loss: 0.0060 - mean_squared_error: 0.0060 - root_mean_squared_error: 0.0775 - val_loss: 0.0015 - val_mean_squared_error: 0.0015 - val_root_mean_squared_error: 0.0391\n",
            "Epoch 4/60\n",
            "1231/1231 [==============================] - 3s 3ms/sample - loss: 0.0062 - mean_squared_error: 0.0062 - root_mean_squared_error: 0.0787 - val_loss: 0.0012 - val_mean_squared_error: 0.0012 - val_root_mean_squared_error: 0.0353\n",
            "Epoch 5/60\n",
            "1231/1231 [==============================] - 3s 2ms/sample - loss: 0.0053 - mean_squared_error: 0.0053 - root_mean_squared_error: 0.0729 - val_loss: 9.1551e-04 - val_mean_squared_error: 9.1551e-04 - val_root_mean_squared_error: 0.0303\n",
            "Epoch 6/60\n",
            "1231/1231 [==============================] - 3s 3ms/sample - loss: 0.0051 - mean_squared_error: 0.0051 - root_mean_squared_error: 0.0717 - val_loss: 0.0037 - val_mean_squared_error: 0.0037 - val_root_mean_squared_error: 0.0612\n",
            "Epoch 7/60\n",
            "1231/1231 [==============================] - 4s 3ms/sample - loss: 0.0055 - mean_squared_error: 0.0055 - root_mean_squared_error: 0.0741 - val_loss: 0.0014 - val_mean_squared_error: 0.0014 - val_root_mean_squared_error: 0.0379\n",
            "Epoch 8/60\n",
            "1231/1231 [==============================] - 3s 2ms/sample - loss: 0.0052 - mean_squared_error: 0.0052 - root_mean_squared_error: 0.0720 - val_loss: 9.2772e-04 - val_mean_squared_error: 9.2772e-04 - val_root_mean_squared_error: 0.0305\n",
            "Epoch 9/60\n",
            "1231/1231 [==============================] - 3s 2ms/sample - loss: 0.0046 - mean_squared_error: 0.0046 - root_mean_squared_error: 0.0675 - val_loss: 0.0010 - val_mean_squared_error: 0.0010 - val_root_mean_squared_error: 0.0323\n",
            "Epoch 10/60\n",
            "1231/1231 [==============================] - 3s 2ms/sample - loss: 0.0049 - mean_squared_error: 0.0049 - root_mean_squared_error: 0.0698 - val_loss: 8.1681e-04 - val_mean_squared_error: 8.1681e-04 - val_root_mean_squared_error: 0.0286\n",
            "Epoch 11/60\n",
            "1231/1231 [==============================] - 4s 3ms/sample - loss: 0.0040 - mean_squared_error: 0.0040 - root_mean_squared_error: 0.0630 - val_loss: 8.6889e-04 - val_mean_squared_error: 8.6889e-04 - val_root_mean_squared_error: 0.0295\n",
            "Epoch 12/60\n",
            "1231/1231 [==============================] - 3s 2ms/sample - loss: 0.0043 - mean_squared_error: 0.0043 - root_mean_squared_error: 0.0658 - val_loss: 0.0011 - val_mean_squared_error: 0.0011 - val_root_mean_squared_error: 0.0330\n",
            "Epoch 13/60\n",
            "1231/1231 [==============================] - 3s 2ms/sample - loss: 0.0045 - mean_squared_error: 0.0045 - root_mean_squared_error: 0.0674 - val_loss: 7.7767e-04 - val_mean_squared_error: 7.7767e-04 - val_root_mean_squared_error: 0.0279\n",
            "Epoch 14/60\n",
            "1231/1231 [==============================] - 3s 2ms/sample - loss: 0.0042 - mean_squared_error: 0.0042 - root_mean_squared_error: 0.0645 - val_loss: 8.0382e-04 - val_mean_squared_error: 8.0382e-04 - val_root_mean_squared_error: 0.0284\n",
            "Epoch 15/60\n",
            "1231/1231 [==============================] - 4s 3ms/sample - loss: 0.0038 - mean_squared_error: 0.0038 - root_mean_squared_error: 0.0616 - val_loss: 8.1291e-04 - val_mean_squared_error: 8.1291e-04 - val_root_mean_squared_error: 0.0285\n",
            "Epoch 16/60\n",
            "1231/1231 [==============================] - 3s 3ms/sample - loss: 0.0042 - mean_squared_error: 0.0042 - root_mean_squared_error: 0.0647 - val_loss: 0.0018 - val_mean_squared_error: 0.0018 - val_root_mean_squared_error: 0.0424\n",
            "Epoch 17/60\n",
            "1231/1231 [==============================] - 3s 2ms/sample - loss: 0.0041 - mean_squared_error: 0.0041 - root_mean_squared_error: 0.0642 - val_loss: 7.4009e-04 - val_mean_squared_error: 7.4009e-04 - val_root_mean_squared_error: 0.0272\n",
            "Epoch 18/60\n",
            "1231/1231 [==============================] - 3s 2ms/sample - loss: 0.0036 - mean_squared_error: 0.0036 - root_mean_squared_error: 0.0599 - val_loss: 6.4838e-04 - val_mean_squared_error: 6.4838e-04 - val_root_mean_squared_error: 0.0255\n",
            "Epoch 19/60\n",
            "1231/1231 [==============================] - 4s 3ms/sample - loss: 0.0036 - mean_squared_error: 0.0036 - root_mean_squared_error: 0.0600 - val_loss: 8.2896e-04 - val_mean_squared_error: 8.2896e-04 - val_root_mean_squared_error: 0.0288\n",
            "Epoch 20/60\n",
            "1231/1231 [==============================] - 4s 3ms/sample - loss: 0.0029 - mean_squared_error: 0.0029 - root_mean_squared_error: 0.0540 - val_loss: 0.0011 - val_mean_squared_error: 0.0011 - val_root_mean_squared_error: 0.0331\n",
            "Epoch 21/60\n",
            "1231/1231 [==============================] - 3s 2ms/sample - loss: 0.0032 - mean_squared_error: 0.0032 - root_mean_squared_error: 0.0562 - val_loss: 5.7066e-04 - val_mean_squared_error: 5.7066e-04 - val_root_mean_squared_error: 0.0239\n",
            "Epoch 22/60\n",
            "1231/1231 [==============================] - 3s 2ms/sample - loss: 0.0029 - mean_squared_error: 0.0029 - root_mean_squared_error: 0.0535 - val_loss: 5.3449e-04 - val_mean_squared_error: 5.3449e-04 - val_root_mean_squared_error: 0.0231\n",
            "Epoch 23/60\n",
            "1231/1231 [==============================] - 3s 2ms/sample - loss: 0.0028 - mean_squared_error: 0.0028 - root_mean_squared_error: 0.0527 - val_loss: 7.1050e-04 - val_mean_squared_error: 7.1050e-04 - val_root_mean_squared_error: 0.0267\n",
            "Epoch 24/60\n",
            "1231/1231 [==============================] - 4s 3ms/sample - loss: 0.0028 - mean_squared_error: 0.0028 - root_mean_squared_error: 0.0528 - val_loss: 6.2917e-04 - val_mean_squared_error: 6.2917e-04 - val_root_mean_squared_error: 0.0251\n",
            "Epoch 25/60\n",
            "1231/1231 [==============================] - 3s 3ms/sample - loss: 0.0031 - mean_squared_error: 0.0031 - root_mean_squared_error: 0.0557 - val_loss: 7.4727e-04 - val_mean_squared_error: 7.4727e-04 - val_root_mean_squared_error: 0.0273\n",
            "Epoch 26/60\n",
            "1231/1231 [==============================] - 3s 2ms/sample - loss: 0.0031 - mean_squared_error: 0.0031 - root_mean_squared_error: 0.0557 - val_loss: 7.5306e-04 - val_mean_squared_error: 7.5306e-04 - val_root_mean_squared_error: 0.0274\n",
            "Epoch 27/60\n",
            "1231/1231 [==============================] - 3s 2ms/sample - loss: 0.0028 - mean_squared_error: 0.0028 - root_mean_squared_error: 0.0533 - val_loss: 7.2531e-04 - val_mean_squared_error: 7.2531e-04 - val_root_mean_squared_error: 0.0269\n",
            "Epoch 28/60\n",
            "1231/1231 [==============================] - 3s 3ms/sample - loss: 0.0027 - mean_squared_error: 0.0027 - root_mean_squared_error: 0.0517 - val_loss: 6.1829e-04 - val_mean_squared_error: 6.1829e-04 - val_root_mean_squared_error: 0.0249\n",
            "Epoch 29/60\n",
            "1231/1231 [==============================] - 4s 3ms/sample - loss: 0.0035 - mean_squared_error: 0.0035 - root_mean_squared_error: 0.0588 - val_loss: 5.7301e-04 - val_mean_squared_error: 5.7301e-04 - val_root_mean_squared_error: 0.0239\n",
            "Epoch 30/60\n",
            "1231/1231 [==============================] - 3s 2ms/sample - loss: 0.0025 - mean_squared_error: 0.0025 - root_mean_squared_error: 0.0503 - val_loss: 5.0003e-04 - val_mean_squared_error: 5.0003e-04 - val_root_mean_squared_error: 0.0224\n",
            "Epoch 31/60\n",
            "1231/1231 [==============================] - 3s 2ms/sample - loss: 0.0024 - mean_squared_error: 0.0024 - root_mean_squared_error: 0.0487 - val_loss: 5.2060e-04 - val_mean_squared_error: 5.2060e-04 - val_root_mean_squared_error: 0.0228\n",
            "Epoch 32/60\n",
            "1231/1231 [==============================] - 3s 2ms/sample - loss: 0.0026 - mean_squared_error: 0.0026 - root_mean_squared_error: 0.0507 - val_loss: 4.3002e-04 - val_mean_squared_error: 4.3002e-04 - val_root_mean_squared_error: 0.0207\n",
            "Epoch 33/60\n",
            "1231/1231 [==============================] - 4s 4ms/sample - loss: 0.0026 - mean_squared_error: 0.0026 - root_mean_squared_error: 0.0512 - val_loss: 4.8304e-04 - val_mean_squared_error: 4.8304e-04 - val_root_mean_squared_error: 0.0220\n",
            "Epoch 34/60\n",
            "1231/1231 [==============================] - 3s 2ms/sample - loss: 0.0022 - mean_squared_error: 0.0022 - root_mean_squared_error: 0.0466 - val_loss: 4.4508e-04 - val_mean_squared_error: 4.4508e-04 - val_root_mean_squared_error: 0.0211\n",
            "Epoch 35/60\n",
            "1231/1231 [==============================] - 4s 3ms/sample - loss: 0.0022 - mean_squared_error: 0.0022 - root_mean_squared_error: 0.0474 - val_loss: 4.6190e-04 - val_mean_squared_error: 4.6190e-04 - val_root_mean_squared_error: 0.0215\n",
            "Epoch 36/60\n",
            "1231/1231 [==============================] - 6s 5ms/sample - loss: 0.0024 - mean_squared_error: 0.0024 - root_mean_squared_error: 0.0493 - val_loss: 4.3350e-04 - val_mean_squared_error: 4.3350e-04 - val_root_mean_squared_error: 0.0208\n",
            "Epoch 37/60\n",
            "1231/1231 [==============================] - 6s 5ms/sample - loss: 0.0024 - mean_squared_error: 0.0024 - root_mean_squared_error: 0.0494 - val_loss: 4.3482e-04 - val_mean_squared_error: 4.3482e-04 - val_root_mean_squared_error: 0.0209\n",
            "Epoch 38/60\n",
            "1231/1231 [==============================] - 4s 3ms/sample - loss: 0.0022 - mean_squared_error: 0.0022 - root_mean_squared_error: 0.0469 - val_loss: 4.0160e-04 - val_mean_squared_error: 4.0160e-04 - val_root_mean_squared_error: 0.0200\n",
            "Epoch 39/60\n",
            "1231/1231 [==============================] - 4s 3ms/sample - loss: 0.0022 - mean_squared_error: 0.0022 - root_mean_squared_error: 0.0469 - val_loss: 4.7461e-04 - val_mean_squared_error: 4.7461e-04 - val_root_mean_squared_error: 0.0218\n",
            "Epoch 40/60\n",
            "1231/1231 [==============================] - 3s 2ms/sample - loss: 0.0022 - mean_squared_error: 0.0022 - root_mean_squared_error: 0.0465 - val_loss: 4.0638e-04 - val_mean_squared_error: 4.0638e-04 - val_root_mean_squared_error: 0.0202\n",
            "Epoch 41/60\n",
            "1231/1231 [==============================] - 3s 2ms/sample - loss: 0.0020 - mean_squared_error: 0.0020 - root_mean_squared_error: 0.0448 - val_loss: 4.3958e-04 - val_mean_squared_error: 4.3958e-04 - val_root_mean_squared_error: 0.0210\n",
            "Epoch 42/60\n",
            "1231/1231 [==============================] - 3s 2ms/sample - loss: 0.0021 - mean_squared_error: 0.0021 - root_mean_squared_error: 0.0463 - val_loss: 4.5311e-04 - val_mean_squared_error: 4.5311e-04 - val_root_mean_squared_error: 0.0213\n",
            "Epoch 43/60\n",
            "1231/1231 [==============================] - 3s 3ms/sample - loss: 0.0023 - mean_squared_error: 0.0023 - root_mean_squared_error: 0.0483 - val_loss: 7.0310e-04 - val_mean_squared_error: 7.0310e-04 - val_root_mean_squared_error: 0.0265\n",
            "Epoch 44/60\n",
            "1231/1231 [==============================] - 4s 3ms/sample - loss: 0.0021 - mean_squared_error: 0.0021 - root_mean_squared_error: 0.0460 - val_loss: 4.3273e-04 - val_mean_squared_error: 4.3273e-04 - val_root_mean_squared_error: 0.0208\n",
            "Epoch 45/60\n",
            "1231/1231 [==============================] - 3s 2ms/sample - loss: 0.0021 - mean_squared_error: 0.0021 - root_mean_squared_error: 0.0459 - val_loss: 4.0648e-04 - val_mean_squared_error: 4.0648e-04 - val_root_mean_squared_error: 0.0202\n",
            "Epoch 46/60\n",
            "1231/1231 [==============================] - 3s 2ms/sample - loss: 0.0019 - mean_squared_error: 0.0019 - root_mean_squared_error: 0.0440 - val_loss: 4.5357e-04 - val_mean_squared_error: 4.5357e-04 - val_root_mean_squared_error: 0.0213\n",
            "Epoch 47/60\n",
            "1231/1231 [==============================] - 3s 2ms/sample - loss: 0.0021 - mean_squared_error: 0.0021 - root_mean_squared_error: 0.0457 - val_loss: 3.4503e-04 - val_mean_squared_error: 3.4503e-04 - val_root_mean_squared_error: 0.0186\n",
            "Epoch 48/60\n",
            "1231/1231 [==============================] - 4s 3ms/sample - loss: 0.0022 - mean_squared_error: 0.0022 - root_mean_squared_error: 0.0467 - val_loss: 3.4546e-04 - val_mean_squared_error: 3.4546e-04 - val_root_mean_squared_error: 0.0186\n",
            "Epoch 49/60\n",
            "1231/1231 [==============================] - 3s 2ms/sample - loss: 0.0019 - mean_squared_error: 0.0019 - root_mean_squared_error: 0.0434 - val_loss: 5.2415e-04 - val_mean_squared_error: 5.2415e-04 - val_root_mean_squared_error: 0.0229\n",
            "Epoch 50/60\n",
            "1231/1231 [==============================] - 3s 2ms/sample - loss: 0.0019 - mean_squared_error: 0.0019 - root_mean_squared_error: 0.0439 - val_loss: 3.4335e-04 - val_mean_squared_error: 3.4335e-04 - val_root_mean_squared_error: 0.0185\n",
            "Epoch 51/60\n",
            "1231/1231 [==============================] - 3s 2ms/sample - loss: 0.0021 - mean_squared_error: 0.0021 - root_mean_squared_error: 0.0454 - val_loss: 3.9726e-04 - val_mean_squared_error: 3.9726e-04 - val_root_mean_squared_error: 0.0199\n",
            "Epoch 52/60\n",
            "1231/1231 [==============================] - 4s 3ms/sample - loss: 0.0019 - mean_squared_error: 0.0019 - root_mean_squared_error: 0.0432 - val_loss: 5.0239e-04 - val_mean_squared_error: 5.0239e-04 - val_root_mean_squared_error: 0.0224\n",
            "Epoch 53/60\n",
            "1231/1231 [==============================] - 3s 3ms/sample - loss: 0.0018 - mean_squared_error: 0.0018 - root_mean_squared_error: 0.0425 - val_loss: 3.5624e-04 - val_mean_squared_error: 3.5624e-04 - val_root_mean_squared_error: 0.0189\n",
            "Epoch 54/60\n",
            "1231/1231 [==============================] - 3s 2ms/sample - loss: 0.0020 - mean_squared_error: 0.0020 - root_mean_squared_error: 0.0447 - val_loss: 5.6778e-04 - val_mean_squared_error: 5.6778e-04 - val_root_mean_squared_error: 0.0238\n",
            "Epoch 55/60\n",
            "1231/1231 [==============================] - 3s 2ms/sample - loss: 0.0019 - mean_squared_error: 0.0019 - root_mean_squared_error: 0.0440 - val_loss: 3.9843e-04 - val_mean_squared_error: 3.9843e-04 - val_root_mean_squared_error: 0.0200\n",
            "Epoch 56/60\n",
            "1231/1231 [==============================] - 3s 3ms/sample - loss: 0.0019 - mean_squared_error: 0.0019 - root_mean_squared_error: 0.0441 - val_loss: 3.7508e-04 - val_mean_squared_error: 3.7508e-04 - val_root_mean_squared_error: 0.0194\n",
            "Epoch 57/60\n",
            "1231/1231 [==============================] - 4s 3ms/sample - loss: 0.0017 - mean_squared_error: 0.0017 - root_mean_squared_error: 0.0407 - val_loss: 3.1429e-04 - val_mean_squared_error: 3.1429e-04 - val_root_mean_squared_error: 0.0177\n",
            "Epoch 58/60\n",
            "1231/1231 [==============================] - 3s 2ms/sample - loss: 0.0020 - mean_squared_error: 0.0020 - root_mean_squared_error: 0.0447 - val_loss: 3.7541e-04 - val_mean_squared_error: 3.7541e-04 - val_root_mean_squared_error: 0.0194\n",
            "Epoch 59/60\n",
            "1231/1231 [==============================] - 3s 2ms/sample - loss: 0.0020 - mean_squared_error: 0.0020 - root_mean_squared_error: 0.0442 - val_loss: 3.9526e-04 - val_mean_squared_error: 3.9526e-04 - val_root_mean_squared_error: 0.0199\n",
            "Epoch 60/60\n",
            "1231/1231 [==============================] - 3s 2ms/sample - loss: 0.0019 - mean_squared_error: 0.0019 - root_mean_squared_error: 0.0440 - val_loss: 3.0375e-04 - val_mean_squared_error: 3.0375e-04 - val_root_mean_squared_error: 0.0174\n"
          ]
        },
        {
          "metadata": {
            "tags": null
          },
          "name": "stderr",
          "output_type": "stream",
          "text": [
            "/usr/local/lib/python3.10/dist-packages/keras/src/engine/training_v1.py:2359: UserWarning: `Model.state_updates` will be removed in a future version. This property should not be used in TensorFlow 2.0, as `updates` are applied automatically.\n",
            "  updates=self.state_updates,\n"
          ]
        },
        {
          "metadata": {
            "tags": null
          },
          "name": "stdout",
          "output_type": "stream",
          "text": [
            "     Adj Close\n",
            "0  6378.849121\n",
            "1  7204.771484\n",
            "2  6972.371582\n",
            "3  7814.915039\n",
            "4  7994.416016\n",
            "Train on 1211 samples, validate on 183 samples\n",
            "Epoch 1/60\n",
            "1211/1211 [==============================] - ETA: 0s - loss: 0.0296 - mean_squared_error: 0.0296 - root_mean_squared_error: 0.1721"
          ]
        },
        {
          "metadata": {
            "tags": null
          },
          "name": "stderr",
          "output_type": "stream",
          "text": [
            "/usr/local/lib/python3.10/dist-packages/keras/src/engine/training_v1.py:2335: UserWarning: `Model.state_updates` will be removed in a future version. This property should not be used in TensorFlow 2.0, as `updates` are applied automatically.\n",
            "  updates = self.state_updates\n"
          ]
        },
        {
          "metadata": {
            "tags": null
          },
          "name": "stdout",
          "output_type": "stream",
          "text": [
            "1211/1211 [==============================] - 7s 6ms/sample - loss: 0.0296 - mean_squared_error: 0.0296 - root_mean_squared_error: 0.1721 - val_loss: 0.0016 - val_mean_squared_error: 0.0016 - val_root_mean_squared_error: 0.0395\n",
            "Epoch 2/60\n",
            "1211/1211 [==============================] - 5s 4ms/sample - loss: 0.0077 - mean_squared_error: 0.0077 - root_mean_squared_error: 0.0877 - val_loss: 0.0014 - val_mean_squared_error: 0.0014 - val_root_mean_squared_error: 0.0379\n",
            "Epoch 3/60\n",
            "1211/1211 [==============================] - 4s 3ms/sample - loss: 0.0061 - mean_squared_error: 0.0061 - root_mean_squared_error: 0.0782 - val_loss: 0.0011 - val_mean_squared_error: 0.0011 - val_root_mean_squared_error: 0.0336\n",
            "Epoch 4/60\n",
            "1211/1211 [==============================] - 4s 3ms/sample - loss: 0.0055 - mean_squared_error: 0.0055 - root_mean_squared_error: 0.0743 - val_loss: 0.0011 - val_mean_squared_error: 0.0011 - val_root_mean_squared_error: 0.0328\n",
            "Epoch 5/60\n",
            "1211/1211 [==============================] - 5s 4ms/sample - loss: 0.0052 - mean_squared_error: 0.0052 - root_mean_squared_error: 0.0721 - val_loss: 0.0011 - val_mean_squared_error: 0.0011 - val_root_mean_squared_error: 0.0336\n",
            "Epoch 6/60\n",
            "1211/1211 [==============================] - 4s 4ms/sample - loss: 0.0051 - mean_squared_error: 0.0051 - root_mean_squared_error: 0.0717 - val_loss: 0.0019 - val_mean_squared_error: 0.0019 - val_root_mean_squared_error: 0.0433\n",
            "Epoch 7/60\n",
            "1211/1211 [==============================] - 4s 3ms/sample - loss: 0.0056 - mean_squared_error: 0.0056 - root_mean_squared_error: 0.0745 - val_loss: 9.0868e-04 - val_mean_squared_error: 9.0868e-04 - val_root_mean_squared_error: 0.0301\n",
            "Epoch 8/60\n",
            "1211/1211 [==============================] - 5s 4ms/sample - loss: 0.0045 - mean_squared_error: 0.0045 - root_mean_squared_error: 0.0671 - val_loss: 8.7959e-04 - val_mean_squared_error: 8.7959e-04 - val_root_mean_squared_error: 0.0297\n",
            "Epoch 9/60\n",
            "1211/1211 [==============================] - 4s 4ms/sample - loss: 0.0046 - mean_squared_error: 0.0046 - root_mean_squared_error: 0.0675 - val_loss: 9.2212e-04 - val_mean_squared_error: 9.2212e-04 - val_root_mean_squared_error: 0.0304\n",
            "Epoch 10/60\n",
            "1211/1211 [==============================] - 4s 3ms/sample - loss: 0.0039 - mean_squared_error: 0.0039 - root_mean_squared_error: 0.0626 - val_loss: 0.0016 - val_mean_squared_error: 0.0016 - val_root_mean_squared_error: 0.0403\n",
            "Epoch 11/60\n",
            "1211/1211 [==============================] - 4s 3ms/sample - loss: 0.0049 - mean_squared_error: 0.0049 - root_mean_squared_error: 0.0701 - val_loss: 9.1676e-04 - val_mean_squared_error: 9.1676e-04 - val_root_mean_squared_error: 0.0303\n",
            "Epoch 12/60\n",
            "1211/1211 [==============================] - 5s 4ms/sample - loss: 0.0044 - mean_squared_error: 0.0044 - root_mean_squared_error: 0.0661 - val_loss: 9.0487e-04 - val_mean_squared_error: 9.0487e-04 - val_root_mean_squared_error: 0.0301\n",
            "Epoch 13/60\n",
            "1211/1211 [==============================] - 4s 3ms/sample - loss: 0.0041 - mean_squared_error: 0.0041 - root_mean_squared_error: 0.0641 - val_loss: 8.3614e-04 - val_mean_squared_error: 8.3614e-04 - val_root_mean_squared_error: 0.0289\n",
            "Epoch 14/60\n",
            "1211/1211 [==============================] - 4s 3ms/sample - loss: 0.0038 - mean_squared_error: 0.0038 - root_mean_squared_error: 0.0619 - val_loss: 9.1388e-04 - val_mean_squared_error: 9.1388e-04 - val_root_mean_squared_error: 0.0302\n",
            "Epoch 15/60\n",
            "1211/1211 [==============================] - 5s 4ms/sample - loss: 0.0043 - mean_squared_error: 0.0043 - root_mean_squared_error: 0.0657 - val_loss: 9.1077e-04 - val_mean_squared_error: 9.1077e-04 - val_root_mean_squared_error: 0.0302\n",
            "Epoch 16/60\n",
            "1211/1211 [==============================] - 4s 3ms/sample - loss: 0.0038 - mean_squared_error: 0.0038 - root_mean_squared_error: 0.0615 - val_loss: 7.0655e-04 - val_mean_squared_error: 7.0655e-04 - val_root_mean_squared_error: 0.0266\n",
            "Epoch 17/60\n",
            "1211/1211 [==============================] - 4s 3ms/sample - loss: 0.0041 - mean_squared_error: 0.0041 - root_mean_squared_error: 0.0641 - val_loss: 6.9663e-04 - val_mean_squared_error: 6.9663e-04 - val_root_mean_squared_error: 0.0264\n",
            "Epoch 18/60\n",
            "1211/1211 [==============================] - 5s 4ms/sample - loss: 0.0033 - mean_squared_error: 0.0033 - root_mean_squared_error: 0.0577 - val_loss: 6.8991e-04 - val_mean_squared_error: 6.8991e-04 - val_root_mean_squared_error: 0.0263\n",
            "Epoch 19/60\n",
            "1211/1211 [==============================] - 4s 3ms/sample - loss: 0.0033 - mean_squared_error: 0.0033 - root_mean_squared_error: 0.0577 - val_loss: 9.4252e-04 - val_mean_squared_error: 9.4252e-04 - val_root_mean_squared_error: 0.0307\n",
            "Epoch 20/60\n",
            "1211/1211 [==============================] - 4s 3ms/sample - loss: 0.0038 - mean_squared_error: 0.0038 - root_mean_squared_error: 0.0619 - val_loss: 9.0717e-04 - val_mean_squared_error: 9.0717e-04 - val_root_mean_squared_error: 0.0301\n",
            "Epoch 21/60\n",
            "1211/1211 [==============================] - 5s 4ms/sample - loss: 0.0034 - mean_squared_error: 0.0034 - root_mean_squared_error: 0.0584 - val_loss: 6.5192e-04 - val_mean_squared_error: 6.5192e-04 - val_root_mean_squared_error: 0.0255\n",
            "Epoch 22/60\n",
            "1211/1211 [==============================] - 4s 3ms/sample - loss: 0.0031 - mean_squared_error: 0.0031 - root_mean_squared_error: 0.0557 - val_loss: 0.0014 - val_mean_squared_error: 0.0014 - val_root_mean_squared_error: 0.0368\n",
            "Epoch 23/60\n",
            "1211/1211 [==============================] - 4s 3ms/sample - loss: 0.0033 - mean_squared_error: 0.0033 - root_mean_squared_error: 0.0571 - val_loss: 5.8148e-04 - val_mean_squared_error: 5.8148e-04 - val_root_mean_squared_error: 0.0241\n",
            "Epoch 24/60\n",
            "1211/1211 [==============================] - 5s 4ms/sample - loss: 0.0030 - mean_squared_error: 0.0030 - root_mean_squared_error: 0.0543 - val_loss: 5.9186e-04 - val_mean_squared_error: 5.9186e-04 - val_root_mean_squared_error: 0.0243\n",
            "Epoch 25/60\n",
            "1211/1211 [==============================] - 4s 3ms/sample - loss: 0.0029 - mean_squared_error: 0.0029 - root_mean_squared_error: 0.0537 - val_loss: 6.2875e-04 - val_mean_squared_error: 6.2875e-04 - val_root_mean_squared_error: 0.0251\n",
            "Epoch 26/60\n",
            "1211/1211 [==============================] - 4s 3ms/sample - loss: 0.0030 - mean_squared_error: 0.0030 - root_mean_squared_error: 0.0550 - val_loss: 5.4689e-04 - val_mean_squared_error: 5.4689e-04 - val_root_mean_squared_error: 0.0234\n",
            "Epoch 27/60\n",
            "1211/1211 [==============================] - 5s 4ms/sample - loss: 0.0027 - mean_squared_error: 0.0027 - root_mean_squared_error: 0.0521 - val_loss: 6.5145e-04 - val_mean_squared_error: 6.5145e-04 - val_root_mean_squared_error: 0.0255\n",
            "Epoch 28/60\n",
            "1211/1211 [==============================] - 5s 4ms/sample - loss: 0.0027 - mean_squared_error: 0.0027 - root_mean_squared_error: 0.0519 - val_loss: 6.7530e-04 - val_mean_squared_error: 6.7530e-04 - val_root_mean_squared_error: 0.0260\n",
            "Epoch 29/60\n",
            "1211/1211 [==============================] - 4s 3ms/sample - loss: 0.0028 - mean_squared_error: 0.0028 - root_mean_squared_error: 0.0533 - val_loss: 5.8030e-04 - val_mean_squared_error: 5.8030e-04 - val_root_mean_squared_error: 0.0241\n",
            "Epoch 30/60\n",
            "1211/1211 [==============================] - 4s 4ms/sample - loss: 0.0027 - mean_squared_error: 0.0027 - root_mean_squared_error: 0.0519 - val_loss: 4.7456e-04 - val_mean_squared_error: 4.7456e-04 - val_root_mean_squared_error: 0.0218\n",
            "Epoch 31/60\n",
            "1211/1211 [==============================] - 5s 4ms/sample - loss: 0.0026 - mean_squared_error: 0.0026 - root_mean_squared_error: 0.0513 - val_loss: 4.7733e-04 - val_mean_squared_error: 4.7733e-04 - val_root_mean_squared_error: 0.0218\n",
            "Epoch 32/60\n",
            "1211/1211 [==============================] - 4s 3ms/sample - loss: 0.0026 - mean_squared_error: 0.0026 - root_mean_squared_error: 0.0510 - val_loss: 9.0592e-04 - val_mean_squared_error: 9.0592e-04 - val_root_mean_squared_error: 0.0301\n",
            "Epoch 33/60\n",
            "1211/1211 [==============================] - 4s 4ms/sample - loss: 0.0030 - mean_squared_error: 0.0030 - root_mean_squared_error: 0.0544 - val_loss: 0.0021 - val_mean_squared_error: 0.0021 - val_root_mean_squared_error: 0.0461\n",
            "Epoch 34/60\n",
            "1211/1211 [==============================] - 5s 4ms/sample - loss: 0.0030 - mean_squared_error: 0.0030 - root_mean_squared_error: 0.0551 - val_loss: 8.2956e-04 - val_mean_squared_error: 8.2956e-04 - val_root_mean_squared_error: 0.0288\n",
            "Epoch 35/60\n",
            "1211/1211 [==============================] - 4s 3ms/sample - loss: 0.0026 - mean_squared_error: 0.0026 - root_mean_squared_error: 0.0508 - val_loss: 5.0206e-04 - val_mean_squared_error: 5.0206e-04 - val_root_mean_squared_error: 0.0224\n",
            "Epoch 36/60\n",
            "1211/1211 [==============================] - 4s 3ms/sample - loss: 0.0023 - mean_squared_error: 0.0023 - root_mean_squared_error: 0.0479 - val_loss: 6.7435e-04 - val_mean_squared_error: 6.7435e-04 - val_root_mean_squared_error: 0.0260\n",
            "Epoch 37/60\n",
            "1211/1211 [==============================] - 6s 5ms/sample - loss: 0.0028 - mean_squared_error: 0.0028 - root_mean_squared_error: 0.0528 - val_loss: 5.6926e-04 - val_mean_squared_error: 5.6926e-04 - val_root_mean_squared_error: 0.0239\n",
            "Epoch 38/60\n",
            "1211/1211 [==============================] - 4s 3ms/sample - loss: 0.0022 - mean_squared_error: 0.0022 - root_mean_squared_error: 0.0468 - val_loss: 4.2801e-04 - val_mean_squared_error: 4.2801e-04 - val_root_mean_squared_error: 0.0207\n",
            "Epoch 39/60\n",
            "1211/1211 [==============================] - 4s 3ms/sample - loss: 0.0022 - mean_squared_error: 0.0022 - root_mean_squared_error: 0.0467 - val_loss: 3.9386e-04 - val_mean_squared_error: 3.9386e-04 - val_root_mean_squared_error: 0.0198\n",
            "Epoch 40/60\n",
            "1211/1211 [==============================] - 6s 5ms/sample - loss: 0.0023 - mean_squared_error: 0.0023 - root_mean_squared_error: 0.0483 - val_loss: 4.1412e-04 - val_mean_squared_error: 4.1412e-04 - val_root_mean_squared_error: 0.0203\n",
            "Epoch 41/60\n",
            "1211/1211 [==============================] - 4s 3ms/sample - loss: 0.0023 - mean_squared_error: 0.0023 - root_mean_squared_error: 0.0483 - val_loss: 5.0418e-04 - val_mean_squared_error: 5.0418e-04 - val_root_mean_squared_error: 0.0225\n",
            "Epoch 42/60\n",
            "1211/1211 [==============================] - 4s 3ms/sample - loss: 0.0024 - mean_squared_error: 0.0024 - root_mean_squared_error: 0.0492 - val_loss: 3.9036e-04 - val_mean_squared_error: 3.9036e-04 - val_root_mean_squared_error: 0.0198\n",
            "Epoch 43/60\n",
            "1211/1211 [==============================] - 5s 4ms/sample - loss: 0.0022 - mean_squared_error: 0.0022 - root_mean_squared_error: 0.0471 - val_loss: 4.0483e-04 - val_mean_squared_error: 4.0483e-04 - val_root_mean_squared_error: 0.0201\n",
            "Epoch 44/60\n",
            "1211/1211 [==============================] - 4s 3ms/sample - loss: 0.0022 - mean_squared_error: 0.0022 - root_mean_squared_error: 0.0464 - val_loss: 4.6907e-04 - val_mean_squared_error: 4.6907e-04 - val_root_mean_squared_error: 0.0217\n",
            "Epoch 45/60\n",
            "1211/1211 [==============================] - 4s 3ms/sample - loss: 0.0021 - mean_squared_error: 0.0021 - root_mean_squared_error: 0.0463 - val_loss: 3.9559e-04 - val_mean_squared_error: 3.9559e-04 - val_root_mean_squared_error: 0.0199\n",
            "Epoch 46/60\n",
            "1211/1211 [==============================] - 5s 4ms/sample - loss: 0.0022 - mean_squared_error: 0.0022 - root_mean_squared_error: 0.0468 - val_loss: 0.0012 - val_mean_squared_error: 0.0012 - val_root_mean_squared_error: 0.0347\n",
            "Epoch 47/60\n",
            "1211/1211 [==============================] - 4s 3ms/sample - loss: 0.0028 - mean_squared_error: 0.0028 - root_mean_squared_error: 0.0533 - val_loss: 4.3025e-04 - val_mean_squared_error: 4.3025e-04 - val_root_mean_squared_error: 0.0207\n",
            "Epoch 48/60\n",
            "1211/1211 [==============================] - 4s 3ms/sample - loss: 0.0023 - mean_squared_error: 0.0023 - root_mean_squared_error: 0.0478 - val_loss: 4.2269e-04 - val_mean_squared_error: 4.2269e-04 - val_root_mean_squared_error: 0.0206\n",
            "Epoch 49/60\n",
            "1211/1211 [==============================] - 5s 4ms/sample - loss: 0.0021 - mean_squared_error: 0.0021 - root_mean_squared_error: 0.0457 - val_loss: 7.1242e-04 - val_mean_squared_error: 7.1242e-04 - val_root_mean_squared_error: 0.0267\n",
            "Epoch 50/60\n",
            "1211/1211 [==============================] - 4s 3ms/sample - loss: 0.0020 - mean_squared_error: 0.0020 - root_mean_squared_error: 0.0448 - val_loss: 3.7455e-04 - val_mean_squared_error: 3.7455e-04 - val_root_mean_squared_error: 0.0194\n",
            "Epoch 51/60\n",
            "1211/1211 [==============================] - 4s 3ms/sample - loss: 0.0020 - mean_squared_error: 0.0020 - root_mean_squared_error: 0.0445 - val_loss: 4.5747e-04 - val_mean_squared_error: 4.5747e-04 - val_root_mean_squared_error: 0.0214\n",
            "Epoch 52/60\n",
            "1211/1211 [==============================] - 4s 4ms/sample - loss: 0.0019 - mean_squared_error: 0.0019 - root_mean_squared_error: 0.0434 - val_loss: 3.4517e-04 - val_mean_squared_error: 3.4517e-04 - val_root_mean_squared_error: 0.0186\n",
            "Epoch 53/60\n",
            "1211/1211 [==============================] - 5s 4ms/sample - loss: 0.0021 - mean_squared_error: 0.0021 - root_mean_squared_error: 0.0461 - val_loss: 3.2314e-04 - val_mean_squared_error: 3.2314e-04 - val_root_mean_squared_error: 0.0180\n",
            "Epoch 54/60\n",
            "1211/1211 [==============================] - 4s 3ms/sample - loss: 0.0020 - mean_squared_error: 0.0020 - root_mean_squared_error: 0.0444 - val_loss: 3.8047e-04 - val_mean_squared_error: 3.8047e-04 - val_root_mean_squared_error: 0.0195\n",
            "Epoch 55/60\n",
            "1211/1211 [==============================] - 4s 3ms/sample - loss: 0.0019 - mean_squared_error: 0.0019 - root_mean_squared_error: 0.0441 - val_loss: 5.9722e-04 - val_mean_squared_error: 5.9722e-04 - val_root_mean_squared_error: 0.0244\n",
            "Epoch 56/60\n",
            "1211/1211 [==============================] - 5s 4ms/sample - loss: 0.0021 - mean_squared_error: 0.0021 - root_mean_squared_error: 0.0459 - val_loss: 8.0291e-04 - val_mean_squared_error: 8.0291e-04 - val_root_mean_squared_error: 0.0283\n",
            "Epoch 57/60\n",
            "1211/1211 [==============================] - 4s 3ms/sample - loss: 0.0017 - mean_squared_error: 0.0017 - root_mean_squared_error: 0.0415 - val_loss: 3.0382e-04 - val_mean_squared_error: 3.0382e-04 - val_root_mean_squared_error: 0.0174\n",
            "Epoch 58/60\n",
            "1211/1211 [==============================] - 4s 3ms/sample - loss: 0.0019 - mean_squared_error: 0.0019 - root_mean_squared_error: 0.0433 - val_loss: 3.2509e-04 - val_mean_squared_error: 3.2509e-04 - val_root_mean_squared_error: 0.0180\n",
            "Epoch 59/60\n",
            "1211/1211 [==============================] - 5s 4ms/sample - loss: 0.0021 - mean_squared_error: 0.0021 - root_mean_squared_error: 0.0457 - val_loss: 6.0001e-04 - val_mean_squared_error: 6.0001e-04 - val_root_mean_squared_error: 0.0245\n",
            "Epoch 60/60\n",
            "1211/1211 [==============================] - 4s 3ms/sample - loss: 0.0016 - mean_squared_error: 0.0016 - root_mean_squared_error: 0.0405 - val_loss: 3.8179e-04 - val_mean_squared_error: 3.8179e-04 - val_root_mean_squared_error: 0.0195\n"
          ]
        },
        {
          "metadata": {
            "tags": null
          },
          "name": "stderr",
          "output_type": "stream",
          "text": [
            "/usr/local/lib/python3.10/dist-packages/keras/src/engine/training_v1.py:2359: UserWarning: `Model.state_updates` will be removed in a future version. This property should not be used in TensorFlow 2.0, as `updates` are applied automatically.\n",
            "  updates=self.state_updates,\n"
          ]
        },
        {
          "metadata": {
            "tags": null
          },
          "name": "stdout",
          "output_type": "stream",
          "text": [
            "     Adj Close        Volume\n",
            "0  6378.849121  1.941988e+10\n",
            "1  7204.771484  2.886756e+10\n",
            "2  6972.371582  2.777333e+10\n",
            "3  7814.915039  2.867767e+10\n",
            "4  7994.416016  3.203145e+10\n",
            "Train on 1251 samples, validate on 223 samples\n",
            "Epoch 1/60\n",
            "1251/1251 [==============================] - ETA: 0s - loss: 0.0296 - mean_squared_error: 0.0296 - root_mean_squared_error: 0.1720"
          ]
        },
        {
          "metadata": {
            "tags": null
          },
          "name": "stderr",
          "output_type": "stream",
          "text": [
            "/usr/local/lib/python3.10/dist-packages/keras/src/engine/training_v1.py:2335: UserWarning: `Model.state_updates` will be removed in a future version. This property should not be used in TensorFlow 2.0, as `updates` are applied automatically.\n",
            "  updates = self.state_updates\n"
          ]
        },
        {
          "metadata": {
            "tags": null
          },
          "name": "stdout",
          "output_type": "stream",
          "text": [
            "1251/1251 [==============================] - 4s 4ms/sample - loss: 0.0296 - mean_squared_error: 0.0296 - root_mean_squared_error: 0.1720 - val_loss: 0.0015 - val_mean_squared_error: 0.0015 - val_root_mean_squared_error: 0.0388\n",
            "Epoch 2/60\n",
            "1251/1251 [==============================] - 2s 1ms/sample - loss: 0.0056 - mean_squared_error: 0.0056 - root_mean_squared_error: 0.0749 - val_loss: 0.0017 - val_mean_squared_error: 0.0017 - val_root_mean_squared_error: 0.0408\n",
            "Epoch 3/60\n",
            "1251/1251 [==============================] - 2s 1ms/sample - loss: 0.0058 - mean_squared_error: 0.0058 - root_mean_squared_error: 0.0760 - val_loss: 0.0029 - val_mean_squared_error: 0.0029 - val_root_mean_squared_error: 0.0540\n",
            "Epoch 4/60\n",
            "1251/1251 [==============================] - 2s 1ms/sample - loss: 0.0062 - mean_squared_error: 0.0062 - root_mean_squared_error: 0.0785 - val_loss: 0.0019 - val_mean_squared_error: 0.0019 - val_root_mean_squared_error: 0.0435\n",
            "Epoch 5/60\n",
            "1251/1251 [==============================] - 2s 1ms/sample - loss: 0.0051 - mean_squared_error: 0.0051 - root_mean_squared_error: 0.0716 - val_loss: 0.0015 - val_mean_squared_error: 0.0015 - val_root_mean_squared_error: 0.0390\n",
            "Epoch 6/60\n",
            "1251/1251 [==============================] - 2s 1ms/sample - loss: 0.0050 - mean_squared_error: 0.0050 - root_mean_squared_error: 0.0706 - val_loss: 0.0011 - val_mean_squared_error: 0.0011 - val_root_mean_squared_error: 0.0337\n",
            "Epoch 7/60\n",
            "1251/1251 [==============================] - 3s 2ms/sample - loss: 0.0046 - mean_squared_error: 0.0046 - root_mean_squared_error: 0.0678 - val_loss: 0.0022 - val_mean_squared_error: 0.0022 - val_root_mean_squared_error: 0.0470\n",
            "Epoch 8/60\n",
            "1251/1251 [==============================] - 2s 2ms/sample - loss: 0.0054 - mean_squared_error: 0.0054 - root_mean_squared_error: 0.0738 - val_loss: 7.3877e-04 - val_mean_squared_error: 7.3877e-04 - val_root_mean_squared_error: 0.0272\n",
            "Epoch 9/60\n",
            "1251/1251 [==============================] - 2s 1ms/sample - loss: 0.0040 - mean_squared_error: 0.0040 - root_mean_squared_error: 0.0635 - val_loss: 9.4958e-04 - val_mean_squared_error: 9.4958e-04 - val_root_mean_squared_error: 0.0308\n",
            "Epoch 10/60\n",
            "1251/1251 [==============================] - 2s 1ms/sample - loss: 0.0042 - mean_squared_error: 0.0042 - root_mean_squared_error: 0.0645 - val_loss: 0.0020 - val_mean_squared_error: 0.0020 - val_root_mean_squared_error: 0.0443\n",
            "Epoch 11/60\n",
            "1251/1251 [==============================] - 2s 1ms/sample - loss: 0.0047 - mean_squared_error: 0.0047 - root_mean_squared_error: 0.0685 - val_loss: 9.4832e-04 - val_mean_squared_error: 9.4832e-04 - val_root_mean_squared_error: 0.0308\n",
            "Epoch 12/60\n",
            "1251/1251 [==============================] - 2s 1ms/sample - loss: 0.0039 - mean_squared_error: 0.0039 - root_mean_squared_error: 0.0627 - val_loss: 6.5843e-04 - val_mean_squared_error: 6.5843e-04 - val_root_mean_squared_error: 0.0257\n",
            "Epoch 13/60\n",
            "1251/1251 [==============================] - 2s 1ms/sample - loss: 0.0050 - mean_squared_error: 0.0050 - root_mean_squared_error: 0.0710 - val_loss: 7.7250e-04 - val_mean_squared_error: 7.7250e-04 - val_root_mean_squared_error: 0.0278\n",
            "Epoch 14/60\n",
            "1251/1251 [==============================] - 2s 2ms/sample - loss: 0.0043 - mean_squared_error: 0.0043 - root_mean_squared_error: 0.0658 - val_loss: 6.8797e-04 - val_mean_squared_error: 6.8797e-04 - val_root_mean_squared_error: 0.0262\n",
            "Epoch 15/60\n",
            "1251/1251 [==============================] - 3s 2ms/sample - loss: 0.0035 - mean_squared_error: 0.0035 - root_mean_squared_error: 0.0592 - val_loss: 6.3885e-04 - val_mean_squared_error: 6.3885e-04 - val_root_mean_squared_error: 0.0253\n",
            "Epoch 16/60\n",
            "1251/1251 [==============================] - 2s 2ms/sample - loss: 0.0036 - mean_squared_error: 0.0036 - root_mean_squared_error: 0.0597 - val_loss: 6.5379e-04 - val_mean_squared_error: 6.5379e-04 - val_root_mean_squared_error: 0.0256\n",
            "Epoch 17/60\n",
            "1251/1251 [==============================] - 2s 1ms/sample - loss: 0.0032 - mean_squared_error: 0.0032 - root_mean_squared_error: 0.0568 - val_loss: 5.8276e-04 - val_mean_squared_error: 5.8276e-04 - val_root_mean_squared_error: 0.0241\n",
            "Epoch 18/60\n",
            "1251/1251 [==============================] - 2s 1ms/sample - loss: 0.0032 - mean_squared_error: 0.0032 - root_mean_squared_error: 0.0569 - val_loss: 0.0016 - val_mean_squared_error: 0.0016 - val_root_mean_squared_error: 0.0397\n",
            "Epoch 19/60\n",
            "1251/1251 [==============================] - 2s 1ms/sample - loss: 0.0034 - mean_squared_error: 0.0034 - root_mean_squared_error: 0.0582 - val_loss: 5.6093e-04 - val_mean_squared_error: 5.6093e-04 - val_root_mean_squared_error: 0.0237\n",
            "Epoch 20/60\n",
            "1251/1251 [==============================] - 2s 1ms/sample - loss: 0.0028 - mean_squared_error: 0.0028 - root_mean_squared_error: 0.0526 - val_loss: 8.8829e-04 - val_mean_squared_error: 8.8829e-04 - val_root_mean_squared_error: 0.0298\n",
            "Epoch 21/60\n",
            "1251/1251 [==============================] - 2s 1ms/sample - loss: 0.0035 - mean_squared_error: 0.0035 - root_mean_squared_error: 0.0593 - val_loss: 6.0633e-04 - val_mean_squared_error: 6.0633e-04 - val_root_mean_squared_error: 0.0246\n",
            "Epoch 22/60\n",
            "1251/1251 [==============================] - 2s 2ms/sample - loss: 0.0029 - mean_squared_error: 0.0029 - root_mean_squared_error: 0.0543 - val_loss: 5.3399e-04 - val_mean_squared_error: 5.3399e-04 - val_root_mean_squared_error: 0.0231\n",
            "Epoch 23/60\n",
            "1251/1251 [==============================] - 2s 2ms/sample - loss: 0.0028 - mean_squared_error: 0.0028 - root_mean_squared_error: 0.0528 - val_loss: 5.7899e-04 - val_mean_squared_error: 5.7899e-04 - val_root_mean_squared_error: 0.0241\n",
            "Epoch 24/60\n",
            "1251/1251 [==============================] - 2s 2ms/sample - loss: 0.0026 - mean_squared_error: 0.0026 - root_mean_squared_error: 0.0507 - val_loss: 5.3876e-04 - val_mean_squared_error: 5.3876e-04 - val_root_mean_squared_error: 0.0232\n",
            "Epoch 25/60\n",
            "1251/1251 [==============================] - 2s 1ms/sample - loss: 0.0025 - mean_squared_error: 0.0025 - root_mean_squared_error: 0.0501 - val_loss: 5.4535e-04 - val_mean_squared_error: 5.4535e-04 - val_root_mean_squared_error: 0.0234\n",
            "Epoch 26/60\n",
            "1251/1251 [==============================] - 2s 1ms/sample - loss: 0.0028 - mean_squared_error: 0.0028 - root_mean_squared_error: 0.0531 - val_loss: 4.9480e-04 - val_mean_squared_error: 4.9480e-04 - val_root_mean_squared_error: 0.0222\n",
            "Epoch 27/60\n",
            "1251/1251 [==============================] - 2s 1ms/sample - loss: 0.0025 - mean_squared_error: 0.0025 - root_mean_squared_error: 0.0503 - val_loss: 8.6877e-04 - val_mean_squared_error: 8.6877e-04 - val_root_mean_squared_error: 0.0295\n",
            "Epoch 28/60\n",
            "1251/1251 [==============================] - 2s 1ms/sample - loss: 0.0036 - mean_squared_error: 0.0036 - root_mean_squared_error: 0.0599 - val_loss: 5.7397e-04 - val_mean_squared_error: 5.7397e-04 - val_root_mean_squared_error: 0.0240\n",
            "Epoch 29/60\n",
            "1251/1251 [==============================] - 2s 1ms/sample - loss: 0.0026 - mean_squared_error: 0.0026 - root_mean_squared_error: 0.0507 - val_loss: 4.6693e-04 - val_mean_squared_error: 4.6693e-04 - val_root_mean_squared_error: 0.0216\n",
            "Epoch 30/60\n",
            "1251/1251 [==============================] - 2s 2ms/sample - loss: 0.0023 - mean_squared_error: 0.0023 - root_mean_squared_error: 0.0483 - val_loss: 5.3031e-04 - val_mean_squared_error: 5.3031e-04 - val_root_mean_squared_error: 0.0230\n",
            "Epoch 31/60\n",
            "1251/1251 [==============================] - 2s 2ms/sample - loss: 0.0022 - mean_squared_error: 0.0022 - root_mean_squared_error: 0.0468 - val_loss: 9.3389e-04 - val_mean_squared_error: 9.3389e-04 - val_root_mean_squared_error: 0.0306\n",
            "Epoch 32/60\n",
            "1251/1251 [==============================] - 2s 1ms/sample - loss: 0.0026 - mean_squared_error: 0.0026 - root_mean_squared_error: 0.0508 - val_loss: 6.3669e-04 - val_mean_squared_error: 6.3669e-04 - val_root_mean_squared_error: 0.0252\n",
            "Epoch 33/60\n",
            "1251/1251 [==============================] - 2s 1ms/sample - loss: 0.0021 - mean_squared_error: 0.0021 - root_mean_squared_error: 0.0463 - val_loss: 4.4186e-04 - val_mean_squared_error: 4.4186e-04 - val_root_mean_squared_error: 0.0210\n",
            "Epoch 34/60\n",
            "1251/1251 [==============================] - 2s 1ms/sample - loss: 0.0021 - mean_squared_error: 0.0021 - root_mean_squared_error: 0.0461 - val_loss: 4.6258e-04 - val_mean_squared_error: 4.6258e-04 - val_root_mean_squared_error: 0.0215\n",
            "Epoch 35/60\n",
            "1251/1251 [==============================] - 2s 1ms/sample - loss: 0.0023 - mean_squared_error: 0.0023 - root_mean_squared_error: 0.0484 - val_loss: 3.9383e-04 - val_mean_squared_error: 3.9383e-04 - val_root_mean_squared_error: 0.0198\n",
            "Epoch 36/60\n",
            "1251/1251 [==============================] - 2s 1ms/sample - loss: 0.0021 - mean_squared_error: 0.0021 - root_mean_squared_error: 0.0461 - val_loss: 4.5554e-04 - val_mean_squared_error: 4.5554e-04 - val_root_mean_squared_error: 0.0213\n",
            "Epoch 37/60\n",
            "1251/1251 [==============================] - 2s 1ms/sample - loss: 0.0026 - mean_squared_error: 0.0026 - root_mean_squared_error: 0.0507 - val_loss: 6.6527e-04 - val_mean_squared_error: 6.6527e-04 - val_root_mean_squared_error: 0.0258\n",
            "Epoch 38/60\n",
            "1251/1251 [==============================] - 2s 2ms/sample - loss: 0.0022 - mean_squared_error: 0.0022 - root_mean_squared_error: 0.0472 - val_loss: 4.9346e-04 - val_mean_squared_error: 4.9346e-04 - val_root_mean_squared_error: 0.0222\n",
            "Epoch 39/60\n",
            "1251/1251 [==============================] - 2s 2ms/sample - loss: 0.0021 - mean_squared_error: 0.0021 - root_mean_squared_error: 0.0453 - val_loss: 3.9895e-04 - val_mean_squared_error: 3.9896e-04 - val_root_mean_squared_error: 0.0200\n",
            "Epoch 40/60\n",
            "1251/1251 [==============================] - 2s 1ms/sample - loss: 0.0022 - mean_squared_error: 0.0022 - root_mean_squared_error: 0.0472 - val_loss: 3.6268e-04 - val_mean_squared_error: 3.6268e-04 - val_root_mean_squared_error: 0.0190\n",
            "Epoch 41/60\n",
            "1251/1251 [==============================] - 2s 1ms/sample - loss: 0.0022 - mean_squared_error: 0.0022 - root_mean_squared_error: 0.0472 - val_loss: 3.7263e-04 - val_mean_squared_error: 3.7263e-04 - val_root_mean_squared_error: 0.0193\n",
            "Epoch 42/60\n",
            "1251/1251 [==============================] - 2s 1ms/sample - loss: 0.0021 - mean_squared_error: 0.0021 - root_mean_squared_error: 0.0459 - val_loss: 6.0378e-04 - val_mean_squared_error: 6.0378e-04 - val_root_mean_squared_error: 0.0246\n",
            "Epoch 43/60\n",
            "1251/1251 [==============================] - 2s 1ms/sample - loss: 0.0022 - mean_squared_error: 0.0022 - root_mean_squared_error: 0.0472 - val_loss: 3.5843e-04 - val_mean_squared_error: 3.5843e-04 - val_root_mean_squared_error: 0.0189\n",
            "Epoch 44/60\n",
            "1251/1251 [==============================] - 2s 1ms/sample - loss: 0.0020 - mean_squared_error: 0.0020 - root_mean_squared_error: 0.0447 - val_loss: 6.4375e-04 - val_mean_squared_error: 6.4375e-04 - val_root_mean_squared_error: 0.0254\n",
            "Epoch 45/60\n",
            "1251/1251 [==============================] - 2s 1ms/sample - loss: 0.0020 - mean_squared_error: 0.0020 - root_mean_squared_error: 0.0451 - val_loss: 4.9722e-04 - val_mean_squared_error: 4.9722e-04 - val_root_mean_squared_error: 0.0223\n",
            "Epoch 46/60\n",
            "1251/1251 [==============================] - 2s 1ms/sample - loss: 0.0021 - mean_squared_error: 0.0021 - root_mean_squared_error: 0.0453 - val_loss: 3.1771e-04 - val_mean_squared_error: 3.1771e-04 - val_root_mean_squared_error: 0.0178\n",
            "Epoch 47/60\n",
            "1251/1251 [==============================] - 3s 2ms/sample - loss: 0.0018 - mean_squared_error: 0.0018 - root_mean_squared_error: 0.0424 - val_loss: 4.0241e-04 - val_mean_squared_error: 4.0241e-04 - val_root_mean_squared_error: 0.0201\n",
            "Epoch 48/60\n",
            "1251/1251 [==============================] - 2s 2ms/sample - loss: 0.0020 - mean_squared_error: 0.0020 - root_mean_squared_error: 0.0450 - val_loss: 4.5754e-04 - val_mean_squared_error: 4.5754e-04 - val_root_mean_squared_error: 0.0214\n",
            "Epoch 49/60\n",
            "1251/1251 [==============================] - 2s 1ms/sample - loss: 0.0019 - mean_squared_error: 0.0019 - root_mean_squared_error: 0.0434 - val_loss: 3.0235e-04 - val_mean_squared_error: 3.0235e-04 - val_root_mean_squared_error: 0.0174\n",
            "Epoch 50/60\n",
            "1251/1251 [==============================] - 2s 1ms/sample - loss: 0.0021 - mean_squared_error: 0.0021 - root_mean_squared_error: 0.0455 - val_loss: 3.1050e-04 - val_mean_squared_error: 3.1050e-04 - val_root_mean_squared_error: 0.0176\n",
            "Epoch 51/60\n",
            "1251/1251 [==============================] - 2s 1ms/sample - loss: 0.0019 - mean_squared_error: 0.0019 - root_mean_squared_error: 0.0438 - val_loss: 4.4380e-04 - val_mean_squared_error: 4.4380e-04 - val_root_mean_squared_error: 0.0211\n",
            "Epoch 52/60\n",
            "1251/1251 [==============================] - 2s 1ms/sample - loss: 0.0020 - mean_squared_error: 0.0020 - root_mean_squared_error: 0.0451 - val_loss: 3.4210e-04 - val_mean_squared_error: 3.4210e-04 - val_root_mean_squared_error: 0.0185\n",
            "Epoch 53/60\n",
            "1251/1251 [==============================] - 2s 1ms/sample - loss: 0.0018 - mean_squared_error: 0.0018 - root_mean_squared_error: 0.0420 - val_loss: 0.0012 - val_mean_squared_error: 0.0012 - val_root_mean_squared_error: 0.0344\n",
            "Epoch 54/60\n",
            "1251/1251 [==============================] - 2s 1ms/sample - loss: 0.0026 - mean_squared_error: 0.0026 - root_mean_squared_error: 0.0513 - val_loss: 5.8743e-04 - val_mean_squared_error: 5.8743e-04 - val_root_mean_squared_error: 0.0242\n",
            "Epoch 55/60\n",
            "1251/1251 [==============================] - 3s 2ms/sample - loss: 0.0032 - mean_squared_error: 0.0032 - root_mean_squared_error: 0.0564 - val_loss: 7.3123e-04 - val_mean_squared_error: 7.3123e-04 - val_root_mean_squared_error: 0.0270\n",
            "Epoch 56/60\n",
            "1251/1251 [==============================] - 2s 1ms/sample - loss: 0.0018 - mean_squared_error: 0.0018 - root_mean_squared_error: 0.0429 - val_loss: 2.9408e-04 - val_mean_squared_error: 2.9408e-04 - val_root_mean_squared_error: 0.0171\n",
            "Epoch 57/60\n",
            "1251/1251 [==============================] - 2s 1ms/sample - loss: 0.0018 - mean_squared_error: 0.0018 - root_mean_squared_error: 0.0422 - val_loss: 3.6449e-04 - val_mean_squared_error: 3.6449e-04 - val_root_mean_squared_error: 0.0191\n",
            "Epoch 58/60\n",
            "1251/1251 [==============================] - 2s 1ms/sample - loss: 0.0019 - mean_squared_error: 0.0019 - root_mean_squared_error: 0.0440 - val_loss: 3.3317e-04 - val_mean_squared_error: 3.3317e-04 - val_root_mean_squared_error: 0.0183\n",
            "Epoch 59/60\n",
            "1251/1251 [==============================] - 2s 1ms/sample - loss: 0.0020 - mean_squared_error: 0.0020 - root_mean_squared_error: 0.0444 - val_loss: 3.4863e-04 - val_mean_squared_error: 3.4863e-04 - val_root_mean_squared_error: 0.0187\n",
            "Epoch 60/60\n",
            "1251/1251 [==============================] - 2s 1ms/sample - loss: 0.0018 - mean_squared_error: 0.0018 - root_mean_squared_error: 0.0425 - val_loss: 2.5716e-04 - val_mean_squared_error: 2.5716e-04 - val_root_mean_squared_error: 0.0160\n"
          ]
        },
        {
          "metadata": {
            "tags": null
          },
          "name": "stderr",
          "output_type": "stream",
          "text": [
            "/usr/local/lib/python3.10/dist-packages/keras/src/engine/training_v1.py:2359: UserWarning: `Model.state_updates` will be removed in a future version. This property should not be used in TensorFlow 2.0, as `updates` are applied automatically.\n",
            "  updates=self.state_updates,\n"
          ]
        },
        {
          "metadata": {
            "tags": null
          },
          "name": "stdout",
          "output_type": "stream",
          "text": [
            "     Adj Close        Volume\n",
            "0  6378.849121  1.941988e+10\n",
            "1  7204.771484  2.886756e+10\n",
            "2  6972.371582  2.777333e+10\n",
            "3  7814.915039  2.867767e+10\n",
            "4  7994.416016  3.203145e+10\n",
            "Train on 1231 samples, validate on 203 samples\n",
            "Epoch 1/60\n",
            "1231/1231 [==============================] - ETA: 0s - loss: 0.0291 - mean_squared_error: 0.0291 - root_mean_squared_error: 0.1707"
          ]
        },
        {
          "metadata": {
            "tags": null
          },
          "name": "stderr",
          "output_type": "stream",
          "text": [
            "/usr/local/lib/python3.10/dist-packages/keras/src/engine/training_v1.py:2335: UserWarning: `Model.state_updates` will be removed in a future version. This property should not be used in TensorFlow 2.0, as `updates` are applied automatically.\n",
            "  updates = self.state_updates\n"
          ]
        },
        {
          "metadata": {
            "tags": null
          },
          "name": "stdout",
          "output_type": "stream",
          "text": [
            "1231/1231 [==============================] - 5s 4ms/sample - loss: 0.0291 - mean_squared_error: 0.0291 - root_mean_squared_error: 0.1707 - val_loss: 0.0012 - val_mean_squared_error: 0.0012 - val_root_mean_squared_error: 0.0353\n",
            "Epoch 2/60\n",
            "1231/1231 [==============================] - 3s 2ms/sample - loss: 0.0066 - mean_squared_error: 0.0066 - root_mean_squared_error: 0.0815 - val_loss: 0.0022 - val_mean_squared_error: 0.0022 - val_root_mean_squared_error: 0.0469\n",
            "Epoch 3/60\n",
            "1231/1231 [==============================] - 4s 3ms/sample - loss: 0.0059 - mean_squared_error: 0.0059 - root_mean_squared_error: 0.0765 - val_loss: 9.4343e-04 - val_mean_squared_error: 9.4343e-04 - val_root_mean_squared_error: 0.0307\n",
            "Epoch 4/60\n",
            "1231/1231 [==============================] - 3s 3ms/sample - loss: 0.0059 - mean_squared_error: 0.0059 - root_mean_squared_error: 0.0770 - val_loss: 9.1294e-04 - val_mean_squared_error: 9.1294e-04 - val_root_mean_squared_error: 0.0302\n",
            "Epoch 5/60\n",
            "1231/1231 [==============================] - 3s 2ms/sample - loss: 0.0055 - mean_squared_error: 0.0055 - root_mean_squared_error: 0.0738 - val_loss: 0.0012 - val_mean_squared_error: 0.0012 - val_root_mean_squared_error: 0.0350\n",
            "Epoch 6/60\n",
            "1231/1231 [==============================] - 3s 2ms/sample - loss: 0.0051 - mean_squared_error: 0.0051 - root_mean_squared_error: 0.0714 - val_loss: 8.2532e-04 - val_mean_squared_error: 8.2532e-04 - val_root_mean_squared_error: 0.0287\n",
            "Epoch 7/60\n",
            "1231/1231 [==============================] - 3s 3ms/sample - loss: 0.0051 - mean_squared_error: 0.0051 - root_mean_squared_error: 0.0717 - val_loss: 0.0017 - val_mean_squared_error: 0.0017 - val_root_mean_squared_error: 0.0406\n",
            "Epoch 8/60\n",
            "1231/1231 [==============================] - 4s 3ms/sample - loss: 0.0050 - mean_squared_error: 0.0050 - root_mean_squared_error: 0.0704 - val_loss: 7.9557e-04 - val_mean_squared_error: 7.9557e-04 - val_root_mean_squared_error: 0.0282\n",
            "Epoch 9/60\n",
            "1231/1231 [==============================] - 3s 2ms/sample - loss: 0.0045 - mean_squared_error: 0.0045 - root_mean_squared_error: 0.0668 - val_loss: 0.0010 - val_mean_squared_error: 0.0010 - val_root_mean_squared_error: 0.0322\n",
            "Epoch 10/60\n",
            "1231/1231 [==============================] - 3s 3ms/sample - loss: 0.0043 - mean_squared_error: 0.0043 - root_mean_squared_error: 0.0652 - val_loss: 7.5222e-04 - val_mean_squared_error: 7.5222e-04 - val_root_mean_squared_error: 0.0274\n",
            "Epoch 11/60\n",
            "1231/1231 [==============================] - 3s 2ms/sample - loss: 0.0042 - mean_squared_error: 0.0042 - root_mean_squared_error: 0.0651 - val_loss: 8.0287e-04 - val_mean_squared_error: 8.0287e-04 - val_root_mean_squared_error: 0.0283\n",
            "Epoch 12/60\n",
            "1231/1231 [==============================] - 4s 3ms/sample - loss: 0.0044 - mean_squared_error: 0.0044 - root_mean_squared_error: 0.0662 - val_loss: 7.7449e-04 - val_mean_squared_error: 7.7449e-04 - val_root_mean_squared_error: 0.0278\n",
            "Epoch 13/60\n",
            "1231/1231 [==============================] - 3s 2ms/sample - loss: 0.0038 - mean_squared_error: 0.0038 - root_mean_squared_error: 0.0613 - val_loss: 9.1326e-04 - val_mean_squared_error: 9.1326e-04 - val_root_mean_squared_error: 0.0302\n",
            "Epoch 14/60\n",
            "1231/1231 [==============================] - 3s 2ms/sample - loss: 0.0040 - mean_squared_error: 0.0040 - root_mean_squared_error: 0.0632 - val_loss: 7.2461e-04 - val_mean_squared_error: 7.2461e-04 - val_root_mean_squared_error: 0.0269\n",
            "Epoch 15/60\n",
            "1231/1231 [==============================] - 3s 2ms/sample - loss: 0.0040 - mean_squared_error: 0.0040 - root_mean_squared_error: 0.0634 - val_loss: 7.8921e-04 - val_mean_squared_error: 7.8921e-04 - val_root_mean_squared_error: 0.0281\n",
            "Epoch 16/60\n",
            "1231/1231 [==============================] - 4s 3ms/sample - loss: 0.0038 - mean_squared_error: 0.0038 - root_mean_squared_error: 0.0619 - val_loss: 8.0078e-04 - val_mean_squared_error: 8.0078e-04 - val_root_mean_squared_error: 0.0283\n",
            "Epoch 17/60\n",
            "1231/1231 [==============================] - 3s 2ms/sample - loss: 0.0037 - mean_squared_error: 0.0037 - root_mean_squared_error: 0.0610 - val_loss: 8.7606e-04 - val_mean_squared_error: 8.7606e-04 - val_root_mean_squared_error: 0.0296\n",
            "Epoch 18/60\n",
            "1231/1231 [==============================] - 3s 2ms/sample - loss: 0.0034 - mean_squared_error: 0.0034 - root_mean_squared_error: 0.0587 - val_loss: 6.9195e-04 - val_mean_squared_error: 6.9195e-04 - val_root_mean_squared_error: 0.0263\n",
            "Epoch 19/60\n",
            "1231/1231 [==============================] - 3s 2ms/sample - loss: 0.0037 - mean_squared_error: 0.0037 - root_mean_squared_error: 0.0607 - val_loss: 0.0013 - val_mean_squared_error: 0.0013 - val_root_mean_squared_error: 0.0361\n",
            "Epoch 20/60\n",
            "1231/1231 [==============================] - 4s 3ms/sample - loss: 0.0034 - mean_squared_error: 0.0034 - root_mean_squared_error: 0.0582 - val_loss: 6.7381e-04 - val_mean_squared_error: 6.7381e-04 - val_root_mean_squared_error: 0.0260\n",
            "Epoch 21/60\n",
            "1231/1231 [==============================] - 3s 3ms/sample - loss: 0.0033 - mean_squared_error: 0.0033 - root_mean_squared_error: 0.0575 - val_loss: 6.1372e-04 - val_mean_squared_error: 6.1372e-04 - val_root_mean_squared_error: 0.0248\n",
            "Epoch 22/60\n",
            "1231/1231 [==============================] - 3s 2ms/sample - loss: 0.0035 - mean_squared_error: 0.0035 - root_mean_squared_error: 0.0590 - val_loss: 8.3609e-04 - val_mean_squared_error: 8.3609e-04 - val_root_mean_squared_error: 0.0289\n",
            "Epoch 23/60\n",
            "1231/1231 [==============================] - 3s 2ms/sample - loss: 0.0031 - mean_squared_error: 0.0031 - root_mean_squared_error: 0.0554 - val_loss: 6.9762e-04 - val_mean_squared_error: 6.9762e-04 - val_root_mean_squared_error: 0.0264\n",
            "Epoch 24/60\n",
            "1231/1231 [==============================] - 3s 3ms/sample - loss: 0.0026 - mean_squared_error: 0.0026 - root_mean_squared_error: 0.0506 - val_loss: 5.8728e-04 - val_mean_squared_error: 5.8728e-04 - val_root_mean_squared_error: 0.0242\n",
            "Epoch 25/60\n",
            "1231/1231 [==============================] - 4s 3ms/sample - loss: 0.0027 - mean_squared_error: 0.0027 - root_mean_squared_error: 0.0519 - val_loss: 6.1572e-04 - val_mean_squared_error: 6.1572e-04 - val_root_mean_squared_error: 0.0248\n",
            "Epoch 26/60\n",
            "1231/1231 [==============================] - 3s 2ms/sample - loss: 0.0030 - mean_squared_error: 0.0030 - root_mean_squared_error: 0.0548 - val_loss: 5.7489e-04 - val_mean_squared_error: 5.7489e-04 - val_root_mean_squared_error: 0.0240\n",
            "Epoch 27/60\n",
            "1231/1231 [==============================] - 3s 2ms/sample - loss: 0.0029 - mean_squared_error: 0.0029 - root_mean_squared_error: 0.0537 - val_loss: 5.6440e-04 - val_mean_squared_error: 5.6440e-04 - val_root_mean_squared_error: 0.0238\n",
            "Epoch 28/60\n",
            "1231/1231 [==============================] - 3s 2ms/sample - loss: 0.0025 - mean_squared_error: 0.0025 - root_mean_squared_error: 0.0499 - val_loss: 5.4105e-04 - val_mean_squared_error: 5.4105e-04 - val_root_mean_squared_error: 0.0233\n",
            "Epoch 29/60\n",
            "1231/1231 [==============================] - 4s 3ms/sample - loss: 0.0028 - mean_squared_error: 0.0028 - root_mean_squared_error: 0.0529 - val_loss: 5.1940e-04 - val_mean_squared_error: 5.1940e-04 - val_root_mean_squared_error: 0.0228\n",
            "Epoch 30/60\n",
            "1231/1231 [==============================] - 3s 3ms/sample - loss: 0.0030 - mean_squared_error: 0.0030 - root_mean_squared_error: 0.0548 - val_loss: 5.9662e-04 - val_mean_squared_error: 5.9662e-04 - val_root_mean_squared_error: 0.0244\n",
            "Epoch 31/60\n",
            "1231/1231 [==============================] - 3s 2ms/sample - loss: 0.0027 - mean_squared_error: 0.0027 - root_mean_squared_error: 0.0517 - val_loss: 6.6931e-04 - val_mean_squared_error: 6.6931e-04 - val_root_mean_squared_error: 0.0259\n",
            "Epoch 32/60\n",
            "1231/1231 [==============================] - 3s 2ms/sample - loss: 0.0035 - mean_squared_error: 0.0035 - root_mean_squared_error: 0.0588 - val_loss: 7.4635e-04 - val_mean_squared_error: 7.4635e-04 - val_root_mean_squared_error: 0.0273\n",
            "Epoch 33/60\n",
            "1231/1231 [==============================] - 4s 3ms/sample - loss: 0.0026 - mean_squared_error: 0.0026 - root_mean_squared_error: 0.0514 - val_loss: 4.8266e-04 - val_mean_squared_error: 4.8266e-04 - val_root_mean_squared_error: 0.0220\n",
            "Epoch 34/60\n",
            "1231/1231 [==============================] - 3s 2ms/sample - loss: 0.0025 - mean_squared_error: 0.0025 - root_mean_squared_error: 0.0498 - val_loss: 4.9495e-04 - val_mean_squared_error: 4.9495e-04 - val_root_mean_squared_error: 0.0222\n",
            "Epoch 35/60\n",
            "1231/1231 [==============================] - 3s 2ms/sample - loss: 0.0025 - mean_squared_error: 0.0025 - root_mean_squared_error: 0.0500 - val_loss: 5.8465e-04 - val_mean_squared_error: 5.8465e-04 - val_root_mean_squared_error: 0.0242\n",
            "Epoch 36/60\n",
            "1231/1231 [==============================] - 3s 2ms/sample - loss: 0.0024 - mean_squared_error: 0.0024 - root_mean_squared_error: 0.0494 - val_loss: 5.0130e-04 - val_mean_squared_error: 5.0130e-04 - val_root_mean_squared_error: 0.0224\n",
            "Epoch 37/60\n",
            "1231/1231 [==============================] - 3s 3ms/sample - loss: 0.0025 - mean_squared_error: 0.0025 - root_mean_squared_error: 0.0501 - val_loss: 4.5972e-04 - val_mean_squared_error: 4.5972e-04 - val_root_mean_squared_error: 0.0214\n",
            "Epoch 38/60\n",
            "1231/1231 [==============================] - 4s 3ms/sample - loss: 0.0022 - mean_squared_error: 0.0022 - root_mean_squared_error: 0.0464 - val_loss: 4.3089e-04 - val_mean_squared_error: 4.3089e-04 - val_root_mean_squared_error: 0.0208\n",
            "Epoch 39/60\n",
            "1231/1231 [==============================] - 3s 2ms/sample - loss: 0.0027 - mean_squared_error: 0.0027 - root_mean_squared_error: 0.0516 - val_loss: 4.4637e-04 - val_mean_squared_error: 4.4637e-04 - val_root_mean_squared_error: 0.0211\n",
            "Epoch 40/60\n",
            "1231/1231 [==============================] - 3s 2ms/sample - loss: 0.0024 - mean_squared_error: 0.0024 - root_mean_squared_error: 0.0492 - val_loss: 6.2597e-04 - val_mean_squared_error: 6.2597e-04 - val_root_mean_squared_error: 0.0250\n",
            "Epoch 41/60\n",
            "1231/1231 [==============================] - 3s 2ms/sample - loss: 0.0024 - mean_squared_error: 0.0024 - root_mean_squared_error: 0.0489 - val_loss: 7.3306e-04 - val_mean_squared_error: 7.3306e-04 - val_root_mean_squared_error: 0.0271\n",
            "Epoch 42/60\n",
            "1231/1231 [==============================] - 4s 3ms/sample - loss: 0.0023 - mean_squared_error: 0.0023 - root_mean_squared_error: 0.0476 - val_loss: 4.8781e-04 - val_mean_squared_error: 4.8781e-04 - val_root_mean_squared_error: 0.0221\n",
            "Epoch 43/60\n",
            "1231/1231 [==============================] - 3s 2ms/sample - loss: 0.0020 - mean_squared_error: 0.0020 - root_mean_squared_error: 0.0446 - val_loss: 5.6978e-04 - val_mean_squared_error: 5.6978e-04 - val_root_mean_squared_error: 0.0239\n",
            "Epoch 44/60\n",
            "1231/1231 [==============================] - 3s 2ms/sample - loss: 0.0019 - mean_squared_error: 0.0019 - root_mean_squared_error: 0.0433 - val_loss: 4.3288e-04 - val_mean_squared_error: 4.3288e-04 - val_root_mean_squared_error: 0.0208\n",
            "Epoch 45/60\n",
            "1231/1231 [==============================] - 3s 2ms/sample - loss: 0.0023 - mean_squared_error: 0.0023 - root_mean_squared_error: 0.0479 - val_loss: 4.3028e-04 - val_mean_squared_error: 4.3028e-04 - val_root_mean_squared_error: 0.0207\n",
            "Epoch 46/60\n",
            "1231/1231 [==============================] - 4s 3ms/sample - loss: 0.0022 - mean_squared_error: 0.0022 - root_mean_squared_error: 0.0472 - val_loss: 4.2380e-04 - val_mean_squared_error: 4.2380e-04 - val_root_mean_squared_error: 0.0206\n",
            "Epoch 47/60\n",
            "1231/1231 [==============================] - 3s 3ms/sample - loss: 0.0019 - mean_squared_error: 0.0019 - root_mean_squared_error: 0.0440 - val_loss: 4.9520e-04 - val_mean_squared_error: 4.9520e-04 - val_root_mean_squared_error: 0.0223\n",
            "Epoch 48/60\n",
            "1231/1231 [==============================] - 3s 2ms/sample - loss: 0.0022 - mean_squared_error: 0.0022 - root_mean_squared_error: 0.0473 - val_loss: 4.4875e-04 - val_mean_squared_error: 4.4875e-04 - val_root_mean_squared_error: 0.0212\n",
            "Epoch 49/60\n",
            "1231/1231 [==============================] - 3s 2ms/sample - loss: 0.0021 - mean_squared_error: 0.0021 - root_mean_squared_error: 0.0453 - val_loss: 3.8262e-04 - val_mean_squared_error: 3.8262e-04 - val_root_mean_squared_error: 0.0196\n",
            "Epoch 50/60\n",
            "1231/1231 [==============================] - 3s 3ms/sample - loss: 0.0019 - mean_squared_error: 0.0019 - root_mean_squared_error: 0.0438 - val_loss: 4.2166e-04 - val_mean_squared_error: 4.2166e-04 - val_root_mean_squared_error: 0.0205\n",
            "Epoch 51/60\n",
            "1231/1231 [==============================] - 4s 3ms/sample - loss: 0.0022 - mean_squared_error: 0.0022 - root_mean_squared_error: 0.0470 - val_loss: 4.2214e-04 - val_mean_squared_error: 4.2214e-04 - val_root_mean_squared_error: 0.0205\n",
            "Epoch 52/60\n",
            "1231/1231 [==============================] - 3s 2ms/sample - loss: 0.0019 - mean_squared_error: 0.0019 - root_mean_squared_error: 0.0437 - val_loss: 4.8550e-04 - val_mean_squared_error: 4.8550e-04 - val_root_mean_squared_error: 0.0220\n",
            "Epoch 53/60\n",
            "1231/1231 [==============================] - 3s 2ms/sample - loss: 0.0021 - mean_squared_error: 0.0021 - root_mean_squared_error: 0.0459 - val_loss: 3.6279e-04 - val_mean_squared_error: 3.6279e-04 - val_root_mean_squared_error: 0.0190\n",
            "Epoch 54/60\n",
            "1231/1231 [==============================] - 3s 2ms/sample - loss: 0.0018 - mean_squared_error: 0.0018 - root_mean_squared_error: 0.0425 - val_loss: 3.5623e-04 - val_mean_squared_error: 3.5623e-04 - val_root_mean_squared_error: 0.0189\n",
            "Epoch 55/60\n",
            "1231/1231 [==============================] - 4s 3ms/sample - loss: 0.0018 - mean_squared_error: 0.0018 - root_mean_squared_error: 0.0422 - val_loss: 3.3531e-04 - val_mean_squared_error: 3.3531e-04 - val_root_mean_squared_error: 0.0183\n",
            "Epoch 56/60\n",
            "1231/1231 [==============================] - 3s 2ms/sample - loss: 0.0020 - mean_squared_error: 0.0020 - root_mean_squared_error: 0.0442 - val_loss: 3.1117e-04 - val_mean_squared_error: 3.1117e-04 - val_root_mean_squared_error: 0.0176\n",
            "Epoch 57/60\n",
            "1231/1231 [==============================] - 3s 2ms/sample - loss: 0.0018 - mean_squared_error: 0.0018 - root_mean_squared_error: 0.0425 - val_loss: 3.3654e-04 - val_mean_squared_error: 3.3654e-04 - val_root_mean_squared_error: 0.0183\n",
            "Epoch 58/60\n",
            "1231/1231 [==============================] - 3s 2ms/sample - loss: 0.0021 - mean_squared_error: 0.0021 - root_mean_squared_error: 0.0460 - val_loss: 3.4989e-04 - val_mean_squared_error: 3.4989e-04 - val_root_mean_squared_error: 0.0187\n",
            "Epoch 59/60\n",
            "1231/1231 [==============================] - 4s 3ms/sample - loss: 0.0019 - mean_squared_error: 0.0019 - root_mean_squared_error: 0.0432 - val_loss: 3.0803e-04 - val_mean_squared_error: 3.0803e-04 - val_root_mean_squared_error: 0.0176\n",
            "Epoch 60/60\n",
            "1231/1231 [==============================] - 3s 3ms/sample - loss: 0.0018 - mean_squared_error: 0.0018 - root_mean_squared_error: 0.0426 - val_loss: 2.9054e-04 - val_mean_squared_error: 2.9054e-04 - val_root_mean_squared_error: 0.0170\n"
          ]
        },
        {
          "metadata": {
            "tags": null
          },
          "name": "stderr",
          "output_type": "stream",
          "text": [
            "/usr/local/lib/python3.10/dist-packages/keras/src/engine/training_v1.py:2359: UserWarning: `Model.state_updates` will be removed in a future version. This property should not be used in TensorFlow 2.0, as `updates` are applied automatically.\n",
            "  updates=self.state_updates,\n"
          ]
        },
        {
          "metadata": {
            "tags": null
          },
          "name": "stdout",
          "output_type": "stream",
          "text": [
            "     Adj Close        Volume\n",
            "0  6378.849121  1.941988e+10\n",
            "1  7204.771484  2.886756e+10\n",
            "2  6972.371582  2.777333e+10\n",
            "3  7814.915039  2.867767e+10\n",
            "4  7994.416016  3.203145e+10\n",
            "Train on 1211 samples, validate on 183 samples\n",
            "Epoch 1/60\n",
            "1211/1211 [==============================] - ETA: 0s - loss: 0.0328 - mean_squared_error: 0.0328 - root_mean_squared_error: 0.1811"
          ]
        },
        {
          "metadata": {
            "tags": null
          },
          "name": "stderr",
          "output_type": "stream",
          "text": [
            "/usr/local/lib/python3.10/dist-packages/keras/src/engine/training_v1.py:2335: UserWarning: `Model.state_updates` will be removed in a future version. This property should not be used in TensorFlow 2.0, as `updates` are applied automatically.\n",
            "  updates = self.state_updates\n"
          ]
        },
        {
          "output_type": "stream",
          "name": "stdout",
          "text": [
            "1211/1211 [==============================] - 7s 6ms/sample - loss: 0.0328 - mean_squared_error: 0.0328 - root_mean_squared_error: 0.1811 - val_loss: 0.0018 - val_mean_squared_error: 0.0018 - val_root_mean_squared_error: 0.0418\n",
            "Epoch 2/60\n",
            "1211/1211 [==============================] - 4s 3ms/sample - loss: 0.0069 - mean_squared_error: 0.0069 - root_mean_squared_error: 0.0830 - val_loss: 0.0015 - val_mean_squared_error: 0.0015 - val_root_mean_squared_error: 0.0384\n",
            "Epoch 3/60\n",
            "1211/1211 [==============================] - 4s 3ms/sample - loss: 0.0056 - mean_squared_error: 0.0056 - root_mean_squared_error: 0.0746 - val_loss: 0.0012 - val_mean_squared_error: 0.0012 - val_root_mean_squared_error: 0.0344\n",
            "Epoch 4/60\n",
            "1211/1211 [==============================] - 6s 5ms/sample - loss: 0.0053 - mean_squared_error: 0.0053 - root_mean_squared_error: 0.0725 - val_loss: 0.0014 - val_mean_squared_error: 0.0014 - val_root_mean_squared_error: 0.0371\n",
            "Epoch 5/60\n",
            "1211/1211 [==============================] - 4s 3ms/sample - loss: 0.0055 - mean_squared_error: 0.0055 - root_mean_squared_error: 0.0741 - val_loss: 0.0013 - val_mean_squared_error: 0.0013 - val_root_mean_squared_error: 0.0354\n",
            "Epoch 6/60\n",
            "1211/1211 [==============================] - 4s 3ms/sample - loss: 0.0071 - mean_squared_error: 0.0071 - root_mean_squared_error: 0.0842 - val_loss: 0.0037 - val_mean_squared_error: 0.0037 - val_root_mean_squared_error: 0.0612\n",
            "Epoch 7/60\n",
            "1211/1211 [==============================] - 5s 4ms/sample - loss: 0.0048 - mean_squared_error: 0.0048 - root_mean_squared_error: 0.0692 - val_loss: 9.9282e-04 - val_mean_squared_error: 9.9282e-04 - val_root_mean_squared_error: 0.0315\n",
            "Epoch 8/60\n",
            "1211/1211 [==============================] - 4s 3ms/sample - loss: 0.0048 - mean_squared_error: 0.0048 - root_mean_squared_error: 0.0692 - val_loss: 0.0014 - val_mean_squared_error: 0.0014 - val_root_mean_squared_error: 0.0377\n",
            "Epoch 9/60\n",
            "1211/1211 [==============================] - 4s 3ms/sample - loss: 0.0044 - mean_squared_error: 0.0044 - root_mean_squared_error: 0.0664 - val_loss: 0.0010 - val_mean_squared_error: 0.0010 - val_root_mean_squared_error: 0.0320\n",
            "Epoch 10/60\n",
            "1211/1211 [==============================] - 5s 4ms/sample - loss: 0.0048 - mean_squared_error: 0.0048 - root_mean_squared_error: 0.0690 - val_loss: 9.6154e-04 - val_mean_squared_error: 9.6154e-04 - val_root_mean_squared_error: 0.0310\n",
            "Epoch 11/60\n",
            "1211/1211 [==============================] - 4s 3ms/sample - loss: 0.0047 - mean_squared_error: 0.0047 - root_mean_squared_error: 0.0684 - val_loss: 0.0013 - val_mean_squared_error: 0.0013 - val_root_mean_squared_error: 0.0358\n",
            "Epoch 12/60\n",
            "1211/1211 [==============================] - 4s 3ms/sample - loss: 0.0038 - mean_squared_error: 0.0038 - root_mean_squared_error: 0.0613 - val_loss: 9.8662e-04 - val_mean_squared_error: 9.8662e-04 - val_root_mean_squared_error: 0.0314\n",
            "Epoch 13/60\n",
            "1211/1211 [==============================] - 5s 4ms/sample - loss: 0.0032 - mean_squared_error: 0.0032 - root_mean_squared_error: 0.0564 - val_loss: 8.2782e-04 - val_mean_squared_error: 8.2782e-04 - val_root_mean_squared_error: 0.0288\n",
            "Epoch 14/60\n",
            "1211/1211 [==============================] - 4s 4ms/sample - loss: 0.0040 - mean_squared_error: 0.0040 - root_mean_squared_error: 0.0635 - val_loss: 0.0018 - val_mean_squared_error: 0.0018 - val_root_mean_squared_error: 0.0420\n",
            "Epoch 15/60\n",
            "1211/1211 [==============================] - 4s 3ms/sample - loss: 0.0036 - mean_squared_error: 0.0036 - root_mean_squared_error: 0.0601 - val_loss: 7.8017e-04 - val_mean_squared_error: 7.8017e-04 - val_root_mean_squared_error: 0.0279\n",
            "Epoch 16/60\n",
            "1211/1211 [==============================] - 5s 4ms/sample - loss: 0.0033 - mean_squared_error: 0.0033 - root_mean_squared_error: 0.0570 - val_loss: 0.0012 - val_mean_squared_error: 0.0012 - val_root_mean_squared_error: 0.0351\n",
            "Epoch 17/60\n",
            "1211/1211 [==============================] - 5s 4ms/sample - loss: 0.0033 - mean_squared_error: 0.0033 - root_mean_squared_error: 0.0578 - val_loss: 8.6913e-04 - val_mean_squared_error: 8.6913e-04 - val_root_mean_squared_error: 0.0295\n",
            "Epoch 18/60\n",
            "1211/1211 [==============================] - 4s 3ms/sample - loss: 0.0034 - mean_squared_error: 0.0034 - root_mean_squared_error: 0.0584 - val_loss: 8.0379e-04 - val_mean_squared_error: 8.0379e-04 - val_root_mean_squared_error: 0.0284\n",
            "Epoch 19/60\n",
            "1211/1211 [==============================] - 4s 4ms/sample - loss: 0.0032 - mean_squared_error: 0.0032 - root_mean_squared_error: 0.0567 - val_loss: 6.7880e-04 - val_mean_squared_error: 6.7880e-04 - val_root_mean_squared_error: 0.0261\n",
            "Epoch 20/60\n",
            "1211/1211 [==============================] - 5s 4ms/sample - loss: 0.0032 - mean_squared_error: 0.0032 - root_mean_squared_error: 0.0565 - val_loss: 6.5729e-04 - val_mean_squared_error: 6.5729e-04 - val_root_mean_squared_error: 0.0256\n",
            "Epoch 21/60\n",
            "1211/1211 [==============================] - 4s 4ms/sample - loss: 0.0032 - mean_squared_error: 0.0032 - root_mean_squared_error: 0.0570 - val_loss: 6.5832e-04 - val_mean_squared_error: 6.5832e-04 - val_root_mean_squared_error: 0.0257\n",
            "Epoch 22/60\n",
            "1211/1211 [==============================] - 5s 4ms/sample - loss: 0.0032 - mean_squared_error: 0.0032 - root_mean_squared_error: 0.0567 - val_loss: 6.5722e-04 - val_mean_squared_error: 6.5722e-04 - val_root_mean_squared_error: 0.0256\n",
            "Epoch 23/60\n",
            "1211/1211 [==============================] - 5s 4ms/sample - loss: 0.0027 - mean_squared_error: 0.0027 - root_mean_squared_error: 0.0521 - val_loss: 6.1437e-04 - val_mean_squared_error: 6.1437e-04 - val_root_mean_squared_error: 0.0248\n",
            "Epoch 24/60\n",
            "1211/1211 [==============================] - 4s 3ms/sample - loss: 0.0028 - mean_squared_error: 0.0028 - root_mean_squared_error: 0.0529 - val_loss: 8.6442e-04 - val_mean_squared_error: 8.6442e-04 - val_root_mean_squared_error: 0.0294\n",
            "Epoch 25/60\n",
            "1211/1211 [==============================] - 4s 4ms/sample - loss: 0.0027 - mean_squared_error: 0.0027 - root_mean_squared_error: 0.0517 - val_loss: 8.6050e-04 - val_mean_squared_error: 8.6050e-04 - val_root_mean_squared_error: 0.0293\n",
            "Epoch 26/60\n",
            "1211/1211 [==============================] - 5s 4ms/sample - loss: 0.0034 - mean_squared_error: 0.0034 - root_mean_squared_error: 0.0585 - val_loss: 7.7403e-04 - val_mean_squared_error: 7.7403e-04 - val_root_mean_squared_error: 0.0278\n",
            "Epoch 27/60\n",
            "1211/1211 [==============================] - 4s 3ms/sample - loss: 0.0029 - mean_squared_error: 0.0029 - root_mean_squared_error: 0.0538 - val_loss: 5.0133e-04 - val_mean_squared_error: 5.0133e-04 - val_root_mean_squared_error: 0.0224\n",
            "Epoch 28/60\n",
            "1211/1211 [==============================] - 4s 3ms/sample - loss: 0.0026 - mean_squared_error: 0.0026 - root_mean_squared_error: 0.0514 - val_loss: 7.5836e-04 - val_mean_squared_error: 7.5836e-04 - val_root_mean_squared_error: 0.0275\n",
            "Epoch 29/60\n",
            "1211/1211 [==============================] - 5s 4ms/sample - loss: 0.0027 - mean_squared_error: 0.0027 - root_mean_squared_error: 0.0523 - val_loss: 5.9194e-04 - val_mean_squared_error: 5.9194e-04 - val_root_mean_squared_error: 0.0243\n",
            "Epoch 30/60\n",
            "1211/1211 [==============================] - 4s 3ms/sample - loss: 0.0024 - mean_squared_error: 0.0024 - root_mean_squared_error: 0.0494 - val_loss: 6.5988e-04 - val_mean_squared_error: 6.5988e-04 - val_root_mean_squared_error: 0.0257\n",
            "Epoch 31/60\n",
            "1211/1211 [==============================] - 4s 3ms/sample - loss: 0.0027 - mean_squared_error: 0.0027 - root_mean_squared_error: 0.0520 - val_loss: 7.9420e-04 - val_mean_squared_error: 7.9420e-04 - val_root_mean_squared_error: 0.0282\n",
            "Epoch 32/60\n",
            "1211/1211 [==============================] - 6s 5ms/sample - loss: 0.0025 - mean_squared_error: 0.0025 - root_mean_squared_error: 0.0501 - val_loss: 7.5796e-04 - val_mean_squared_error: 7.5796e-04 - val_root_mean_squared_error: 0.0275\n",
            "Epoch 33/60\n",
            "1211/1211 [==============================] - 4s 3ms/sample - loss: 0.0025 - mean_squared_error: 0.0025 - root_mean_squared_error: 0.0498 - val_loss: 6.4300e-04 - val_mean_squared_error: 6.4300e-04 - val_root_mean_squared_error: 0.0254\n",
            "Epoch 34/60\n",
            "1211/1211 [==============================] - 4s 3ms/sample - loss: 0.0023 - mean_squared_error: 0.0023 - root_mean_squared_error: 0.0483 - val_loss: 5.0163e-04 - val_mean_squared_error: 5.0163e-04 - val_root_mean_squared_error: 0.0224\n",
            "Epoch 35/60\n",
            "1211/1211 [==============================] - 5s 4ms/sample - loss: 0.0022 - mean_squared_error: 0.0022 - root_mean_squared_error: 0.0474 - val_loss: 4.6182e-04 - val_mean_squared_error: 4.6182e-04 - val_root_mean_squared_error: 0.0215\n",
            "Epoch 36/60\n",
            "1211/1211 [==============================] - 4s 3ms/sample - loss: 0.0022 - mean_squared_error: 0.0022 - root_mean_squared_error: 0.0464 - val_loss: 8.2698e-04 - val_mean_squared_error: 8.2698e-04 - val_root_mean_squared_error: 0.0288\n",
            "Epoch 37/60\n",
            "1211/1211 [==============================] - 4s 3ms/sample - loss: 0.0025 - mean_squared_error: 0.0025 - root_mean_squared_error: 0.0499 - val_loss: 4.9069e-04 - val_mean_squared_error: 4.9069e-04 - val_root_mean_squared_error: 0.0222\n",
            "Epoch 38/60\n",
            "1211/1211 [==============================] - 5s 4ms/sample - loss: 0.0022 - mean_squared_error: 0.0022 - root_mean_squared_error: 0.0472 - val_loss: 6.1593e-04 - val_mean_squared_error: 6.1593e-04 - val_root_mean_squared_error: 0.0248\n",
            "Epoch 39/60\n",
            "1211/1211 [==============================] - 4s 3ms/sample - loss: 0.0021 - mean_squared_error: 0.0021 - root_mean_squared_error: 0.0455 - val_loss: 4.9460e-04 - val_mean_squared_error: 4.9460e-04 - val_root_mean_squared_error: 0.0222\n",
            "Epoch 40/60\n",
            "1211/1211 [==============================] - 4s 3ms/sample - loss: 0.0021 - mean_squared_error: 0.0021 - root_mean_squared_error: 0.0453 - val_loss: 6.8871e-04 - val_mean_squared_error: 6.8871e-04 - val_root_mean_squared_error: 0.0262\n",
            "Epoch 41/60\n",
            "1211/1211 [==============================] - 5s 5ms/sample - loss: 0.0023 - mean_squared_error: 0.0023 - root_mean_squared_error: 0.0477 - val_loss: 4.2518e-04 - val_mean_squared_error: 4.2518e-04 - val_root_mean_squared_error: 0.0206\n",
            "Epoch 42/60\n",
            "1211/1211 [==============================] - 4s 3ms/sample - loss: 0.0020 - mean_squared_error: 0.0020 - root_mean_squared_error: 0.0453 - val_loss: 4.0719e-04 - val_mean_squared_error: 4.0719e-04 - val_root_mean_squared_error: 0.0202\n",
            "Epoch 43/60\n",
            "1211/1211 [==============================] - 4s 3ms/sample - loss: 0.0021 - mean_squared_error: 0.0021 - root_mean_squared_error: 0.0461 - val_loss: 4.2311e-04 - val_mean_squared_error: 4.2311e-04 - val_root_mean_squared_error: 0.0206\n",
            "Epoch 44/60\n",
            "1211/1211 [==============================] - 5s 4ms/sample - loss: 0.0021 - mean_squared_error: 0.0021 - root_mean_squared_error: 0.0463 - val_loss: 4.6722e-04 - val_mean_squared_error: 4.6722e-04 - val_root_mean_squared_error: 0.0216\n",
            "Epoch 45/60\n",
            "1211/1211 [==============================] - 5s 4ms/sample - loss: 0.0024 - mean_squared_error: 0.0024 - root_mean_squared_error: 0.0486 - val_loss: 9.6695e-04 - val_mean_squared_error: 9.6695e-04 - val_root_mean_squared_error: 0.0311\n",
            "Epoch 46/60\n",
            "1211/1211 [==============================] - 4s 3ms/sample - loss: 0.0021 - mean_squared_error: 0.0021 - root_mean_squared_error: 0.0458 - val_loss: 6.5182e-04 - val_mean_squared_error: 6.5182e-04 - val_root_mean_squared_error: 0.0255\n",
            "Epoch 47/60\n",
            "1211/1211 [==============================] - 5s 4ms/sample - loss: 0.0025 - mean_squared_error: 0.0025 - root_mean_squared_error: 0.0504 - val_loss: 0.0020 - val_mean_squared_error: 0.0020 - val_root_mean_squared_error: 0.0443\n",
            "Epoch 48/60\n",
            "1211/1211 [==============================] - 4s 4ms/sample - loss: 0.0020 - mean_squared_error: 0.0020 - root_mean_squared_error: 0.0450 - val_loss: 4.6259e-04 - val_mean_squared_error: 4.6259e-04 - val_root_mean_squared_error: 0.0215\n",
            "Epoch 49/60\n",
            "1211/1211 [==============================] - 4s 3ms/sample - loss: 0.0020 - mean_squared_error: 0.0020 - root_mean_squared_error: 0.0450 - val_loss: 4.6674e-04 - val_mean_squared_error: 4.6674e-04 - val_root_mean_squared_error: 0.0216\n",
            "Epoch 50/60\n",
            "1211/1211 [==============================] - 5s 4ms/sample - loss: 0.0019 - mean_squared_error: 0.0019 - root_mean_squared_error: 0.0431 - val_loss: 3.7641e-04 - val_mean_squared_error: 3.7641e-04 - val_root_mean_squared_error: 0.0194\n",
            "Epoch 51/60\n",
            "1211/1211 [==============================] - 5s 4ms/sample - loss: 0.0018 - mean_squared_error: 0.0018 - root_mean_squared_error: 0.0422 - val_loss: 3.6976e-04 - val_mean_squared_error: 3.6976e-04 - val_root_mean_squared_error: 0.0192\n",
            "Epoch 52/60\n",
            "1211/1211 [==============================] - 4s 3ms/sample - loss: 0.0023 - mean_squared_error: 0.0023 - root_mean_squared_error: 0.0475 - val_loss: 9.0920e-04 - val_mean_squared_error: 9.0920e-04 - val_root_mean_squared_error: 0.0302\n",
            "Epoch 53/60\n",
            "1211/1211 [==============================] - 5s 4ms/sample - loss: 0.0019 - mean_squared_error: 0.0019 - root_mean_squared_error: 0.0431 - val_loss: 3.8304e-04 - val_mean_squared_error: 3.8304e-04 - val_root_mean_squared_error: 0.0196\n",
            "Epoch 54/60\n",
            "1211/1211 [==============================] - 5s 4ms/sample - loss: 0.0017 - mean_squared_error: 0.0017 - root_mean_squared_error: 0.0416 - val_loss: 3.7770e-04 - val_mean_squared_error: 3.7770e-04 - val_root_mean_squared_error: 0.0194\n",
            "Epoch 55/60\n",
            "1211/1211 [==============================] - 4s 3ms/sample - loss: 0.0019 - mean_squared_error: 0.0019 - root_mean_squared_error: 0.0436 - val_loss: 5.6050e-04 - val_mean_squared_error: 5.6050e-04 - val_root_mean_squared_error: 0.0237\n",
            "Epoch 56/60\n",
            "1211/1211 [==============================] - 4s 4ms/sample - loss: 0.0022 - mean_squared_error: 0.0022 - root_mean_squared_error: 0.0470 - val_loss: 5.1016e-04 - val_mean_squared_error: 5.1016e-04 - val_root_mean_squared_error: 0.0226\n",
            "Epoch 57/60\n",
            "1211/1211 [==============================] - 5s 4ms/sample - loss: 0.0019 - mean_squared_error: 0.0019 - root_mean_squared_error: 0.0440 - val_loss: 6.2291e-04 - val_mean_squared_error: 6.2291e-04 - val_root_mean_squared_error: 0.0250\n",
            "Epoch 58/60\n",
            "1211/1211 [==============================] - 4s 3ms/sample - loss: 0.0017 - mean_squared_error: 0.0017 - root_mean_squared_error: 0.0417 - val_loss: 4.1334e-04 - val_mean_squared_error: 4.1334e-04 - val_root_mean_squared_error: 0.0203\n",
            "Epoch 59/60\n",
            "1211/1211 [==============================] - 4s 3ms/sample - loss: 0.0018 - mean_squared_error: 0.0018 - root_mean_squared_error: 0.0421 - val_loss: 4.3154e-04 - val_mean_squared_error: 4.3154e-04 - val_root_mean_squared_error: 0.0208\n",
            "Epoch 60/60\n",
            "1211/1211 [==============================] - 5s 4ms/sample - loss: 0.0019 - mean_squared_error: 0.0019 - root_mean_squared_error: 0.0435 - val_loss: 0.0010 - val_mean_squared_error: 0.0010 - val_root_mean_squared_error: 0.0322\n"
          ]
        },
        {
          "output_type": "stream",
          "name": "stderr",
          "text": [
            "/usr/local/lib/python3.10/dist-packages/keras/src/engine/training_v1.py:2359: UserWarning: `Model.state_updates` will be removed in a future version. This property should not be used in TensorFlow 2.0, as `updates` are applied automatically.\n",
            "  updates=self.state_updates,\n"
          ]
        },
        {
          "output_type": "stream",
          "name": "stdout",
          "text": [
            "{(('Adj Close',), 20, 60): [0.0009252307936549187, 0.00092523085, 0.030417608], (('Adj Close',), 40, 60): [0.0007322159643373351, 0.000732216, 0.02705949], (('Adj Close',), 60, 60): [0.0011924540598356114, 0.0011924541, 0.03453193], (('Adj Close', 'Volume'), 20, 60): [0.0011527014311821181, 0.0011527014, 0.033951458], (('Adj Close', 'Volume'), 40, 60): [0.0008616375262733467, 0.0008616376, 0.029353663], (('Adj Close', 'Volume'), 60, 60): [0.0013223496535206287, 0.0013223496, 0.036364127]}\n"
          ]
        }
      ]
    },
    {
      "cell_type": "code",
      "source": [
        "history_dict"
      ],
      "metadata": {
        "colab": {
          "base_uri": "https://localhost:8080/"
        },
        "id": "kNUzGqFph-82",
        "outputId": "e3a2d831-da6c-47a3-abdc-3f1f7b93e2f5"
      },
      "id": "kNUzGqFph-82",
      "execution_count": 59,
      "outputs": [
        {
          "output_type": "execute_result",
          "data": {
            "text/plain": [
              "{(('Adj Close',), 20, 60): [0.0009252307936549187, 0.00092523085, 0.030417608],\n",
              " (('Adj Close',), 40, 60): [0.0007322159643373351, 0.000732216, 0.02705949],\n",
              " (('Adj Close',), 60, 60): [0.0011924540598356114, 0.0011924541, 0.03453193],\n",
              " (('Adj Close', 'Volume'), 20, 60): [0.0011527014311821181,\n",
              "  0.0011527014,\n",
              "  0.033951458],\n",
              " (('Adj Close', 'Volume'), 40, 60): [0.0008616375262733467,\n",
              "  0.0008616376,\n",
              "  0.029353663],\n",
              " (('Adj Close', 'Volume'), 60, 60): [0.0013223496535206287,\n",
              "  0.0013223496,\n",
              "  0.036364127]}"
            ]
          },
          "metadata": {},
          "execution_count": 59
        }
      ]
    },
    {
      "cell_type": "code",
      "source": [],
      "metadata": {
        "id": "gCkraJsdnLHt"
      },
      "id": "gCkraJsdnLHt",
      "execution_count": null,
      "outputs": []
    }
  ],
  "metadata": {
    "colab": {
      "provenance": []
    },
    "kernelspec": {
      "display_name": "Python 3",
      "language": "python",
      "name": "python3"
    },
    "language_info": {
      "codemirror_mode": {
        "name": "ipython",
        "version": 2
      },
      "file_extension": ".py",
      "mimetype": "text/x-python",
      "name": "python",
      "nbconvert_exporter": "python",
      "pygments_lexer": "ipython2",
      "version": "2.7.6"
    }
  },
  "nbformat": 4,
  "nbformat_minor": 5
}