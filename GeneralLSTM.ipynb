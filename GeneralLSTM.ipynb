{
  "cells": [
    {
      "cell_type": "markdown",
      "id": "3c684607075e87ba",
      "metadata": {
        "collapsed": false,
        "id": "3c684607075e87ba"
      },
      "source": [
        "## General LSTM Model\n",
        "\n",
        "This model use multiple features: price, trading volume, and TVL to predict coin prices"
      ]
    },
    {
      "cell_type": "code",
      "source": [
        "!pip install shap"
      ],
      "metadata": {
        "colab": {
          "base_uri": "https://localhost:8080/"
        },
        "id": "tboXfGdzDdhf",
        "outputId": "9ad0ec4e-6d71-4695-f9e8-fa4e2895bc58"
      },
      "id": "tboXfGdzDdhf",
      "execution_count": 1,
      "outputs": [
        {
          "output_type": "stream",
          "name": "stdout",
          "text": [
            "Collecting shap\n",
            "  Downloading shap-0.45.1-cp310-cp310-manylinux_2_12_x86_64.manylinux2010_x86_64.manylinux_2_17_x86_64.manylinux2014_x86_64.whl (540 kB)\n",
            "\u001b[?25l     \u001b[90m━━━━━━━━━━━━━━━━━━━━━━━━━━━━━━━━━━━━━━━━\u001b[0m \u001b[32m0.0/540.5 kB\u001b[0m \u001b[31m?\u001b[0m eta \u001b[36m-:--:--\u001b[0m\r\u001b[2K     \u001b[91m━━━━━━━━━━━\u001b[0m\u001b[90m╺\u001b[0m\u001b[90m━━━━━━━━━━━━━━━━━━━━━━━━━━━━\u001b[0m \u001b[32m153.6/540.5 kB\u001b[0m \u001b[31m4.4 MB/s\u001b[0m eta \u001b[36m0:00:01\u001b[0m\r\u001b[2K     \u001b[91m━━━━━━━━━━━━━━━━━━━━━━━━━━━━━━━━━\u001b[0m\u001b[90m╺\u001b[0m\u001b[90m━━━━━━\u001b[0m \u001b[32m450.6/540.5 kB\u001b[0m \u001b[31m6.6 MB/s\u001b[0m eta \u001b[36m0:00:01\u001b[0m\r\u001b[2K     \u001b[90m━━━━━━━━━━━━━━━━━━━━━━━━━━━━━━━━━━━━━━━━\u001b[0m \u001b[32m540.5/540.5 kB\u001b[0m \u001b[31m6.0 MB/s\u001b[0m eta \u001b[36m0:00:00\u001b[0m\n",
            "\u001b[?25hRequirement already satisfied: numpy in /usr/local/lib/python3.10/dist-packages (from shap) (1.25.2)\n",
            "Requirement already satisfied: scipy in /usr/local/lib/python3.10/dist-packages (from shap) (1.11.4)\n",
            "Requirement already satisfied: scikit-learn in /usr/local/lib/python3.10/dist-packages (from shap) (1.2.2)\n",
            "Requirement already satisfied: pandas in /usr/local/lib/python3.10/dist-packages (from shap) (2.0.3)\n",
            "Requirement already satisfied: tqdm>=4.27.0 in /usr/local/lib/python3.10/dist-packages (from shap) (4.66.4)\n",
            "Requirement already satisfied: packaging>20.9 in /usr/local/lib/python3.10/dist-packages (from shap) (24.0)\n",
            "Collecting slicer==0.0.8 (from shap)\n",
            "  Downloading slicer-0.0.8-py3-none-any.whl (15 kB)\n",
            "Requirement already satisfied: numba in /usr/local/lib/python3.10/dist-packages (from shap) (0.58.1)\n",
            "Requirement already satisfied: cloudpickle in /usr/local/lib/python3.10/dist-packages (from shap) (2.2.1)\n",
            "Requirement already satisfied: llvmlite<0.42,>=0.41.0dev0 in /usr/local/lib/python3.10/dist-packages (from numba->shap) (0.41.1)\n",
            "Requirement already satisfied: python-dateutil>=2.8.2 in /usr/local/lib/python3.10/dist-packages (from pandas->shap) (2.8.2)\n",
            "Requirement already satisfied: pytz>=2020.1 in /usr/local/lib/python3.10/dist-packages (from pandas->shap) (2023.4)\n",
            "Requirement already satisfied: tzdata>=2022.1 in /usr/local/lib/python3.10/dist-packages (from pandas->shap) (2024.1)\n",
            "Requirement already satisfied: joblib>=1.1.1 in /usr/local/lib/python3.10/dist-packages (from scikit-learn->shap) (1.4.2)\n",
            "Requirement already satisfied: threadpoolctl>=2.0.0 in /usr/local/lib/python3.10/dist-packages (from scikit-learn->shap) (3.5.0)\n",
            "Requirement already satisfied: six>=1.5 in /usr/local/lib/python3.10/dist-packages (from python-dateutil>=2.8.2->pandas->shap) (1.16.0)\n",
            "Installing collected packages: slicer, shap\n",
            "Successfully installed shap-0.45.1 slicer-0.0.8\n"
          ]
        }
      ]
    },
    {
      "cell_type": "code",
      "execution_count": 2,
      "id": "initial_id",
      "metadata": {
        "collapsed": true,
        "id": "initial_id",
        "colab": {
          "base_uri": "https://localhost:8080/"
        },
        "outputId": "0cb381b1-55bd-4bcc-833a-a4573bae163a"
      },
      "outputs": [
        {
          "output_type": "stream",
          "name": "stderr",
          "text": [
            "WARNING:tensorflow:From /usr/local/lib/python3.10/dist-packages/tensorflow/python/compat/v2_compat.py:108: disable_resource_variables (from tensorflow.python.ops.variable_scope) is deprecated and will be removed in a future version.\n",
            "Instructions for updating:\n",
            "non-resource variables are not supported in the long term\n"
          ]
        }
      ],
      "source": [
        "# Import needed libraries\n",
        "import numpy as np\n",
        "import pandas as pd\n",
        "import matplotlib.pyplot as plt\n",
        "import matplotlib.dates as dates\n",
        "from sklearn.preprocessing import MinMaxScaler\n",
        "from tensorflow import keras\n",
        "import tensorflow as tf\n",
        "tf.compat.v1.disable_v2_behavior()\n",
        "import shap"
      ]
    },
    {
      "cell_type": "markdown",
      "id": "1a3169948d4b8a4",
      "metadata": {
        "collapsed": false,
        "id": "1a3169948d4b8a4"
      },
      "source": [
        "### Import the data"
      ]
    },
    {
      "cell_type": "code",
      "execution_count": 3,
      "id": "2cc5427bfa37b40a",
      "metadata": {
        "id": "2cc5427bfa37b40a"
      },
      "outputs": [],
      "source": [
        "# Read the data based on coin\n",
        "def read_data(coin):\n",
        "    # Read csv\n",
        "    df = pd.read_csv(\"data/\" + coin + \".csv\")\n",
        "\n",
        "    # Covert to datetime\n",
        "    df[\"Date\"] = pd.to_datetime(df[\"Date\"])\n",
        "    return df"
      ]
    },
    {
      "cell_type": "markdown",
      "id": "991b9dda896ea936",
      "metadata": {
        "collapsed": false,
        "id": "991b9dda896ea936"
      },
      "source": [
        "### Prepare data"
      ]
    },
    {
      "cell_type": "code",
      "execution_count": 4,
      "id": "a30a8e1ee2ce0a20",
      "metadata": {
        "id": "a30a8e1ee2ce0a20"
      },
      "outputs": [],
      "source": [
        "def train_test_val(df, date_train, date_validation, features):\n",
        "    # Split data into training, validation and test sets\n",
        "    training_data = df[(df['Date'] <= date_train)][features]\n",
        "    validation_data = df[(df['Date'] > date_train) & (df['Date'] <= date_validation)][features]\n",
        "    test_data = df[(df['Date'] > date_validation)][features]\n",
        "\n",
        "    print(training_data.head())\n",
        "\n",
        "    # Reshape the data\n",
        "    training_set = training_data.to_numpy()\n",
        "    validation_set = validation_data.to_numpy()\n",
        "    test_set = test_data.to_numpy()\n",
        "    return training_set, validation_set, test_set"
      ]
    },
    {
      "cell_type": "markdown",
      "id": "caf27f3ca607fcf4",
      "metadata": {
        "collapsed": false,
        "id": "caf27f3ca607fcf4"
      },
      "source": [
        "### Scale the features"
      ]
    },
    {
      "cell_type": "code",
      "execution_count": 5,
      "id": "ba2f3fbdf831cd51",
      "metadata": {
        "id": "ba2f3fbdf831cd51"
      },
      "outputs": [],
      "source": [
        "def scale_features(scaler, training_set, validation_set, test_set):\n",
        "    training_set_scaled = scaler.fit_transform(training_set)\n",
        "    validation_set_scaled = scaler.transform(validation_set)\n",
        "    test_set_scaled = scaler.transform(test_set)\n",
        "    return training_set_scaled, validation_set_scaled, test_set_scaled"
      ]
    },
    {
      "cell_type": "markdown",
      "id": "b2e95150a80715c3",
      "metadata": {
        "collapsed": false,
        "id": "b2e95150a80715c3"
      },
      "source": [
        "### Create Input sequences"
      ]
    },
    {
      "cell_type": "code",
      "execution_count": 6,
      "id": "ccfda876c7530b06",
      "metadata": {
        "id": "ccfda876c7530b06"
      },
      "outputs": [],
      "source": [
        "def create_sequences(data, seq_length=60):\n",
        "    X = []\n",
        "    y = []\n",
        "    for i in range(seq_length, len(data)):\n",
        "        X.append(data[i-seq_length:i,:])\n",
        "        y.append(data[i,0])\n",
        "    return np.array(X), np.array(y)"
      ]
    },
    {
      "cell_type": "markdown",
      "id": "a6dd61282e01584",
      "metadata": {
        "collapsed": false,
        "id": "a6dd61282e01584"
      },
      "source": [
        "### Define the model"
      ]
    },
    {
      "cell_type": "code",
      "execution_count": 7,
      "id": "eb93c39d3b6182c1",
      "metadata": {
        "id": "eb93c39d3b6182c1"
      },
      "outputs": [],
      "source": [
        "def define_model(optimizer, loss, seq_length=60, num_parameters=1):\n",
        "    # Define the structure\n",
        "    model = keras.Sequential()\n",
        "    model.add(keras.layers.LSTM(units=50, return_sequences=True, input_shape=(seq_length, num_parameters)))\n",
        "    model.add(keras.layers.Dropout(0.2))\n",
        "    model.add(keras.layers.LSTM(units=50, return_sequences=True))\n",
        "    model.add(keras.layers.Dropout(0.2))\n",
        "    model.add(keras.layers.LSTM(units=50, return_sequences=True))\n",
        "    model.add(keras.layers.Dropout(0.2))\n",
        "    model.add(keras.layers.LSTM(units=50))\n",
        "    model.add(keras.layers.Dropout(0.2))\n",
        "    model.add(keras.layers.Dense(units=1))\n",
        "\n",
        "    # Specify the parameters for the LSTM Model\n",
        "    model.compile(optimizer=optimizer, loss=loss, metrics=[keras.metrics.MeanSquaredError(), keras.metrics.RootMeanSquaredError()])\n",
        "    return model"
      ]
    },
    {
      "cell_type": "markdown",
      "id": "9179eff5fa42cd84",
      "metadata": {
        "collapsed": false,
        "id": "9179eff5fa42cd84"
      },
      "source": [
        "### Train the model"
      ]
    },
    {
      "cell_type": "code",
      "execution_count": 8,
      "id": "9dddfdec778457b1",
      "metadata": {
        "id": "9dddfdec778457b1"
      },
      "outputs": [],
      "source": [
        "def train_model(model, X_train, y_train, X_validation, y_validation, epochs=100):\n",
        "    history = model.fit(X_train, y_train, epochs=epochs, batch_size=32, validation_data=(X_validation, y_validation))\n",
        "    return history"
      ]
    },
    {
      "cell_type": "markdown",
      "id": "c911a7e353af2bf7",
      "metadata": {
        "collapsed": false,
        "id": "c911a7e353af2bf7"
      },
      "source": [
        "### Visualise the loss during training"
      ]
    },
    {
      "cell_type": "code",
      "execution_count": 9,
      "id": "c7cc3a0d0b14c5cd",
      "metadata": {
        "id": "c7cc3a0d0b14c5cd"
      },
      "outputs": [],
      "source": [
        "def visualize_loss(history):\n",
        "    # Plot loss during training\n",
        "    plt.figure(figsize=(10, 5))\n",
        "    plt.plot(history.history['loss'], label='Training Loss')\n",
        "    plt.plot(history.history['val_loss'], label='Validation Loss')\n",
        "    plt.title('Model Loss')\n",
        "    plt.xlabel('Epoch')\n",
        "    plt.ylabel('Loss')\n",
        "    plt.legend()\n",
        "    plt.show()"
      ]
    },
    {
      "cell_type": "markdown",
      "id": "acfaeceea4bd0adb",
      "metadata": {
        "collapsed": false,
        "id": "acfaeceea4bd0adb"
      },
      "source": [
        "### Test the model"
      ]
    },
    {
      "cell_type": "code",
      "execution_count": 10,
      "id": "cd3363f8b472b8cd",
      "metadata": {
        "id": "cd3363f8b472b8cd"
      },
      "outputs": [],
      "source": [
        "def test_model(model, data, X_test, y_test):\n",
        "    history = model.evaluate(X_test, y_test)\n",
        "    predicted_price = model.predict(X_test)\n",
        "\n",
        "    # Fit scaler for the stock price\n",
        "    feature_scaler = MinMaxScaler()\n",
        "    feature_scaler.fit(data[:, 0].reshape(-1, 1))\n",
        "\n",
        "    # Inverse transform the stock price\n",
        "    predicted_price = feature_scaler.inverse_transform(predicted_price)\n",
        "    return predicted_price, history"
      ]
    },
    {
      "cell_type": "markdown",
      "id": "462123e50d4bdfbe",
      "metadata": {
        "collapsed": false,
        "id": "462123e50d4bdfbe"
      },
      "source": [
        "### Visualise results"
      ]
    },
    {
      "cell_type": "code",
      "execution_count": 53,
      "id": "bda2c165de7b874a",
      "metadata": {
        "id": "bda2c165de7b874a"
      },
      "outputs": [],
      "source": [
        "def visualize_results(df, predicted_price, date_validation, coin, seq_length=60):\n",
        "    date_range = pd.date_range(start='2024-01-01', periods=len(predicted_price), freq='B')\n",
        "    test_prices = df[(df['Date'] > date_validation)]['Adj Close']\n",
        "    test_dates = df[(df['Date'] > date_validation)][\"Date\"]\n",
        "    plt.figure(figsize=(10, 6))\n",
        "    plt.plot(test_dates, test_prices, color='black', label=(coin + ' Price'))\n",
        "    plt.plot(test_dates[seq_length:], predicted_price, color='green', label='Predicted ' + coin + ' Price')\n",
        "    plt.gca().xaxis.set_major_locator(dates.MonthLocator(interval=3))  # Show tick marks for every 3 months\n",
        "    plt.gca().xaxis.set_major_formatter(dates.DateFormatter('%b %Y'))  # Format x-axis labels as 'Jan 2023', 'Feb 2023', etc.\n",
        "    plt.title(coin + ' Price Prediction')\n",
        "    plt.xlabel('Time')\n",
        "    plt.ylabel(coin + 'Price')\n",
        "    plt.legend()\n",
        "    plt.show()"
      ]
    },
    {
      "cell_type": "markdown",
      "id": "e474fd5edf79405d",
      "metadata": {
        "collapsed": false,
        "id": "e474fd5edf79405d"
      },
      "source": [
        "## Make a custom run"
      ]
    },
    {
      "cell_type": "code",
      "execution_count": 146,
      "id": "dedfa36a14deea2",
      "metadata": {
        "id": "dedfa36a14deea2"
      },
      "outputs": [],
      "source": [
        "# Define the parameters\n",
        "coin = \"BTC\"\n",
        "date_train = \"2023-05-01\"\n",
        "date_validation = \"2023-11-01\"\n",
        "features = [\"Adj Close\", \"sentiment_score\", \"normalized_influence_robust\", \"Volume\"]\n",
        "optimizer = \"adam\"\n",
        "loss = \"mean_squared_error\"\n",
        "seq_length = 40\n",
        "epochs_train = 60"
      ]
    },
    {
      "cell_type": "code",
      "execution_count": 147,
      "id": "1ab14d58b13b1332",
      "metadata": {
        "id": "1ab14d58b13b1332"
      },
      "outputs": [],
      "source": [
        "# Read the data\n",
        "df = read_data(coin)"
      ]
    },
    {
      "cell_type": "code",
      "execution_count": 148,
      "id": "56bb80b4ac6c5c77",
      "metadata": {
        "colab": {
          "base_uri": "https://localhost:8080/"
        },
        "id": "56bb80b4ac6c5c77",
        "outputId": "f1360f19-f6f6-46e9-cb7a-ea45635d21b3"
      },
      "outputs": [
        {
          "output_type": "stream",
          "name": "stdout",
          "text": [
            "     Adj Close  sentiment_score  normalized_influence_robust        Volume\n",
            "0  7200.174316         0.548312                     3.988636  1.856566e+10\n",
            "1  6985.470215         0.497812                     1.284091  2.080208e+10\n",
            "2  7344.884277         0.125570                     2.972727  2.811148e+10\n",
            "3  7410.656738         0.650860                     0.463636  1.844427e+10\n",
            "4  7411.317383         0.357350                    -0.045455  1.972507e+10\n",
            "(1217, 4)\n",
            "(184, 4)\n",
            "(181, 4)\n"
          ]
        }
      ],
      "source": [
        "# Split the data\n",
        "train, validation, test = train_test_val(df, date_train, date_validation, features)\n",
        "print(train.shape)\n",
        "print(validation.shape)\n",
        "print(test.shape)"
      ]
    },
    {
      "cell_type": "code",
      "execution_count": 149,
      "id": "a30fab4ee70396f",
      "metadata": {
        "id": "a30fab4ee70396f",
        "colab": {
          "base_uri": "https://localhost:8080/",
          "height": 300
        },
        "outputId": "e0cfd865-3e92-4835-f453-ba2c9ccac0bf"
      },
      "outputs": [
        {
          "output_type": "execute_result",
          "data": {
            "text/plain": [
              "                  0            1            2             3\n",
              "count   1217.000000  1217.000000  1217.000000  1.217000e+03\n",
              "mean   28453.571806     0.395079     1.834088  3.539989e+10\n",
              "std    16342.025092     0.173850     1.640734  1.861389e+10\n",
              "min     4970.788086    -0.210671    -0.227273  7.714767e+09\n",
              "25%    13654.218750     0.247256     0.738636  2.434200e+10\n",
              "50%    23656.207030     0.423686     1.446828  3.193032e+10\n",
              "75%    41557.902340     0.524812     2.550944  4.206840e+10\n",
              "max    67566.828130     0.975100    20.021724  3.509680e+11"
            ],
            "text/html": [
              "\n",
              "  <div id=\"df-4435b4a8-c917-416e-aca3-8b1d09313c80\" class=\"colab-df-container\">\n",
              "    <div>\n",
              "<style scoped>\n",
              "    .dataframe tbody tr th:only-of-type {\n",
              "        vertical-align: middle;\n",
              "    }\n",
              "\n",
              "    .dataframe tbody tr th {\n",
              "        vertical-align: top;\n",
              "    }\n",
              "\n",
              "    .dataframe thead th {\n",
              "        text-align: right;\n",
              "    }\n",
              "</style>\n",
              "<table border=\"1\" class=\"dataframe\">\n",
              "  <thead>\n",
              "    <tr style=\"text-align: right;\">\n",
              "      <th></th>\n",
              "      <th>0</th>\n",
              "      <th>1</th>\n",
              "      <th>2</th>\n",
              "      <th>3</th>\n",
              "    </tr>\n",
              "  </thead>\n",
              "  <tbody>\n",
              "    <tr>\n",
              "      <th>count</th>\n",
              "      <td>1217.000000</td>\n",
              "      <td>1217.000000</td>\n",
              "      <td>1217.000000</td>\n",
              "      <td>1.217000e+03</td>\n",
              "    </tr>\n",
              "    <tr>\n",
              "      <th>mean</th>\n",
              "      <td>28453.571806</td>\n",
              "      <td>0.395079</td>\n",
              "      <td>1.834088</td>\n",
              "      <td>3.539989e+10</td>\n",
              "    </tr>\n",
              "    <tr>\n",
              "      <th>std</th>\n",
              "      <td>16342.025092</td>\n",
              "      <td>0.173850</td>\n",
              "      <td>1.640734</td>\n",
              "      <td>1.861389e+10</td>\n",
              "    </tr>\n",
              "    <tr>\n",
              "      <th>min</th>\n",
              "      <td>4970.788086</td>\n",
              "      <td>-0.210671</td>\n",
              "      <td>-0.227273</td>\n",
              "      <td>7.714767e+09</td>\n",
              "    </tr>\n",
              "    <tr>\n",
              "      <th>25%</th>\n",
              "      <td>13654.218750</td>\n",
              "      <td>0.247256</td>\n",
              "      <td>0.738636</td>\n",
              "      <td>2.434200e+10</td>\n",
              "    </tr>\n",
              "    <tr>\n",
              "      <th>50%</th>\n",
              "      <td>23656.207030</td>\n",
              "      <td>0.423686</td>\n",
              "      <td>1.446828</td>\n",
              "      <td>3.193032e+10</td>\n",
              "    </tr>\n",
              "    <tr>\n",
              "      <th>75%</th>\n",
              "      <td>41557.902340</td>\n",
              "      <td>0.524812</td>\n",
              "      <td>2.550944</td>\n",
              "      <td>4.206840e+10</td>\n",
              "    </tr>\n",
              "    <tr>\n",
              "      <th>max</th>\n",
              "      <td>67566.828130</td>\n",
              "      <td>0.975100</td>\n",
              "      <td>20.021724</td>\n",
              "      <td>3.509680e+11</td>\n",
              "    </tr>\n",
              "  </tbody>\n",
              "</table>\n",
              "</div>\n",
              "    <div class=\"colab-df-buttons\">\n",
              "\n",
              "  <div class=\"colab-df-container\">\n",
              "    <button class=\"colab-df-convert\" onclick=\"convertToInteractive('df-4435b4a8-c917-416e-aca3-8b1d09313c80')\"\n",
              "            title=\"Convert this dataframe to an interactive table.\"\n",
              "            style=\"display:none;\">\n",
              "\n",
              "  <svg xmlns=\"http://www.w3.org/2000/svg\" height=\"24px\" viewBox=\"0 -960 960 960\">\n",
              "    <path d=\"M120-120v-720h720v720H120Zm60-500h600v-160H180v160Zm220 220h160v-160H400v160Zm0 220h160v-160H400v160ZM180-400h160v-160H180v160Zm440 0h160v-160H620v160ZM180-180h160v-160H180v160Zm440 0h160v-160H620v160Z\"/>\n",
              "  </svg>\n",
              "    </button>\n",
              "\n",
              "  <style>\n",
              "    .colab-df-container {\n",
              "      display:flex;\n",
              "      gap: 12px;\n",
              "    }\n",
              "\n",
              "    .colab-df-convert {\n",
              "      background-color: #E8F0FE;\n",
              "      border: none;\n",
              "      border-radius: 50%;\n",
              "      cursor: pointer;\n",
              "      display: none;\n",
              "      fill: #1967D2;\n",
              "      height: 32px;\n",
              "      padding: 0 0 0 0;\n",
              "      width: 32px;\n",
              "    }\n",
              "\n",
              "    .colab-df-convert:hover {\n",
              "      background-color: #E2EBFA;\n",
              "      box-shadow: 0px 1px 2px rgba(60, 64, 67, 0.3), 0px 1px 3px 1px rgba(60, 64, 67, 0.15);\n",
              "      fill: #174EA6;\n",
              "    }\n",
              "\n",
              "    .colab-df-buttons div {\n",
              "      margin-bottom: 4px;\n",
              "    }\n",
              "\n",
              "    [theme=dark] .colab-df-convert {\n",
              "      background-color: #3B4455;\n",
              "      fill: #D2E3FC;\n",
              "    }\n",
              "\n",
              "    [theme=dark] .colab-df-convert:hover {\n",
              "      background-color: #434B5C;\n",
              "      box-shadow: 0px 1px 3px 1px rgba(0, 0, 0, 0.15);\n",
              "      filter: drop-shadow(0px 1px 2px rgba(0, 0, 0, 0.3));\n",
              "      fill: #FFFFFF;\n",
              "    }\n",
              "  </style>\n",
              "\n",
              "    <script>\n",
              "      const buttonEl =\n",
              "        document.querySelector('#df-4435b4a8-c917-416e-aca3-8b1d09313c80 button.colab-df-convert');\n",
              "      buttonEl.style.display =\n",
              "        google.colab.kernel.accessAllowed ? 'block' : 'none';\n",
              "\n",
              "      async function convertToInteractive(key) {\n",
              "        const element = document.querySelector('#df-4435b4a8-c917-416e-aca3-8b1d09313c80');\n",
              "        const dataTable =\n",
              "          await google.colab.kernel.invokeFunction('convertToInteractive',\n",
              "                                                    [key], {});\n",
              "        if (!dataTable) return;\n",
              "\n",
              "        const docLinkHtml = 'Like what you see? Visit the ' +\n",
              "          '<a target=\"_blank\" href=https://colab.research.google.com/notebooks/data_table.ipynb>data table notebook</a>'\n",
              "          + ' to learn more about interactive tables.';\n",
              "        element.innerHTML = '';\n",
              "        dataTable['output_type'] = 'display_data';\n",
              "        await google.colab.output.renderOutput(dataTable, element);\n",
              "        const docLink = document.createElement('div');\n",
              "        docLink.innerHTML = docLinkHtml;\n",
              "        element.appendChild(docLink);\n",
              "      }\n",
              "    </script>\n",
              "  </div>\n",
              "\n",
              "\n",
              "<div id=\"df-fc6b4b0b-8ab6-4502-b135-5a7e180c8532\">\n",
              "  <button class=\"colab-df-quickchart\" onclick=\"quickchart('df-fc6b4b0b-8ab6-4502-b135-5a7e180c8532')\"\n",
              "            title=\"Suggest charts\"\n",
              "            style=\"display:none;\">\n",
              "\n",
              "<svg xmlns=\"http://www.w3.org/2000/svg\" height=\"24px\"viewBox=\"0 0 24 24\"\n",
              "     width=\"24px\">\n",
              "    <g>\n",
              "        <path d=\"M19 3H5c-1.1 0-2 .9-2 2v14c0 1.1.9 2 2 2h14c1.1 0 2-.9 2-2V5c0-1.1-.9-2-2-2zM9 17H7v-7h2v7zm4 0h-2V7h2v10zm4 0h-2v-4h2v4z\"/>\n",
              "    </g>\n",
              "</svg>\n",
              "  </button>\n",
              "\n",
              "<style>\n",
              "  .colab-df-quickchart {\n",
              "      --bg-color: #E8F0FE;\n",
              "      --fill-color: #1967D2;\n",
              "      --hover-bg-color: #E2EBFA;\n",
              "      --hover-fill-color: #174EA6;\n",
              "      --disabled-fill-color: #AAA;\n",
              "      --disabled-bg-color: #DDD;\n",
              "  }\n",
              "\n",
              "  [theme=dark] .colab-df-quickchart {\n",
              "      --bg-color: #3B4455;\n",
              "      --fill-color: #D2E3FC;\n",
              "      --hover-bg-color: #434B5C;\n",
              "      --hover-fill-color: #FFFFFF;\n",
              "      --disabled-bg-color: #3B4455;\n",
              "      --disabled-fill-color: #666;\n",
              "  }\n",
              "\n",
              "  .colab-df-quickchart {\n",
              "    background-color: var(--bg-color);\n",
              "    border: none;\n",
              "    border-radius: 50%;\n",
              "    cursor: pointer;\n",
              "    display: none;\n",
              "    fill: var(--fill-color);\n",
              "    height: 32px;\n",
              "    padding: 0;\n",
              "    width: 32px;\n",
              "  }\n",
              "\n",
              "  .colab-df-quickchart:hover {\n",
              "    background-color: var(--hover-bg-color);\n",
              "    box-shadow: 0 1px 2px rgba(60, 64, 67, 0.3), 0 1px 3px 1px rgba(60, 64, 67, 0.15);\n",
              "    fill: var(--button-hover-fill-color);\n",
              "  }\n",
              "\n",
              "  .colab-df-quickchart-complete:disabled,\n",
              "  .colab-df-quickchart-complete:disabled:hover {\n",
              "    background-color: var(--disabled-bg-color);\n",
              "    fill: var(--disabled-fill-color);\n",
              "    box-shadow: none;\n",
              "  }\n",
              "\n",
              "  .colab-df-spinner {\n",
              "    border: 2px solid var(--fill-color);\n",
              "    border-color: transparent;\n",
              "    border-bottom-color: var(--fill-color);\n",
              "    animation:\n",
              "      spin 1s steps(1) infinite;\n",
              "  }\n",
              "\n",
              "  @keyframes spin {\n",
              "    0% {\n",
              "      border-color: transparent;\n",
              "      border-bottom-color: var(--fill-color);\n",
              "      border-left-color: var(--fill-color);\n",
              "    }\n",
              "    20% {\n",
              "      border-color: transparent;\n",
              "      border-left-color: var(--fill-color);\n",
              "      border-top-color: var(--fill-color);\n",
              "    }\n",
              "    30% {\n",
              "      border-color: transparent;\n",
              "      border-left-color: var(--fill-color);\n",
              "      border-top-color: var(--fill-color);\n",
              "      border-right-color: var(--fill-color);\n",
              "    }\n",
              "    40% {\n",
              "      border-color: transparent;\n",
              "      border-right-color: var(--fill-color);\n",
              "      border-top-color: var(--fill-color);\n",
              "    }\n",
              "    60% {\n",
              "      border-color: transparent;\n",
              "      border-right-color: var(--fill-color);\n",
              "    }\n",
              "    80% {\n",
              "      border-color: transparent;\n",
              "      border-right-color: var(--fill-color);\n",
              "      border-bottom-color: var(--fill-color);\n",
              "    }\n",
              "    90% {\n",
              "      border-color: transparent;\n",
              "      border-bottom-color: var(--fill-color);\n",
              "    }\n",
              "  }\n",
              "</style>\n",
              "\n",
              "  <script>\n",
              "    async function quickchart(key) {\n",
              "      const quickchartButtonEl =\n",
              "        document.querySelector('#' + key + ' button');\n",
              "      quickchartButtonEl.disabled = true;  // To prevent multiple clicks.\n",
              "      quickchartButtonEl.classList.add('colab-df-spinner');\n",
              "      try {\n",
              "        const charts = await google.colab.kernel.invokeFunction(\n",
              "            'suggestCharts', [key], {});\n",
              "      } catch (error) {\n",
              "        console.error('Error during call to suggestCharts:', error);\n",
              "      }\n",
              "      quickchartButtonEl.classList.remove('colab-df-spinner');\n",
              "      quickchartButtonEl.classList.add('colab-df-quickchart-complete');\n",
              "    }\n",
              "    (() => {\n",
              "      let quickchartButtonEl =\n",
              "        document.querySelector('#df-fc6b4b0b-8ab6-4502-b135-5a7e180c8532 button');\n",
              "      quickchartButtonEl.style.display =\n",
              "        google.colab.kernel.accessAllowed ? 'block' : 'none';\n",
              "    })();\n",
              "  </script>\n",
              "</div>\n",
              "    </div>\n",
              "  </div>\n"
            ],
            "application/vnd.google.colaboratory.intrinsic+json": {
              "type": "dataframe",
              "summary": "{\n  \"name\": \"summary_train\",\n  \"rows\": 8,\n  \"fields\": [\n    {\n      \"column\": 0,\n      \"properties\": {\n        \"dtype\": \"number\",\n        \"std\": 21611.791206656395,\n        \"min\": 1217.0,\n        \"max\": 67566.82813,\n        \"num_unique_values\": 8,\n        \"samples\": [\n          28453.571806326214,\n          23656.20703,\n          1217.0\n        ],\n        \"semantic_type\": \"\",\n        \"description\": \"\"\n      }\n    },\n    {\n      \"column\": 1,\n      \"properties\": {\n        \"dtype\": \"number\",\n        \"std\": 430.14686704427356,\n        \"min\": -0.210671429,\n        \"max\": 1217.0,\n        \"num_unique_values\": 8,\n        \"samples\": [\n          0.39507853692111755,\n          0.423686441,\n          1217.0\n        ],\n        \"semantic_type\": \"\",\n        \"description\": \"\"\n      }\n    },\n    {\n      \"column\": 2,\n      \"properties\": {\n        \"dtype\": \"number\",\n        \"std\": 428.91061836207615,\n        \"min\": -0.227272727,\n        \"max\": 1217.0,\n        \"num_unique_values\": 8,\n        \"samples\": [\n          1.8340882084379624,\n          1.446827867,\n          1217.0\n        ],\n        \"semantic_type\": \"\",\n        \"description\": \"\"\n      }\n    },\n    {\n      \"column\": 3,\n      \"properties\": {\n        \"dtype\": \"number\",\n        \"std\": 116848269348.5525,\n        \"min\": 1217.0,\n        \"max\": 350968000000.0,\n        \"num_unique_values\": 8,\n        \"samples\": [\n          35399888444.8751,\n          31930317405.0,\n          1217.0\n        ],\n        \"semantic_type\": \"\",\n        \"description\": \"\"\n      }\n    }\n  ]\n}"
            }
          },
          "metadata": {},
          "execution_count": 149
        }
      ],
      "source": [
        "# Define the scaler\n",
        "scaler = MinMaxScaler(feature_range=(0, 1))\n",
        "summary_train = pd.DataFrame(train)\n",
        "summary_train.describe()"
      ]
    },
    {
      "cell_type": "code",
      "execution_count": 150,
      "id": "bcc43122ae391050",
      "metadata": {
        "id": "bcc43122ae391050",
        "colab": {
          "base_uri": "https://localhost:8080/",
          "height": 300
        },
        "outputId": "b03810b2-5335-442d-c1f9-d92787dbc0be"
      },
      "outputs": [
        {
          "output_type": "execute_result",
          "data": {
            "text/plain": [
              "                 0            1            2            3\n",
              "count  1217.000000  1217.000000  1217.000000  1217.000000\n",
              "mean      0.375148     0.510849     0.101801     0.080655\n",
              "std       0.261071     0.146614     0.081028     0.054228\n",
              "min       0.000000     0.000000     0.000000     0.000000\n",
              "25%       0.138722     0.386186     0.047702     0.048440\n",
              "50%       0.298508     0.534975     0.082676     0.070547\n",
              "75%       0.584496     0.620258     0.137203     0.100082\n",
              "max       1.000000     1.000000     1.000000     1.000000"
            ],
            "text/html": [
              "\n",
              "  <div id=\"df-064c0141-76c6-451b-96b7-a4c0ff959d0d\" class=\"colab-df-container\">\n",
              "    <div>\n",
              "<style scoped>\n",
              "    .dataframe tbody tr th:only-of-type {\n",
              "        vertical-align: middle;\n",
              "    }\n",
              "\n",
              "    .dataframe tbody tr th {\n",
              "        vertical-align: top;\n",
              "    }\n",
              "\n",
              "    .dataframe thead th {\n",
              "        text-align: right;\n",
              "    }\n",
              "</style>\n",
              "<table border=\"1\" class=\"dataframe\">\n",
              "  <thead>\n",
              "    <tr style=\"text-align: right;\">\n",
              "      <th></th>\n",
              "      <th>0</th>\n",
              "      <th>1</th>\n",
              "      <th>2</th>\n",
              "      <th>3</th>\n",
              "    </tr>\n",
              "  </thead>\n",
              "  <tbody>\n",
              "    <tr>\n",
              "      <th>count</th>\n",
              "      <td>1217.000000</td>\n",
              "      <td>1217.000000</td>\n",
              "      <td>1217.000000</td>\n",
              "      <td>1217.000000</td>\n",
              "    </tr>\n",
              "    <tr>\n",
              "      <th>mean</th>\n",
              "      <td>0.375148</td>\n",
              "      <td>0.510849</td>\n",
              "      <td>0.101801</td>\n",
              "      <td>0.080655</td>\n",
              "    </tr>\n",
              "    <tr>\n",
              "      <th>std</th>\n",
              "      <td>0.261071</td>\n",
              "      <td>0.146614</td>\n",
              "      <td>0.081028</td>\n",
              "      <td>0.054228</td>\n",
              "    </tr>\n",
              "    <tr>\n",
              "      <th>min</th>\n",
              "      <td>0.000000</td>\n",
              "      <td>0.000000</td>\n",
              "      <td>0.000000</td>\n",
              "      <td>0.000000</td>\n",
              "    </tr>\n",
              "    <tr>\n",
              "      <th>25%</th>\n",
              "      <td>0.138722</td>\n",
              "      <td>0.386186</td>\n",
              "      <td>0.047702</td>\n",
              "      <td>0.048440</td>\n",
              "    </tr>\n",
              "    <tr>\n",
              "      <th>50%</th>\n",
              "      <td>0.298508</td>\n",
              "      <td>0.534975</td>\n",
              "      <td>0.082676</td>\n",
              "      <td>0.070547</td>\n",
              "    </tr>\n",
              "    <tr>\n",
              "      <th>75%</th>\n",
              "      <td>0.584496</td>\n",
              "      <td>0.620258</td>\n",
              "      <td>0.137203</td>\n",
              "      <td>0.100082</td>\n",
              "    </tr>\n",
              "    <tr>\n",
              "      <th>max</th>\n",
              "      <td>1.000000</td>\n",
              "      <td>1.000000</td>\n",
              "      <td>1.000000</td>\n",
              "      <td>1.000000</td>\n",
              "    </tr>\n",
              "  </tbody>\n",
              "</table>\n",
              "</div>\n",
              "    <div class=\"colab-df-buttons\">\n",
              "\n",
              "  <div class=\"colab-df-container\">\n",
              "    <button class=\"colab-df-convert\" onclick=\"convertToInteractive('df-064c0141-76c6-451b-96b7-a4c0ff959d0d')\"\n",
              "            title=\"Convert this dataframe to an interactive table.\"\n",
              "            style=\"display:none;\">\n",
              "\n",
              "  <svg xmlns=\"http://www.w3.org/2000/svg\" height=\"24px\" viewBox=\"0 -960 960 960\">\n",
              "    <path d=\"M120-120v-720h720v720H120Zm60-500h600v-160H180v160Zm220 220h160v-160H400v160Zm0 220h160v-160H400v160ZM180-400h160v-160H180v160Zm440 0h160v-160H620v160ZM180-180h160v-160H180v160Zm440 0h160v-160H620v160Z\"/>\n",
              "  </svg>\n",
              "    </button>\n",
              "\n",
              "  <style>\n",
              "    .colab-df-container {\n",
              "      display:flex;\n",
              "      gap: 12px;\n",
              "    }\n",
              "\n",
              "    .colab-df-convert {\n",
              "      background-color: #E8F0FE;\n",
              "      border: none;\n",
              "      border-radius: 50%;\n",
              "      cursor: pointer;\n",
              "      display: none;\n",
              "      fill: #1967D2;\n",
              "      height: 32px;\n",
              "      padding: 0 0 0 0;\n",
              "      width: 32px;\n",
              "    }\n",
              "\n",
              "    .colab-df-convert:hover {\n",
              "      background-color: #E2EBFA;\n",
              "      box-shadow: 0px 1px 2px rgba(60, 64, 67, 0.3), 0px 1px 3px 1px rgba(60, 64, 67, 0.15);\n",
              "      fill: #174EA6;\n",
              "    }\n",
              "\n",
              "    .colab-df-buttons div {\n",
              "      margin-bottom: 4px;\n",
              "    }\n",
              "\n",
              "    [theme=dark] .colab-df-convert {\n",
              "      background-color: #3B4455;\n",
              "      fill: #D2E3FC;\n",
              "    }\n",
              "\n",
              "    [theme=dark] .colab-df-convert:hover {\n",
              "      background-color: #434B5C;\n",
              "      box-shadow: 0px 1px 3px 1px rgba(0, 0, 0, 0.15);\n",
              "      filter: drop-shadow(0px 1px 2px rgba(0, 0, 0, 0.3));\n",
              "      fill: #FFFFFF;\n",
              "    }\n",
              "  </style>\n",
              "\n",
              "    <script>\n",
              "      const buttonEl =\n",
              "        document.querySelector('#df-064c0141-76c6-451b-96b7-a4c0ff959d0d button.colab-df-convert');\n",
              "      buttonEl.style.display =\n",
              "        google.colab.kernel.accessAllowed ? 'block' : 'none';\n",
              "\n",
              "      async function convertToInteractive(key) {\n",
              "        const element = document.querySelector('#df-064c0141-76c6-451b-96b7-a4c0ff959d0d');\n",
              "        const dataTable =\n",
              "          await google.colab.kernel.invokeFunction('convertToInteractive',\n",
              "                                                    [key], {});\n",
              "        if (!dataTable) return;\n",
              "\n",
              "        const docLinkHtml = 'Like what you see? Visit the ' +\n",
              "          '<a target=\"_blank\" href=https://colab.research.google.com/notebooks/data_table.ipynb>data table notebook</a>'\n",
              "          + ' to learn more about interactive tables.';\n",
              "        element.innerHTML = '';\n",
              "        dataTable['output_type'] = 'display_data';\n",
              "        await google.colab.output.renderOutput(dataTable, element);\n",
              "        const docLink = document.createElement('div');\n",
              "        docLink.innerHTML = docLinkHtml;\n",
              "        element.appendChild(docLink);\n",
              "      }\n",
              "    </script>\n",
              "  </div>\n",
              "\n",
              "\n",
              "<div id=\"df-5d69cd32-fa8d-4085-a284-a3f349641290\">\n",
              "  <button class=\"colab-df-quickchart\" onclick=\"quickchart('df-5d69cd32-fa8d-4085-a284-a3f349641290')\"\n",
              "            title=\"Suggest charts\"\n",
              "            style=\"display:none;\">\n",
              "\n",
              "<svg xmlns=\"http://www.w3.org/2000/svg\" height=\"24px\"viewBox=\"0 0 24 24\"\n",
              "     width=\"24px\">\n",
              "    <g>\n",
              "        <path d=\"M19 3H5c-1.1 0-2 .9-2 2v14c0 1.1.9 2 2 2h14c1.1 0 2-.9 2-2V5c0-1.1-.9-2-2-2zM9 17H7v-7h2v7zm4 0h-2V7h2v10zm4 0h-2v-4h2v4z\"/>\n",
              "    </g>\n",
              "</svg>\n",
              "  </button>\n",
              "\n",
              "<style>\n",
              "  .colab-df-quickchart {\n",
              "      --bg-color: #E8F0FE;\n",
              "      --fill-color: #1967D2;\n",
              "      --hover-bg-color: #E2EBFA;\n",
              "      --hover-fill-color: #174EA6;\n",
              "      --disabled-fill-color: #AAA;\n",
              "      --disabled-bg-color: #DDD;\n",
              "  }\n",
              "\n",
              "  [theme=dark] .colab-df-quickchart {\n",
              "      --bg-color: #3B4455;\n",
              "      --fill-color: #D2E3FC;\n",
              "      --hover-bg-color: #434B5C;\n",
              "      --hover-fill-color: #FFFFFF;\n",
              "      --disabled-bg-color: #3B4455;\n",
              "      --disabled-fill-color: #666;\n",
              "  }\n",
              "\n",
              "  .colab-df-quickchart {\n",
              "    background-color: var(--bg-color);\n",
              "    border: none;\n",
              "    border-radius: 50%;\n",
              "    cursor: pointer;\n",
              "    display: none;\n",
              "    fill: var(--fill-color);\n",
              "    height: 32px;\n",
              "    padding: 0;\n",
              "    width: 32px;\n",
              "  }\n",
              "\n",
              "  .colab-df-quickchart:hover {\n",
              "    background-color: var(--hover-bg-color);\n",
              "    box-shadow: 0 1px 2px rgba(60, 64, 67, 0.3), 0 1px 3px 1px rgba(60, 64, 67, 0.15);\n",
              "    fill: var(--button-hover-fill-color);\n",
              "  }\n",
              "\n",
              "  .colab-df-quickchart-complete:disabled,\n",
              "  .colab-df-quickchart-complete:disabled:hover {\n",
              "    background-color: var(--disabled-bg-color);\n",
              "    fill: var(--disabled-fill-color);\n",
              "    box-shadow: none;\n",
              "  }\n",
              "\n",
              "  .colab-df-spinner {\n",
              "    border: 2px solid var(--fill-color);\n",
              "    border-color: transparent;\n",
              "    border-bottom-color: var(--fill-color);\n",
              "    animation:\n",
              "      spin 1s steps(1) infinite;\n",
              "  }\n",
              "\n",
              "  @keyframes spin {\n",
              "    0% {\n",
              "      border-color: transparent;\n",
              "      border-bottom-color: var(--fill-color);\n",
              "      border-left-color: var(--fill-color);\n",
              "    }\n",
              "    20% {\n",
              "      border-color: transparent;\n",
              "      border-left-color: var(--fill-color);\n",
              "      border-top-color: var(--fill-color);\n",
              "    }\n",
              "    30% {\n",
              "      border-color: transparent;\n",
              "      border-left-color: var(--fill-color);\n",
              "      border-top-color: var(--fill-color);\n",
              "      border-right-color: var(--fill-color);\n",
              "    }\n",
              "    40% {\n",
              "      border-color: transparent;\n",
              "      border-right-color: var(--fill-color);\n",
              "      border-top-color: var(--fill-color);\n",
              "    }\n",
              "    60% {\n",
              "      border-color: transparent;\n",
              "      border-right-color: var(--fill-color);\n",
              "    }\n",
              "    80% {\n",
              "      border-color: transparent;\n",
              "      border-right-color: var(--fill-color);\n",
              "      border-bottom-color: var(--fill-color);\n",
              "    }\n",
              "    90% {\n",
              "      border-color: transparent;\n",
              "      border-bottom-color: var(--fill-color);\n",
              "    }\n",
              "  }\n",
              "</style>\n",
              "\n",
              "  <script>\n",
              "    async function quickchart(key) {\n",
              "      const quickchartButtonEl =\n",
              "        document.querySelector('#' + key + ' button');\n",
              "      quickchartButtonEl.disabled = true;  // To prevent multiple clicks.\n",
              "      quickchartButtonEl.classList.add('colab-df-spinner');\n",
              "      try {\n",
              "        const charts = await google.colab.kernel.invokeFunction(\n",
              "            'suggestCharts', [key], {});\n",
              "      } catch (error) {\n",
              "        console.error('Error during call to suggestCharts:', error);\n",
              "      }\n",
              "      quickchartButtonEl.classList.remove('colab-df-spinner');\n",
              "      quickchartButtonEl.classList.add('colab-df-quickchart-complete');\n",
              "    }\n",
              "    (() => {\n",
              "      let quickchartButtonEl =\n",
              "        document.querySelector('#df-5d69cd32-fa8d-4085-a284-a3f349641290 button');\n",
              "      quickchartButtonEl.style.display =\n",
              "        google.colab.kernel.accessAllowed ? 'block' : 'none';\n",
              "    })();\n",
              "  </script>\n",
              "</div>\n",
              "    </div>\n",
              "  </div>\n"
            ],
            "application/vnd.google.colaboratory.intrinsic+json": {
              "type": "dataframe",
              "summary": "{\n  \"name\": \"summary_train_scaled\",\n  \"rows\": 8,\n  \"fields\": [\n    {\n      \"column\": 0,\n      \"properties\": {\n        \"dtype\": \"number\",\n        \"std\": 430.14033775073784,\n        \"min\": 0.0,\n        \"max\": 1217.0,\n        \"num_unique_values\": 8,\n        \"samples\": [\n          0.3751480717281748,\n          0.2985080035552673,\n          1217.0\n        ],\n        \"semantic_type\": \"\",\n        \"description\": \"\"\n      }\n    },\n    {\n      \"column\": 1,\n      \"properties\": {\n        \"dtype\": \"number\",\n        \"std\": 430.11301489285245,\n        \"min\": 0.0,\n        \"max\": 1217.0,\n        \"num_unique_values\": 8,\n        \"samples\": [\n          0.5108488458285475,\n          0.5349748311400747,\n          1217.0\n        ],\n        \"semantic_type\": \"\",\n        \"description\": \"\"\n      }\n    },\n    {\n      \"column\": 2,\n      \"properties\": {\n        \"dtype\": \"number\",\n        \"std\": 430.2013432437374,\n        \"min\": 0.0,\n        \"max\": 1217.0,\n        \"num_unique_values\": 8,\n        \"samples\": [\n          0.1018006461002305,\n          0.0826757309581841,\n          1217.0\n        ],\n        \"semantic_type\": \"\",\n        \"description\": \"\"\n      }\n    },\n    {\n      \"column\": 3,\n      \"properties\": {\n        \"dtype\": \"number\",\n        \"std\": 430.20621841043464,\n        \"min\": 0.0,\n        \"max\": 1217.0,\n        \"num_unique_values\": 8,\n        \"samples\": [\n          0.08065509257682385,\n          0.07054718765977425,\n          1217.0\n        ],\n        \"semantic_type\": \"\",\n        \"description\": \"\"\n      }\n    }\n  ]\n}"
            }
          },
          "metadata": {},
          "execution_count": 150
        }
      ],
      "source": [
        "# Scale the features\n",
        "train_scaled, validation_scaled, test_scaled = scale_features(scaler, train, validation, test)\n",
        "summary_train_scaled = pd.DataFrame(train_scaled)\n",
        "summary_train_scaled.describe()"
      ]
    },
    {
      "cell_type": "code",
      "execution_count": 151,
      "id": "649ea3786bc0e3dd",
      "metadata": {
        "colab": {
          "base_uri": "https://localhost:8080/"
        },
        "id": "649ea3786bc0e3dd",
        "outputId": "3fb83f34-f9bb-4849-f7da-c14b65b9b256"
      },
      "outputs": [
        {
          "output_type": "stream",
          "name": "stdout",
          "text": [
            "(1177, 40, 4) (1177,)\n",
            "(144, 40, 4) (144,)\n",
            "(141, 40, 4) (141,)\n"
          ]
        }
      ],
      "source": [
        "# Create sequences for LSTM\n",
        "X_train, y_train = create_sequences(train_scaled, seq_length=seq_length)\n",
        "X_validation, y_validation = create_sequences(validation_scaled, seq_length=seq_length)\n",
        "X_test, y_test = create_sequences(test_scaled, seq_length=seq_length)\n",
        "print(X_train.shape, y_train.shape)\n",
        "print(X_validation.shape, y_validation.shape)\n",
        "print(X_test.shape, y_test.shape)"
      ]
    },
    {
      "cell_type": "code",
      "execution_count": 130,
      "id": "2b4789f2a3cbd18",
      "metadata": {
        "colab": {
          "base_uri": "https://localhost:8080/"
        },
        "id": "2b4789f2a3cbd18",
        "outputId": "d86a1f4a-9c24-49be-be72-31c6d116d0f3"
      },
      "outputs": [
        {
          "output_type": "stream",
          "name": "stdout",
          "text": [
            "(827, 40, 5) (827, 1)\n",
            "(96, 40, 5) (96, 1)\n",
            "(97, 40, 5) (97, 1)\n"
          ]
        }
      ],
      "source": [
        "# Reshape inputs for LSTM\n",
        "y_train = np.reshape(y_train, (-1, 1))\n",
        "y_test = np.reshape(y_test, (-1, 1))\n",
        "y_validation = np.reshape(y_validation, (-1, 1))\n",
        "print(X_train.shape, y_train.shape)\n",
        "print(X_validation.shape, y_validation.shape)\n",
        "print(X_test.shape, y_test.shape)"
      ]
    },
    {
      "cell_type": "code",
      "execution_count": 131,
      "id": "SFAhEf81hEL0",
      "metadata": {
        "id": "SFAhEf81hEL0",
        "colab": {
          "base_uri": "https://localhost:8080/"
        },
        "outputId": "d1c575bd-f55c-4944-e02e-69fda20fe00f"
      },
      "outputs": [
        {
          "output_type": "execute_result",
          "data": {
            "text/plain": [
              "<tf.Tensor 'sequential_6/dense_6/BiasAdd:0' shape=(1, 1) dtype=float32>"
            ]
          },
          "metadata": {},
          "execution_count": 131
        }
      ],
      "source": [
        "# Define the model\n",
        "model = define_model(optimizer, loss, seq_length=seq_length, num_parameters=len(features))\n",
        "model(tf.random.normal((1, seq_length, len(features))))"
      ]
    },
    {
      "cell_type": "code",
      "execution_count": 132,
      "id": "i0BmH8ubkYHf",
      "metadata": {
        "colab": {
          "base_uri": "https://localhost:8080/"
        },
        "id": "i0BmH8ubkYHf",
        "outputId": "eaf4db0c-2a51-4cb2-df90-e4d015d8784c"
      },
      "outputs": [
        {
          "output_type": "stream",
          "name": "stdout",
          "text": [
            "Train on 827 samples, validate on 96 samples\n",
            "Epoch 1/60\n",
            "827/827 [==============================] - ETA: 0s - loss: 0.0193 - mean_squared_error: 0.0193 - root_mean_squared_error: 0.1390"
          ]
        },
        {
          "output_type": "stream",
          "name": "stderr",
          "text": [
            "/usr/local/lib/python3.10/dist-packages/keras/src/engine/training_v1.py:2335: UserWarning: `Model.state_updates` will be removed in a future version. This property should not be used in TensorFlow 2.0, as `updates` are applied automatically.\n",
            "  updates = self.state_updates\n"
          ]
        },
        {
          "output_type": "stream",
          "name": "stdout",
          "text": [
            "\b\b\b\b\b\b\b\b\b\b\b\b\b\b\b\b\b\b\b\b\b\b\b\b\b\b\b\b\b\b\b\b\b\b\b\b\b\b\b\b\b\b\b\b\b\b\b\b\b\b\b\b\b\b\b\b\b\b\b\b\b\b\b\b\b\b\b\b\b\b\b\b\b\b\b\b\b\b\b\b\b\b\b\b\b\b\b\b\b\b\b\b\b\b\b\b\b\b\b\b\b\b\b\b\b\b\b\b\b\b\b\b\b\b\b\b\b\b\b\b\b\b\b\b\b\b\b\b\r827/827 [==============================] - 4s 5ms/sample - loss: 0.0193 - mean_squared_error: 0.0193 - root_mean_squared_error: 0.1390 - val_loss: 0.0026 - val_mean_squared_error: 0.0026 - val_root_mean_squared_error: 0.0512\n",
            "Epoch 2/60\n",
            "827/827 [==============================] - 2s 2ms/sample - loss: 0.0092 - mean_squared_error: 0.0092 - root_mean_squared_error: 0.0958 - val_loss: 0.0024 - val_mean_squared_error: 0.0024 - val_root_mean_squared_error: 0.0490\n",
            "Epoch 3/60\n",
            "827/827 [==============================] - 2s 2ms/sample - loss: 0.0062 - mean_squared_error: 0.0062 - root_mean_squared_error: 0.0790 - val_loss: 0.0028 - val_mean_squared_error: 0.0028 - val_root_mean_squared_error: 0.0530\n",
            "Epoch 4/60\n",
            "827/827 [==============================] - 2s 2ms/sample - loss: 0.0062 - mean_squared_error: 0.0062 - root_mean_squared_error: 0.0785 - val_loss: 0.0038 - val_mean_squared_error: 0.0038 - val_root_mean_squared_error: 0.0613\n",
            "Epoch 5/60\n",
            "827/827 [==============================] - 2s 2ms/sample - loss: 0.0052 - mean_squared_error: 0.0052 - root_mean_squared_error: 0.0723 - val_loss: 0.0040 - val_mean_squared_error: 0.0040 - val_root_mean_squared_error: 0.0631\n",
            "Epoch 6/60\n",
            "827/827 [==============================] - 3s 3ms/sample - loss: 0.0057 - mean_squared_error: 0.0057 - root_mean_squared_error: 0.0754 - val_loss: 0.0033 - val_mean_squared_error: 0.0033 - val_root_mean_squared_error: 0.0571\n",
            "Epoch 7/60\n",
            "827/827 [==============================] - 2s 2ms/sample - loss: 0.0049 - mean_squared_error: 0.0049 - root_mean_squared_error: 0.0702 - val_loss: 0.0022 - val_mean_squared_error: 0.0022 - val_root_mean_squared_error: 0.0471\n",
            "Epoch 8/60\n",
            "827/827 [==============================] - 2s 2ms/sample - loss: 0.0044 - mean_squared_error: 0.0044 - root_mean_squared_error: 0.0663 - val_loss: 0.0025 - val_mean_squared_error: 0.0025 - val_root_mean_squared_error: 0.0498\n",
            "Epoch 9/60\n",
            "827/827 [==============================] - 2s 2ms/sample - loss: 0.0059 - mean_squared_error: 0.0059 - root_mean_squared_error: 0.0770 - val_loss: 0.0088 - val_mean_squared_error: 0.0088 - val_root_mean_squared_error: 0.0936\n",
            "Epoch 10/60\n",
            "827/827 [==============================] - 2s 2ms/sample - loss: 0.0055 - mean_squared_error: 0.0055 - root_mean_squared_error: 0.0743 - val_loss: 0.0025 - val_mean_squared_error: 0.0025 - val_root_mean_squared_error: 0.0496\n",
            "Epoch 11/60\n",
            "827/827 [==============================] - 2s 2ms/sample - loss: 0.0038 - mean_squared_error: 0.0038 - root_mean_squared_error: 0.0613 - val_loss: 0.0026 - val_mean_squared_error: 0.0026 - val_root_mean_squared_error: 0.0506\n",
            "Epoch 12/60\n",
            "827/827 [==============================] - 2s 3ms/sample - loss: 0.0041 - mean_squared_error: 0.0041 - root_mean_squared_error: 0.0639 - val_loss: 0.0027 - val_mean_squared_error: 0.0027 - val_root_mean_squared_error: 0.0516\n",
            "Epoch 13/60\n",
            "827/827 [==============================] - 3s 4ms/sample - loss: 0.0042 - mean_squared_error: 0.0042 - root_mean_squared_error: 0.0648 - val_loss: 0.0028 - val_mean_squared_error: 0.0028 - val_root_mean_squared_error: 0.0531\n",
            "Epoch 14/60\n",
            "827/827 [==============================] - 2s 2ms/sample - loss: 0.0034 - mean_squared_error: 0.0034 - root_mean_squared_error: 0.0581 - val_loss: 9.6033e-04 - val_mean_squared_error: 9.6033e-04 - val_root_mean_squared_error: 0.0310\n",
            "Epoch 15/60\n",
            "827/827 [==============================] - 2s 2ms/sample - loss: 0.0037 - mean_squared_error: 0.0037 - root_mean_squared_error: 0.0605 - val_loss: 0.0017 - val_mean_squared_error: 0.0017 - val_root_mean_squared_error: 0.0412\n",
            "Epoch 16/60\n",
            "827/827 [==============================] - 2s 2ms/sample - loss: 0.0038 - mean_squared_error: 0.0038 - root_mean_squared_error: 0.0619 - val_loss: 9.3794e-04 - val_mean_squared_error: 9.3794e-04 - val_root_mean_squared_error: 0.0306\n",
            "Epoch 17/60\n",
            "827/827 [==============================] - 2s 2ms/sample - loss: 0.0034 - mean_squared_error: 0.0034 - root_mean_squared_error: 0.0586 - val_loss: 0.0032 - val_mean_squared_error: 0.0032 - val_root_mean_squared_error: 0.0566\n",
            "Epoch 18/60\n",
            "827/827 [==============================] - 2s 2ms/sample - loss: 0.0038 - mean_squared_error: 0.0038 - root_mean_squared_error: 0.0617 - val_loss: 9.0344e-04 - val_mean_squared_error: 9.0344e-04 - val_root_mean_squared_error: 0.0301\n",
            "Epoch 19/60\n",
            "827/827 [==============================] - 2s 3ms/sample - loss: 0.0029 - mean_squared_error: 0.0029 - root_mean_squared_error: 0.0537 - val_loss: 8.9630e-04 - val_mean_squared_error: 8.9630e-04 - val_root_mean_squared_error: 0.0299\n",
            "Epoch 20/60\n",
            "827/827 [==============================] - 3s 3ms/sample - loss: 0.0031 - mean_squared_error: 0.0031 - root_mean_squared_error: 0.0556 - val_loss: 8.6203e-04 - val_mean_squared_error: 8.6203e-04 - val_root_mean_squared_error: 0.0294\n",
            "Epoch 21/60\n",
            "827/827 [==============================] - 2s 2ms/sample - loss: 0.0031 - mean_squared_error: 0.0031 - root_mean_squared_error: 0.0559 - val_loss: 6.7759e-04 - val_mean_squared_error: 6.7759e-04 - val_root_mean_squared_error: 0.0260\n",
            "Epoch 22/60\n",
            "827/827 [==============================] - 2s 2ms/sample - loss: 0.0028 - mean_squared_error: 0.0028 - root_mean_squared_error: 0.0526 - val_loss: 0.0010 - val_mean_squared_error: 0.0010 - val_root_mean_squared_error: 0.0318\n",
            "Epoch 23/60\n",
            "827/827 [==============================] - 2s 2ms/sample - loss: 0.0031 - mean_squared_error: 0.0031 - root_mean_squared_error: 0.0561 - val_loss: 0.0013 - val_mean_squared_error: 0.0013 - val_root_mean_squared_error: 0.0358\n",
            "Epoch 24/60\n",
            "827/827 [==============================] - 2s 2ms/sample - loss: 0.0033 - mean_squared_error: 0.0033 - root_mean_squared_error: 0.0576 - val_loss: 0.0015 - val_mean_squared_error: 0.0015 - val_root_mean_squared_error: 0.0382\n",
            "Epoch 25/60\n",
            "827/827 [==============================] - 2s 2ms/sample - loss: 0.0026 - mean_squared_error: 0.0026 - root_mean_squared_error: 0.0511 - val_loss: 7.8410e-04 - val_mean_squared_error: 7.8410e-04 - val_root_mean_squared_error: 0.0280\n",
            "Epoch 26/60\n",
            "827/827 [==============================] - 2s 3ms/sample - loss: 0.0031 - mean_squared_error: 0.0031 - root_mean_squared_error: 0.0559 - val_loss: 3.8275e-04 - val_mean_squared_error: 3.8275e-04 - val_root_mean_squared_error: 0.0196\n",
            "Epoch 27/60\n",
            "827/827 [==============================] - 3s 3ms/sample - loss: 0.0026 - mean_squared_error: 0.0026 - root_mean_squared_error: 0.0508 - val_loss: 4.7656e-04 - val_mean_squared_error: 4.7656e-04 - val_root_mean_squared_error: 0.0218\n",
            "Epoch 28/60\n",
            "827/827 [==============================] - 2s 2ms/sample - loss: 0.0025 - mean_squared_error: 0.0025 - root_mean_squared_error: 0.0496 - val_loss: 8.6641e-04 - val_mean_squared_error: 8.6641e-04 - val_root_mean_squared_error: 0.0294\n",
            "Epoch 29/60\n",
            "827/827 [==============================] - 2s 2ms/sample - loss: 0.0025 - mean_squared_error: 0.0025 - root_mean_squared_error: 0.0498 - val_loss: 7.7643e-04 - val_mean_squared_error: 7.7643e-04 - val_root_mean_squared_error: 0.0279\n",
            "Epoch 30/60\n",
            "827/827 [==============================] - 2s 2ms/sample - loss: 0.0026 - mean_squared_error: 0.0026 - root_mean_squared_error: 0.0505 - val_loss: 4.0766e-04 - val_mean_squared_error: 4.0766e-04 - val_root_mean_squared_error: 0.0202\n",
            "Epoch 31/60\n",
            "827/827 [==============================] - 2s 2ms/sample - loss: 0.0028 - mean_squared_error: 0.0028 - root_mean_squared_error: 0.0527 - val_loss: 4.7888e-04 - val_mean_squared_error: 4.7888e-04 - val_root_mean_squared_error: 0.0219\n",
            "Epoch 32/60\n",
            "827/827 [==============================] - 2s 2ms/sample - loss: 0.0024 - mean_squared_error: 0.0024 - root_mean_squared_error: 0.0491 - val_loss: 9.5340e-04 - val_mean_squared_error: 9.5340e-04 - val_root_mean_squared_error: 0.0309\n",
            "Epoch 33/60\n",
            "827/827 [==============================] - 3s 3ms/sample - loss: 0.0029 - mean_squared_error: 0.0029 - root_mean_squared_error: 0.0543 - val_loss: 4.6276e-04 - val_mean_squared_error: 4.6276e-04 - val_root_mean_squared_error: 0.0215\n",
            "Epoch 34/60\n",
            "827/827 [==============================] - 2s 3ms/sample - loss: 0.0027 - mean_squared_error: 0.0027 - root_mean_squared_error: 0.0518 - val_loss: 5.6050e-04 - val_mean_squared_error: 5.6050e-04 - val_root_mean_squared_error: 0.0237\n",
            "Epoch 35/60\n",
            "827/827 [==============================] - 2s 2ms/sample - loss: 0.0024 - mean_squared_error: 0.0024 - root_mean_squared_error: 0.0491 - val_loss: 6.3162e-04 - val_mean_squared_error: 6.3162e-04 - val_root_mean_squared_error: 0.0251\n",
            "Epoch 36/60\n",
            "827/827 [==============================] - 2s 2ms/sample - loss: 0.0025 - mean_squared_error: 0.0025 - root_mean_squared_error: 0.0505 - val_loss: 4.9297e-04 - val_mean_squared_error: 4.9297e-04 - val_root_mean_squared_error: 0.0222\n",
            "Epoch 37/60\n",
            "827/827 [==============================] - 2s 2ms/sample - loss: 0.0023 - mean_squared_error: 0.0023 - root_mean_squared_error: 0.0478 - val_loss: 6.0370e-04 - val_mean_squared_error: 6.0370e-04 - val_root_mean_squared_error: 0.0246\n",
            "Epoch 38/60\n",
            "827/827 [==============================] - 2s 2ms/sample - loss: 0.0024 - mean_squared_error: 0.0024 - root_mean_squared_error: 0.0493 - val_loss: 5.9818e-04 - val_mean_squared_error: 5.9818e-04 - val_root_mean_squared_error: 0.0245\n",
            "Epoch 39/60\n",
            "827/827 [==============================] - 2s 2ms/sample - loss: 0.0023 - mean_squared_error: 0.0023 - root_mean_squared_error: 0.0480 - val_loss: 7.5095e-04 - val_mean_squared_error: 7.5095e-04 - val_root_mean_squared_error: 0.0274\n",
            "Epoch 40/60\n",
            "827/827 [==============================] - 3s 3ms/sample - loss: 0.0023 - mean_squared_error: 0.0023 - root_mean_squared_error: 0.0480 - val_loss: 4.0512e-04 - val_mean_squared_error: 4.0512e-04 - val_root_mean_squared_error: 0.0201\n",
            "Epoch 41/60\n",
            "827/827 [==============================] - 2s 3ms/sample - loss: 0.0018 - mean_squared_error: 0.0018 - root_mean_squared_error: 0.0421 - val_loss: 8.1060e-04 - val_mean_squared_error: 8.1060e-04 - val_root_mean_squared_error: 0.0285\n",
            "Epoch 42/60\n",
            "827/827 [==============================] - 2s 3ms/sample - loss: 0.0021 - mean_squared_error: 0.0021 - root_mean_squared_error: 0.0456 - val_loss: 3.8211e-04 - val_mean_squared_error: 3.8211e-04 - val_root_mean_squared_error: 0.0195\n",
            "Epoch 43/60\n",
            "827/827 [==============================] - 2s 2ms/sample - loss: 0.0022 - mean_squared_error: 0.0022 - root_mean_squared_error: 0.0466 - val_loss: 4.6062e-04 - val_mean_squared_error: 4.6062e-04 - val_root_mean_squared_error: 0.0215\n",
            "Epoch 44/60\n",
            "827/827 [==============================] - 2s 2ms/sample - loss: 0.0021 - mean_squared_error: 0.0021 - root_mean_squared_error: 0.0458 - val_loss: 0.0010 - val_mean_squared_error: 0.0010 - val_root_mean_squared_error: 0.0320\n",
            "Epoch 45/60\n",
            "827/827 [==============================] - 2s 2ms/sample - loss: 0.0020 - mean_squared_error: 0.0020 - root_mean_squared_error: 0.0451 - val_loss: 9.7881e-04 - val_mean_squared_error: 9.7881e-04 - val_root_mean_squared_error: 0.0313\n",
            "Epoch 46/60\n",
            "827/827 [==============================] - 3s 4ms/sample - loss: 0.0021 - mean_squared_error: 0.0021 - root_mean_squared_error: 0.0454 - val_loss: 9.7955e-04 - val_mean_squared_error: 9.7955e-04 - val_root_mean_squared_error: 0.0313\n",
            "Epoch 47/60\n",
            "827/827 [==============================] - 3s 3ms/sample - loss: 0.0019 - mean_squared_error: 0.0019 - root_mean_squared_error: 0.0438 - val_loss: 4.9503e-04 - val_mean_squared_error: 4.9503e-04 - val_root_mean_squared_error: 0.0222\n",
            "Epoch 48/60\n",
            "827/827 [==============================] - 2s 2ms/sample - loss: 0.0021 - mean_squared_error: 0.0021 - root_mean_squared_error: 0.0455 - val_loss: 2.9296e-04 - val_mean_squared_error: 2.9296e-04 - val_root_mean_squared_error: 0.0171\n",
            "Epoch 49/60\n",
            "827/827 [==============================] - 2s 2ms/sample - loss: 0.0020 - mean_squared_error: 0.0020 - root_mean_squared_error: 0.0447 - val_loss: 3.0473e-04 - val_mean_squared_error: 3.0473e-04 - val_root_mean_squared_error: 0.0175\n",
            "Epoch 50/60\n",
            "827/827 [==============================] - 2s 2ms/sample - loss: 0.0021 - mean_squared_error: 0.0021 - root_mean_squared_error: 0.0459 - val_loss: 4.0445e-04 - val_mean_squared_error: 4.0445e-04 - val_root_mean_squared_error: 0.0201\n",
            "Epoch 51/60\n",
            "827/827 [==============================] - 2s 2ms/sample - loss: 0.0020 - mean_squared_error: 0.0020 - root_mean_squared_error: 0.0451 - val_loss: 7.3824e-04 - val_mean_squared_error: 7.3824e-04 - val_root_mean_squared_error: 0.0272\n",
            "Epoch 52/60\n",
            "827/827 [==============================] - 2s 2ms/sample - loss: 0.0022 - mean_squared_error: 0.0022 - root_mean_squared_error: 0.0471 - val_loss: 3.0959e-04 - val_mean_squared_error: 3.0959e-04 - val_root_mean_squared_error: 0.0176\n",
            "Epoch 53/60\n",
            "827/827 [==============================] - 3s 3ms/sample - loss: 0.0018 - mean_squared_error: 0.0018 - root_mean_squared_error: 0.0428 - val_loss: 3.4075e-04 - val_mean_squared_error: 3.4075e-04 - val_root_mean_squared_error: 0.0185\n",
            "Epoch 54/60\n",
            "827/827 [==============================] - 2s 3ms/sample - loss: 0.0022 - mean_squared_error: 0.0022 - root_mean_squared_error: 0.0468 - val_loss: 2.6678e-04 - val_mean_squared_error: 2.6678e-04 - val_root_mean_squared_error: 0.0163\n",
            "Epoch 55/60\n",
            "827/827 [==============================] - 2s 2ms/sample - loss: 0.0018 - mean_squared_error: 0.0018 - root_mean_squared_error: 0.0426 - val_loss: 4.8796e-04 - val_mean_squared_error: 4.8796e-04 - val_root_mean_squared_error: 0.0221\n",
            "Epoch 56/60\n",
            "827/827 [==============================] - 2s 2ms/sample - loss: 0.0021 - mean_squared_error: 0.0021 - root_mean_squared_error: 0.0461 - val_loss: 4.8470e-04 - val_mean_squared_error: 4.8470e-04 - val_root_mean_squared_error: 0.0220\n",
            "Epoch 57/60\n",
            "827/827 [==============================] - 2s 2ms/sample - loss: 0.0017 - mean_squared_error: 0.0017 - root_mean_squared_error: 0.0413 - val_loss: 6.7127e-04 - val_mean_squared_error: 6.7127e-04 - val_root_mean_squared_error: 0.0259\n",
            "Epoch 58/60\n",
            "827/827 [==============================] - 2s 2ms/sample - loss: 0.0017 - mean_squared_error: 0.0017 - root_mean_squared_error: 0.0410 - val_loss: 4.2600e-04 - val_mean_squared_error: 4.2600e-04 - val_root_mean_squared_error: 0.0206\n",
            "Epoch 59/60\n",
            "827/827 [==============================] - 2s 2ms/sample - loss: 0.0018 - mean_squared_error: 0.0018 - root_mean_squared_error: 0.0429 - val_loss: 3.6517e-04 - val_mean_squared_error: 3.6517e-04 - val_root_mean_squared_error: 0.0191\n",
            "Epoch 60/60\n",
            "827/827 [==============================] - 3s 3ms/sample - loss: 0.0016 - mean_squared_error: 0.0016 - root_mean_squared_error: 0.0404 - val_loss: 5.2498e-04 - val_mean_squared_error: 5.2498e-04 - val_root_mean_squared_error: 0.0229\n"
          ]
        }
      ],
      "source": [
        "# Train the model\n",
        "history = train_model(model, X_train, y_train, X_validation, y_validation, epochs=epochs_train)"
      ]
    },
    {
      "cell_type": "code",
      "execution_count": 133,
      "id": "35CzJ_cXkiE8",
      "metadata": {
        "id": "35CzJ_cXkiE8",
        "colab": {
          "base_uri": "https://localhost:8080/",
          "height": 356
        },
        "outputId": "27bfa589-3c5e-4895-b913-4cacb0d0856c"
      },
      "outputs": [
        {
          "output_type": "display_data",
          "data": {
            "text/plain": [
              "<Figure size 1000x500 with 1 Axes>"
            ],
            "image/png": "[encoded data removed]"
          },
          "metadata": {}
        }
      ],
      "source": [
        "# Visualize loss\n",
        "visualize_loss(history)"
      ]
    },
    {
      "cell_type": "code",
      "source": [
        "# Test the model\n",
        "predicted_price, history = test_model(model, train, X_test, y_test)\n",
        "print(predicted_price.shape)\n",
        "print(predicted_price[0:10])\n",
        "print(model.metrics_names)\n",
        "print(history)"
      ],
      "metadata": {
        "colab": {
          "base_uri": "https://localhost:8080/"
        },
        "id": "x9xMIJFus3JI",
        "outputId": "21c0882d-8627-4337-e67b-54133dd4569c"
      },
      "id": "x9xMIJFus3JI",
      "execution_count": 134,
      "outputs": [
        {
          "output_type": "stream",
          "name": "stderr",
          "text": [
            "/usr/local/lib/python3.10/dist-packages/keras/src/engine/training_v1.py:2359: UserWarning: `Model.state_updates` will be removed in a future version. This property should not be used in TensorFlow 2.0, as `updates` are applied automatically.\n",
            "  updates=self.state_updates,\n"
          ]
        },
        {
          "output_type": "stream",
          "name": "stdout",
          "text": [
            "(97, 1)\n",
            "[[90.458405]\n",
            " [88.56127 ]\n",
            " [87.27137 ]\n",
            " [86.36061 ]\n",
            " [86.35789 ]\n",
            " [87.7513  ]\n",
            " [90.43277 ]\n",
            " [93.44152 ]\n",
            " [95.480194]\n",
            " [96.54806 ]]\n",
            "['loss', 'mean_squared_error', 'root_mean_squared_error']\n",
            "[0.0022526663276798945, 0.0022526663, 0.047462262]\n"
          ]
        }
      ]
    },
    {
      "cell_type": "code",
      "source": [
        "visualize_results(df, predicted_price, date_validation, coin, seq_length=seq_length)"
      ],
      "metadata": {
        "colab": {
          "base_uri": "https://localhost:8080/",
          "height": 421
        },
        "id": "X3I011h8tyr1",
        "outputId": "b6270366-ff79-4904-b480-ec91cd8a86c8"
      },
      "id": "X3I011h8tyr1",
      "execution_count": 135,
      "outputs": [
        {
          "output_type": "display_data",
          "data": {
            "text/plain": [
              "<Figure size 1000x600 with 1 Axes>"
            ],
            "image/png": "[encoded data removed]"
          },
          "metadata": {}
        }
      ]
    },
    {
      "cell_type": "code",
      "source": [
        "explainer = shap.DeepExplainer(model, X_train)\n",
        "shap_values = explainer(X_test)"
      ],
      "metadata": {
        "colab": {
          "base_uri": "https://localhost:8080/"
        },
        "id": "FCwkos5K7ERr",
        "outputId": "c312003b-1468-46de-91e0-70ed77bd7824"
      },
      "id": "FCwkos5K7ERr",
      "execution_count": 136,
      "outputs": [
        {
          "output_type": "stream",
          "name": "stderr",
          "text": [
            "/usr/local/lib/python3.10/dist-packages/shap/explainers/_deep/deep_tf.py:99: UserWarning: Your TensorFlow version is newer than 2.4.0 and so graph support has been removed in eager mode and some static graphs may not be supported. See PR #1483 for discussion.\n",
            "  warnings.warn(\"Your TensorFlow version is newer than 2.4.0 and so graph support has been removed in eager mode and some static graphs may not be supported. See PR #1483 for discussion.\")\n"
          ]
        }
      ]
    },
    {
      "cell_type": "code",
      "source": [
        "print(shap_values.shape)"
      ],
      "metadata": {
        "colab": {
          "base_uri": "https://localhost:8080/"
        },
        "id": "gxCm3j_eNTiv",
        "outputId": "00c7b3d7-6d5d-4530-8d9d-87e36abdf0e8"
      },
      "id": "gxCm3j_eNTiv",
      "execution_count": 137,
      "outputs": [
        {
          "output_type": "stream",
          "name": "stdout",
          "text": [
            "(97, 40, 5, 1)\n"
          ]
        }
      ]
    },
    {
      "cell_type": "code",
      "source": [
        "shap.summary_plot(shap_values[:,0,:,0], feature_names=features)"
      ],
      "metadata": {
        "colab": {
          "base_uri": "https://localhost:8080/",
          "height": 291
        },
        "id": "rEfbW-b6LXYJ",
        "outputId": "94b7aac4-999e-44b9-cbc6-ef469eda9ad0"
      },
      "id": "rEfbW-b6LXYJ",
      "execution_count": 138,
      "outputs": [
        {
          "output_type": "display_data",
          "data": {
            "text/plain": [
              "<Figure size 800x350 with 2 Axes>"
            ],
            "image/png": "[encoded data removed]"
          },
          "metadata": {}
        }
      ]
    },
    {
      "cell_type": "markdown",
      "source": [
        "### Run the loop to test hyperparameters"
      ],
      "metadata": {
        "id": "che_-eMfe0ul"
      },
      "id": "che_-eMfe0ul"
    },
    {
      "cell_type": "code",
      "source": [
        "def run_model_with_configs(coin, date_train, date_validation, features_list, seq_length_list, epochs_list):\n",
        "  history_dict = {}\n",
        "  df = read_data(coin)\n",
        "\n",
        "  for features in features_list:\n",
        "    for seq_length in seq_length_list:\n",
        "      for epochs in epochs_list:\n",
        "        train, validation, test = train_test_val(df, date_train, date_validation, features)\n",
        "        scaler = MinMaxScaler(feature_range=(0, 1))\n",
        "        train_scaled, validation_scaled, test_scaled = scale_features(scaler, train, validation, test)\n",
        "        X_train, y_train = create_sequences(train_scaled, seq_length=seq_length)\n",
        "        X_validation, y_validation = create_sequences(validation_scaled, seq_length=seq_length)\n",
        "        X_test, y_test = create_sequences(test_scaled, seq_length=seq_length)\n",
        "        y_train = np.reshape(y_train, (-1, 1))\n",
        "        y_test = np.reshape(y_test, (-1, 1))\n",
        "        y_validation = np.reshape(y_validation, (-1, 1))\n",
        "\n",
        "        # Define, train and test the model\n",
        "        model = define_model(optimizer, loss, seq_length=seq_length, num_parameters=len(features))\n",
        "        train_model(model, X_train, y_train, X_validation, y_validation, epochs=epochs)\n",
        "        predicted_price, history = test_model(model, train, X_test, y_test)\n",
        "\n",
        "        # Store history with a key representing the configuration\n",
        "        key = (tuple(features), seq_length, epochs)\n",
        "        history_dict[key] = history\n",
        "\n",
        "  return history_dict\n",
        "\n",
        "\n",
        "features_list = [[\"Adj Close\", \"sentiment_score\", \"normalized_influence_robust\", \"Volume\"], [\"Adj Close\", \"sentiment_score\", \"normalized_influence_robust\", \"Volume\"], [\"Adj Close\", \"sentiment_score\", \"normalized_influence_minmax\", \"Volume\"], [\"Adj Close\", \"sentiment_score\", \"normalized_influence_standard\", \"Volume\"]]\n",
        "seq_length_list = [40]\n",
        "epochs_list = [60]\n",
        "\n",
        "history_dict = run_model_with_configs(coin, date_train, date_validation, features_list, seq_length_list, epochs_list)\n",
        "\n",
        "print(history_dict)"
      ],
      "metadata": {
        "id": "2eq3uhEiQpMQ",
        "colab": {
          "base_uri": "https://localhost:8080/"
        },
        "outputId": "5598adb3-7277-4a13-874b-7c5f7e258c9e"
      },
      "id": "2eq3uhEiQpMQ",
      "execution_count": 152,
      "outputs": [
        {
          "output_type": "stream",
          "name": "stdout",
          "text": [
            "     Adj Close  sentiment_score  normalized_influence_robust        Volume\n",
            "0  7200.174316         0.548312                     3.988636  1.856566e+10\n",
            "1  6985.470215         0.497812                     1.284091  2.080208e+10\n",
            "2  7344.884277         0.125570                     2.972727  2.811148e+10\n",
            "3  7410.656738         0.650860                     0.463636  1.844427e+10\n",
            "4  7411.317383         0.357350                    -0.045455  1.972507e+10\n",
            "Train on 1177 samples, validate on 144 samples\n",
            "Epoch 1/60\n",
            "1177/1177 [==============================] - ETA: 0s - loss: 0.0356 - mean_squared_error: 0.0356 - root_mean_squared_error: 0.1887"
          ]
        },
        {
          "output_type": "stream",
          "name": "stderr",
          "text": [
            "/usr/local/lib/python3.10/dist-packages/keras/src/engine/training_v1.py:2335: UserWarning: `Model.state_updates` will be removed in a future version. This property should not be used in TensorFlow 2.0, as `updates` are applied automatically.\n",
            "  updates = self.state_updates\n"
          ]
        },
        {
          "output_type": "stream",
          "name": "stdout",
          "text": [
            "\b\b\b\b\b\b\b\b\b\b\b\b\b\b\b\b\b\b\b\b\b\b\b\b\b\b\b\b\b\b\b\b\b\b\b\b\b\b\b\b\b\b\b\b\b\b\b\b\b\b\b\b\b\b\b\b\b\b\b\b\b\b\b\b\b\b\b\b\b\b\b\b\b\b\b\b\b\b\b\b\b\b\b\b\b\b\b\b\b\b\b\b\b\b\b\b\b\b\b\b\b\b\b\b\b\b\b\b\b\b\b\b\b\b\b\b\b\b\b\b\b\b\b\b\b\b\b\b\b\b\r1177/1177 [==============================] - 7s 6ms/sample - loss: 0.0356 - mean_squared_error: 0.0356 - root_mean_squared_error: 0.1887 - val_loss: 0.0028 - val_mean_squared_error: 0.0028 - val_root_mean_squared_error: 0.0530\n",
            "Epoch 2/60\n",
            "1177/1177 [==============================] - 3s 2ms/sample - loss: 0.0078 - mean_squared_error: 0.0078 - root_mean_squared_error: 0.0881 - val_loss: 0.0018 - val_mean_squared_error: 0.0018 - val_root_mean_squared_error: 0.0428\n",
            "Epoch 3/60\n",
            "1177/1177 [==============================] - 3s 2ms/sample - loss: 0.0069 - mean_squared_error: 0.0069 - root_mean_squared_error: 0.0829 - val_loss: 0.0013 - val_mean_squared_error: 0.0013 - val_root_mean_squared_error: 0.0354\n",
            "Epoch 4/60\n",
            "1177/1177 [==============================] - 3s 3ms/sample - loss: 0.0062 - mean_squared_error: 0.0062 - root_mean_squared_error: 0.0786 - val_loss: 0.0012 - val_mean_squared_error: 0.0012 - val_root_mean_squared_error: 0.0339\n",
            "Epoch 5/60\n",
            "1177/1177 [==============================] - 4s 3ms/sample - loss: 0.0059 - mean_squared_error: 0.0059 - root_mean_squared_error: 0.0770 - val_loss: 0.0011 - val_mean_squared_error: 0.0011 - val_root_mean_squared_error: 0.0326\n",
            "Epoch 6/60\n",
            "1177/1177 [==============================] - 3s 2ms/sample - loss: 0.0061 - mean_squared_error: 0.0061 - root_mean_squared_error: 0.0783 - val_loss: 0.0017 - val_mean_squared_error: 0.0017 - val_root_mean_squared_error: 0.0417\n",
            "Epoch 7/60\n",
            "1177/1177 [==============================] - 3s 2ms/sample - loss: 0.0065 - mean_squared_error: 0.0065 - root_mean_squared_error: 0.0804 - val_loss: 0.0026 - val_mean_squared_error: 0.0026 - val_root_mean_squared_error: 0.0514\n",
            "Epoch 8/60\n",
            "1177/1177 [==============================] - 3s 2ms/sample - loss: 0.0056 - mean_squared_error: 0.0056 - root_mean_squared_error: 0.0749 - val_loss: 0.0017 - val_mean_squared_error: 0.0017 - val_root_mean_squared_error: 0.0407\n",
            "Epoch 9/60\n",
            "1177/1177 [==============================] - 3s 3ms/sample - loss: 0.0047 - mean_squared_error: 0.0047 - root_mean_squared_error: 0.0682 - val_loss: 9.9306e-04 - val_mean_squared_error: 9.9306e-04 - val_root_mean_squared_error: 0.0315\n",
            "Epoch 10/60\n",
            "1177/1177 [==============================] - 3s 3ms/sample - loss: 0.0052 - mean_squared_error: 0.0052 - root_mean_squared_error: 0.0719 - val_loss: 0.0011 - val_mean_squared_error: 0.0011 - val_root_mean_squared_error: 0.0329\n",
            "Epoch 11/60\n",
            "1177/1177 [==============================] - 3s 2ms/sample - loss: 0.0046 - mean_squared_error: 0.0046 - root_mean_squared_error: 0.0676 - val_loss: 0.0010 - val_mean_squared_error: 0.0010 - val_root_mean_squared_error: 0.0322\n",
            "Epoch 12/60\n",
            "1177/1177 [==============================] - 3s 2ms/sample - loss: 0.0042 - mean_squared_error: 0.0042 - root_mean_squared_error: 0.0649 - val_loss: 8.6671e-04 - val_mean_squared_error: 8.6671e-04 - val_root_mean_squared_error: 0.0294\n",
            "Epoch 13/60\n",
            "1177/1177 [==============================] - 3s 2ms/sample - loss: 0.0043 - mean_squared_error: 0.0043 - root_mean_squared_error: 0.0659 - val_loss: 0.0011 - val_mean_squared_error: 0.0011 - val_root_mean_squared_error: 0.0330\n",
            "Epoch 14/60\n",
            "1177/1177 [==============================] - 4s 3ms/sample - loss: 0.0040 - mean_squared_error: 0.0040 - root_mean_squared_error: 0.0633 - val_loss: 7.7826e-04 - val_mean_squared_error: 7.7826e-04 - val_root_mean_squared_error: 0.0279\n",
            "Epoch 15/60\n",
            "1177/1177 [==============================] - 3s 3ms/sample - loss: 0.0043 - mean_squared_error: 0.0043 - root_mean_squared_error: 0.0653 - val_loss: 7.4209e-04 - val_mean_squared_error: 7.4209e-04 - val_root_mean_squared_error: 0.0272\n",
            "Epoch 16/60\n",
            "1177/1177 [==============================] - 3s 2ms/sample - loss: 0.0041 - mean_squared_error: 0.0041 - root_mean_squared_error: 0.0637 - val_loss: 0.0010 - val_mean_squared_error: 0.0010 - val_root_mean_squared_error: 0.0322\n",
            "Epoch 17/60\n",
            "1177/1177 [==============================] - 3s 2ms/sample - loss: 0.0033 - mean_squared_error: 0.0033 - root_mean_squared_error: 0.0574 - val_loss: 7.3219e-04 - val_mean_squared_error: 7.3219e-04 - val_root_mean_squared_error: 0.0271\n",
            "Epoch 18/60\n",
            "1177/1177 [==============================] - 3s 2ms/sample - loss: 0.0038 - mean_squared_error: 0.0038 - root_mean_squared_error: 0.0620 - val_loss: 7.8043e-04 - val_mean_squared_error: 7.8043e-04 - val_root_mean_squared_error: 0.0279\n",
            "Epoch 19/60\n",
            "1177/1177 [==============================] - 4s 3ms/sample - loss: 0.0035 - mean_squared_error: 0.0035 - root_mean_squared_error: 0.0589 - val_loss: 8.3304e-04 - val_mean_squared_error: 8.3304e-04 - val_root_mean_squared_error: 0.0289\n",
            "Epoch 20/60\n",
            "1177/1177 [==============================] - 3s 2ms/sample - loss: 0.0035 - mean_squared_error: 0.0035 - root_mean_squared_error: 0.0588 - val_loss: 0.0014 - val_mean_squared_error: 0.0014 - val_root_mean_squared_error: 0.0377\n",
            "Epoch 21/60\n",
            "1177/1177 [==============================] - 3s 2ms/sample - loss: 0.0035 - mean_squared_error: 0.0035 - root_mean_squared_error: 0.0590 - val_loss: 5.8904e-04 - val_mean_squared_error: 5.8904e-04 - val_root_mean_squared_error: 0.0243\n",
            "Epoch 22/60\n",
            "1177/1177 [==============================] - 3s 2ms/sample - loss: 0.0035 - mean_squared_error: 0.0035 - root_mean_squared_error: 0.0592 - val_loss: 5.7410e-04 - val_mean_squared_error: 5.7410e-04 - val_root_mean_squared_error: 0.0240\n",
            "Epoch 23/60\n",
            "1177/1177 [==============================] - 3s 3ms/sample - loss: 0.0030 - mean_squared_error: 0.0030 - root_mean_squared_error: 0.0547 - val_loss: 6.4758e-04 - val_mean_squared_error: 6.4758e-04 - val_root_mean_squared_error: 0.0254\n",
            "Epoch 24/60\n",
            "1177/1177 [==============================] - 4s 3ms/sample - loss: 0.0039 - mean_squared_error: 0.0039 - root_mean_squared_error: 0.0627 - val_loss: 0.0020 - val_mean_squared_error: 0.0020 - val_root_mean_squared_error: 0.0449\n",
            "Epoch 25/60\n",
            "1177/1177 [==============================] - 3s 2ms/sample - loss: 0.0029 - mean_squared_error: 0.0029 - root_mean_squared_error: 0.0542 - val_loss: 5.9716e-04 - val_mean_squared_error: 5.9716e-04 - val_root_mean_squared_error: 0.0244\n",
            "Epoch 26/60\n",
            "1177/1177 [==============================] - 3s 2ms/sample - loss: 0.0028 - mean_squared_error: 0.0028 - root_mean_squared_error: 0.0528 - val_loss: 9.1230e-04 - val_mean_squared_error: 9.1230e-04 - val_root_mean_squared_error: 0.0302\n",
            "Epoch 27/60\n",
            "1177/1177 [==============================] - 3s 2ms/sample - loss: 0.0027 - mean_squared_error: 0.0027 - root_mean_squared_error: 0.0515 - val_loss: 5.2697e-04 - val_mean_squared_error: 5.2697e-04 - val_root_mean_squared_error: 0.0230\n",
            "Epoch 28/60\n",
            "1177/1177 [==============================] - 3s 3ms/sample - loss: 0.0025 - mean_squared_error: 0.0025 - root_mean_squared_error: 0.0504 - val_loss: 5.4553e-04 - val_mean_squared_error: 5.4553e-04 - val_root_mean_squared_error: 0.0234\n",
            "Epoch 29/60\n",
            "1177/1177 [==============================] - 4s 3ms/sample - loss: 0.0029 - mean_squared_error: 0.0029 - root_mean_squared_error: 0.0538 - val_loss: 4.9529e-04 - val_mean_squared_error: 4.9529e-04 - val_root_mean_squared_error: 0.0223\n",
            "Epoch 30/60\n",
            "1177/1177 [==============================] - 3s 2ms/sample - loss: 0.0027 - mean_squared_error: 0.0027 - root_mean_squared_error: 0.0522 - val_loss: 6.2722e-04 - val_mean_squared_error: 6.2722e-04 - val_root_mean_squared_error: 0.0250\n",
            "Epoch 31/60\n",
            "1177/1177 [==============================] - 3s 2ms/sample - loss: 0.0030 - mean_squared_error: 0.0030 - root_mean_squared_error: 0.0548 - val_loss: 4.6530e-04 - val_mean_squared_error: 4.6530e-04 - val_root_mean_squared_error: 0.0216\n",
            "Epoch 32/60\n",
            "1177/1177 [==============================] - 3s 2ms/sample - loss: 0.0025 - mean_squared_error: 0.0025 - root_mean_squared_error: 0.0500 - val_loss: 4.4676e-04 - val_mean_squared_error: 4.4676e-04 - val_root_mean_squared_error: 0.0211\n",
            "Epoch 33/60\n",
            "1177/1177 [==============================] - 4s 3ms/sample - loss: 0.0028 - mean_squared_error: 0.0028 - root_mean_squared_error: 0.0528 - val_loss: 5.6313e-04 - val_mean_squared_error: 5.6313e-04 - val_root_mean_squared_error: 0.0237\n",
            "Epoch 34/60\n",
            "1177/1177 [==============================] - 3s 2ms/sample - loss: 0.0026 - mean_squared_error: 0.0026 - root_mean_squared_error: 0.0513 - val_loss: 6.2282e-04 - val_mean_squared_error: 6.2282e-04 - val_root_mean_squared_error: 0.0250\n",
            "Epoch 35/60\n",
            "1177/1177 [==============================] - 3s 2ms/sample - loss: 0.0028 - mean_squared_error: 0.0028 - root_mean_squared_error: 0.0527 - val_loss: 4.9641e-04 - val_mean_squared_error: 4.9641e-04 - val_root_mean_squared_error: 0.0223\n",
            "Epoch 36/60\n",
            "1177/1177 [==============================] - 3s 2ms/sample - loss: 0.0031 - mean_squared_error: 0.0031 - root_mean_squared_error: 0.0556 - val_loss: 0.0015 - val_mean_squared_error: 0.0015 - val_root_mean_squared_error: 0.0383\n",
            "Epoch 37/60\n",
            "1177/1177 [==============================] - 3s 3ms/sample - loss: 0.0025 - mean_squared_error: 0.0025 - root_mean_squared_error: 0.0496 - val_loss: 4.1321e-04 - val_mean_squared_error: 4.1321e-04 - val_root_mean_squared_error: 0.0203\n",
            "Epoch 38/60\n",
            "1177/1177 [==============================] - 3s 3ms/sample - loss: 0.0024 - mean_squared_error: 0.0024 - root_mean_squared_error: 0.0492 - val_loss: 6.2842e-04 - val_mean_squared_error: 6.2842e-04 - val_root_mean_squared_error: 0.0251\n",
            "Epoch 39/60\n",
            "1177/1177 [==============================] - 3s 2ms/sample - loss: 0.0028 - mean_squared_error: 0.0028 - root_mean_squared_error: 0.0527 - val_loss: 4.3814e-04 - val_mean_squared_error: 4.3814e-04 - val_root_mean_squared_error: 0.0209\n",
            "Epoch 40/60\n",
            "1177/1177 [==============================] - 3s 2ms/sample - loss: 0.0028 - mean_squared_error: 0.0028 - root_mean_squared_error: 0.0530 - val_loss: 5.6963e-04 - val_mean_squared_error: 5.6963e-04 - val_root_mean_squared_error: 0.0239\n",
            "Epoch 41/60\n",
            "1177/1177 [==============================] - 3s 2ms/sample - loss: 0.0024 - mean_squared_error: 0.0024 - root_mean_squared_error: 0.0485 - val_loss: 4.0996e-04 - val_mean_squared_error: 4.0996e-04 - val_root_mean_squared_error: 0.0202\n",
            "Epoch 42/60\n",
            "1177/1177 [==============================] - 4s 3ms/sample - loss: 0.0025 - mean_squared_error: 0.0025 - root_mean_squared_error: 0.0501 - val_loss: 9.8158e-04 - val_mean_squared_error: 9.8158e-04 - val_root_mean_squared_error: 0.0313\n",
            "Epoch 43/60\n",
            "1177/1177 [==============================] - 3s 2ms/sample - loss: 0.0027 - mean_squared_error: 0.0027 - root_mean_squared_error: 0.0524 - val_loss: 0.0013 - val_mean_squared_error: 0.0013 - val_root_mean_squared_error: 0.0360\n",
            "Epoch 44/60\n",
            "1177/1177 [==============================] - 3s 2ms/sample - loss: 0.0024 - mean_squared_error: 0.0024 - root_mean_squared_error: 0.0487 - val_loss: 3.8869e-04 - val_mean_squared_error: 3.8869e-04 - val_root_mean_squared_error: 0.0197\n",
            "Epoch 45/60\n",
            "1177/1177 [==============================] - 3s 2ms/sample - loss: 0.0022 - mean_squared_error: 0.0022 - root_mean_squared_error: 0.0474 - val_loss: 6.4087e-04 - val_mean_squared_error: 6.4087e-04 - val_root_mean_squared_error: 0.0253\n",
            "Epoch 46/60\n",
            "1177/1177 [==============================] - 3s 2ms/sample - loss: 0.0022 - mean_squared_error: 0.0022 - root_mean_squared_error: 0.0471 - val_loss: 4.3438e-04 - val_mean_squared_error: 4.3438e-04 - val_root_mean_squared_error: 0.0208\n",
            "Epoch 47/60\n",
            "1177/1177 [==============================] - 4s 3ms/sample - loss: 0.0020 - mean_squared_error: 0.0020 - root_mean_squared_error: 0.0451 - val_loss: 6.7560e-04 - val_mean_squared_error: 6.7560e-04 - val_root_mean_squared_error: 0.0260\n",
            "Epoch 48/60\n",
            "1177/1177 [==============================] - 3s 3ms/sample - loss: 0.0024 - mean_squared_error: 0.0024 - root_mean_squared_error: 0.0487 - val_loss: 3.3532e-04 - val_mean_squared_error: 3.3532e-04 - val_root_mean_squared_error: 0.0183\n",
            "Epoch 49/60\n",
            "1177/1177 [==============================] - 3s 2ms/sample - loss: 0.0022 - mean_squared_error: 0.0022 - root_mean_squared_error: 0.0465 - val_loss: 4.2360e-04 - val_mean_squared_error: 4.2360e-04 - val_root_mean_squared_error: 0.0206\n",
            "Epoch 50/60\n",
            "1177/1177 [==============================] - 3s 2ms/sample - loss: 0.0021 - mean_squared_error: 0.0021 - root_mean_squared_error: 0.0460 - val_loss: 7.5763e-04 - val_mean_squared_error: 7.5763e-04 - val_root_mean_squared_error: 0.0275\n",
            "Epoch 51/60\n",
            "1177/1177 [==============================] - 4s 3ms/sample - loss: 0.0019 - mean_squared_error: 0.0019 - root_mean_squared_error: 0.0439 - val_loss: 4.4699e-04 - val_mean_squared_error: 4.4699e-04 - val_root_mean_squared_error: 0.0211\n",
            "Epoch 52/60\n",
            "1177/1177 [==============================] - 3s 3ms/sample - loss: 0.0020 - mean_squared_error: 0.0020 - root_mean_squared_error: 0.0451 - val_loss: 3.5111e-04 - val_mean_squared_error: 3.5111e-04 - val_root_mean_squared_error: 0.0187\n",
            "Epoch 53/60\n",
            "1177/1177 [==============================] - 3s 2ms/sample - loss: 0.0021 - mean_squared_error: 0.0021 - root_mean_squared_error: 0.0460 - val_loss: 3.2989e-04 - val_mean_squared_error: 3.2989e-04 - val_root_mean_squared_error: 0.0182\n",
            "Epoch 54/60\n",
            "1177/1177 [==============================] - 3s 2ms/sample - loss: 0.0022 - mean_squared_error: 0.0022 - root_mean_squared_error: 0.0473 - val_loss: 4.2725e-04 - val_mean_squared_error: 4.2725e-04 - val_root_mean_squared_error: 0.0207\n",
            "Epoch 55/60\n",
            "1177/1177 [==============================] - 3s 2ms/sample - loss: 0.0019 - mean_squared_error: 0.0019 - root_mean_squared_error: 0.0434 - val_loss: 3.6037e-04 - val_mean_squared_error: 3.6037e-04 - val_root_mean_squared_error: 0.0190\n",
            "Epoch 56/60\n",
            "1177/1177 [==============================] - 4s 3ms/sample - loss: 0.0020 - mean_squared_error: 0.0020 - root_mean_squared_error: 0.0442 - val_loss: 3.6379e-04 - val_mean_squared_error: 3.6379e-04 - val_root_mean_squared_error: 0.0191\n",
            "Epoch 57/60\n",
            "1177/1177 [==============================] - 3s 2ms/sample - loss: 0.0019 - mean_squared_error: 0.0019 - root_mean_squared_error: 0.0440 - val_loss: 3.8697e-04 - val_mean_squared_error: 3.8697e-04 - val_root_mean_squared_error: 0.0197\n",
            "Epoch 58/60\n",
            "1177/1177 [==============================] - 3s 2ms/sample - loss: 0.0019 - mean_squared_error: 0.0019 - root_mean_squared_error: 0.0439 - val_loss: 3.8718e-04 - val_mean_squared_error: 3.8718e-04 - val_root_mean_squared_error: 0.0197\n",
            "Epoch 59/60\n",
            "1177/1177 [==============================] - 3s 2ms/sample - loss: 0.0022 - mean_squared_error: 0.0022 - root_mean_squared_error: 0.0470 - val_loss: 4.7406e-04 - val_mean_squared_error: 4.7406e-04 - val_root_mean_squared_error: 0.0218\n",
            "Epoch 60/60\n",
            "1177/1177 [==============================] - 3s 2ms/sample - loss: 0.0021 - mean_squared_error: 0.0021 - root_mean_squared_error: 0.0453 - val_loss: 3.0792e-04 - val_mean_squared_error: 3.0792e-04 - val_root_mean_squared_error: 0.0175\n"
          ]
        },
        {
          "output_type": "stream",
          "name": "stderr",
          "text": [
            "/usr/local/lib/python3.10/dist-packages/keras/src/engine/training_v1.py:2359: UserWarning: `Model.state_updates` will be removed in a future version. This property should not be used in TensorFlow 2.0, as `updates` are applied automatically.\n",
            "  updates=self.state_updates,\n"
          ]
        },
        {
          "output_type": "stream",
          "name": "stdout",
          "text": [
            "     Adj Close  sentiment_score  normalized_influence_robust        Volume\n",
            "0  7200.174316         0.548312                     3.988636  1.856566e+10\n",
            "1  6985.470215         0.497812                     1.284091  2.080208e+10\n",
            "2  7344.884277         0.125570                     2.972727  2.811148e+10\n",
            "3  7410.656738         0.650860                     0.463636  1.844427e+10\n",
            "4  7411.317383         0.357350                    -0.045455  1.972507e+10\n",
            "Train on 1177 samples, validate on 144 samples\n",
            "Epoch 1/60\n",
            "1177/1177 [==============================] - ETA: 0s - loss: 0.0360 - mean_squared_error: 0.0360 - root_mean_squared_error: 0.1898"
          ]
        },
        {
          "output_type": "stream",
          "name": "stderr",
          "text": [
            "/usr/local/lib/python3.10/dist-packages/keras/src/engine/training_v1.py:2335: UserWarning: `Model.state_updates` will be removed in a future version. This property should not be used in TensorFlow 2.0, as `updates` are applied automatically.\n",
            "  updates = self.state_updates\n"
          ]
        },
        {
          "output_type": "stream",
          "name": "stdout",
          "text": [
            "\b\b\b\b\b\b\b\b\b\b\b\b\b\b\b\b\b\b\b\b\b\b\b\b\b\b\b\b\b\b\b\b\b\b\b\b\b\b\b\b\b\b\b\b\b\b\b\b\b\b\b\b\b\b\b\b\b\b\b\b\b\b\b\b\b\b\b\b\b\b\b\b\b\b\b\b\b\b\b\b\b\b\b\b\b\b\b\b\b\b\b\b\b\b\b\b\b\b\b\b\b\b\b\b\b\b\b\b\b\b\b\b\b\b\b\b\b\b\b\b\b\b\b\b\b\b\b\b\b\b\r1177/1177 [==============================] - 6s 5ms/sample - loss: 0.0360 - mean_squared_error: 0.0360 - root_mean_squared_error: 0.1898 - val_loss: 0.0027 - val_mean_squared_error: 0.0027 - val_root_mean_squared_error: 0.0522\n",
            "Epoch 2/60\n",
            "1177/1177 [==============================] - 3s 3ms/sample - loss: 0.0080 - mean_squared_error: 0.0080 - root_mean_squared_error: 0.0893 - val_loss: 0.0017 - val_mean_squared_error: 0.0017 - val_root_mean_squared_error: 0.0408\n",
            "Epoch 3/60\n",
            "1177/1177 [==============================] - 3s 2ms/sample - loss: 0.0068 - mean_squared_error: 0.0068 - root_mean_squared_error: 0.0828 - val_loss: 0.0013 - val_mean_squared_error: 0.0013 - val_root_mean_squared_error: 0.0364\n",
            "Epoch 4/60\n",
            "1177/1177 [==============================] - 3s 2ms/sample - loss: 0.0063 - mean_squared_error: 0.0063 - root_mean_squared_error: 0.0797 - val_loss: 0.0011 - val_mean_squared_error: 0.0011 - val_root_mean_squared_error: 0.0335\n",
            "Epoch 5/60\n",
            "1177/1177 [==============================] - 3s 2ms/sample - loss: 0.0067 - mean_squared_error: 0.0067 - root_mean_squared_error: 0.0817 - val_loss: 0.0019 - val_mean_squared_error: 0.0019 - val_root_mean_squared_error: 0.0441\n",
            "Epoch 6/60\n",
            "1177/1177 [==============================] - 4s 3ms/sample - loss: 0.0051 - mean_squared_error: 0.0051 - root_mean_squared_error: 0.0714 - val_loss: 0.0013 - val_mean_squared_error: 0.0013 - val_root_mean_squared_error: 0.0362\n",
            "Epoch 7/60\n",
            "1177/1177 [==============================] - 3s 3ms/sample - loss: 0.0054 - mean_squared_error: 0.0054 - root_mean_squared_error: 0.0732 - val_loss: 0.0011 - val_mean_squared_error: 0.0011 - val_root_mean_squared_error: 0.0329\n",
            "Epoch 8/60\n",
            "1177/1177 [==============================] - 3s 2ms/sample - loss: 0.0052 - mean_squared_error: 0.0052 - root_mean_squared_error: 0.0724 - val_loss: 0.0012 - val_mean_squared_error: 0.0012 - val_root_mean_squared_error: 0.0353\n",
            "Epoch 9/60\n",
            "1177/1177 [==============================] - 3s 2ms/sample - loss: 0.0048 - mean_squared_error: 0.0048 - root_mean_squared_error: 0.0694 - val_loss: 0.0011 - val_mean_squared_error: 0.0011 - val_root_mean_squared_error: 0.0327\n",
            "Epoch 10/60\n",
            "1177/1177 [==============================] - 3s 2ms/sample - loss: 0.0048 - mean_squared_error: 0.0048 - root_mean_squared_error: 0.0692 - val_loss: 0.0011 - val_mean_squared_error: 0.0011 - val_root_mean_squared_error: 0.0339\n",
            "Epoch 11/60\n",
            "1177/1177 [==============================] - 4s 3ms/sample - loss: 0.0045 - mean_squared_error: 0.0045 - root_mean_squared_error: 0.0674 - val_loss: 8.9238e-04 - val_mean_squared_error: 8.9238e-04 - val_root_mean_squared_error: 0.0299\n",
            "Epoch 12/60\n",
            "1177/1177 [==============================] - 3s 2ms/sample - loss: 0.0050 - mean_squared_error: 0.0050 - root_mean_squared_error: 0.0710 - val_loss: 0.0023 - val_mean_squared_error: 0.0023 - val_root_mean_squared_error: 0.0481\n",
            "Epoch 13/60\n",
            "1177/1177 [==============================] - 3s 2ms/sample - loss: 0.0044 - mean_squared_error: 0.0044 - root_mean_squared_error: 0.0665 - val_loss: 0.0014 - val_mean_squared_error: 0.0014 - val_root_mean_squared_error: 0.0372\n",
            "Epoch 14/60\n",
            "1177/1177 [==============================] - 3s 2ms/sample - loss: 0.0042 - mean_squared_error: 0.0042 - root_mean_squared_error: 0.0652 - val_loss: 0.0012 - val_mean_squared_error: 0.0012 - val_root_mean_squared_error: 0.0345\n",
            "Epoch 15/60\n",
            "1177/1177 [==============================] - 3s 3ms/sample - loss: 0.0053 - mean_squared_error: 0.0053 - root_mean_squared_error: 0.0728 - val_loss: 0.0013 - val_mean_squared_error: 0.0013 - val_root_mean_squared_error: 0.0366\n",
            "Epoch 16/60\n",
            "1177/1177 [==============================] - 4s 3ms/sample - loss: 0.0042 - mean_squared_error: 0.0042 - root_mean_squared_error: 0.0647 - val_loss: 0.0011 - val_mean_squared_error: 0.0011 - val_root_mean_squared_error: 0.0330\n",
            "Epoch 17/60\n",
            "1177/1177 [==============================] - 3s 2ms/sample - loss: 0.0040 - mean_squared_error: 0.0040 - root_mean_squared_error: 0.0632 - val_loss: 7.0305e-04 - val_mean_squared_error: 7.0305e-04 - val_root_mean_squared_error: 0.0265\n",
            "Epoch 18/60\n",
            "1177/1177 [==============================] - 3s 2ms/sample - loss: 0.0037 - mean_squared_error: 0.0037 - root_mean_squared_error: 0.0609 - val_loss: 0.0010 - val_mean_squared_error: 0.0010 - val_root_mean_squared_error: 0.0320\n",
            "Epoch 19/60\n",
            "1177/1177 [==============================] - 3s 2ms/sample - loss: 0.0035 - mean_squared_error: 0.0035 - root_mean_squared_error: 0.0593 - val_loss: 6.5412e-04 - val_mean_squared_error: 6.5412e-04 - val_root_mean_squared_error: 0.0256\n",
            "Epoch 20/60\n",
            "1177/1177 [==============================] - 4s 3ms/sample - loss: 0.0039 - mean_squared_error: 0.0039 - root_mean_squared_error: 0.0624 - val_loss: 6.4625e-04 - val_mean_squared_error: 6.4625e-04 - val_root_mean_squared_error: 0.0254\n",
            "Epoch 21/60\n",
            "1177/1177 [==============================] - 3s 3ms/sample - loss: 0.0032 - mean_squared_error: 0.0032 - root_mean_squared_error: 0.0569 - val_loss: 0.0015 - val_mean_squared_error: 0.0015 - val_root_mean_squared_error: 0.0390\n",
            "Epoch 22/60\n",
            "1177/1177 [==============================] - 3s 2ms/sample - loss: 0.0033 - mean_squared_error: 0.0033 - root_mean_squared_error: 0.0573 - val_loss: 6.0040e-04 - val_mean_squared_error: 6.0040e-04 - val_root_mean_squared_error: 0.0245\n",
            "Epoch 23/60\n",
            "1177/1177 [==============================] - 3s 2ms/sample - loss: 0.0030 - mean_squared_error: 0.0030 - root_mean_squared_error: 0.0544 - val_loss: 5.7313e-04 - val_mean_squared_error: 5.7313e-04 - val_root_mean_squared_error: 0.0239\n",
            "Epoch 24/60\n",
            "1177/1177 [==============================] - 3s 2ms/sample - loss: 0.0030 - mean_squared_error: 0.0030 - root_mean_squared_error: 0.0550 - val_loss: 0.0012 - val_mean_squared_error: 0.0012 - val_root_mean_squared_error: 0.0352\n",
            "Epoch 25/60\n",
            "1177/1177 [==============================] - 4s 3ms/sample - loss: 0.0036 - mean_squared_error: 0.0036 - root_mean_squared_error: 0.0597 - val_loss: 7.7699e-04 - val_mean_squared_error: 7.7699e-04 - val_root_mean_squared_error: 0.0279\n",
            "Epoch 26/60\n",
            "1177/1177 [==============================] - 3s 2ms/sample - loss: 0.0030 - mean_squared_error: 0.0030 - root_mean_squared_error: 0.0545 - val_loss: 0.0010 - val_mean_squared_error: 0.0010 - val_root_mean_squared_error: 0.0319\n",
            "Epoch 27/60\n",
            "1177/1177 [==============================] - 3s 2ms/sample - loss: 0.0032 - mean_squared_error: 0.0032 - root_mean_squared_error: 0.0567 - val_loss: 8.3649e-04 - val_mean_squared_error: 8.3649e-04 - val_root_mean_squared_error: 0.0289\n",
            "Epoch 28/60\n",
            "1177/1177 [==============================] - 3s 2ms/sample - loss: 0.0030 - mean_squared_error: 0.0030 - root_mean_squared_error: 0.0551 - val_loss: 6.3444e-04 - val_mean_squared_error: 6.3444e-04 - val_root_mean_squared_error: 0.0252\n",
            "Epoch 29/60\n",
            "1177/1177 [==============================] - 3s 3ms/sample - loss: 0.0035 - mean_squared_error: 0.0035 - root_mean_squared_error: 0.0592 - val_loss: 4.8857e-04 - val_mean_squared_error: 4.8857e-04 - val_root_mean_squared_error: 0.0221\n",
            "Epoch 30/60\n",
            "1177/1177 [==============================] - 3s 3ms/sample - loss: 0.0027 - mean_squared_error: 0.0027 - root_mean_squared_error: 0.0518 - val_loss: 0.0011 - val_mean_squared_error: 0.0011 - val_root_mean_squared_error: 0.0329\n",
            "Epoch 31/60\n",
            "1177/1177 [==============================] - 3s 2ms/sample - loss: 0.0028 - mean_squared_error: 0.0028 - root_mean_squared_error: 0.0530 - val_loss: 4.4763e-04 - val_mean_squared_error: 4.4763e-04 - val_root_mean_squared_error: 0.0212\n",
            "Epoch 32/60\n",
            "1177/1177 [==============================] - 3s 2ms/sample - loss: 0.0026 - mean_squared_error: 0.0026 - root_mean_squared_error: 0.0513 - val_loss: 4.3926e-04 - val_mean_squared_error: 4.3926e-04 - val_root_mean_squared_error: 0.0210\n",
            "Epoch 33/60\n",
            "1177/1177 [==============================] - 3s 2ms/sample - loss: 0.0026 - mean_squared_error: 0.0026 - root_mean_squared_error: 0.0509 - val_loss: 5.9818e-04 - val_mean_squared_error: 5.9818e-04 - val_root_mean_squared_error: 0.0245\n",
            "Epoch 34/60\n",
            "1177/1177 [==============================] - 4s 3ms/sample - loss: 0.0025 - mean_squared_error: 0.0025 - root_mean_squared_error: 0.0504 - val_loss: 4.1040e-04 - val_mean_squared_error: 4.1040e-04 - val_root_mean_squared_error: 0.0203\n",
            "Epoch 35/60\n",
            "1177/1177 [==============================] - 3s 3ms/sample - loss: 0.0028 - mean_squared_error: 0.0028 - root_mean_squared_error: 0.0530 - val_loss: 8.7553e-04 - val_mean_squared_error: 8.7553e-04 - val_root_mean_squared_error: 0.0296\n",
            "Epoch 36/60\n",
            "1177/1177 [==============================] - 3s 2ms/sample - loss: 0.0025 - mean_squared_error: 0.0025 - root_mean_squared_error: 0.0501 - val_loss: 4.5864e-04 - val_mean_squared_error: 4.5864e-04 - val_root_mean_squared_error: 0.0214\n",
            "Epoch 37/60\n",
            "1177/1177 [==============================] - 3s 2ms/sample - loss: 0.0022 - mean_squared_error: 0.0022 - root_mean_squared_error: 0.0469 - val_loss: 4.1152e-04 - val_mean_squared_error: 4.1152e-04 - val_root_mean_squared_error: 0.0203\n",
            "Epoch 38/60\n",
            "1177/1177 [==============================] - 3s 2ms/sample - loss: 0.0025 - mean_squared_error: 0.0025 - root_mean_squared_error: 0.0504 - val_loss: 3.8500e-04 - val_mean_squared_error: 3.8500e-04 - val_root_mean_squared_error: 0.0196\n",
            "Epoch 39/60\n",
            "1177/1177 [==============================] - 4s 3ms/sample - loss: 0.0029 - mean_squared_error: 0.0029 - root_mean_squared_error: 0.0541 - val_loss: 5.1491e-04 - val_mean_squared_error: 5.1491e-04 - val_root_mean_squared_error: 0.0227\n",
            "Epoch 40/60\n",
            "1177/1177 [==============================] - 3s 2ms/sample - loss: 0.0025 - mean_squared_error: 0.0025 - root_mean_squared_error: 0.0497 - val_loss: 4.3152e-04 - val_mean_squared_error: 4.3152e-04 - val_root_mean_squared_error: 0.0208\n",
            "Epoch 41/60\n",
            "1177/1177 [==============================] - 3s 2ms/sample - loss: 0.0022 - mean_squared_error: 0.0022 - root_mean_squared_error: 0.0472 - val_loss: 4.3221e-04 - val_mean_squared_error: 4.3221e-04 - val_root_mean_squared_error: 0.0208\n",
            "Epoch 42/60\n",
            "1177/1177 [==============================] - 3s 2ms/sample - loss: 0.0023 - mean_squared_error: 0.0023 - root_mean_squared_error: 0.0481 - val_loss: 3.9105e-04 - val_mean_squared_error: 3.9105e-04 - val_root_mean_squared_error: 0.0198\n",
            "Epoch 43/60\n",
            "1177/1177 [==============================] - 3s 3ms/sample - loss: 0.0022 - mean_squared_error: 0.0022 - root_mean_squared_error: 0.0468 - val_loss: 3.6783e-04 - val_mean_squared_error: 3.6783e-04 - val_root_mean_squared_error: 0.0192\n",
            "Epoch 44/60\n",
            "1177/1177 [==============================] - 3s 3ms/sample - loss: 0.0022 - mean_squared_error: 0.0022 - root_mean_squared_error: 0.0470 - val_loss: 3.3650e-04 - val_mean_squared_error: 3.3650e-04 - val_root_mean_squared_error: 0.0183\n",
            "Epoch 45/60\n",
            "1177/1177 [==============================] - 3s 2ms/sample - loss: 0.0023 - mean_squared_error: 0.0023 - root_mean_squared_error: 0.0476 - val_loss: 3.3942e-04 - val_mean_squared_error: 3.3942e-04 - val_root_mean_squared_error: 0.0184\n",
            "Epoch 46/60\n",
            "1177/1177 [==============================] - 3s 2ms/sample - loss: 0.0021 - mean_squared_error: 0.0021 - root_mean_squared_error: 0.0455 - val_loss: 4.3584e-04 - val_mean_squared_error: 4.3584e-04 - val_root_mean_squared_error: 0.0209\n",
            "Epoch 47/60\n",
            "1177/1177 [==============================] - 3s 2ms/sample - loss: 0.0023 - mean_squared_error: 0.0023 - root_mean_squared_error: 0.0476 - val_loss: 5.4796e-04 - val_mean_squared_error: 5.4796e-04 - val_root_mean_squared_error: 0.0234\n",
            "Epoch 48/60\n",
            "1177/1177 [==============================] - 4s 3ms/sample - loss: 0.0021 - mean_squared_error: 0.0021 - root_mean_squared_error: 0.0460 - val_loss: 6.0574e-04 - val_mean_squared_error: 6.0574e-04 - val_root_mean_squared_error: 0.0246\n",
            "Epoch 49/60\n",
            "1177/1177 [==============================] - 3s 2ms/sample - loss: 0.0022 - mean_squared_error: 0.0022 - root_mean_squared_error: 0.0466 - val_loss: 3.2005e-04 - val_mean_squared_error: 3.2005e-04 - val_root_mean_squared_error: 0.0179\n",
            "Epoch 50/60\n",
            "1177/1177 [==============================] - 3s 2ms/sample - loss: 0.0021 - mean_squared_error: 0.0021 - root_mean_squared_error: 0.0460 - val_loss: 3.7744e-04 - val_mean_squared_error: 3.7744e-04 - val_root_mean_squared_error: 0.0194\n",
            "Epoch 51/60\n",
            "1177/1177 [==============================] - 3s 2ms/sample - loss: 0.0022 - mean_squared_error: 0.0022 - root_mean_squared_error: 0.0467 - val_loss: 6.7059e-04 - val_mean_squared_error: 6.7059e-04 - val_root_mean_squared_error: 0.0259\n",
            "Epoch 52/60\n",
            "1177/1177 [==============================] - 3s 3ms/sample - loss: 0.0022 - mean_squared_error: 0.0022 - root_mean_squared_error: 0.0469 - val_loss: 2.9763e-04 - val_mean_squared_error: 2.9763e-04 - val_root_mean_squared_error: 0.0173\n",
            "Epoch 53/60\n",
            "1177/1177 [==============================] - 4s 3ms/sample - loss: 0.0020 - mean_squared_error: 0.0020 - root_mean_squared_error: 0.0448 - val_loss: 2.8898e-04 - val_mean_squared_error: 2.8898e-04 - val_root_mean_squared_error: 0.0170\n",
            "Epoch 54/60\n",
            "1177/1177 [==============================] - 3s 2ms/sample - loss: 0.0022 - mean_squared_error: 0.0022 - root_mean_squared_error: 0.0468 - val_loss: 3.1794e-04 - val_mean_squared_error: 3.1794e-04 - val_root_mean_squared_error: 0.0178\n",
            "Epoch 55/60\n",
            "1177/1177 [==============================] - 3s 2ms/sample - loss: 0.0020 - mean_squared_error: 0.0020 - root_mean_squared_error: 0.0453 - val_loss: 3.9197e-04 - val_mean_squared_error: 3.9197e-04 - val_root_mean_squared_error: 0.0198\n",
            "Epoch 56/60\n",
            "1177/1177 [==============================] - 3s 2ms/sample - loss: 0.0017 - mean_squared_error: 0.0017 - root_mean_squared_error: 0.0414 - val_loss: 4.5187e-04 - val_mean_squared_error: 4.5187e-04 - val_root_mean_squared_error: 0.0213\n",
            "Epoch 57/60\n",
            "1177/1177 [==============================] - 4s 3ms/sample - loss: 0.0018 - mean_squared_error: 0.0018 - root_mean_squared_error: 0.0429 - val_loss: 3.0036e-04 - val_mean_squared_error: 3.0036e-04 - val_root_mean_squared_error: 0.0173\n",
            "Epoch 58/60\n",
            "1177/1177 [==============================] - 3s 3ms/sample - loss: 0.0018 - mean_squared_error: 0.0018 - root_mean_squared_error: 0.0428 - val_loss: 2.7895e-04 - val_mean_squared_error: 2.7895e-04 - val_root_mean_squared_error: 0.0167\n",
            "Epoch 59/60\n",
            "1177/1177 [==============================] - 3s 2ms/sample - loss: 0.0022 - mean_squared_error: 0.0022 - root_mean_squared_error: 0.0472 - val_loss: 0.0012 - val_mean_squared_error: 0.0012 - val_root_mean_squared_error: 0.0339\n",
            "Epoch 60/60\n",
            "1177/1177 [==============================] - 3s 2ms/sample - loss: 0.0022 - mean_squared_error: 0.0022 - root_mean_squared_error: 0.0469 - val_loss: 2.6169e-04 - val_mean_squared_error: 2.6169e-04 - val_root_mean_squared_error: 0.0162\n"
          ]
        },
        {
          "output_type": "stream",
          "name": "stderr",
          "text": [
            "/usr/local/lib/python3.10/dist-packages/keras/src/engine/training_v1.py:2359: UserWarning: `Model.state_updates` will be removed in a future version. This property should not be used in TensorFlow 2.0, as `updates` are applied automatically.\n",
            "  updates=self.state_updates,\n"
          ]
        },
        {
          "output_type": "stream",
          "name": "stdout",
          "text": [
            "     Adj Close  sentiment_score  normalized_influence_minmax        Volume\n",
            "0  7200.174316         0.548312                     0.003044  1.856566e+10\n",
            "1  6985.470215         0.497812                     0.001112  2.080208e+10\n",
            "2  7344.884277         0.125570                     0.002318  2.811148e+10\n",
            "3  7410.656738         0.650860                     0.000526  1.844427e+10\n",
            "4  7411.317383         0.357350                     0.000162  1.972507e+10\n",
            "Train on 1177 samples, validate on 144 samples\n",
            "Epoch 1/60\n",
            "1177/1177 [==============================] - ETA: 0s - loss: 0.0366 - mean_squared_error: 0.0366 - root_mean_squared_error: 0.1913"
          ]
        },
        {
          "output_type": "stream",
          "name": "stderr",
          "text": [
            "/usr/local/lib/python3.10/dist-packages/keras/src/engine/training_v1.py:2335: UserWarning: `Model.state_updates` will be removed in a future version. This property should not be used in TensorFlow 2.0, as `updates` are applied automatically.\n",
            "  updates = self.state_updates\n"
          ]
        },
        {
          "output_type": "stream",
          "name": "stdout",
          "text": [
            "\b\b\b\b\b\b\b\b\b\b\b\b\b\b\b\b\b\b\b\b\b\b\b\b\b\b\b\b\b\b\b\b\b\b\b\b\b\b\b\b\b\b\b\b\b\b\b\b\b\b\b\b\b\b\b\b\b\b\b\b\b\b\b\b\b\b\b\b\b\b\b\b\b\b\b\b\b\b\b\b\b\b\b\b\b\b\b\b\b\b\b\b\b\b\b\b\b\b\b\b\b\b\b\b\b\b\b\b\b\b\b\b\b\b\b\b\b\b\b\b\b\b\b\b\b\b\b\b\b\b\r1177/1177 [==============================] - 5s 5ms/sample - loss: 0.0366 - mean_squared_error: 0.0366 - root_mean_squared_error: 0.1913 - val_loss: 0.0025 - val_mean_squared_error: 0.0025 - val_root_mean_squared_error: 0.0500\n",
            "Epoch 2/60\n",
            "1177/1177 [==============================] - 3s 3ms/sample - loss: 0.0082 - mean_squared_error: 0.0082 - root_mean_squared_error: 0.0906 - val_loss: 0.0019 - val_mean_squared_error: 0.0019 - val_root_mean_squared_error: 0.0433\n",
            "Epoch 3/60\n",
            "1177/1177 [==============================] - 4s 3ms/sample - loss: 0.0077 - mean_squared_error: 0.0077 - root_mean_squared_error: 0.0877 - val_loss: 0.0014 - val_mean_squared_error: 0.0014 - val_root_mean_squared_error: 0.0375\n",
            "Epoch 4/60\n",
            "1177/1177 [==============================] - 3s 2ms/sample - loss: 0.0063 - mean_squared_error: 0.0063 - root_mean_squared_error: 0.0792 - val_loss: 0.0011 - val_mean_squared_error: 0.0011 - val_root_mean_squared_error: 0.0333\n",
            "Epoch 5/60\n",
            "1177/1177 [==============================] - 3s 2ms/sample - loss: 0.0063 - mean_squared_error: 0.0063 - root_mean_squared_error: 0.0792 - val_loss: 0.0019 - val_mean_squared_error: 0.0019 - val_root_mean_squared_error: 0.0438\n",
            "Epoch 6/60\n",
            "1177/1177 [==============================] - 3s 2ms/sample - loss: 0.0056 - mean_squared_error: 0.0056 - root_mean_squared_error: 0.0748 - val_loss: 0.0013 - val_mean_squared_error: 0.0013 - val_root_mean_squared_error: 0.0356\n",
            "Epoch 7/60\n",
            "1177/1177 [==============================] - 4s 3ms/sample - loss: 0.0058 - mean_squared_error: 0.0058 - root_mean_squared_error: 0.0760 - val_loss: 9.9564e-04 - val_mean_squared_error: 9.9564e-04 - val_root_mean_squared_error: 0.0316\n",
            "Epoch 8/60\n",
            "1177/1177 [==============================] - 3s 3ms/sample - loss: 0.0051 - mean_squared_error: 0.0051 - root_mean_squared_error: 0.0715 - val_loss: 9.6059e-04 - val_mean_squared_error: 9.6059e-04 - val_root_mean_squared_error: 0.0310\n",
            "Epoch 9/60\n",
            "1177/1177 [==============================] - 3s 2ms/sample - loss: 0.0049 - mean_squared_error: 0.0049 - root_mean_squared_error: 0.0702 - val_loss: 0.0015 - val_mean_squared_error: 0.0015 - val_root_mean_squared_error: 0.0386\n",
            "Epoch 10/60\n",
            "1177/1177 [==============================] - 3s 2ms/sample - loss: 0.0053 - mean_squared_error: 0.0053 - root_mean_squared_error: 0.0731 - val_loss: 0.0019 - val_mean_squared_error: 0.0019 - val_root_mean_squared_error: 0.0438\n",
            "Epoch 11/60\n",
            "1177/1177 [==============================] - 3s 2ms/sample - loss: 0.0045 - mean_squared_error: 0.0045 - root_mean_squared_error: 0.0670 - val_loss: 0.0012 - val_mean_squared_error: 0.0012 - val_root_mean_squared_error: 0.0344\n",
            "Epoch 12/60\n",
            "1177/1177 [==============================] - 4s 3ms/sample - loss: 0.0049 - mean_squared_error: 0.0049 - root_mean_squared_error: 0.0701 - val_loss: 0.0011 - val_mean_squared_error: 0.0011 - val_root_mean_squared_error: 0.0335\n",
            "Epoch 13/60\n",
            "1177/1177 [==============================] - 3s 2ms/sample - loss: 0.0047 - mean_squared_error: 0.0047 - root_mean_squared_error: 0.0683 - val_loss: 8.4790e-04 - val_mean_squared_error: 8.4790e-04 - val_root_mean_squared_error: 0.0291\n",
            "Epoch 14/60\n",
            "1177/1177 [==============================] - 3s 2ms/sample - loss: 0.0042 - mean_squared_error: 0.0042 - root_mean_squared_error: 0.0650 - val_loss: 9.2439e-04 - val_mean_squared_error: 9.2439e-04 - val_root_mean_squared_error: 0.0304\n",
            "Epoch 15/60\n",
            "1177/1177 [==============================] - 3s 2ms/sample - loss: 0.0041 - mean_squared_error: 0.0041 - root_mean_squared_error: 0.0639 - val_loss: 8.5807e-04 - val_mean_squared_error: 8.5807e-04 - val_root_mean_squared_error: 0.0293\n",
            "Epoch 16/60\n",
            "1177/1177 [==============================] - 3s 2ms/sample - loss: 0.0037 - mean_squared_error: 0.0037 - root_mean_squared_error: 0.0604 - val_loss: 7.2332e-04 - val_mean_squared_error: 7.2332e-04 - val_root_mean_squared_error: 0.0269\n",
            "Epoch 17/60\n",
            "1177/1177 [==============================] - 4s 3ms/sample - loss: 0.0041 - mean_squared_error: 0.0041 - root_mean_squared_error: 0.0644 - val_loss: 9.6803e-04 - val_mean_squared_error: 9.6803e-04 - val_root_mean_squared_error: 0.0311\n",
            "Epoch 18/60\n",
            "1177/1177 [==============================] - 3s 2ms/sample - loss: 0.0036 - mean_squared_error: 0.0036 - root_mean_squared_error: 0.0604 - val_loss: 9.6632e-04 - val_mean_squared_error: 9.6632e-04 - val_root_mean_squared_error: 0.0311\n",
            "Epoch 19/60\n",
            "1177/1177 [==============================] - 3s 2ms/sample - loss: 0.0037 - mean_squared_error: 0.0037 - root_mean_squared_error: 0.0605 - val_loss: 0.0011 - val_mean_squared_error: 0.0011 - val_root_mean_squared_error: 0.0325\n",
            "Epoch 20/60\n",
            "1177/1177 [==============================] - 3s 2ms/sample - loss: 0.0038 - mean_squared_error: 0.0038 - root_mean_squared_error: 0.0616 - val_loss: 6.2911e-04 - val_mean_squared_error: 6.2911e-04 - val_root_mean_squared_error: 0.0251\n",
            "Epoch 21/60\n",
            "1177/1177 [==============================] - 3s 3ms/sample - loss: 0.0038 - mean_squared_error: 0.0038 - root_mean_squared_error: 0.0620 - val_loss: 0.0015 - val_mean_squared_error: 0.0015 - val_root_mean_squared_error: 0.0391\n",
            "Epoch 22/60\n",
            "1177/1177 [==============================] - 4s 3ms/sample - loss: 0.0036 - mean_squared_error: 0.0036 - root_mean_squared_error: 0.0599 - val_loss: 8.6022e-04 - val_mean_squared_error: 8.6022e-04 - val_root_mean_squared_error: 0.0293\n",
            "Epoch 23/60\n",
            "1177/1177 [==============================] - 3s 2ms/sample - loss: 0.0037 - mean_squared_error: 0.0037 - root_mean_squared_error: 0.0605 - val_loss: 8.0098e-04 - val_mean_squared_error: 8.0098e-04 - val_root_mean_squared_error: 0.0283\n",
            "Epoch 24/60\n",
            "1177/1177 [==============================] - 3s 2ms/sample - loss: 0.0033 - mean_squared_error: 0.0033 - root_mean_squared_error: 0.0575 - val_loss: 5.8503e-04 - val_mean_squared_error: 5.8503e-04 - val_root_mean_squared_error: 0.0242\n",
            "Epoch 25/60\n",
            "1177/1177 [==============================] - 3s 2ms/sample - loss: 0.0030 - mean_squared_error: 0.0030 - root_mean_squared_error: 0.0552 - val_loss: 5.5875e-04 - val_mean_squared_error: 5.5875e-04 - val_root_mean_squared_error: 0.0236\n",
            "Epoch 26/60\n",
            "1177/1177 [==============================] - 4s 3ms/sample - loss: 0.0033 - mean_squared_error: 0.0033 - root_mean_squared_error: 0.0578 - val_loss: 6.2902e-04 - val_mean_squared_error: 6.2902e-04 - val_root_mean_squared_error: 0.0251\n",
            "Epoch 27/60\n",
            "1177/1177 [==============================] - 3s 3ms/sample - loss: 0.0033 - mean_squared_error: 0.0033 - root_mean_squared_error: 0.0575 - val_loss: 5.2846e-04 - val_mean_squared_error: 5.2846e-04 - val_root_mean_squared_error: 0.0230\n",
            "Epoch 28/60\n",
            "1177/1177 [==============================] - 3s 2ms/sample - loss: 0.0033 - mean_squared_error: 0.0033 - root_mean_squared_error: 0.0577 - val_loss: 0.0018 - val_mean_squared_error: 0.0018 - val_root_mean_squared_error: 0.0425\n",
            "Epoch 29/60\n",
            "1177/1177 [==============================] - 3s 2ms/sample - loss: 0.0034 - mean_squared_error: 0.0034 - root_mean_squared_error: 0.0586 - val_loss: 5.3577e-04 - val_mean_squared_error: 5.3577e-04 - val_root_mean_squared_error: 0.0231\n",
            "Epoch 30/60\n",
            "1177/1177 [==============================] - 3s 2ms/sample - loss: 0.0031 - mean_squared_error: 0.0031 - root_mean_squared_error: 0.0554 - val_loss: 9.2451e-04 - val_mean_squared_error: 9.2451e-04 - val_root_mean_squared_error: 0.0304\n",
            "Epoch 31/60\n",
            "1177/1177 [==============================] - 4s 3ms/sample - loss: 0.0032 - mean_squared_error: 0.0032 - root_mean_squared_error: 0.0569 - val_loss: 9.4809e-04 - val_mean_squared_error: 9.4809e-04 - val_root_mean_squared_error: 0.0308\n",
            "Epoch 32/60\n",
            "1177/1177 [==============================] - 3s 2ms/sample - loss: 0.0028 - mean_squared_error: 0.0028 - root_mean_squared_error: 0.0530 - val_loss: 7.6961e-04 - val_mean_squared_error: 7.6961e-04 - val_root_mean_squared_error: 0.0277\n",
            "Epoch 33/60\n",
            "1177/1177 [==============================] - 3s 2ms/sample - loss: 0.0027 - mean_squared_error: 0.0027 - root_mean_squared_error: 0.0516 - val_loss: 7.0700e-04 - val_mean_squared_error: 7.0700e-04 - val_root_mean_squared_error: 0.0266\n",
            "Epoch 34/60\n",
            "1177/1177 [==============================] - 3s 2ms/sample - loss: 0.0025 - mean_squared_error: 0.0025 - root_mean_squared_error: 0.0504 - val_loss: 8.2399e-04 - val_mean_squared_error: 8.2399e-04 - val_root_mean_squared_error: 0.0287\n",
            "Epoch 35/60\n",
            "1177/1177 [==============================] - 3s 3ms/sample - loss: 0.0025 - mean_squared_error: 0.0025 - root_mean_squared_error: 0.0502 - val_loss: 4.9148e-04 - val_mean_squared_error: 4.9148e-04 - val_root_mean_squared_error: 0.0222\n",
            "Epoch 36/60\n",
            "1177/1177 [==============================] - 4s 3ms/sample - loss: 0.0026 - mean_squared_error: 0.0026 - root_mean_squared_error: 0.0505 - val_loss: 4.6942e-04 - val_mean_squared_error: 4.6942e-04 - val_root_mean_squared_error: 0.0217\n",
            "Epoch 37/60\n",
            "1177/1177 [==============================] - 3s 2ms/sample - loss: 0.0029 - mean_squared_error: 0.0029 - root_mean_squared_error: 0.0534 - val_loss: 5.9274e-04 - val_mean_squared_error: 5.9274e-04 - val_root_mean_squared_error: 0.0243\n",
            "Epoch 38/60\n",
            "1177/1177 [==============================] - 3s 2ms/sample - loss: 0.0026 - mean_squared_error: 0.0026 - root_mean_squared_error: 0.0510 - val_loss: 4.1049e-04 - val_mean_squared_error: 4.1049e-04 - val_root_mean_squared_error: 0.0203\n",
            "Epoch 39/60\n",
            "1177/1177 [==============================] - 3s 2ms/sample - loss: 0.0025 - mean_squared_error: 0.0025 - root_mean_squared_error: 0.0500 - val_loss: 4.2804e-04 - val_mean_squared_error: 4.2804e-04 - val_root_mean_squared_error: 0.0207\n",
            "Epoch 40/60\n",
            "1177/1177 [==============================] - 4s 3ms/sample - loss: 0.0025 - mean_squared_error: 0.0025 - root_mean_squared_error: 0.0497 - val_loss: 3.8570e-04 - val_mean_squared_error: 3.8570e-04 - val_root_mean_squared_error: 0.0196\n",
            "Epoch 41/60\n",
            "1177/1177 [==============================] - 3s 3ms/sample - loss: 0.0026 - mean_squared_error: 0.0026 - root_mean_squared_error: 0.0512 - val_loss: 3.7529e-04 - val_mean_squared_error: 3.7529e-04 - val_root_mean_squared_error: 0.0194\n",
            "Epoch 42/60\n",
            "1177/1177 [==============================] - 3s 2ms/sample - loss: 0.0025 - mean_squared_error: 0.0025 - root_mean_squared_error: 0.0496 - val_loss: 5.8377e-04 - val_mean_squared_error: 5.8377e-04 - val_root_mean_squared_error: 0.0242\n",
            "Epoch 43/60\n",
            "1177/1177 [==============================] - 3s 2ms/sample - loss: 0.0024 - mean_squared_error: 0.0024 - root_mean_squared_error: 0.0494 - val_loss: 4.6058e-04 - val_mean_squared_error: 4.6058e-04 - val_root_mean_squared_error: 0.0215\n",
            "Epoch 44/60\n",
            "1177/1177 [==============================] - 3s 2ms/sample - loss: 0.0024 - mean_squared_error: 0.0024 - root_mean_squared_error: 0.0486 - val_loss: 4.0207e-04 - val_mean_squared_error: 4.0207e-04 - val_root_mean_squared_error: 0.0201\n",
            "Epoch 45/60\n",
            "1177/1177 [==============================] - 4s 3ms/sample - loss: 0.0021 - mean_squared_error: 0.0021 - root_mean_squared_error: 0.0457 - val_loss: 4.0848e-04 - val_mean_squared_error: 4.0848e-04 - val_root_mean_squared_error: 0.0202\n",
            "Epoch 46/60\n",
            "1177/1177 [==============================] - 3s 2ms/sample - loss: 0.0026 - mean_squared_error: 0.0026 - root_mean_squared_error: 0.0507 - val_loss: 7.5009e-04 - val_mean_squared_error: 7.5009e-04 - val_root_mean_squared_error: 0.0274\n",
            "Epoch 47/60\n",
            "1177/1177 [==============================] - 3s 2ms/sample - loss: 0.0024 - mean_squared_error: 0.0024 - root_mean_squared_error: 0.0489 - val_loss: 4.4102e-04 - val_mean_squared_error: 4.4102e-04 - val_root_mean_squared_error: 0.0210\n",
            "Epoch 48/60\n",
            "1177/1177 [==============================] - 3s 2ms/sample - loss: 0.0026 - mean_squared_error: 0.0026 - root_mean_squared_error: 0.0508 - val_loss: 3.3567e-04 - val_mean_squared_error: 3.3567e-04 - val_root_mean_squared_error: 0.0183\n",
            "Epoch 49/60\n",
            "1177/1177 [==============================] - 3s 3ms/sample - loss: 0.0023 - mean_squared_error: 0.0023 - root_mean_squared_error: 0.0476 - val_loss: 3.4640e-04 - val_mean_squared_error: 3.4640e-04 - val_root_mean_squared_error: 0.0186\n",
            "Epoch 50/60\n",
            "1177/1177 [==============================] - 4s 3ms/sample - loss: 0.0023 - mean_squared_error: 0.0023 - root_mean_squared_error: 0.0477 - val_loss: 6.8388e-04 - val_mean_squared_error: 6.8388e-04 - val_root_mean_squared_error: 0.0262\n",
            "Epoch 51/60\n",
            "1177/1177 [==============================] - 3s 2ms/sample - loss: 0.0020 - mean_squared_error: 0.0020 - root_mean_squared_error: 0.0443 - val_loss: 3.4034e-04 - val_mean_squared_error: 3.4034e-04 - val_root_mean_squared_error: 0.0184\n",
            "Epoch 52/60\n",
            "1177/1177 [==============================] - 3s 2ms/sample - loss: 0.0022 - mean_squared_error: 0.0022 - root_mean_squared_error: 0.0467 - val_loss: 5.1969e-04 - val_mean_squared_error: 5.1969e-04 - val_root_mean_squared_error: 0.0228\n",
            "Epoch 53/60\n",
            "1177/1177 [==============================] - 3s 2ms/sample - loss: 0.0022 - mean_squared_error: 0.0022 - root_mean_squared_error: 0.0472 - val_loss: 3.6145e-04 - val_mean_squared_error: 3.6145e-04 - val_root_mean_squared_error: 0.0190\n",
            "Epoch 54/60\n",
            "1177/1177 [==============================] - 4s 3ms/sample - loss: 0.0023 - mean_squared_error: 0.0023 - root_mean_squared_error: 0.0481 - val_loss: 5.0627e-04 - val_mean_squared_error: 5.0627e-04 - val_root_mean_squared_error: 0.0225\n",
            "Epoch 55/60\n",
            "1177/1177 [==============================] - 3s 3ms/sample - loss: 0.0022 - mean_squared_error: 0.0022 - root_mean_squared_error: 0.0472 - val_loss: 3.0551e-04 - val_mean_squared_error: 3.0551e-04 - val_root_mean_squared_error: 0.0175\n",
            "Epoch 56/60\n",
            "1177/1177 [==============================] - 3s 2ms/sample - loss: 0.0022 - mean_squared_error: 0.0022 - root_mean_squared_error: 0.0471 - val_loss: 6.4764e-04 - val_mean_squared_error: 6.4764e-04 - val_root_mean_squared_error: 0.0254\n",
            "Epoch 57/60\n",
            "1177/1177 [==============================] - 3s 2ms/sample - loss: 0.0021 - mean_squared_error: 0.0021 - root_mean_squared_error: 0.0453 - val_loss: 4.3311e-04 - val_mean_squared_error: 4.3311e-04 - val_root_mean_squared_error: 0.0208\n",
            "Epoch 58/60\n",
            "1177/1177 [==============================] - 3s 2ms/sample - loss: 0.0019 - mean_squared_error: 0.0019 - root_mean_squared_error: 0.0433 - val_loss: 4.6393e-04 - val_mean_squared_error: 4.6393e-04 - val_root_mean_squared_error: 0.0215\n",
            "Epoch 59/60\n",
            "1177/1177 [==============================] - 4s 3ms/sample - loss: 0.0021 - mean_squared_error: 0.0021 - root_mean_squared_error: 0.0455 - val_loss: 2.9326e-04 - val_mean_squared_error: 2.9326e-04 - val_root_mean_squared_error: 0.0171\n",
            "Epoch 60/60\n",
            "1177/1177 [==============================] - 3s 3ms/sample - loss: 0.0019 - mean_squared_error: 0.0019 - root_mean_squared_error: 0.0441 - val_loss: 2.8126e-04 - val_mean_squared_error: 2.8126e-04 - val_root_mean_squared_error: 0.0168\n"
          ]
        },
        {
          "output_type": "stream",
          "name": "stderr",
          "text": [
            "/usr/local/lib/python3.10/dist-packages/keras/src/engine/training_v1.py:2359: UserWarning: `Model.state_updates` will be removed in a future version. This property should not be used in TensorFlow 2.0, as `updates` are applied automatically.\n",
            "  updates=self.state_updates,\n"
          ]
        },
        {
          "output_type": "stream",
          "name": "stdout",
          "text": [
            "     Adj Close  sentiment_score  normalized_influence_standard        Volume\n",
            "0  7200.174316         0.548312                       0.139175  1.856566e+10\n",
            "1  6985.470215         0.497812                      -0.082537  2.080208e+10\n",
            "2  7344.884277         0.125570                       0.055893  2.811148e+10\n",
            "3  7410.656738         0.650860                      -0.149796  1.844427e+10\n",
            "4  7411.317383         0.357350                      -0.191530  1.972507e+10\n",
            "Train on 1177 samples, validate on 144 samples\n",
            "Epoch 1/60\n",
            "1177/1177 [==============================] - ETA: 0s - loss: 0.0336 - mean_squared_error: 0.0336 - root_mean_squared_error: 0.1832"
          ]
        },
        {
          "output_type": "stream",
          "name": "stderr",
          "text": [
            "/usr/local/lib/python3.10/dist-packages/keras/src/engine/training_v1.py:2335: UserWarning: `Model.state_updates` will be removed in a future version. This property should not be used in TensorFlow 2.0, as `updates` are applied automatically.\n",
            "  updates = self.state_updates\n"
          ]
        },
        {
          "output_type": "stream",
          "name": "stdout",
          "text": [
            "\b\b\b\b\b\b\b\b\b\b\b\b\b\b\b\b\b\b\b\b\b\b\b\b\b\b\b\b\b\b\b\b\b\b\b\b\b\b\b\b\b\b\b\b\b\b\b\b\b\b\b\b\b\b\b\b\b\b\b\b\b\b\b\b\b\b\b\b\b\b\b\b\b\b\b\b\b\b\b\b\b\b\b\b\b\b\b\b\b\b\b\b\b\b\b\b\b\b\b\b\b\b\b\b\b\b\b\b\b\b\b\b\b\b\b\b\b\b\b\b\b\b\b\b\b\b\b\b\b\b\r1177/1177 [==============================] - 7s 6ms/sample - loss: 0.0336 - mean_squared_error: 0.0336 - root_mean_squared_error: 0.1832 - val_loss: 0.0012 - val_mean_squared_error: 0.0012 - val_root_mean_squared_error: 0.0347\n",
            "Epoch 2/60\n",
            "1177/1177 [==============================] - 3s 2ms/sample - loss: 0.0080 - mean_squared_error: 0.0080 - root_mean_squared_error: 0.0896 - val_loss: 0.0014 - val_mean_squared_error: 0.0014 - val_root_mean_squared_error: 0.0369\n",
            "Epoch 3/60\n",
            "1177/1177 [==============================] - 3s 2ms/sample - loss: 0.0064 - mean_squared_error: 0.0064 - root_mean_squared_error: 0.0798 - val_loss: 0.0016 - val_mean_squared_error: 0.0016 - val_root_mean_squared_error: 0.0404\n",
            "Epoch 4/60\n",
            "1177/1177 [==============================] - 4s 3ms/sample - loss: 0.0063 - mean_squared_error: 0.0063 - root_mean_squared_error: 0.0795 - val_loss: 0.0013 - val_mean_squared_error: 0.0013 - val_root_mean_squared_error: 0.0355\n",
            "Epoch 5/60\n",
            "1177/1177 [==============================] - 3s 3ms/sample - loss: 0.0055 - mean_squared_error: 0.0055 - root_mean_squared_error: 0.0739 - val_loss: 0.0019 - val_mean_squared_error: 0.0019 - val_root_mean_squared_error: 0.0436\n",
            "Epoch 6/60\n",
            "1177/1177 [==============================] - 3s 2ms/sample - loss: 0.0060 - mean_squared_error: 0.0060 - root_mean_squared_error: 0.0775 - val_loss: 0.0019 - val_mean_squared_error: 0.0019 - val_root_mean_squared_error: 0.0436\n",
            "Epoch 7/60\n",
            "1177/1177 [==============================] - 3s 2ms/sample - loss: 0.0055 - mean_squared_error: 0.0055 - root_mean_squared_error: 0.0740 - val_loss: 0.0019 - val_mean_squared_error: 0.0019 - val_root_mean_squared_error: 0.0432\n",
            "Epoch 8/60\n",
            "1177/1177 [==============================] - 3s 3ms/sample - loss: 0.0058 - mean_squared_error: 0.0058 - root_mean_squared_error: 0.0763 - val_loss: 0.0033 - val_mean_squared_error: 0.0033 - val_root_mean_squared_error: 0.0572\n",
            "Epoch 9/60\n",
            "1177/1177 [==============================] - 4s 3ms/sample - loss: 0.0046 - mean_squared_error: 0.0046 - root_mean_squared_error: 0.0680 - val_loss: 0.0011 - val_mean_squared_error: 0.0011 - val_root_mean_squared_error: 0.0330\n",
            "Epoch 10/60\n",
            "1177/1177 [==============================] - 3s 2ms/sample - loss: 0.0047 - mean_squared_error: 0.0047 - root_mean_squared_error: 0.0684 - val_loss: 9.9198e-04 - val_mean_squared_error: 9.9198e-04 - val_root_mean_squared_error: 0.0315\n",
            "Epoch 11/60\n",
            "1177/1177 [==============================] - 3s 2ms/sample - loss: 0.0044 - mean_squared_error: 0.0044 - root_mean_squared_error: 0.0660 - val_loss: 8.0990e-04 - val_mean_squared_error: 8.0990e-04 - val_root_mean_squared_error: 0.0285\n",
            "Epoch 12/60\n",
            "1177/1177 [==============================] - 3s 2ms/sample - loss: 0.0038 - mean_squared_error: 0.0038 - root_mean_squared_error: 0.0618 - val_loss: 9.1283e-04 - val_mean_squared_error: 9.1283e-04 - val_root_mean_squared_error: 0.0302\n",
            "Epoch 13/60\n",
            "1177/1177 [==============================] - 3s 3ms/sample - loss: 0.0049 - mean_squared_error: 0.0049 - root_mean_squared_error: 0.0697 - val_loss: 7.8772e-04 - val_mean_squared_error: 7.8772e-04 - val_root_mean_squared_error: 0.0281\n",
            "Epoch 14/60\n",
            "1177/1177 [==============================] - 3s 3ms/sample - loss: 0.0041 - mean_squared_error: 0.0041 - root_mean_squared_error: 0.0639 - val_loss: 8.7834e-04 - val_mean_squared_error: 8.7834e-04 - val_root_mean_squared_error: 0.0296\n",
            "Epoch 15/60\n",
            "1177/1177 [==============================] - 3s 2ms/sample - loss: 0.0044 - mean_squared_error: 0.0044 - root_mean_squared_error: 0.0661 - val_loss: 7.5553e-04 - val_mean_squared_error: 7.5553e-04 - val_root_mean_squared_error: 0.0275\n",
            "Epoch 16/60\n",
            "1177/1177 [==============================] - 3s 2ms/sample - loss: 0.0038 - mean_squared_error: 0.0038 - root_mean_squared_error: 0.0613 - val_loss: 7.3651e-04 - val_mean_squared_error: 7.3651e-04 - val_root_mean_squared_error: 0.0271\n",
            "Epoch 17/60\n",
            "1177/1177 [==============================] - 3s 2ms/sample - loss: 0.0036 - mean_squared_error: 0.0036 - root_mean_squared_error: 0.0604 - val_loss: 7.0743e-04 - val_mean_squared_error: 7.0743e-04 - val_root_mean_squared_error: 0.0266\n",
            "Epoch 18/60\n",
            "1177/1177 [==============================] - 4s 3ms/sample - loss: 0.0039 - mean_squared_error: 0.0039 - root_mean_squared_error: 0.0628 - val_loss: 6.6832e-04 - val_mean_squared_error: 6.6832e-04 - val_root_mean_squared_error: 0.0259\n",
            "Epoch 19/60\n",
            "1177/1177 [==============================] - 3s 2ms/sample - loss: 0.0038 - mean_squared_error: 0.0038 - root_mean_squared_error: 0.0615 - val_loss: 7.6282e-04 - val_mean_squared_error: 7.6282e-04 - val_root_mean_squared_error: 0.0276\n",
            "Epoch 20/60\n",
            "1177/1177 [==============================] - 3s 2ms/sample - loss: 0.0038 - mean_squared_error: 0.0038 - root_mean_squared_error: 0.0616 - val_loss: 7.1439e-04 - val_mean_squared_error: 7.1439e-04 - val_root_mean_squared_error: 0.0267\n",
            "Epoch 21/60\n",
            "1177/1177 [==============================] - 3s 2ms/sample - loss: 0.0032 - mean_squared_error: 0.0032 - root_mean_squared_error: 0.0570 - val_loss: 6.9557e-04 - val_mean_squared_error: 6.9557e-04 - val_root_mean_squared_error: 0.0264\n",
            "Epoch 22/60\n",
            "1177/1177 [==============================] - 3s 3ms/sample - loss: 0.0037 - mean_squared_error: 0.0037 - root_mean_squared_error: 0.0606 - val_loss: 6.7819e-04 - val_mean_squared_error: 6.7819e-04 - val_root_mean_squared_error: 0.0260\n",
            "Epoch 23/60\n",
            "1177/1177 [==============================] - 4s 3ms/sample - loss: 0.0034 - mean_squared_error: 0.0034 - root_mean_squared_error: 0.0582 - val_loss: 7.6061e-04 - val_mean_squared_error: 7.6061e-04 - val_root_mean_squared_error: 0.0276\n",
            "Epoch 24/60\n",
            "1177/1177 [==============================] - 3s 2ms/sample - loss: 0.0032 - mean_squared_error: 0.0032 - root_mean_squared_error: 0.0570 - val_loss: 6.9907e-04 - val_mean_squared_error: 6.9907e-04 - val_root_mean_squared_error: 0.0264\n",
            "Epoch 25/60\n",
            "1177/1177 [==============================] - 3s 2ms/sample - loss: 0.0030 - mean_squared_error: 0.0030 - root_mean_squared_error: 0.0547 - val_loss: 5.8082e-04 - val_mean_squared_error: 5.8082e-04 - val_root_mean_squared_error: 0.0241\n",
            "Epoch 26/60\n",
            "1177/1177 [==============================] - 3s 2ms/sample - loss: 0.0029 - mean_squared_error: 0.0029 - root_mean_squared_error: 0.0542 - val_loss: 5.6211e-04 - val_mean_squared_error: 5.6211e-04 - val_root_mean_squared_error: 0.0237\n",
            "Epoch 27/60\n",
            "1177/1177 [==============================] - 3s 3ms/sample - loss: 0.0032 - mean_squared_error: 0.0032 - root_mean_squared_error: 0.0566 - val_loss: 8.4235e-04 - val_mean_squared_error: 8.4235e-04 - val_root_mean_squared_error: 0.0290\n",
            "Epoch 28/60\n",
            "1177/1177 [==============================] - 3s 3ms/sample - loss: 0.0028 - mean_squared_error: 0.0028 - root_mean_squared_error: 0.0528 - val_loss: 5.6961e-04 - val_mean_squared_error: 5.6961e-04 - val_root_mean_squared_error: 0.0239\n",
            "Epoch 29/60\n",
            "1177/1177 [==============================] - 3s 2ms/sample - loss: 0.0031 - mean_squared_error: 0.0031 - root_mean_squared_error: 0.0557 - val_loss: 5.3839e-04 - val_mean_squared_error: 5.3839e-04 - val_root_mean_squared_error: 0.0232\n",
            "Epoch 30/60\n",
            "1177/1177 [==============================] - 3s 2ms/sample - loss: 0.0029 - mean_squared_error: 0.0029 - root_mean_squared_error: 0.0538 - val_loss: 5.0019e-04 - val_mean_squared_error: 5.0019e-04 - val_root_mean_squared_error: 0.0224\n",
            "Epoch 31/60\n",
            "1177/1177 [==============================] - 3s 2ms/sample - loss: 0.0033 - mean_squared_error: 0.0033 - root_mean_squared_error: 0.0572 - val_loss: 5.1942e-04 - val_mean_squared_error: 5.1942e-04 - val_root_mean_squared_error: 0.0228\n",
            "Epoch 32/60\n",
            "1177/1177 [==============================] - 4s 3ms/sample - loss: 0.0026 - mean_squared_error: 0.0026 - root_mean_squared_error: 0.0507 - val_loss: 6.0371e-04 - val_mean_squared_error: 6.0371e-04 - val_root_mean_squared_error: 0.0246\n",
            "Epoch 33/60\n",
            "1177/1177 [==============================] - 3s 2ms/sample - loss: 0.0029 - mean_squared_error: 0.0029 - root_mean_squared_error: 0.0539 - val_loss: 9.0018e-04 - val_mean_squared_error: 9.0018e-04 - val_root_mean_squared_error: 0.0300\n",
            "Epoch 34/60\n",
            "1177/1177 [==============================] - 3s 2ms/sample - loss: 0.0028 - mean_squared_error: 0.0028 - root_mean_squared_error: 0.0528 - val_loss: 4.7174e-04 - val_mean_squared_error: 4.7174e-04 - val_root_mean_squared_error: 0.0217\n",
            "Epoch 35/60\n",
            "1177/1177 [==============================] - 3s 2ms/sample - loss: 0.0028 - mean_squared_error: 0.0028 - root_mean_squared_error: 0.0529 - val_loss: 0.0016 - val_mean_squared_error: 0.0016 - val_root_mean_squared_error: 0.0406\n",
            "Epoch 36/60\n",
            "1177/1177 [==============================] - 3s 3ms/sample - loss: 0.0027 - mean_squared_error: 0.0027 - root_mean_squared_error: 0.0520 - val_loss: 5.7152e-04 - val_mean_squared_error: 5.7152e-04 - val_root_mean_squared_error: 0.0239\n",
            "Epoch 37/60\n",
            "1177/1177 [==============================] - 4s 3ms/sample - loss: 0.0027 - mean_squared_error: 0.0027 - root_mean_squared_error: 0.0516 - val_loss: 5.6467e-04 - val_mean_squared_error: 5.6467e-04 - val_root_mean_squared_error: 0.0238\n",
            "Epoch 38/60\n",
            "1177/1177 [==============================] - 3s 2ms/sample - loss: 0.0028 - mean_squared_error: 0.0028 - root_mean_squared_error: 0.0531 - val_loss: 4.3469e-04 - val_mean_squared_error: 4.3469e-04 - val_root_mean_squared_error: 0.0208\n",
            "Epoch 39/60\n",
            "1177/1177 [==============================] - 3s 2ms/sample - loss: 0.0024 - mean_squared_error: 0.0024 - root_mean_squared_error: 0.0493 - val_loss: 4.6805e-04 - val_mean_squared_error: 4.6805e-04 - val_root_mean_squared_error: 0.0216\n",
            "Epoch 40/60\n",
            "1177/1177 [==============================] - 3s 2ms/sample - loss: 0.0024 - mean_squared_error: 0.0024 - root_mean_squared_error: 0.0490 - val_loss: 4.4857e-04 - val_mean_squared_error: 4.4857e-04 - val_root_mean_squared_error: 0.0212\n",
            "Epoch 41/60\n",
            "1177/1177 [==============================] - 4s 3ms/sample - loss: 0.0026 - mean_squared_error: 0.0026 - root_mean_squared_error: 0.0505 - val_loss: 4.1839e-04 - val_mean_squared_error: 4.1839e-04 - val_root_mean_squared_error: 0.0205\n",
            "Epoch 42/60\n",
            "1177/1177 [==============================] - 3s 3ms/sample - loss: 0.0024 - mean_squared_error: 0.0024 - root_mean_squared_error: 0.0485 - val_loss: 4.1574e-04 - val_mean_squared_error: 4.1574e-04 - val_root_mean_squared_error: 0.0204\n",
            "Epoch 43/60\n",
            "1177/1177 [==============================] - 3s 2ms/sample - loss: 0.0022 - mean_squared_error: 0.0022 - root_mean_squared_error: 0.0470 - val_loss: 9.1128e-04 - val_mean_squared_error: 9.1128e-04 - val_root_mean_squared_error: 0.0302\n",
            "Epoch 44/60\n",
            "1177/1177 [==============================] - 3s 2ms/sample - loss: 0.0024 - mean_squared_error: 0.0024 - root_mean_squared_error: 0.0494 - val_loss: 3.7711e-04 - val_mean_squared_error: 3.7711e-04 - val_root_mean_squared_error: 0.0194\n",
            "Epoch 45/60\n",
            "1177/1177 [==============================] - 3s 2ms/sample - loss: 0.0026 - mean_squared_error: 0.0026 - root_mean_squared_error: 0.0506 - val_loss: 3.7243e-04 - val_mean_squared_error: 3.7243e-04 - val_root_mean_squared_error: 0.0193\n",
            "Epoch 46/60\n",
            "1177/1177 [==============================] - 4s 3ms/sample - loss: 0.0023 - mean_squared_error: 0.0023 - root_mean_squared_error: 0.0482 - val_loss: 3.6229e-04 - val_mean_squared_error: 3.6229e-04 - val_root_mean_squared_error: 0.0190\n",
            "Epoch 47/60\n",
            "1177/1177 [==============================] - 3s 3ms/sample - loss: 0.0022 - mean_squared_error: 0.0022 - root_mean_squared_error: 0.0464 - val_loss: 7.4627e-04 - val_mean_squared_error: 7.4627e-04 - val_root_mean_squared_error: 0.0273\n",
            "Epoch 48/60\n",
            "1177/1177 [==============================] - 3s 2ms/sample - loss: 0.0021 - mean_squared_error: 0.0021 - root_mean_squared_error: 0.0455 - val_loss: 5.4276e-04 - val_mean_squared_error: 5.4276e-04 - val_root_mean_squared_error: 0.0233\n",
            "Epoch 49/60\n",
            "1177/1177 [==============================] - 3s 2ms/sample - loss: 0.0023 - mean_squared_error: 0.0023 - root_mean_squared_error: 0.0481 - val_loss: 3.5670e-04 - val_mean_squared_error: 3.5670e-04 - val_root_mean_squared_error: 0.0189\n",
            "Epoch 50/60\n",
            "1177/1177 [==============================] - 3s 2ms/sample - loss: 0.0024 - mean_squared_error: 0.0024 - root_mean_squared_error: 0.0490 - val_loss: 3.5287e-04 - val_mean_squared_error: 3.5287e-04 - val_root_mean_squared_error: 0.0188\n",
            "Epoch 51/60\n",
            "1177/1177 [==============================] - 4s 3ms/sample - loss: 0.0023 - mean_squared_error: 0.0023 - root_mean_squared_error: 0.0481 - val_loss: 3.3749e-04 - val_mean_squared_error: 3.3749e-04 - val_root_mean_squared_error: 0.0184\n",
            "Epoch 52/60\n",
            "1177/1177 [==============================] - 3s 2ms/sample - loss: 0.0022 - mean_squared_error: 0.0022 - root_mean_squared_error: 0.0464 - val_loss: 5.8638e-04 - val_mean_squared_error: 5.8638e-04 - val_root_mean_squared_error: 0.0242\n",
            "Epoch 53/60\n",
            "1177/1177 [==============================] - 3s 2ms/sample - loss: 0.0021 - mean_squared_error: 0.0021 - root_mean_squared_error: 0.0455 - val_loss: 3.1725e-04 - val_mean_squared_error: 3.1725e-04 - val_root_mean_squared_error: 0.0178\n",
            "Epoch 54/60\n",
            "1177/1177 [==============================] - 3s 2ms/sample - loss: 0.0020 - mean_squared_error: 0.0020 - root_mean_squared_error: 0.0447 - val_loss: 3.9299e-04 - val_mean_squared_error: 3.9299e-04 - val_root_mean_squared_error: 0.0198\n",
            "Epoch 55/60\n",
            "1177/1177 [==============================] - 3s 3ms/sample - loss: 0.0021 - mean_squared_error: 0.0021 - root_mean_squared_error: 0.0453 - val_loss: 3.6788e-04 - val_mean_squared_error: 3.6788e-04 - val_root_mean_squared_error: 0.0192\n",
            "Epoch 56/60\n",
            "1177/1177 [==============================] - 3s 3ms/sample - loss: 0.0020 - mean_squared_error: 0.0020 - root_mean_squared_error: 0.0448 - val_loss: 0.0011 - val_mean_squared_error: 0.0011 - val_root_mean_squared_error: 0.0329\n",
            "Epoch 57/60\n",
            "1177/1177 [==============================] - 3s 2ms/sample - loss: 0.0021 - mean_squared_error: 0.0021 - root_mean_squared_error: 0.0462 - val_loss: 3.1648e-04 - val_mean_squared_error: 3.1648e-04 - val_root_mean_squared_error: 0.0178\n",
            "Epoch 58/60\n",
            "1177/1177 [==============================] - 3s 2ms/sample - loss: 0.0018 - mean_squared_error: 0.0018 - root_mean_squared_error: 0.0428 - val_loss: 7.0694e-04 - val_mean_squared_error: 7.0694e-04 - val_root_mean_squared_error: 0.0266\n",
            "Epoch 59/60\n",
            "1177/1177 [==============================] - 3s 2ms/sample - loss: 0.0022 - mean_squared_error: 0.0022 - root_mean_squared_error: 0.0470 - val_loss: 8.4273e-04 - val_mean_squared_error: 8.4273e-04 - val_root_mean_squared_error: 0.0290\n",
            "Epoch 60/60\n",
            "1177/1177 [==============================] - 4s 3ms/sample - loss: 0.0019 - mean_squared_error: 0.0019 - root_mean_squared_error: 0.0440 - val_loss: 3.2925e-04 - val_mean_squared_error: 3.2925e-04 - val_root_mean_squared_error: 0.0181\n"
          ]
        },
        {
          "output_type": "stream",
          "name": "stderr",
          "text": [
            "/usr/local/lib/python3.10/dist-packages/keras/src/engine/training_v1.py:2359: UserWarning: `Model.state_updates` will be removed in a future version. This property should not be used in TensorFlow 2.0, as `updates` are applied automatically.\n",
            "  updates=self.state_updates,\n"
          ]
        },
        {
          "output_type": "stream",
          "name": "stdout",
          "text": [
            "{(('Adj Close', 'sentiment_score', 'normalized_influence_robust', 'Volume'), 40, 60): [0.002353782532736659, 0.0023537825, 0.048515797], (('Adj Close', 'sentiment_score', 'normalized_influence_minmax', 'Volume'), 40, 60): [0.001315802358857072, 0.0013158023, 0.03627399], (('Adj Close', 'sentiment_score', 'normalized_influence_standard', 'Volume'), 40, 60): [0.003317862273530757, 0.003317862, 0.057600886]}\n"
          ]
        }
      ]
    },
    {
      "cell_type": "code",
      "source": [
        "history_dict"
      ],
      "metadata": {
        "colab": {
          "base_uri": "https://localhost:8080/"
        },
        "id": "kNUzGqFph-82",
        "outputId": "eeb5372b-76be-4e62-e855-b365b3947576"
      },
      "id": "kNUzGqFph-82",
      "execution_count": 153,
      "outputs": [
        {
          "output_type": "execute_result",
          "data": {
            "text/plain": [
              "{(('Adj Close', 'sentiment_score', 'normalized_influence_robust', 'Volume'),\n",
              "  40,\n",
              "  60): [0.002353782532736659, 0.0023537825, 0.048515797],\n",
              " (('Adj Close', 'sentiment_score', 'normalized_influence_minmax', 'Volume'),\n",
              "  40,\n",
              "  60): [0.001315802358857072, 0.0013158023, 0.03627399],\n",
              " (('Adj Close', 'sentiment_score', 'normalized_influence_standard', 'Volume'),\n",
              "  40,\n",
              "  60): [0.003317862273530757, 0.003317862, 0.057600886]}"
            ]
          },
          "metadata": {},
          "execution_count": 153
        }
      ]
    },
    {
      "cell_type": "code",
      "source": [],
      "metadata": {
        "id": "gCkraJsdnLHt"
      },
      "id": "gCkraJsdnLHt",
      "execution_count": null,
      "outputs": []
    }
  ],
  "metadata": {
    "colab": {
      "provenance": []
    },
    "kernelspec": {
      "display_name": "Python 3",
      "language": "python",
      "name": "python3"
    },
    "language_info": {
      "codemirror_mode": {
        "name": "ipython",
        "version": 2
      },
      "file_extension": ".py",
      "mimetype": "text/x-python",
      "name": "python",
      "nbconvert_exporter": "python",
      "pygments_lexer": "ipython2",
      "version": "2.7.6"
    }
  },
  "nbformat": 4,
  "nbformat_minor": 5
}