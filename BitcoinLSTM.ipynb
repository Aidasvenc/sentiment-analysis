{
 "cells": [
  {
   "cell_type": "markdown",
   "source": [
    "## Bitcoin price prediction using LSTM model\n",
    "\n",
    "As a first step, the price predictions will only use temporal price data"
   ],
   "metadata": {
    "collapsed": false
   },
   "id": "a90114ef39d51c70"
  },
  {
   "cell_type": "code",
   "execution_count": 1,
   "id": "initial_id",
   "metadata": {
    "collapsed": true,
    "ExecuteTime": {
     "end_time": "2024-05-21T08:57:58.394208300Z",
     "start_time": "2024-05-21T08:57:53.209994600Z"
    }
   },
   "outputs": [],
   "source": [
    "# Import needed libraries\n",
    "import numpy as np\n",
    "import pandas as pd\n",
    "import matplotlib.pyplot as plt\n",
    "import matplotlib.dates as dates\n",
    "from sklearn.preprocessing import MinMaxScaler\n",
    "from tensorflow import keras"
   ]
  },
  {
   "cell_type": "markdown",
   "source": [
    "### Import the data"
   ],
   "metadata": {
    "collapsed": false
   },
   "id": "fb5574d8a91ad60d"
  },
  {
   "cell_type": "code",
   "execution_count": 2,
   "outputs": [],
   "source": [
    "filename = \"BTC-USD.csv\"\n",
    "df = pd.read_csv(\"data/\" + filename)"
   ],
   "metadata": {
    "collapsed": false,
    "ExecuteTime": {
     "end_time": "2024-05-21T08:58:01.738523Z",
     "start_time": "2024-05-21T08:58:01.699461100Z"
    }
   },
   "id": "41d889869178c743"
  },
  {
   "cell_type": "markdown",
   "source": [
    "### Prepare the data"
   ],
   "metadata": {
    "collapsed": false
   },
   "id": "921b714743e8bfab"
  },
  {
   "cell_type": "code",
   "execution_count": 4,
   "outputs": [
    {
     "name": "stdout",
     "output_type": "stream",
     "text": [
      "<class 'pandas.core.frame.DataFrame'>\n",
      "RangeIndex: 1828 entries, 0 to 1827\n",
      "Data columns (total 7 columns):\n",
      " #   Column     Non-Null Count  Dtype         \n",
      "---  ------     --------------  -----         \n",
      " 0   Date       1828 non-null   datetime64[ns]\n",
      " 1   Open       1828 non-null   float64       \n",
      " 2   High       1828 non-null   float64       \n",
      " 3   Low        1828 non-null   float64       \n",
      " 4   Close      1828 non-null   float64       \n",
      " 5   Adj Close  1828 non-null   float64       \n",
      " 6   Volume     1828 non-null   float64       \n",
      "dtypes: datetime64[ns](1), float64(6)\n",
      "memory usage: 100.1 KB\n"
     ]
    }
   ],
   "source": [
    "# Convert to datetime\n",
    "df[\"Date\"] = pd.to_datetime(df[\"Date\"])\n",
    "df.info()"
   ],
   "metadata": {
    "collapsed": false,
    "ExecuteTime": {
     "end_time": "2024-05-13T11:18:51.546210800Z",
     "start_time": "2024-05-13T11:18:51.516197800Z"
    }
   },
   "id": "4f32e507cb019a1a"
  },
  {
   "cell_type": "code",
   "execution_count": 12,
   "outputs": [],
   "source": [
    "# Split data into training, validation and test sets\n",
    "training_data = df[(df['Date'] >= \"2019-01-01\") & (df['Date'] <= \"2022-12-31\")]['Adj Close']\n",
    "validation_data = df[(df['Date'] >= \"2023-01-01\") & (df['Date'] <= \"2023-12-31\")]['Adj Close']\n",
    "test_data = df[(df['Date'] >= \"2024-01-01\") & (df['Date'] <= \"2024-12-31\")]['Adj Close']\n",
    "\n",
    "# Reshape the data\n",
    "training_set = training_data.values.reshape(-1, 1)\n",
    "validation_set = validation_data.values.reshape(-1, 1)\n",
    "test_set = test_data.values.reshape(-1, 1)"
   ],
   "metadata": {
    "collapsed": false,
    "ExecuteTime": {
     "end_time": "2024-05-13T11:49:02.587866300Z",
     "start_time": "2024-05-13T11:49:02.558148Z"
    }
   },
   "id": "59591c5e5f5cb205"
  },
  {
   "cell_type": "code",
   "execution_count": 13,
   "outputs": [],
   "source": [
    "# Scale the features\n",
    "scaler = MinMaxScaler(feature_range=(0, 1))\n",
    "training_set_scaled = scaler.fit_transform(training_set)\n",
    "validation_set_scaled = scaler.transform(validation_set)\n",
    "test_set_scaled = scaler.transform(test_set)"
   ],
   "metadata": {
    "collapsed": false,
    "ExecuteTime": {
     "end_time": "2024-05-13T11:49:07.146399800Z",
     "start_time": "2024-05-13T11:49:07.131266400Z"
    }
   },
   "id": "c90108df082bba6c"
  },
  {
   "cell_type": "code",
   "execution_count": 7,
   "outputs": [],
   "source": [
    "# Create input sequences for training\n",
    "def create_sequences(data, seq_length=60):\n",
    "    X = []\n",
    "    y = []\n",
    "    for i in range(seq_length, len(data)):\n",
    "        X.append(data[i-seq_length:i, 0])\n",
    "        y.append(data[i, 0])\n",
    "    return np.array(X), np.array(y)"
   ],
   "metadata": {
    "collapsed": false,
    "ExecuteTime": {
     "end_time": "2024-05-13T11:18:59.853048200Z",
     "start_time": "2024-05-13T11:18:59.847393500Z"
    }
   },
   "id": "97d4f05dda5bd7"
  },
  {
   "cell_type": "code",
   "execution_count": 8,
   "outputs": [],
   "source": [
    "X_train, y_train = create_sequences(training_set_scaled)\n",
    "X_validation, y_validation = create_sequences(validation_set_scaled)\n",
    "\n",
    "# Reshape inputs for LSTM model\n",
    "X_train = np.reshape(X_train, (X_train.shape[0], X_train.shape[1], 1))\n",
    "X_validation = np.reshape(X_validation, (X_validation.shape[0], X_validation.shape[1], 1))"
   ],
   "metadata": {
    "collapsed": false,
    "ExecuteTime": {
     "end_time": "2024-05-13T11:19:02.320465200Z",
     "start_time": "2024-05-13T11:19:02.304602700Z"
    }
   },
   "id": "57d97f00973a90b1"
  },
  {
   "cell_type": "markdown",
   "source": [
    "### Build and train the model"
   ],
   "metadata": {
    "collapsed": false
   },
   "id": "527b7363f5786ac4"
  },
  {
   "cell_type": "code",
   "execution_count": 9,
   "outputs": [
    {
     "name": "stderr",
     "output_type": "stream",
     "text": [
      "C:\\Users\\aidas\\anaconda3\\envs\\conda3v11\\Lib\\site-packages\\keras\\src\\layers\\rnn\\rnn.py:204: UserWarning: Do not pass an `input_shape`/`input_dim` argument to a layer. When using Sequential models, prefer using an `Input(shape)` object as the first layer in the model instead.\n",
      "  super().__init__(**kwargs)\n"
     ]
    }
   ],
   "source": [
    "# Building the LSTM Model\n",
    "model = keras.Sequential()\n",
    "model.add(keras.layers.LSTM(units=50, return_sequences=True, input_shape=(X_train.shape[1], 1)))\n",
    "model.add(keras.layers.Dropout(0.2))\n",
    "model.add(keras.layers.LSTM(units=50, return_sequences=True))\n",
    "model.add(keras.layers.Dropout(0.2))\n",
    "model.add(keras.layers.LSTM(units=50, return_sequences=True))\n",
    "model.add(keras.layers.Dropout(0.2))\n",
    "model.add(keras.layers.LSTM(units=50))\n",
    "model.add(keras.layers.Dropout(0.2))\n",
    "model.add(keras.layers.Dense(units=1))"
   ],
   "metadata": {
    "collapsed": false,
    "ExecuteTime": {
     "end_time": "2024-05-13T11:19:05.105975800Z",
     "start_time": "2024-05-13T11:19:04.677468900Z"
    }
   },
   "id": "cfdc8812db4a5232"
  },
  {
   "cell_type": "code",
   "execution_count": 10,
   "outputs": [
    {
     "name": "stdout",
     "output_type": "stream",
     "text": [
      "Epoch 1/100\n",
      "\u001B[1m40/40\u001B[0m \u001B[32m━━━━━━━━━━━━━━━━━━━━\u001B[0m\u001B[37m\u001B[0m \u001B[1m15s\u001B[0m 202ms/step - loss: 0.0632 - val_loss: 0.0026\n",
      "Epoch 2/100\n",
      "\u001B[1m40/40\u001B[0m \u001B[32m━━━━━━━━━━━━━━━━━━━━\u001B[0m\u001B[37m\u001B[0m \u001B[1m7s\u001B[0m 166ms/step - loss: 0.0069 - val_loss: 0.0026\n",
      "Epoch 3/100\n",
      "\u001B[1m40/40\u001B[0m \u001B[32m━━━━━━━━━━━━━━━━━━━━\u001B[0m\u001B[37m\u001B[0m \u001B[1m6s\u001B[0m 160ms/step - loss: 0.0065 - val_loss: 0.0011\n",
      "Epoch 4/100\n",
      "\u001B[1m40/40\u001B[0m \u001B[32m━━━━━━━━━━━━━━━━━━━━\u001B[0m\u001B[37m\u001B[0m \u001B[1m6s\u001B[0m 144ms/step - loss: 0.0058 - val_loss: 0.0011\n",
      "Epoch 5/100\n",
      "\u001B[1m40/40\u001B[0m \u001B[32m━━━━━━━━━━━━━━━━━━━━\u001B[0m\u001B[37m\u001B[0m \u001B[1m6s\u001B[0m 151ms/step - loss: 0.0052 - val_loss: 0.0011\n",
      "Epoch 6/100\n",
      "\u001B[1m40/40\u001B[0m \u001B[32m━━━━━━━━━━━━━━━━━━━━\u001B[0m\u001B[37m\u001B[0m \u001B[1m6s\u001B[0m 157ms/step - loss: 0.0051 - val_loss: 9.2008e-04\n",
      "Epoch 7/100\n",
      "\u001B[1m40/40\u001B[0m \u001B[32m━━━━━━━━━━━━━━━━━━━━\u001B[0m\u001B[37m\u001B[0m \u001B[1m10s\u001B[0m 140ms/step - loss: 0.0052 - val_loss: 9.1656e-04\n",
      "Epoch 8/100\n",
      "\u001B[1m40/40\u001B[0m \u001B[32m━━━━━━━━━━━━━━━━━━━━\u001B[0m\u001B[37m\u001B[0m \u001B[1m6s\u001B[0m 146ms/step - loss: 0.0046 - val_loss: 0.0011\n",
      "Epoch 9/100\n",
      "\u001B[1m40/40\u001B[0m \u001B[32m━━━━━━━━━━━━━━━━━━━━\u001B[0m\u001B[37m\u001B[0m \u001B[1m6s\u001B[0m 144ms/step - loss: 0.0040 - val_loss: 8.3009e-04\n",
      "Epoch 10/100\n",
      "\u001B[1m40/40\u001B[0m \u001B[32m━━━━━━━━━━━━━━━━━━━━\u001B[0m\u001B[37m\u001B[0m \u001B[1m6s\u001B[0m 143ms/step - loss: 0.0042 - val_loss: 8.8574e-04\n",
      "Epoch 11/100\n",
      "\u001B[1m40/40\u001B[0m \u001B[32m━━━━━━━━━━━━━━━━━━━━\u001B[0m\u001B[37m\u001B[0m \u001B[1m6s\u001B[0m 151ms/step - loss: 0.0035 - val_loss: 0.0013\n",
      "Epoch 12/100\n",
      "\u001B[1m40/40\u001B[0m \u001B[32m━━━━━━━━━━━━━━━━━━━━\u001B[0m\u001B[37m\u001B[0m \u001B[1m6s\u001B[0m 146ms/step - loss: 0.0039 - val_loss: 7.5485e-04\n",
      "Epoch 13/100\n",
      "\u001B[1m40/40\u001B[0m \u001B[32m━━━━━━━━━━━━━━━━━━━━\u001B[0m\u001B[37m\u001B[0m \u001B[1m6s\u001B[0m 141ms/step - loss: 0.0034 - val_loss: 0.0011\n",
      "Epoch 14/100\n",
      "\u001B[1m40/40\u001B[0m \u001B[32m━━━━━━━━━━━━━━━━━━━━\u001B[0m\u001B[37m\u001B[0m \u001B[1m6s\u001B[0m 143ms/step - loss: 0.0033 - val_loss: 0.0012\n",
      "Epoch 15/100\n",
      "\u001B[1m40/40\u001B[0m \u001B[32m━━━━━━━━━━━━━━━━━━━━\u001B[0m\u001B[37m\u001B[0m \u001B[1m6s\u001B[0m 142ms/step - loss: 0.0036 - val_loss: 0.0010\n",
      "Epoch 16/100\n",
      "\u001B[1m40/40\u001B[0m \u001B[32m━━━━━━━━━━━━━━━━━━━━\u001B[0m\u001B[37m\u001B[0m \u001B[1m6s\u001B[0m 143ms/step - loss: 0.0035 - val_loss: 6.7813e-04\n",
      "Epoch 17/100\n",
      "\u001B[1m40/40\u001B[0m \u001B[32m━━━━━━━━━━━━━━━━━━━━\u001B[0m\u001B[37m\u001B[0m \u001B[1m6s\u001B[0m 153ms/step - loss: 0.0026 - val_loss: 6.8712e-04\n",
      "Epoch 18/100\n",
      "\u001B[1m40/40\u001B[0m \u001B[32m━━━━━━━━━━━━━━━━━━━━\u001B[0m\u001B[37m\u001B[0m \u001B[1m6s\u001B[0m 141ms/step - loss: 0.0031 - val_loss: 6.0124e-04\n",
      "Epoch 19/100\n",
      "\u001B[1m40/40\u001B[0m \u001B[32m━━━━━━━━━━━━━━━━━━━━\u001B[0m\u001B[37m\u001B[0m \u001B[1m6s\u001B[0m 151ms/step - loss: 0.0032 - val_loss: 0.0015\n",
      "Epoch 20/100\n",
      "\u001B[1m40/40\u001B[0m \u001B[32m━━━━━━━━━━━━━━━━━━━━\u001B[0m\u001B[37m\u001B[0m \u001B[1m6s\u001B[0m 140ms/step - loss: 0.0031 - val_loss: 0.0017\n",
      "Epoch 21/100\n",
      "\u001B[1m40/40\u001B[0m \u001B[32m━━━━━━━━━━━━━━━━━━━━\u001B[0m\u001B[37m\u001B[0m \u001B[1m6s\u001B[0m 142ms/step - loss: 0.0030 - val_loss: 5.4529e-04\n",
      "Epoch 22/100\n",
      "\u001B[1m40/40\u001B[0m \u001B[32m━━━━━━━━━━━━━━━━━━━━\u001B[0m\u001B[37m\u001B[0m \u001B[1m6s\u001B[0m 149ms/step - loss: 0.0034 - val_loss: 6.9220e-04\n",
      "Epoch 23/100\n",
      "\u001B[1m40/40\u001B[0m \u001B[32m━━━━━━━━━━━━━━━━━━━━\u001B[0m\u001B[37m\u001B[0m \u001B[1m6s\u001B[0m 141ms/step - loss: 0.0024 - val_loss: 6.1825e-04\n",
      "Epoch 24/100\n",
      "\u001B[1m40/40\u001B[0m \u001B[32m━━━━━━━━━━━━━━━━━━━━\u001B[0m\u001B[37m\u001B[0m \u001B[1m6s\u001B[0m 142ms/step - loss: 0.0031 - val_loss: 7.5515e-04\n",
      "Epoch 25/100\n",
      "\u001B[1m40/40\u001B[0m \u001B[32m━━━━━━━━━━━━━━━━━━━━\u001B[0m\u001B[37m\u001B[0m \u001B[1m6s\u001B[0m 155ms/step - loss: 0.0027 - val_loss: 6.3433e-04\n",
      "Epoch 26/100\n",
      "\u001B[1m40/40\u001B[0m \u001B[32m━━━━━━━━━━━━━━━━━━━━\u001B[0m\u001B[37m\u001B[0m \u001B[1m6s\u001B[0m 140ms/step - loss: 0.0026 - val_loss: 6.9856e-04\n",
      "Epoch 27/100\n",
      "\u001B[1m40/40\u001B[0m \u001B[32m━━━━━━━━━━━━━━━━━━━━\u001B[0m\u001B[37m\u001B[0m \u001B[1m5s\u001B[0m 124ms/step - loss: 0.0027 - val_loss: 8.3513e-04\n",
      "Epoch 28/100\n",
      "\u001B[1m40/40\u001B[0m \u001B[32m━━━━━━━━━━━━━━━━━━━━\u001B[0m\u001B[37m\u001B[0m \u001B[1m5s\u001B[0m 132ms/step - loss: 0.0027 - val_loss: 4.5735e-04\n",
      "Epoch 29/100\n",
      "\u001B[1m40/40\u001B[0m \u001B[32m━━━━━━━━━━━━━━━━━━━━\u001B[0m\u001B[37m\u001B[0m \u001B[1m4s\u001B[0m 110ms/step - loss: 0.0022 - val_loss: 4.4039e-04\n",
      "Epoch 30/100\n",
      "\u001B[1m40/40\u001B[0m \u001B[32m━━━━━━━━━━━━━━━━━━━━\u001B[0m\u001B[37m\u001B[0m \u001B[1m5s\u001B[0m 136ms/step - loss: 0.0026 - val_loss: 4.8008e-04\n",
      "Epoch 31/100\n",
      "\u001B[1m40/40\u001B[0m \u001B[32m━━━━━━━━━━━━━━━━━━━━\u001B[0m\u001B[37m\u001B[0m \u001B[1m7s\u001B[0m 166ms/step - loss: 0.0024 - val_loss: 4.2907e-04\n",
      "Epoch 32/100\n",
      "\u001B[1m40/40\u001B[0m \u001B[32m━━━━━━━━━━━━━━━━━━━━\u001B[0m\u001B[37m\u001B[0m \u001B[1m6s\u001B[0m 144ms/step - loss: 0.0020 - val_loss: 4.1712e-04\n",
      "Epoch 33/100\n",
      "\u001B[1m40/40\u001B[0m \u001B[32m━━━━━━━━━━━━━━━━━━━━\u001B[0m\u001B[37m\u001B[0m \u001B[1m6s\u001B[0m 146ms/step - loss: 0.0024 - val_loss: 6.2693e-04\n",
      "Epoch 34/100\n",
      "\u001B[1m40/40\u001B[0m \u001B[32m━━━━━━━━━━━━━━━━━━━━\u001B[0m\u001B[37m\u001B[0m \u001B[1m6s\u001B[0m 144ms/step - loss: 0.0021 - val_loss: 4.5849e-04\n",
      "Epoch 35/100\n",
      "\u001B[1m40/40\u001B[0m \u001B[32m━━━━━━━━━━━━━━━━━━━━\u001B[0m\u001B[37m\u001B[0m \u001B[1m6s\u001B[0m 141ms/step - loss: 0.0024 - val_loss: 3.8365e-04\n",
      "Epoch 36/100\n",
      "\u001B[1m40/40\u001B[0m \u001B[32m━━━━━━━━━━━━━━━━━━━━\u001B[0m\u001B[37m\u001B[0m \u001B[1m6s\u001B[0m 142ms/step - loss: 0.0022 - val_loss: 5.0785e-04\n",
      "Epoch 37/100\n",
      "\u001B[1m40/40\u001B[0m \u001B[32m━━━━━━━━━━━━━━━━━━━━\u001B[0m\u001B[37m\u001B[0m \u001B[1m6s\u001B[0m 143ms/step - loss: 0.0024 - val_loss: 5.8967e-04\n",
      "Epoch 38/100\n",
      "\u001B[1m40/40\u001B[0m \u001B[32m━━━━━━━━━━━━━━━━━━━━\u001B[0m\u001B[37m\u001B[0m \u001B[1m10s\u001B[0m 149ms/step - loss: 0.0021 - val_loss: 3.6557e-04\n",
      "Epoch 39/100\n",
      "\u001B[1m40/40\u001B[0m \u001B[32m━━━━━━━━━━━━━━━━━━━━\u001B[0m\u001B[37m\u001B[0m \u001B[1m6s\u001B[0m 151ms/step - loss: 0.0022 - val_loss: 3.6284e-04\n",
      "Epoch 40/100\n",
      "\u001B[1m40/40\u001B[0m \u001B[32m━━━━━━━━━━━━━━━━━━━━\u001B[0m\u001B[37m\u001B[0m \u001B[1m6s\u001B[0m 142ms/step - loss: 0.0020 - val_loss: 3.4807e-04\n",
      "Epoch 41/100\n",
      "\u001B[1m40/40\u001B[0m \u001B[32m━━━━━━━━━━━━━━━━━━━━\u001B[0m\u001B[37m\u001B[0m \u001B[1m6s\u001B[0m 142ms/step - loss: 0.0019 - val_loss: 3.3900e-04\n",
      "Epoch 42/100\n",
      "\u001B[1m40/40\u001B[0m \u001B[32m━━━━━━━━━━━━━━━━━━━━\u001B[0m\u001B[37m\u001B[0m \u001B[1m6s\u001B[0m 147ms/step - loss: 0.0022 - val_loss: 3.9179e-04\n",
      "Epoch 43/100\n",
      "\u001B[1m40/40\u001B[0m \u001B[32m━━━━━━━━━━━━━━━━━━━━\u001B[0m\u001B[37m\u001B[0m \u001B[1m6s\u001B[0m 154ms/step - loss: 0.0018 - val_loss: 4.0645e-04\n",
      "Epoch 44/100\n",
      "\u001B[1m40/40\u001B[0m \u001B[32m━━━━━━━━━━━━━━━━━━━━\u001B[0m\u001B[37m\u001B[0m \u001B[1m6s\u001B[0m 149ms/step - loss: 0.0019 - val_loss: 6.1456e-04\n",
      "Epoch 45/100\n",
      "\u001B[1m40/40\u001B[0m \u001B[32m━━━━━━━━━━━━━━━━━━━━\u001B[0m\u001B[37m\u001B[0m \u001B[1m6s\u001B[0m 146ms/step - loss: 0.0023 - val_loss: 7.5544e-04\n",
      "Epoch 46/100\n",
      "\u001B[1m40/40\u001B[0m \u001B[32m━━━━━━━━━━━━━━━━━━━━\u001B[0m\u001B[37m\u001B[0m \u001B[1m6s\u001B[0m 145ms/step - loss: 0.0022 - val_loss: 4.1497e-04\n",
      "Epoch 47/100\n",
      "\u001B[1m40/40\u001B[0m \u001B[32m━━━━━━━━━━━━━━━━━━━━\u001B[0m\u001B[37m\u001B[0m \u001B[1m6s\u001B[0m 149ms/step - loss: 0.0017 - val_loss: 3.8257e-04\n",
      "Epoch 48/100\n",
      "\u001B[1m40/40\u001B[0m \u001B[32m━━━━━━━━━━━━━━━━━━━━\u001B[0m\u001B[37m\u001B[0m \u001B[1m6s\u001B[0m 144ms/step - loss: 0.0018 - val_loss: 5.2288e-04\n",
      "Epoch 49/100\n",
      "\u001B[1m40/40\u001B[0m \u001B[32m━━━━━━━━━━━━━━━━━━━━\u001B[0m\u001B[37m\u001B[0m \u001B[1m6s\u001B[0m 146ms/step - loss: 0.0021 - val_loss: 4.3966e-04\n",
      "Epoch 50/100\n",
      "\u001B[1m40/40\u001B[0m \u001B[32m━━━━━━━━━━━━━━━━━━━━\u001B[0m\u001B[37m\u001B[0m \u001B[1m6s\u001B[0m 156ms/step - loss: 0.0019 - val_loss: 2.9435e-04\n",
      "Epoch 51/100\n",
      "\u001B[1m40/40\u001B[0m \u001B[32m━━━━━━━━━━━━━━━━━━━━\u001B[0m\u001B[37m\u001B[0m \u001B[1m6s\u001B[0m 145ms/step - loss: 0.0021 - val_loss: 4.4634e-04\n",
      "Epoch 52/100\n",
      "\u001B[1m40/40\u001B[0m \u001B[32m━━━━━━━━━━━━━━━━━━━━\u001B[0m\u001B[37m\u001B[0m \u001B[1m6s\u001B[0m 140ms/step - loss: 0.0019 - val_loss: 2.9833e-04\n",
      "Epoch 53/100\n",
      "\u001B[1m40/40\u001B[0m \u001B[32m━━━━━━━━━━━━━━━━━━━━\u001B[0m\u001B[37m\u001B[0m \u001B[1m6s\u001B[0m 145ms/step - loss: 0.0015 - val_loss: 3.4230e-04\n",
      "Epoch 54/100\n",
      "\u001B[1m40/40\u001B[0m \u001B[32m━━━━━━━━━━━━━━━━━━━━\u001B[0m\u001B[37m\u001B[0m \u001B[1m10s\u001B[0m 130ms/step - loss: 0.0017 - val_loss: 3.7297e-04\n",
      "Epoch 55/100\n",
      "\u001B[1m40/40\u001B[0m \u001B[32m━━━━━━━━━━━━━━━━━━━━\u001B[0m\u001B[37m\u001B[0m \u001B[1m6s\u001B[0m 138ms/step - loss: 0.0015 - val_loss: 3.1174e-04\n",
      "Epoch 56/100\n",
      "\u001B[1m40/40\u001B[0m \u001B[32m━━━━━━━━━━━━━━━━━━━━\u001B[0m\u001B[37m\u001B[0m \u001B[1m6s\u001B[0m 137ms/step - loss: 0.0018 - val_loss: 3.1729e-04\n",
      "Epoch 57/100\n",
      "\u001B[1m40/40\u001B[0m \u001B[32m━━━━━━━━━━━━━━━━━━━━\u001B[0m\u001B[37m\u001B[0m \u001B[1m6s\u001B[0m 146ms/step - loss: 0.0016 - val_loss: 5.1594e-04\n",
      "Epoch 58/100\n",
      "\u001B[1m40/40\u001B[0m \u001B[32m━━━━━━━━━━━━━━━━━━━━\u001B[0m\u001B[37m\u001B[0m \u001B[1m6s\u001B[0m 140ms/step - loss: 0.0014 - val_loss: 2.7615e-04\n",
      "Epoch 59/100\n",
      "\u001B[1m40/40\u001B[0m \u001B[32m━━━━━━━━━━━━━━━━━━━━\u001B[0m\u001B[37m\u001B[0m \u001B[1m6s\u001B[0m 147ms/step - loss: 0.0014 - val_loss: 2.7588e-04\n",
      "Epoch 60/100\n",
      "\u001B[1m40/40\u001B[0m \u001B[32m━━━━━━━━━━━━━━━━━━━━\u001B[0m\u001B[37m\u001B[0m \u001B[1m6s\u001B[0m 153ms/step - loss: 0.0017 - val_loss: 2.8605e-04\n",
      "Epoch 61/100\n",
      "\u001B[1m40/40\u001B[0m \u001B[32m━━━━━━━━━━━━━━━━━━━━\u001B[0m\u001B[37m\u001B[0m \u001B[1m6s\u001B[0m 150ms/step - loss: 0.0019 - val_loss: 6.2991e-04\n",
      "Epoch 62/100\n",
      "\u001B[1m40/40\u001B[0m \u001B[32m━━━━━━━━━━━━━━━━━━━━\u001B[0m\u001B[37m\u001B[0m \u001B[1m6s\u001B[0m 154ms/step - loss: 0.0016 - val_loss: 7.2504e-04\n",
      "Epoch 63/100\n",
      "\u001B[1m40/40\u001B[0m \u001B[32m━━━━━━━━━━━━━━━━━━━━\u001B[0m\u001B[37m\u001B[0m \u001B[1m6s\u001B[0m 155ms/step - loss: 0.0018 - val_loss: 2.6802e-04\n",
      "Epoch 64/100\n",
      "\u001B[1m40/40\u001B[0m \u001B[32m━━━━━━━━━━━━━━━━━━━━\u001B[0m\u001B[37m\u001B[0m \u001B[1m6s\u001B[0m 152ms/step - loss: 0.0014 - val_loss: 4.6233e-04\n",
      "Epoch 65/100\n",
      "\u001B[1m40/40\u001B[0m \u001B[32m━━━━━━━━━━━━━━━━━━━━\u001B[0m\u001B[37m\u001B[0m \u001B[1m6s\u001B[0m 155ms/step - loss: 0.0018 - val_loss: 2.6783e-04\n",
      "Epoch 66/100\n",
      "\u001B[1m40/40\u001B[0m \u001B[32m━━━━━━━━━━━━━━━━━━━━\u001B[0m\u001B[37m\u001B[0m \u001B[1m6s\u001B[0m 150ms/step - loss: 0.0017 - val_loss: 6.0139e-04\n",
      "Epoch 67/100\n",
      "\u001B[1m40/40\u001B[0m \u001B[32m━━━━━━━━━━━━━━━━━━━━\u001B[0m\u001B[37m\u001B[0m \u001B[1m6s\u001B[0m 159ms/step - loss: 0.0017 - val_loss: 4.4717e-04\n",
      "Epoch 68/100\n",
      "\u001B[1m40/40\u001B[0m \u001B[32m━━━━━━━━━━━━━━━━━━━━\u001B[0m\u001B[37m\u001B[0m \u001B[1m5s\u001B[0m 122ms/step - loss: 0.0017 - val_loss: 7.0055e-04\n",
      "Epoch 69/100\n",
      "\u001B[1m40/40\u001B[0m \u001B[32m━━━━━━━━━━━━━━━━━━━━\u001B[0m\u001B[37m\u001B[0m \u001B[1m5s\u001B[0m 118ms/step - loss: 0.0017 - val_loss: 2.7406e-04\n",
      "Epoch 70/100\n",
      "\u001B[1m40/40\u001B[0m \u001B[32m━━━━━━━━━━━━━━━━━━━━\u001B[0m\u001B[37m\u001B[0m \u001B[1m5s\u001B[0m 120ms/step - loss: 0.0016 - val_loss: 2.3018e-04\n",
      "Epoch 71/100\n",
      "\u001B[1m40/40\u001B[0m \u001B[32m━━━━━━━━━━━━━━━━━━━━\u001B[0m\u001B[37m\u001B[0m \u001B[1m5s\u001B[0m 131ms/step - loss: 0.0016 - val_loss: 3.3010e-04\n",
      "Epoch 72/100\n",
      "\u001B[1m40/40\u001B[0m \u001B[32m━━━━━━━━━━━━━━━━━━━━\u001B[0m\u001B[37m\u001B[0m \u001B[1m5s\u001B[0m 134ms/step - loss: 0.0015 - val_loss: 3.1217e-04\n",
      "Epoch 73/100\n",
      "\u001B[1m40/40\u001B[0m \u001B[32m━━━━━━━━━━━━━━━━━━━━\u001B[0m\u001B[37m\u001B[0m \u001B[1m6s\u001B[0m 144ms/step - loss: 0.0016 - val_loss: 2.6013e-04\n",
      "Epoch 74/100\n",
      "\u001B[1m40/40\u001B[0m \u001B[32m━━━━━━━━━━━━━━━━━━━━\u001B[0m\u001B[37m\u001B[0m \u001B[1m5s\u001B[0m 136ms/step - loss: 0.0015 - val_loss: 2.4570e-04\n",
      "Epoch 75/100\n",
      "\u001B[1m40/40\u001B[0m \u001B[32m━━━━━━━━━━━━━━━━━━━━\u001B[0m\u001B[37m\u001B[0m \u001B[1m5s\u001B[0m 112ms/step - loss: 0.0016 - val_loss: 2.9185e-04\n",
      "Epoch 76/100\n",
      "\u001B[1m40/40\u001B[0m \u001B[32m━━━━━━━━━━━━━━━━━━━━\u001B[0m\u001B[37m\u001B[0m \u001B[1m4s\u001B[0m 98ms/step - loss: 0.0013 - val_loss: 3.4608e-04\n",
      "Epoch 77/100\n",
      "\u001B[1m40/40\u001B[0m \u001B[32m━━━━━━━━━━━━━━━━━━━━\u001B[0m\u001B[37m\u001B[0m \u001B[1m4s\u001B[0m 101ms/step - loss: 0.0015 - val_loss: 2.2449e-04\n",
      "Epoch 78/100\n",
      "\u001B[1m40/40\u001B[0m \u001B[32m━━━━━━━━━━━━━━━━━━━━\u001B[0m\u001B[37m\u001B[0m \u001B[1m4s\u001B[0m 108ms/step - loss: 0.0014 - val_loss: 0.0013\n",
      "Epoch 79/100\n",
      "\u001B[1m40/40\u001B[0m \u001B[32m━━━━━━━━━━━━━━━━━━━━\u001B[0m\u001B[37m\u001B[0m \u001B[1m4s\u001B[0m 104ms/step - loss: 0.0015 - val_loss: 2.1871e-04\n",
      "Epoch 80/100\n",
      "\u001B[1m40/40\u001B[0m \u001B[32m━━━━━━━━━━━━━━━━━━━━\u001B[0m\u001B[37m\u001B[0m \u001B[1m5s\u001B[0m 113ms/step - loss: 0.0013 - val_loss: 4.7822e-04\n",
      "Epoch 81/100\n",
      "\u001B[1m40/40\u001B[0m \u001B[32m━━━━━━━━━━━━━━━━━━━━\u001B[0m\u001B[37m\u001B[0m \u001B[1m5s\u001B[0m 126ms/step - loss: 0.0016 - val_loss: 2.6002e-04\n",
      "Epoch 82/100\n",
      "\u001B[1m40/40\u001B[0m \u001B[32m━━━━━━━━━━━━━━━━━━━━\u001B[0m\u001B[37m\u001B[0m \u001B[1m5s\u001B[0m 122ms/step - loss: 0.0015 - val_loss: 2.5572e-04\n",
      "Epoch 83/100\n",
      "\u001B[1m40/40\u001B[0m \u001B[32m━━━━━━━━━━━━━━━━━━━━\u001B[0m\u001B[37m\u001B[0m \u001B[1m5s\u001B[0m 133ms/step - loss: 0.0014 - val_loss: 2.3011e-04\n",
      "Epoch 84/100\n",
      "\u001B[1m40/40\u001B[0m \u001B[32m━━━━━━━━━━━━━━━━━━━━\u001B[0m\u001B[37m\u001B[0m \u001B[1m5s\u001B[0m 134ms/step - loss: 0.0014 - val_loss: 2.3122e-04\n",
      "Epoch 85/100\n",
      "\u001B[1m40/40\u001B[0m \u001B[32m━━━━━━━━━━━━━━━━━━━━\u001B[0m\u001B[37m\u001B[0m \u001B[1m5s\u001B[0m 126ms/step - loss: 0.0014 - val_loss: 2.3864e-04\n",
      "Epoch 86/100\n",
      "\u001B[1m40/40\u001B[0m \u001B[32m━━━━━━━━━━━━━━━━━━━━\u001B[0m\u001B[37m\u001B[0m \u001B[1m5s\u001B[0m 121ms/step - loss: 0.0012 - val_loss: 2.4502e-04\n",
      "Epoch 87/100\n",
      "\u001B[1m40/40\u001B[0m \u001B[32m━━━━━━━━━━━━━━━━━━━━\u001B[0m\u001B[37m\u001B[0m \u001B[1m5s\u001B[0m 130ms/step - loss: 0.0012 - val_loss: 2.2207e-04\n",
      "Epoch 88/100\n",
      "\u001B[1m40/40\u001B[0m \u001B[32m━━━━━━━━━━━━━━━━━━━━\u001B[0m\u001B[37m\u001B[0m \u001B[1m5s\u001B[0m 132ms/step - loss: 0.0014 - val_loss: 2.1649e-04\n",
      "Epoch 89/100\n",
      "\u001B[1m40/40\u001B[0m \u001B[32m━━━━━━━━━━━━━━━━━━━━\u001B[0m\u001B[37m\u001B[0m \u001B[1m5s\u001B[0m 130ms/step - loss: 0.0014 - val_loss: 2.4754e-04\n",
      "Epoch 90/100\n",
      "\u001B[1m40/40\u001B[0m \u001B[32m━━━━━━━━━━━━━━━━━━━━\u001B[0m\u001B[37m\u001B[0m \u001B[1m6s\u001B[0m 145ms/step - loss: 0.0015 - val_loss: 0.0011\n",
      "Epoch 91/100\n",
      "\u001B[1m40/40\u001B[0m \u001B[32m━━━━━━━━━━━━━━━━━━━━\u001B[0m\u001B[37m\u001B[0m \u001B[1m5s\u001B[0m 131ms/step - loss: 0.0021 - val_loss: 8.4905e-04\n",
      "Epoch 92/100\n",
      "\u001B[1m40/40\u001B[0m \u001B[32m━━━━━━━━━━━━━━━━━━━━\u001B[0m\u001B[37m\u001B[0m \u001B[1m5s\u001B[0m 132ms/step - loss: 0.0019 - val_loss: 2.1346e-04\n",
      "Epoch 93/100\n",
      "\u001B[1m40/40\u001B[0m \u001B[32m━━━━━━━━━━━━━━━━━━━━\u001B[0m\u001B[37m\u001B[0m \u001B[1m5s\u001B[0m 132ms/step - loss: 0.0015 - val_loss: 2.3198e-04\n",
      "Epoch 94/100\n",
      "\u001B[1m40/40\u001B[0m \u001B[32m━━━━━━━━━━━━━━━━━━━━\u001B[0m\u001B[37m\u001B[0m \u001B[1m5s\u001B[0m 130ms/step - loss: 0.0015 - val_loss: 2.0787e-04\n",
      "Epoch 95/100\n",
      "\u001B[1m40/40\u001B[0m \u001B[32m━━━━━━━━━━━━━━━━━━━━\u001B[0m\u001B[37m\u001B[0m \u001B[1m9s\u001B[0m 105ms/step - loss: 0.0014 - val_loss: 1.8443e-04\n",
      "Epoch 96/100\n",
      "\u001B[1m40/40\u001B[0m \u001B[32m━━━━━━━━━━━━━━━━━━━━\u001B[0m\u001B[37m\u001B[0m \u001B[1m5s\u001B[0m 136ms/step - loss: 0.0014 - val_loss: 1.9666e-04\n",
      "Epoch 97/100\n",
      "\u001B[1m40/40\u001B[0m \u001B[32m━━━━━━━━━━━━━━━━━━━━\u001B[0m\u001B[37m\u001B[0m \u001B[1m5s\u001B[0m 122ms/step - loss: 0.0012 - val_loss: 3.9886e-04\n",
      "Epoch 98/100\n",
      "\u001B[1m40/40\u001B[0m \u001B[32m━━━━━━━━━━━━━━━━━━━━\u001B[0m\u001B[37m\u001B[0m \u001B[1m5s\u001B[0m 120ms/step - loss: 0.0016 - val_loss: 1.8034e-04\n",
      "Epoch 99/100\n",
      "\u001B[1m40/40\u001B[0m \u001B[32m━━━━━━━━━━━━━━━━━━━━\u001B[0m\u001B[37m\u001B[0m \u001B[1m5s\u001B[0m 120ms/step - loss: 0.0012 - val_loss: 1.7470e-04\n",
      "Epoch 100/100\n",
      "\u001B[1m40/40\u001B[0m \u001B[32m━━━━━━━━━━━━━━━━━━━━\u001B[0m\u001B[37m\u001B[0m \u001B[1m5s\u001B[0m 119ms/step - loss: 0.0013 - val_loss: 1.9026e-04\n"
     ]
    }
   ],
   "source": [
    "# Specify the parameters for the LSTM Model\n",
    "model.compile(optimizer='adam', loss='mean_squared_error')\n",
    "\n",
    "# Train the model\n",
    "history = model.fit(X_train, y_train, epochs=100, batch_size=32, validation_data=(X_validation, y_validation))"
   ],
   "metadata": {
    "collapsed": false,
    "ExecuteTime": {
     "end_time": "2024-05-13T11:28:56.981785300Z",
     "start_time": "2024-05-13T11:19:11.806040800Z"
    }
   },
   "id": "2a26c6e360ea1101"
  },
  {
   "cell_type": "markdown",
   "source": [
    "### Visualise the loss during training"
   ],
   "metadata": {
    "collapsed": false
   },
   "id": "db8f23d7381c0dc3"
  },
  {
   "cell_type": "code",
   "execution_count": 11,
   "outputs": [
    {
     "data": {
      "text/plain": "<Figure size 1000x500 with 1 Axes>",
      "image/png": "[encoded data removed]"
     },
     "metadata": {},
     "output_type": "display_data"
    }
   ],
   "source": [
    "# Plot loss during training\n",
    "plt.figure(figsize=(10, 5))\n",
    "plt.plot(history.history['loss'], label='Training Loss')\n",
    "plt.plot(history.history['val_loss'], label='Validation Loss')\n",
    "plt.title('Model Loss')\n",
    "plt.xlabel('Epoch')\n",
    "plt.ylabel('Loss')\n",
    "plt.legend()\n",
    "plt.show()"
   ],
   "metadata": {
    "collapsed": false,
    "ExecuteTime": {
     "end_time": "2024-05-13T11:36:12.546381200Z",
     "start_time": "2024-05-13T11:36:12.269833800Z"
    }
   },
   "id": "edd39a60dd79b6f9"
  },
  {
   "cell_type": "markdown",
   "source": [
    "### Test the model on new data"
   ],
   "metadata": {
    "collapsed": false
   },
   "id": "907abaf9b9c5bb62"
  },
  {
   "cell_type": "code",
   "execution_count": 28,
   "outputs": [
    {
     "name": "stdout",
     "output_type": "stream",
     "text": [
      "[[0.62618249]\n",
      " [0.63881326]\n",
      " [0.60510837]\n",
      " [0.62638361]\n",
      " [0.62610835]\n",
      " [0.62333667]\n",
      " [0.62260024]\n",
      " [0.67096442]\n",
      " [0.65769244]\n",
      " [0.66548921]\n",
      " [0.66134851]\n",
      " [0.60518812]\n",
      " [0.60501582]\n",
      " [0.58830369]\n",
      " [0.59973731]\n",
      " [0.61000915]\n",
      " [0.60342258]\n",
      " [0.57976943]\n",
      " [0.58546225]\n",
      " [0.58621596]\n",
      " [0.58430209]\n",
      " [0.55173744]\n",
      " [0.55714008]\n",
      " [0.56083877]\n",
      " [0.55855004]\n",
      " [0.58863281]\n",
      " [0.59347631]\n",
      " [0.592127  ]\n",
      " [0.61213869]\n",
      " [0.60677674]\n",
      " [0.60086576]\n",
      " [0.60874434]\n",
      " [0.61050302]\n",
      " [0.60741002]\n",
      " [0.60088136]\n",
      " [0.6020809 ]\n",
      " [0.6088865 ]\n",
      " [0.62859303]\n",
      " [0.64430239]\n",
      " [0.67378721]\n",
      " [0.68375714]\n",
      " [0.69210656]\n",
      " [0.71869458]\n",
      " [0.71524737]\n",
      " [0.74854427]\n",
      " [0.75033128]\n",
      " [0.75387221]\n",
      " [0.7459291 ]\n",
      " [0.75327063]\n",
      " [0.74778463]\n",
      " [0.7558639 ]\n",
      " [0.74874372]\n",
      " [0.74020952]\n",
      " [0.73105521]\n",
      " [0.74446105]\n",
      " [0.74705125]\n",
      " [0.79160941]\n",
      " [0.83255399]\n",
      " [0.91913164]\n",
      " [0.89826121]\n",
      " [0.91810672]\n",
      " [0.91154424]\n",
      " [0.92971669]\n",
      " [1.01219863]\n",
      " [0.93984238]\n",
      " [0.97667547]\n",
      " [0.98975424]\n",
      " [1.01171425]\n",
      " [1.01488999]\n",
      " [1.02321171]\n",
      " [1.07280138]\n",
      " [1.06253528]\n",
      " [1.08813132]\n",
      " [1.06118223]\n",
      " [1.02934603]\n",
      " [0.9640279 ]\n",
      " [1.01316053]\n",
      " [0.9997087 ]\n",
      " [0.90967392]\n",
      " [1.00554099]\n",
      " [0.96684395]\n",
      " [0.93948393]\n",
      " [0.94401203]\n",
      " [0.99468567]\n",
      " [1.03821303]\n",
      " [1.03867669]\n",
      " [1.03016989]\n",
      " [1.05077198]\n",
      " [1.0371589 ]\n",
      " [1.0332046 ]\n",
      " [1.06017666]\n",
      " [1.03411271]\n",
      " [0.96613435]\n",
      " [0.97466268]\n",
      " [1.01504912]\n",
      " [1.00432635]\n",
      " [1.02123587]\n",
      " [1.02868754]\n",
      " [1.06493272]\n",
      " [1.02511641]\n",
      " [1.04826271]\n",
      " [1.03983928]\n",
      " [0.99407373]\n",
      " [0.94016626]\n",
      " [0.97079525]\n",
      " [0.93385177]\n",
      " [0.94001274]\n",
      " [0.89951223]\n",
      " [0.93523433]\n",
      " [0.94051928]\n",
      " [0.95890496]\n",
      " [0.95782188]\n",
      " [0.98835152]\n",
      " [0.98147559]\n",
      " [0.94744189]\n",
      " [0.9507138 ]\n",
      " [0.93910944]\n",
      " [0.93373882]\n",
      " [0.92885177]\n",
      " [0.94048015]\n",
      " [0.88929056]\n",
      " [0.85122355]\n",
      " [0.86511296]\n",
      " [0.92528294]\n",
      " [0.94128454]\n",
      " [0.94351567]\n",
      " [0.92963007]\n",
      " [0.91641625]\n",
      " [0.8980944 ]\n",
      " [0.92784101]\n",
      " [0.92612502]]\n"
     ]
    }
   ],
   "source": [
    "# Create input sequences\n",
    "X_test, y_test = create_sequences(test_set_scaled)"
   ],
   "metadata": {
    "collapsed": false,
    "ExecuteTime": {
     "end_time": "2024-05-13T12:16:32.079044800Z",
     "start_time": "2024-05-13T12:16:32.062505200Z"
    }
   },
   "id": "ccf200754b20a41e"
  },
  {
   "cell_type": "code",
   "execution_count": 20,
   "outputs": [
    {
     "name": "stdout",
     "output_type": "stream",
     "text": [
      "\u001B[1m3/3\u001B[0m \u001B[32m━━━━━━━━━━━━━━━━━━━━\u001B[0m\u001B[37m\u001B[0m \u001B[1m0s\u001B[0m 18ms/step\n"
     ]
    }
   ],
   "source": [
    "# Run the model on test data\n",
    "predicted_stock_price = model.predict(X_test)\n",
    "predicted_stock_price = scaler.inverse_transform(predicted_stock_price)"
   ],
   "metadata": {
    "collapsed": false,
    "ExecuteTime": {
     "end_time": "2024-05-13T12:01:22.713106Z",
     "start_time": "2024-05-13T12:01:22.589239700Z"
    }
   },
   "id": "d19052b44702bfda"
  },
  {
   "cell_type": "code",
   "execution_count": 21,
   "outputs": [
    {
     "name": "stdout",
     "output_type": "stream",
     "text": [
      "[[59398.51 ]\n",
      " [59503.684]\n",
      " [59424.625]\n",
      " [60283.297]\n",
      " [64105.11 ]\n",
      " [62589.348]\n",
      " [62655.57 ]\n",
      " [63665.758]\n",
      " [64957.973]\n",
      " [65305.777]\n",
      " [65501.375]\n",
      " [67579.34 ]\n",
      " [67734.055]\n",
      " [68496.54 ]\n",
      " [67632.984]\n",
      " [66146.234]\n",
      " [63483.023]\n",
      " [64866.69 ]\n",
      " [65524.684]\n",
      " [61936.316]\n",
      " [63950.645]\n",
      " [64172.117]\n",
      " [62653.445]\n",
      " [62211.906]\n",
      " [64401.984]\n",
      " [67095.055]\n",
      " [67397.54 ]\n",
      " [66642.96 ]\n",
      " [67336.76 ]\n",
      " [67280.695]\n",
      " [67065.94 ]\n",
      " [68139.22 ]\n",
      " [67388.484]\n",
      " [64274.133]\n",
      " [63619.926]\n",
      " [65593.984]\n",
      " [65881.91 ]\n",
      " [65986.72 ]\n",
      " [66122.95 ]\n",
      " [67537.9  ]\n",
      " [66263.91 ]\n",
      " [66571.56 ]\n",
      " [66627.5  ]\n",
      " [64793.973]\n",
      " [62134.723]\n",
      " [62597.695]\n",
      " [62017.59 ]\n",
      " [61706.984]\n",
      " [60098.867]\n",
      " [60616.83 ]\n",
      " [61427.043]\n",
      " [62234.918]\n",
      " [62288.957]\n",
      " [63311.73 ]\n",
      " [63480.76 ]\n",
      " [62062.   ]\n",
      " [61679.81 ]\n",
      " [61499.363]\n",
      " [61310.605]\n",
      " [61041.08 ]\n",
      " [61337.92 ]\n",
      " [59570.316]\n",
      " [57243.465]\n",
      " [56912.426]\n",
      " [59555.133]\n",
      " [61479.758]\n",
      " [61534.36 ]\n",
      " [60568.895]\n",
      " [59723.082]\n",
      " [59002.668]\n",
      " [60042.438]]\n"
     ]
    }
   ],
   "source": [
    "# Inspect the results\n",
    "print(predicted_stock_price)"
   ],
   "metadata": {
    "collapsed": false,
    "ExecuteTime": {
     "end_time": "2024-05-13T12:01:28.760381Z",
     "start_time": "2024-05-13T12:01:28.757758300Z"
    }
   },
   "id": "81d69f0e308e1db3"
  },
  {
   "cell_type": "code",
   "execution_count": 29,
   "outputs": [
    {
     "data": {
      "text/plain": "<Figure size 1000x600 with 1 Axes>",
      "image/png": "[encoded data removed]"
     },
     "metadata": {},
     "output_type": "display_data"
    }
   ],
   "source": [
    "# Visualize the results\n",
    "date_range = pd.date_range(start='2024-01-01', periods=len(predicted_stock_price), freq='B')\n",
    "test_dates = df[(df['Date'] >= \"2024-01-01\") & (df['Date'] <= \"2024-12-31\")][\"Date\"]\n",
    "plt.figure(figsize=(10, 6))\n",
    "plt.plot(test_dates, test_data, color='black', label='Bitcoin Price')\n",
    "plt.plot(test_dates[60:], predicted_stock_price, color='green', label='Predicted Bitcoin Price')\n",
    "plt.gca().xaxis.set_major_locator(dates.MonthLocator(interval=3))  # Show tick marks for every 3 months\n",
    "plt.gca().xaxis.set_major_formatter(dates.DateFormatter('%b %Y'))  # Format x-axis labels as 'Jan 2023', 'Feb 2023', etc.\n",
    "plt.title('Bitcoin Price Prediction')\n",
    "plt.xlabel('Time')\n",
    "plt.ylabel('Bitcoin Price')\n",
    "plt.legend()\n",
    "plt.show()"
   ],
   "metadata": {
    "collapsed": false,
    "ExecuteTime": {
     "end_time": "2024-05-13T12:19:30.760365Z",
     "start_time": "2024-05-13T12:19:30.618122500Z"
    }
   },
   "id": "494cdb71df322cb4"
  }
 ],
 "metadata": {
  "kernelspec": {
   "display_name": "Python 3",
   "language": "python",
   "name": "python3"
  },
  "language_info": {
   "codemirror_mode": {
    "name": "ipython",
    "version": 2
   },
   "file_extension": ".py",
   "mimetype": "text/x-python",
   "name": "python",
   "nbconvert_exporter": "python",
   "pygments_lexer": "ipython2",
   "version": "2.7.6"
  }
 },
 "nbformat": 4,
 "nbformat_minor": 5
}
